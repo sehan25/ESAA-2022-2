{
  "nbformat": 4,
  "nbformat_minor": 0,
  "metadata": {
    "colab": {
      "provenance": [],
      "collapsed_sections": [],
      "authorship_tag": "ABX9TyMM0QrxtkvryVG7ffR8IlrI",
      "include_colab_link": true
    },
    "kernelspec": {
      "name": "python3",
      "display_name": "Python 3"
    },
    "language_info": {
      "name": "python"
    }
  },
  "cells": [
    {
      "cell_type": "markdown",
      "metadata": {
        "id": "view-in-github",
        "colab_type": "text"
      },
      "source": [
        "<a href=\"https://colab.research.google.com/github/sehan25/ESAA-2022-2/blob/main/Assignment/0905-Handson-ch03-classification.ipynb\" target=\"_parent\"><img src=\"https://colab.research.google.com/assets/colab-badge.svg\" alt=\"Open In Colab\"/></a>"
      ]
    },
    {
      "cell_type": "markdown",
      "source": [
        "# **CHAPTER 3. 분류**"
      ],
      "metadata": {
        "id": "YXaPKKgQa0CH"
      }
    },
    {
      "cell_type": "markdown",
      "source": [
        "## **3.1 MNIST**\n",
        "\n",
        "- MNIST 데이터셋: 고등학생과 미국 인구조사국 직원들이 손으로 쓴 70,000개의 작은 숫자 이미지를 모은 데이터셋\n",
        "- 사이킷런에서 제공하는 여러 헬퍼 함수를 사용해 잘 알려진 데이터셋을 내려받을 수 있음."
      ],
      "metadata": {
        "id": "hZTp5pU7a_NG"
      }
    },
    {
      "cell_type": "code",
      "source": [
        "import numpy as np"
      ],
      "metadata": {
        "id": "9q8-Mb3Ne7Ba"
      },
      "execution_count": 1,
      "outputs": []
    },
    {
      "cell_type": "code",
      "execution_count": 2,
      "metadata": {
        "colab": {
          "base_uri": "https://localhost:8080/"
        },
        "id": "BLrko-F-3f4a",
        "outputId": "af756ec3-0a5d-4f91-b448-6ab77e23e19f"
      },
      "outputs": [
        {
          "output_type": "execute_result",
          "data": {
            "text/plain": [
              "dict_keys(['data', 'target', 'frame', 'categories', 'feature_names', 'target_names', 'DESCR', 'details', 'url'])"
            ]
          },
          "metadata": {},
          "execution_count": 2
        }
      ],
      "source": [
        "# MNIST 데이터셋 내려받기\n",
        "from sklearn.datasets import fetch_openml\n",
        "mnist = fetch_openml('mnist_784', version=1, as_frame=False)\n",
        "mnist.keys()"
      ]
    },
    {
      "cell_type": "markdown",
      "source": [
        "- 사이킷런에서 읽어 들인 데이터셋들은 일반적으로 비슷한 딕셔너리 구조를 가짐.\n",
        "    - 데이터셋을 설명하는 DESCR 키\n",
        "    - 샘플이 하나의 행, 특성이 하나의 열로 구성된 배열을 가진 data 키\n",
        "    - 레이블 배열을 담은 target 키"
      ],
      "metadata": {
        "id": "saWVX61rb2GY"
      }
    },
    {
      "cell_type": "code",
      "source": [
        "X, y = mnist[\"data\"], mnist[\"target\"]\n",
        "X.shape"
      ],
      "metadata": {
        "colab": {
          "base_uri": "https://localhost:8080/"
        },
        "id": "0r_ydPMkbJyQ",
        "outputId": "db709274-2844-4ab2-9635-39ba9b74f0f2"
      },
      "execution_count": 3,
      "outputs": [
        {
          "output_type": "execute_result",
          "data": {
            "text/plain": [
              "(70000, 784)"
            ]
          },
          "metadata": {},
          "execution_count": 3
        }
      ]
    },
    {
      "cell_type": "code",
      "source": [
        "y.shape"
      ],
      "metadata": {
        "colab": {
          "base_uri": "https://localhost:8080/"
        },
        "id": "g4-i2Jg_bwcE",
        "outputId": "e1272973-8c3f-4cc7-ea9c-9c2fee269bab"
      },
      "execution_count": 4,
      "outputs": [
        {
          "output_type": "execute_result",
          "data": {
            "text/plain": [
              "(70000,)"
            ]
          },
          "metadata": {},
          "execution_count": 4
        }
      ]
    },
    {
      "cell_type": "markdown",
      "source": [
        "&rarr; 이미지가 70,000개 있고 각 이미지에는 784개의 특성이 있음.  \n",
        "&rarr; 이미지가 28*28 픽셀이기 때문.\n",
        "\n",
        "- 개개의 특성은 단순히 0(흰색)부터 255(검은색)까지의 픽셀 강도를 나타냄."
      ],
      "metadata": {
        "id": "gFTNce3teO_b"
      }
    },
    {
      "cell_type": "code",
      "source": [
        "# 데이터셋에서 이미지 하나 확인하기\n",
        "import matplotlib as mpl\n",
        "import matplotlib.pyplot as plt\n",
        "\n",
        "some_digit = X[0]\n",
        "some_digit_image = some_digit.reshape(28,28)\n",
        "\n",
        "plt.imshow(some_digit_image, cmap=\"binary\")\n",
        "plt.axis(\"off\")\n",
        "plt.show()"
      ],
      "metadata": {
        "colab": {
          "base_uri": "https://localhost:8080/",
          "height": 248
        },
        "id": "nB0jr-D2byv8",
        "outputId": "663ba45c-bd8d-48c9-b947-c93866e64064"
      },
      "execution_count": 5,
      "outputs": [
        {
          "output_type": "display_data",
          "data": {
            "text/plain": [
              "<Figure size 432x288 with 1 Axes>"
            ],
            "image/png": "[encoded data removed]"
          },
          "metadata": {
            "needs_background": "light"
          }
        }
      ]
    },
    {
      "cell_type": "code",
      "source": [
        "# 실제 레이블 확인\n",
        "y[0]"
      ],
      "metadata": {
        "colab": {
          "base_uri": "https://localhost:8080/",
          "height": 35
        },
        "id": "XzI55xY8efCs",
        "outputId": "5aa9554b-331d-4de1-de91-839095c0487f"
      },
      "execution_count": 6,
      "outputs": [
        {
          "output_type": "execute_result",
          "data": {
            "text/plain": [
              "'5'"
            ],
            "application/vnd.google.colaboratory.intrinsic+json": {
              "type": "string"
            }
          },
          "metadata": {},
          "execution_count": 6
        }
      ]
    },
    {
      "cell_type": "markdown",
      "source": [
        "- 대부분 머신러닝 알고리즘은 숫자를 기대하므로 문자열인 y를 정수로 변환"
      ],
      "metadata": {
        "id": "D4ntCWgSernw"
      }
    },
    {
      "cell_type": "code",
      "source": [
        "y = y.astype(np.uint8)"
      ],
      "metadata": {
        "id": "2dskOOv0eiMT"
      },
      "execution_count": 7,
      "outputs": []
    },
    {
      "cell_type": "markdown",
      "source": [
        "- 데이터를 자세히 조사하기 전에 항상 테스트 세트를 만들고 따로 떼어놓아야 함.\n",
        "- MNIST 데이터셋은 이미 훈련 세트(앞쪽 60,000개 이미지)와 테스트 세트(뒤쪽 10,000개 이미지)로 나누어놓음."
      ],
      "metadata": {
        "id": "IXbZaDudfAaf"
      }
    },
    {
      "cell_type": "code",
      "source": [
        "X_train, X_test, y_train, y_test = X[:60000], X[60000:], y[:60000], y[60000:]"
      ],
      "metadata": {
        "id": "8Tguamjoe5Hy"
      },
      "execution_count": 8,
      "outputs": []
    },
    {
      "cell_type": "markdown",
      "source": [
        "- 훈련 세트는 이미 섞여 있어서 모든 교차 검증 폴드를 비슷하게 만듦.\n",
        "- 어떤 학습 알고리즘은 훈련 샘플의 순서에 민감해서 많은 비슷한 샘플이 연이어 나타나면 성능이 나빠짐. 데이터셋을 섞으면 이런 문제를 방지 가능함."
      ],
      "metadata": {
        "id": "2ywp_7dhfVGD"
      }
    },
    {
      "cell_type": "markdown",
      "source": [
        "## **3.2 이진 분류기 훈련**\n",
        "\n",
        "*문제를 단순화해서 하나의 숫자, 예를 들면 숫자 5만 식별해보기*\n",
        "- '5-감지기'는 '5'와 '5 아님' 두 개의 클래스를 구분할 수 있는 이진 분류기의 한 예\n",
        "- 분류 작업을 위해 타깃 벡터 만들어보기\n",
        "\n"
      ],
      "metadata": {
        "id": "T7UMCZ0lfiTZ"
      }
    },
    {
      "cell_type": "code",
      "source": [
        "# 분류 작업을 위해 타깃 벡터 만들어보기\n",
        "y_train_5 = (y_train == 5) # 5는 True고, 다른 숫자는 모두 False\n",
        "y_test_5 = (y_test == 5)"
      ],
      "metadata": {
        "id": "x4LQpQ06fTW6"
      },
      "execution_count": 9,
      "outputs": []
    },
    {
      "cell_type": "markdown",
      "source": [
        "- 분류 모델을 하나 선택해서 훈련시키기\n",
        "    - 사이킷런의 SGDClassifier 클래스를 사용해 확률적 경사 하강법(SGD) 분류기로 시작해보는 것도 나쁘지 않음.\n",
        "        - 이 분류기는 매우 큰 데이터셋을 효율적으로 처리하는 장점을 지니고 있음. SGD가 한 번에 하나씩 훈련 샘플을 독립적으로 처리하기 때문."
      ],
      "metadata": {
        "id": "JDh8zIa6p8qy"
      }
    },
    {
      "cell_type": "code",
      "source": [
        "# SGDClassifier 모델을 만들고 전체 훈련 세트 사용해 훈련시키기\n",
        "from sklearn.linear_model import SGDClassifier\n",
        "\n",
        "sgd_clf = SGDClassifier(random_state=42)\n",
        "sgd_clf.fit(X_train, y_train_5)"
      ],
      "metadata": {
        "colab": {
          "base_uri": "https://localhost:8080/"
        },
        "id": "vG2-hLkMp7tG",
        "outputId": "ab892808-ba87-47fe-9973-7966934667a9"
      },
      "execution_count": 10,
      "outputs": [
        {
          "output_type": "execute_result",
          "data": {
            "text/plain": [
              "SGDClassifier(random_state=42)"
            ]
          },
          "metadata": {},
          "execution_count": 10
        }
      ]
    },
    {
      "cell_type": "markdown",
      "source": [
        "- 모델을 사용해 숫자 5의 이미지 감지해보기"
      ],
      "metadata": {
        "id": "TiDOh-b-q0fu"
      }
    },
    {
      "cell_type": "code",
      "source": [
        "# 숫자 5의 이미지 감지해보기\n",
        "sgd_clf.predict([some_digit])"
      ],
      "metadata": {
        "colab": {
          "base_uri": "https://localhost:8080/"
        },
        "id": "oeLrC4_dqutr",
        "outputId": "1350839c-641e-4d92-fbc5-d03949949072"
      },
      "execution_count": 11,
      "outputs": [
        {
          "output_type": "execute_result",
          "data": {
            "text/plain": [
              "array([ True])"
            ]
          },
          "metadata": {},
          "execution_count": 11
        }
      ]
    },
    {
      "cell_type": "markdown",
      "source": [
        " &rarr; 이미지가 5를 나타낸다고 추측함. 이 경우엔 특별하게 정확히 맞춘 듯함."
      ],
      "metadata": {
        "id": "JqkN9jenq9xo"
      }
    },
    {
      "cell_type": "markdown",
      "source": [
        "## **3.3 성능 측정**\n",
        "\n",
        "### 3.3.1 교차 검증을 사용한 정확도 측정\n",
        "- 교차 검증은 모델을 평가하는 좋은 방법\n",
        "\n",
        "<U>교차 검증 구현</U>\n",
        "- 가끔 사이킷런이 제공하는 기능보다 교차 검증 과정을 더 많이 제어해야 할 필요가 있음. 이 때는 교차 검증 기능을 직접 구현하면 됨.\n",
        "- 다음 코드는 사이킷런의 `cross_val_scroe()` 함수와 거의같은 작업 수행하고 동일한 결과 출력함."
      ],
      "metadata": {
        "id": "caUb2FLfrKMg"
      }
    },
    {
      "cell_type": "code",
      "source": [
        "from sklearn.model_selection import StratifiedKFold\n",
        "from sklearn.base import clone\n",
        "\n",
        "skfolds = StratifiedKFold(n_splits=3, random_state=42, shuffle=True)\n",
        "\n",
        "for train_index, test_index in skfolds.split(X_train, y_train_5):\n",
        "    clone_clf = clone(sgd_clf)\n",
        "    X_train_folds = X_train[train_index]\n",
        "    y_train_folds = y_train_5[train_index]\n",
        "    X_test_fold = X_train[test_index]\n",
        "    y_test_fold = y_train_5[test_index]\n",
        "\n",
        "    clone_clf.fit(X_train_folds, y_train_folds)\n",
        "    y_pred = clone_clf.predict(X_test_fold)\n",
        "    n_correct = sum(y_pred == y_test_fold)\n",
        "    print(n_correct / len(y_pred))"
      ],
      "metadata": {
        "colab": {
          "base_uri": "https://localhost:8080/"
        },
        "id": "ljmgv-w0q7KM",
        "outputId": "b4331a77-ffff-4ee4-c493-ad068373e4f1"
      },
      "execution_count": 12,
      "outputs": [
        {
          "output_type": "stream",
          "name": "stdout",
          "text": [
            "0.9669\n",
            "0.91625\n",
            "0.96785\n"
          ]
        }
      ]
    },
    {
      "cell_type": "markdown",
      "source": [
        "- StratifiedKFold는 클래스별 비율이 유지되도록 폴드를 만들기 위해 계층적 샘플링을 수행함.\n",
        "    - 매 반복에서 분류기 객체를 복제하여 훈련 폴드를 훈련시키고 테스트 폴드로 예측을 만든 다음, 올바른 예측의 수를 세어 정확한 예측의 비율을 출력함."
      ],
      "metadata": {
        "id": "0IaEeHe7Q6RO"
      }
    },
    {
      "cell_type": "markdown",
      "source": [
        "- `cross_val_score()` 함수로 폴드가 3개인 k-겹 교차 검증을 사용해 SGDClassifier 모델을 평가\n",
        "    - k-겹 교차 검증은 훈련 세트를 k개(여기서는 3개)의 폴드로 나누고, 각 폴드에 대해 예측을 만들고 평가하기 위해 나머지 폴드로 훈련시킨 모델을 사용한다는 것을 기억해야 함."
      ],
      "metadata": {
        "id": "vjkhWdG_RKpT"
      }
    },
    {
      "cell_type": "code",
      "source": [
        "from sklearn.model_selection import cross_val_score\n",
        "cross_val_score(sgd_clf, X_train, y_train_5, cv=3, scoring=\"accuracy\")"
      ],
      "metadata": {
        "colab": {
          "base_uri": "https://localhost:8080/"
        },
        "id": "tRlKC1nUQRIn",
        "outputId": "ff352615-c01d-45f7-f800-899962547a56"
      },
      "execution_count": 13,
      "outputs": [
        {
          "output_type": "execute_result",
          "data": {
            "text/plain": [
              "array([0.95035, 0.96035, 0.9604 ])"
            ]
          },
          "metadata": {},
          "execution_count": 13
        }
      ]
    },
    {
      "cell_type": "markdown",
      "source": [
        " &rarr; 모든 교차 검증 폴드에 대해 정확도가 95% 이상임.\n",
        " - 모든 이미지를 '5 아님' 클래스로 분류하는 더미 분류기를 만들어 비교해보기\n"
      ],
      "metadata": {
        "id": "dDIl9vWdRycp"
      }
    },
    {
      "cell_type": "code",
      "source": [
        "from sklearn.base import BaseEstimator\n",
        "\n",
        "class Never5Classifier(BaseEstimator):\n",
        "    def fit(self, X, y=None):\n",
        "        return self\n",
        "    def predict(self, X):\n",
        "        return np.zeros((len(X),1), dtype=bool)"
      ],
      "metadata": {
        "id": "x0lg864_RwAE"
      },
      "execution_count": 14,
      "outputs": []
    },
    {
      "cell_type": "code",
      "source": [
        "never_5_clf = Never5Classifier()\n",
        "cross_val_score(never_5_clf, X_train, y_train_5, cv=3, scoring=\"accuracy\")"
      ],
      "metadata": {
        "colab": {
          "base_uri": "https://localhost:8080/"
        },
        "id": "ky2U-qUqSGoZ",
        "outputId": "4cbc3498-d97a-49a5-d2da-43a8c87fc04f"
      },
      "execution_count": 15,
      "outputs": [
        {
          "output_type": "execute_result",
          "data": {
            "text/plain": [
              "array([0.91125, 0.90855, 0.90915])"
            ]
          },
          "metadata": {},
          "execution_count": 15
        }
      ]
    },
    {
      "cell_type": "markdown",
      "source": [
        " &rarr; 정확도가 90% 이상으로 나옴. 이미지의 10% 정도만 숫자 5이기 때문에 무조건 '5 아님'으로 예측하면 정확히 맞출 확률이 90%인 것임.\n",
        "\n",
        "- 이 예제는 정확도를 분류기의 성능 측정 지표로 선호하지 않는 이유를 보여줌. 특히 **불균형한 데이터셋**을 다룰 때(즉, 어떤 클래스가 다른 것보다 월등히 많은 경우) 더욱 그러함."
      ],
      "metadata": {
        "id": "5v2M6cMdSQ3F"
      }
    },
    {
      "cell_type": "markdown",
      "source": [
        "### 3.3.2 오차 행렬\n",
        "- 분류기의 성능을 평가하는 더 좋은 방법은 **오차 행렬**을 조사하는 것\n",
        "- 오차 행렬을 만들려면 실제 타깃과 비교할 수 있도록 먼저 예측값을 만들어야 함.\n",
        "- 테스트 세트로 예측을 만들 수 있지만 여기서 사용하면 안 됨.(테스트 세트는 분류기가 출시 준비를 마치고 나서 프로젝트의 맨 마지막에 사용된다는 것을 기억). 대신 `cross_val_predict()` 함수를 사용 가능함."
      ],
      "metadata": {
        "id": "LnYsF66NSpmk"
      }
    },
    {
      "cell_type": "code",
      "source": [
        "from sklearn.model_selection import cross_val_predict\n",
        "\n",
        "y_train_pred = cross_val_predict(sgd_clf, X_train, y_train_5, cv=3)"
      ],
      "metadata": {
        "id": "X2__nxgiSPRD"
      },
      "execution_count": 16,
      "outputs": []
    },
    {
      "cell_type": "markdown",
      "source": [
        "- `cross_val_predict()` 함수는 `cross_val_score()` 함수처럼 k-겹 교차 검증을 수행하지만 평가 점수를 반환하지 않고 각 테스트 폴드에서 얻은 예측을 반환함.  \n",
        "    - 즉, 훈련 세트의 모든 샘플에 대해 깨끗한 예측을 얻게 됨.(= 모델이 훈련하는 동안 보지 못했던 데이터에 대해 예측했다는 의미)\n",
        "- `confusion_matrix()` 함수를 사용해 오차 행렬을 만들 준비 되었으니, 타깃 클래스(y_train_5)와 예측 클래스(y_train_pred)를 넣고 호출하면 됨."
      ],
      "metadata": {
        "id": "hu5RAMAYTTng"
      }
    },
    {
      "cell_type": "code",
      "source": [
        "from sklearn.metrics import confusion_matrix\n",
        "confusion_matrix(y_train_5, y_train_pred)"
      ],
      "metadata": {
        "colab": {
          "base_uri": "https://localhost:8080/"
        },
        "id": "ieFmbJLwTQ6r",
        "outputId": "4870111f-1463-4a69-fbff-c4d0425524cd"
      },
      "execution_count": 17,
      "outputs": [
        {
          "output_type": "execute_result",
          "data": {
            "text/plain": [
              "array([[53892,   687],\n",
              "       [ 1891,  3530]])"
            ]
          },
          "metadata": {},
          "execution_count": 17
        }
      ]
    },
    {
      "cell_type": "markdown",
      "source": [
        "- 오차 행렬의 행은 실제 클래스를 나타내고 열은 예측한 클래스를 나타냄.\n",
        "\n",
        " &rarr; 첫 번째 행: '5 아님' 이미지에 대한 것(음성 클래스(negative class))  \n",
        " &rarr; 두 번째 행: '5' 이미지에 대한 것(양성 클래스(positive class))\n",
        "    - true negative: 53,892개\n",
        "    - false positive: 687개\n",
        "    - false negative: 1,891개\n",
        "    - true positive: 3,530개\n",
        "\n",
        "- 완벽한 분류기라면 진짜 양성과 진짜 음성만 가지고 있을 것이므로 오차 행렬의 주대각선(왼쪽 위에서 오른쪽 아래로)만 0이 아닌 값이 됨."
      ],
      "metadata": {
        "id": "ET96upgXT9YT"
      }
    },
    {
      "cell_type": "code",
      "source": [
        "y_train_perfect_predictions = y_train_5\n",
        "confusion_matrix(y_train_5, y_train_perfect_predictions)"
      ],
      "metadata": {
        "colab": {
          "base_uri": "https://localhost:8080/"
        },
        "id": "et6TwMtYT5zM",
        "outputId": "706415b1-6794-48db-e64d-84b1bdbb5934"
      },
      "execution_count": 18,
      "outputs": [
        {
          "output_type": "execute_result",
          "data": {
            "text/plain": [
              "array([[54579,     0],\n",
              "       [    0,  5421]])"
            ]
          },
          "metadata": {},
          "execution_count": 18
        }
      ]
    },
    {
      "cell_type": "markdown",
      "source": [
        "- 오차 행렬이 많은 정보를 제공해주지만 가끔 더 요약된 지표가 필요할 때도 있음.\n",
        "- **정밀도(precision)**: 양성 예측의 정확도\n",
        "$$precision = \\frac{TP}{TP + FP}$$\n",
        "    - TP: 진짜 양성의 수\n",
        "    - FP: 거짓 양성의 수\n",
        "- 확실한 양성 샘플 하나만 예측하면 간단히 완벽한 정밀도를 얻을 수 있지만(정밀도=1/1=100%), 이는 분류기가 다른 양성 샘플을 무시하기 때문에 그리 유용하지 않음.\n",
        "- 정밀도는 재현율이라는 또 다른 지표와 같이 사용하는 것이 일반적임.\n",
        "- **재현율(recall)**: 분류기가 정확하게 감지한 양성 샘플의 비율, 민감도(sensitivity) 또는 진짜 양성 비율(true positive)이라고도 함.\n",
        "$$recall = \\frac{TP}{TP + FN}$$\n",
        "    - FN: 거짓 음성의 수\n"
      ],
      "metadata": {
        "id": "IXbO0OGTVkgc"
      }
    },
    {
      "cell_type": "markdown",
      "source": [
        "### 3.3.3 정밀도와 재현율\n",
        "- 사이킷런은 정밀도와 재현율을 포함하여 분류기의 지표를 계산하는 여러 함수를 제공함."
      ],
      "metadata": {
        "id": "mXWrJqQOXO4A"
      }
    },
    {
      "cell_type": "code",
      "source": [
        "from sklearn.metrics import precision_score, recall_score\n",
        "precision_score(y_train_5, y_train_pred)"
      ],
      "metadata": {
        "colab": {
          "base_uri": "https://localhost:8080/"
        },
        "id": "GIN_TPRrVjiX",
        "outputId": "eae107a5-1f97-4f2b-bb02-c0b39a3fb4ac"
      },
      "execution_count": 19,
      "outputs": [
        {
          "output_type": "execute_result",
          "data": {
            "text/plain": [
              "0.8370879772350012"
            ]
          },
          "metadata": {},
          "execution_count": 19
        }
      ]
    },
    {
      "cell_type": "code",
      "source": [
        "recall_score(y_train_5, y_train_pred)"
      ],
      "metadata": {
        "colab": {
          "base_uri": "https://localhost:8080/"
        },
        "id": "KghE5AwpXZsC",
        "outputId": "ef1acde2-13bd-43db-92fc-672328a2da1e"
      },
      "execution_count": 20,
      "outputs": [
        {
          "output_type": "execute_result",
          "data": {
            "text/plain": [
              "0.6511713705958311"
            ]
          },
          "metadata": {},
          "execution_count": 20
        }
      ]
    },
    {
      "cell_type": "markdown",
      "source": [
        " &rarr; 5로 판별된 이미지 중 83.7%만 정확하며, 전체 숫자 5에서 65.1%만 감지함.\n",
        "- 정밀도와 재현율을 F1 점수(F1 score)라고 하는 하나의 숫자로 만들면 편리할 때가 많음. 특히 두 분류기를 비교할 때 그러함.\n",
        "- **F1 점수(F1 score)**: 정밀도와 재현율의 조화 평균(harmonic mean)\n",
        "\n",
        "$$F1 = \\frac{2}{\\frac{1}{recall}+\\frac{1}{precision}} = 2* \\frac{precision * recall}{precision + recall} = \\frac{TP}{TP + \\frac{FN + FP}{2}}$$"
      ],
      "metadata": {
        "id": "zt1ltCFYXhDP"
      }
    },
    {
      "cell_type": "code",
      "source": [
        "from sklearn.metrics import f1_score\n",
        "f1_score(y_train_5, y_train_pred)"
      ],
      "metadata": {
        "colab": {
          "base_uri": "https://localhost:8080/"
        },
        "id": "tneFqMI7XeU_",
        "outputId": "ff2b42b9-661b-404e-9bfb-3201755ef9e2"
      },
      "execution_count": 21,
      "outputs": [
        {
          "output_type": "execute_result",
          "data": {
            "text/plain": [
              "0.7325171197343846"
            ]
          },
          "metadata": {},
          "execution_count": 21
        }
      ]
    },
    {
      "cell_type": "markdown",
      "source": [
        "- 정밀도와 재현율이 비슷한 분류기에서는 F1 점수가 높음. 하지만 이게 항상 바람직한 것은 아님.\n",
        "- 상황에 따라 정밀도가 중요할 수도 있고 재현율이 중요할 수도 있음.\n",
        "- 정밀도를 올리면 재현율이 줄고 그 반대도 마찬가지임. - **정밀도/재현율 트레이드오프**"
      ],
      "metadata": {
        "id": "9R_UxLu3YyUj"
      }
    },
    {
      "cell_type": "markdown",
      "source": [
        "### 3.3.4 정밀도/재현율 트레이드오프\n",
        "\n",
        "- SGDClassifier가 분류를 어떻게 결정하는지 살펴보며 이 트레이드오프 이해해보기\n",
        "    - 이 분류기는 결정 함수를 사용하여 각 샘플의 점수를 계산함. 이 점수가 임곗값보다 크면 샘플을 양성 클래스에 할당하고 그렇지 않으면 음성 캘릇에 할당함.\n",
        "    - 임곗값을 높이면 정밀도가 높아지고 재현율이 낮아지며, 임곗값을 내리면 재현율인 높아지고 정밀도가 줄어듦.\n",
        "- 사이킷런에서 임곗값을 직접 지정할 수는 없지만 예측에 사용한 점수는 확인할 수 있음.\n",
        "    - 분류기의 `predict()` 메서드 대신 `decision_function()` 메서드를 호출하면 각 샘플의 점수를 얻을 수 있음.\n",
        "    - 이 점수를 기반으로 원하는 임곗값을 정해 예측을 만들 수 있음."
      ],
      "metadata": {
        "id": "FE1rBFAbZKCm"
      }
    },
    {
      "cell_type": "code",
      "source": [
        "y_scores = sgd_clf.decision_function([some_digit])\n",
        "y_scores"
      ],
      "metadata": {
        "colab": {
          "base_uri": "https://localhost:8080/"
        },
        "id": "uEtxOp6QYwkA",
        "outputId": "5fa905a3-d13f-4499-bf0d-87ea5114a632"
      },
      "execution_count": 22,
      "outputs": [
        {
          "output_type": "execute_result",
          "data": {
            "text/plain": [
              "array([2164.22030239])"
            ]
          },
          "metadata": {},
          "execution_count": 22
        }
      ]
    },
    {
      "cell_type": "code",
      "source": [
        "threshold = 0\n",
        "y_some_digit_pred = (y_scores > threshold)\n",
        "y_some_digit_pred"
      ],
      "metadata": {
        "colab": {
          "base_uri": "https://localhost:8080/"
        },
        "id": "rArL38tlaldH",
        "outputId": "0ac25bbe-550c-4004-d96a-7af374264943"
      },
      "execution_count": 23,
      "outputs": [
        {
          "output_type": "execute_result",
          "data": {
            "text/plain": [
              "array([ True])"
            ]
          },
          "metadata": {},
          "execution_count": 23
        }
      ]
    },
    {
      "cell_type": "markdown",
      "source": [
        " &rarr; SGDClassifier의 임곗값이 0이므로 위 코드는 `predict()` 메서드와 같은 결과(즉, True)를 반환함."
      ],
      "metadata": {
        "id": "jJhpnNrFao0f"
      }
    },
    {
      "cell_type": "code",
      "source": [
        "threshold = 8000\n",
        "y_some_digit_pred = (y_scores > threshold)\n",
        "y_some_digit_pred"
      ],
      "metadata": {
        "colab": {
          "base_uri": "https://localhost:8080/"
        },
        "id": "Z5Z7P3j8anqg",
        "outputId": "2c840e64-c682-4813-9998-f8fc033991ec"
      },
      "execution_count": 24,
      "outputs": [
        {
          "output_type": "execute_result",
          "data": {
            "text/plain": [
              "array([False])"
            ]
          },
          "metadata": {},
          "execution_count": 24
        }
      ]
    },
    {
      "cell_type": "markdown",
      "source": [
        " &rarr; 임곗값을 높이면 재현율이 줄어든다는 것을 보여줌. 이미지가 실제로 숫자 5이고 임곗값이 0일 때는 분류기가 이를 감지했지만, 임곗갑승ㄹ 8,000으로 높이면 이를 놓치게 됨.\n",
        "\n",
        "<U>적절한 임곗값 정하기</U>\n",
        "- `cross_val_predict()` 함수를 사용해 훈련 세트에 있는 모든 샘플의 점수를 구해야 함.\n",
        "- 하지만 이번에는 예측 결과가 아니라 결정 점수를 반환하도록 지정해야 함."
      ],
      "metadata": {
        "id": "Dr1xuiTNbAmE"
      }
    },
    {
      "cell_type": "code",
      "source": [
        "y_scores = cross_val_predict(sgd_clf, X_train, y_train_5, cv=3,\n",
        "                             method=\"decision_function\")"
      ],
      "metadata": {
        "id": "7jsC8H0ra3ev"
      },
      "execution_count": 25,
      "outputs": []
    },
    {
      "cell_type": "markdown",
      "source": [
        "- 이 점수로 `precision_recall_curve()` 함수를 사용하여 가능한 몯느 임곗값에 대해 정밀도와 재현율을 계산할 수 있음."
      ],
      "metadata": {
        "id": "zn-PiYr_bcpV"
      }
    },
    {
      "cell_type": "code",
      "source": [
        "from sklearn.metrics import precision_recall_curve\n",
        "\n",
        "precisions, recalls, thresholds = precision_recall_curve(y_train_5, y_scores)"
      ],
      "metadata": {
        "id": "SkcjA_yFbbGs"
      },
      "execution_count": 26,
      "outputs": []
    },
    {
      "cell_type": "code",
      "source": [
        "def plot_precision_recall_vs_threshold(precisions, recalls, thresholds):\n",
        "    plt.plot(thresholds, precisions[:-1], \"b--\", label=\"Precision\", linewidth=2)\n",
        "    plt.plot(thresholds, recalls[:-1], \"g-\", label=\"Recall\", linewidth=2)\n",
        "    plt.legend(loc=\"center right\", fontsize=16)\n",
        "    plt.xlabel(\"Threshold\", fontsize=16)\n",
        "    plt.grid(True)\n",
        "    plt.axis([-50000, 50000, 0, 1])\n",
        "\n",
        "recall_90_precision = recalls[np.argmax(precisions >= 0.90)]\n",
        "threshold_90_precision = thresholds[np.argmax(precisions >= 0.90)]\n",
        "\n",
        "plt.figure(figsize=(8,4))\n",
        "plot_precision_recall_vs_threshold(precisions, recalls, thresholds)\n",
        "plt.plot([threshold_90_precision, threshold_90_precision], [0.,0.9], \"r:\")\n",
        "plt.plot([-50000, threshold_90_precision], [0.9,0.9], \"r:\")\n",
        "plt.plot([-50000, threshold_90_precision], [recall_90_precision, recall_90_precision], \"r:\")\n",
        "plt.plot([threshold_90_precision], [0.9], \"ro\")\n",
        "plt.plot([threshold_90_precision], [recall_90_precision], \"ro\")      \n",
        "\n",
        "plt.show()"
      ],
      "metadata": {
        "colab": {
          "base_uri": "https://localhost:8080/",
          "height": 288
        },
        "id": "dKClfGF4bz6o",
        "outputId": "e32a2555-fce3-46cf-c5be-a4ea18bf25eb"
      },
      "execution_count": 27,
      "outputs": [
        {
          "output_type": "display_data",
          "data": {
            "text/plain": [
              "<Figure size 576x288 with 1 Axes>"
            ],
            "image/png": "[encoded data removed]"
          },
          "metadata": {
            "needs_background": "light"
          }
        }
      ]
    },
    {
      "cell_type": "markdown",
      "source": [
        "- 좋은 정밀도/재현율 트레이드오프를 선택하는 다른 방법은 재현율에 대한 정밀도 곡선을 그리는 것임."
      ],
      "metadata": {
        "id": "iodb5NGNfE76"
      }
    },
    {
      "cell_type": "code",
      "source": [
        "def plot_precision_vs_recall(precisions, recalls):\n",
        "    plt.plot(recalls, precisions, \"b-\", linewidth=2)\n",
        "    plt.xlabel(\"Recall\", fontsize=16)\n",
        "    plt.ylabel(\"Precision\", fontsize=16)\n",
        "    plt.axis([0, 1, 0, 1])\n",
        "    plt.grid(True)\n",
        "\n",
        "plt.figure(figsize=(8,6))\n",
        "plot_precision_vs_recall(precisions, recalls)\n",
        "plt.plot([recall_90_precision, recall_90_precision], [0.,0.9], \"r:\")\n",
        "plt.plot([0.0, recall_90_precision], [0.9,0.9], \"r:\")\n",
        "plt.plot([recall_90_precision], [0.9], \"ro\")\n",
        "\n",
        "plt.show()"
      ],
      "metadata": {
        "colab": {
          "base_uri": "https://localhost:8080/",
          "height": 397
        },
        "id": "Qk-R-9iOb9ge",
        "outputId": "c637eafb-512b-4140-8943-23dce393c437"
      },
      "execution_count": 28,
      "outputs": [
        {
          "output_type": "display_data",
          "data": {
            "text/plain": [
              "<Figure size 576x432 with 1 Axes>"
            ],
            "image/png": "[encoded data removed]"
          },
          "metadata": {
            "needs_background": "light"
          }
        }
      ]
    },
    {
      "cell_type": "markdown",
      "source": [
        " &rarr; 재현율 80% 근처에서 정밀도가 급격하게 줄어들기 시작함. 이 하강점 직전을 정밀도/재현율 트레이드오프로 선택하는 것이 좋음.\n",
        " \n",
        "정밀도 90%를 달성하는 것을 목표로 가정해보기\n",
        "- 그래프에서 임곗값이 약 8,000 정도라는 것을 알 수 있는데, 조금 더 정확하게 최소한 90% 정밀도가 되는 가장 낮은 임곗값을 찾을 수 있음."
      ],
      "metadata": {
        "id": "0Wrjsc2lfULN"
      }
    },
    {
      "cell_type": "code",
      "source": [
        "threshold_90_precision = thresholds[np.argmax(precisions >= 0.90)]"
      ],
      "metadata": {
        "id": "Ckq_aH-PfSvj"
      },
      "execution_count": 29,
      "outputs": []
    },
    {
      "cell_type": "markdown",
      "source": [
        "- (훈련 세트에 대한) 예측을 만들려면 분류기의 `predict()` 메서드를 호출하는 대신 다음 코드를 실행함."
      ],
      "metadata": {
        "id": "1_l3nhP5gEeW"
      }
    },
    {
      "cell_type": "code",
      "source": [
        "y_train_pred_90 = (y_scores >= threshold_90_precision)"
      ],
      "metadata": {
        "id": "QTmFYL3wf_Eo"
      },
      "execution_count": 30,
      "outputs": []
    },
    {
      "cell_type": "markdown",
      "source": [
        "- 예측에 대한 정밀도와 재현율 확인"
      ],
      "metadata": {
        "id": "tzK1V-odgTiB"
      }
    },
    {
      "cell_type": "code",
      "source": [
        "precision_score(y_train_5, y_train_pred_90)"
      ],
      "metadata": {
        "colab": {
          "base_uri": "https://localhost:8080/"
        },
        "id": "WlayWyL-gOYi",
        "outputId": "ac576dcc-87cb-4020-9c83-427657f77a92"
      },
      "execution_count": 31,
      "outputs": [
        {
          "output_type": "execute_result",
          "data": {
            "text/plain": [
              "0.9000345901072293"
            ]
          },
          "metadata": {},
          "execution_count": 31
        }
      ]
    },
    {
      "cell_type": "code",
      "source": [
        "recall_score(y_train_5, y_train_pred_90)"
      ],
      "metadata": {
        "colab": {
          "base_uri": "https://localhost:8080/"
        },
        "id": "HBmG6jKegQjW",
        "outputId": "974b66ec-d679-4c41-8008-a1de85e00faa"
      },
      "execution_count": 32,
      "outputs": [
        {
          "output_type": "execute_result",
          "data": {
            "text/plain": [
              "0.4799852425751706"
            ]
          },
          "metadata": {},
          "execution_count": 32
        }
      ]
    },
    {
      "cell_type": "markdown",
      "source": [
        "### 3.3.5 ROC 곡선\n",
        "- 수신기 조작 특성(receiver operating characterisitic(ROC)) 곡선도 이진 분류에서 널리 사용하는 도구임.\n",
        "- 정밀도/재현율 곡선과 매우 비슷하지만, 정밀도에 대한 재현율 곡선이 아니고 거짓 양성 비율(false positive rate(FPR))에 대한 진짜 양성 비율(true positive rate(TPR))의 곡선임.\n",
        "- 양성으로 잘못 분류된 음성 샘플의 비율이 FPR인데, 이는 1에서 음성으로 정확하게 분류한 음성 샘플의 비율인 진짜 음성 비율(true negative rate(TNR))을 뺀 값임.\n",
        "- TNR을 특이도라고도 함.\n",
        "- **ROC 곡선**: 민감도(재현율)에 대한 1-특이도 그래프\n",
        "- ROC 곡선을 그리려면 먼저 `roc_curve()` 함수를 사용해 여러 임곗값에서 TPR과 FPR을 계산해야 함."
      ],
      "metadata": {
        "id": "7q6zsDQAgcQE"
      }
    },
    {
      "cell_type": "code",
      "source": [
        "from sklearn.metrics import roc_curve\n",
        "\n",
        "fpr, tpr, thresholds = roc_curve(y_train_5, y_scores)"
      ],
      "metadata": {
        "id": "GI9X37h6gR5M"
      },
      "execution_count": 33,
      "outputs": []
    },
    {
      "cell_type": "markdown",
      "source": [
        "- 맷플롯립을 사용해 TPR에 대한 FPR 곡선을 나타낼 수 있음."
      ],
      "metadata": {
        "id": "xPl8mNhejzz2"
      }
    },
    {
      "cell_type": "code",
      "source": [
        "def plot_roc_curve(fpr, tpr, label=None):\n",
        "    plt.plot(fpr, tpr, linewidth=2, label=label)\n",
        "    plt.plot([0,1], [0,1], 'k--') # 대각 점선\n",
        "    plt.axis([0, 1, 0, 1])\n",
        "    plt.xlabel('False Positive Rate (Fall-Out)', fontsize=16)\n",
        "    plt.ylabel('True Positive Rate (Recall)', fontsize=16)\n",
        "    plt.grid(True)\n",
        "\n",
        "plt.figure(figsize=(8,6))\n",
        "plot_roc_curve(fpr, tpr)\n",
        "fpr_90 = fpr[np.argmax(tpr >= recall_90_precision)]\n",
        "plt.plot([fpr_90, fpr_90], [0., recall_90_precision], \"r:\")\n",
        "plt.plot([0.0, fpr_90], [recall_90_precision, recall_90_precision], \"r:\")\n",
        "plt.plot([fpr_90], [recall_90_precision], \"ro\")\n",
        "\n",
        "plt.show()"
      ],
      "metadata": {
        "colab": {
          "base_uri": "https://localhost:8080/",
          "height": 397
        },
        "id": "vmzXXMfHjyuo",
        "outputId": "dd11fd47-cbde-43c3-fae0-60fb3735344b"
      },
      "execution_count": 34,
      "outputs": [
        {
          "output_type": "display_data",
          "data": {
            "text/plain": [
              "<Figure size 576x432 with 1 Axes>"
            ],
            "image/png": "[encoded data removed]"
          },
          "metadata": {
            "needs_background": "light"
          }
        }
      ]
    },
    {
      "cell_type": "markdown",
      "source": [
        " &rarr; 여기에서도 트레이드오프가 있음. 재현율(TPR)이 높을수록 분류기가 만드는 거짓 양성(FPR)이 늘어남.\n",
        " &rarr; 점선은 완전한 랜덤 분류기의 ROC 곡선을 뜻함. 좋은 분류기는 이 점선에서 최대한 멀리 떨어져 있어야 함(왼쪽 위 모서리).\n",
        "\n",
        "- 곡선 아래의 면적(AUC)을 측정하면 분류기들을 비교할 수 있음.\n",
        "- 완벽한 분류기는 ROC의 AUC가 1이고, 완전한 랜덤 분류기는 0.5임."
      ],
      "metadata": {
        "id": "to32ITqHG1OE"
      }
    },
    {
      "cell_type": "code",
      "source": [
        "from sklearn.metrics import roc_auc_score\n",
        "\n",
        "roc_auc_score(y_train_5, y_scores)"
      ],
      "metadata": {
        "id": "K9sqrmN5kBgN",
        "colab": {
          "base_uri": "https://localhost:8080/"
        },
        "outputId": "8766579d-bd35-4830-e640-9688bca7b1d8"
      },
      "execution_count": 41,
      "outputs": [
        {
          "output_type": "execute_result",
          "data": {
            "text/plain": [
              "0.9604938554008616"
            ]
          },
          "metadata": {},
          "execution_count": 41
        }
      ]
    },
    {
      "cell_type": "markdown",
      "source": [
        "> ROC 곡선이 정밀도/재현율(PR) 곡선과 비슷해서 어떤 것을 사용해야 할지 궁금할 수 있음.  \n",
        "일반적인 법칙은 양성 클래스가 드물거나 거짓 양성이 더 중요할 때 PR 곡선을 사용하고 그렇지 않으면 ROC 곡선을 사용함.\n",
        "\n",
        "RandomForestClassifier를 훈련시켜 SGDClassifier의 ROC 곡선과 ROC AUC 점수를 비교해보기\n",
        "- 훈련 세트의 샘플에 대한 점수를 얻어야 함.\n",
        "    - 작동 방식의 차이 때문에 RandomForestClassifier에는 `decision_function()` 메서드가 없는 대신,` predict_proba()` 메서드가 있음.\n",
        "        - `predict_proba()` 메서드는 샘플이 행, 클래스가 열이고 샘플이 주어진 클래스에 속할 확률을 담은 배열을 반환함.\n",
        "    - 사이킷런 분류기는 일반적으로 이 두 메서드 중 하나 또는 둘 모두를 가지고 있음.\n"
      ],
      "metadata": {
        "id": "CCwi4ZBsHb0Z"
      }
    },
    {
      "cell_type": "code",
      "source": [
        "from sklearn.ensemble import RandomForestClassifier\n",
        "\n",
        "# 사이킷런 0.22 버전에서 바뀔 기본 값을 사용해 `n_estimators=100`로 지정\n",
        "forest_clf = RandomForestClassifier(n_estimators=100, random_state=42)\n",
        "y_probas_forest = cross_val_predict(forest_clf, X_train, y_train_5, cv=3,\n",
        "                                    method=\"predict_proba\")"
      ],
      "metadata": {
        "id": "Iokei5qXIYeM"
      },
      "execution_count": 35,
      "outputs": []
    },
    {
      "cell_type": "markdown",
      "source": [
        "- 양성 클래스 확률을 점수로 사용해봄.\n",
        "    - `roc_curve()` 함수는 레이블과 점수를 기대하지만, 점수 대신에 클래스 확률을 전달할 수 있음."
      ],
      "metadata": {
        "id": "qpT0Js4NIltt"
      }
    },
    {
      "cell_type": "code",
      "source": [
        "y_scores_forest = y_probas_forest[:, 1] # 양성 클래스에 대한 확률을 점수로 사용\n",
        "fpr_forest, tpr_forest, thresholds_forest = roc_curve(y_train_5,y_scores_forest)"
      ],
      "metadata": {
        "id": "KLAUfNNsIkcN"
      },
      "execution_count": 36,
      "outputs": []
    },
    {
      "cell_type": "markdown",
      "source": [
        "- ROC 곡선을 그릴 준비가 되었으며, 비교를 위해 첫 번째 ROC 곡선도 함께 그림."
      ],
      "metadata": {
        "id": "NoHe5nlAI5MA"
      }
    },
    {
      "cell_type": "code",
      "source": [
        "plt.plot(fpr, tpr, \"b:\", label=\"SGD\")\n",
        "plot_roc_curve(fpr_forest, tpr_forest, \"Random Forest\")\n",
        "plt.legend(loc=\"lower right\")\n",
        "plt.show()"
      ],
      "metadata": {
        "colab": {
          "base_uri": "https://localhost:8080/",
          "height": 288
        },
        "id": "jRUyBH7mI-wt",
        "outputId": "a6083c4b-3c0d-47b0-8584-4e70eef3204b"
      },
      "execution_count": 38,
      "outputs": [
        {
          "output_type": "display_data",
          "data": {
            "text/plain": [
              "<Figure size 432x288 with 1 Axes>"
            ],
            "image/png": "[encoded data removed]"
          },
          "metadata": {
            "needs_background": "light"
          }
        }
      ]
    },
    {
      "cell_type": "code",
      "source": [
        "recall_for_forest = tpr_forest[np.argmax(fpr_forest >= fpr_90)]\n",
        "\n",
        "plt.figure(figsize=(8,6))\n",
        "plt.plot(fpr, tpr, \"b:\", linewidth=2, label=\"SGD\")\n",
        "plot_roc_curve(fpr_forest, tpr_forest, \"Random Forest\")\n",
        "plt.plot([fpr_90, fpr_90], [0., recall_90_precision], \"r:\")\n",
        "plt.plot([0.0, fpr_90], [recall_90_precision, recall_90_precision], \"r:\")\n",
        "plt.plot([fpr_90], [recall_90_precision], \"ro\")\n",
        "plt.plot([fpr_90, fpr_90], [0., recall_for_forest], \"r:\")\n",
        "plt.plot([fpr_90], [recall_for_forest], \"ro\")\n",
        "plt.grid(True)\n",
        "plt.legend(loc=\"lower right\", fontsize=16)\n",
        "\n",
        "plt.show()"
      ],
      "metadata": {
        "colab": {
          "base_uri": "https://localhost:8080/",
          "height": 397
        },
        "id": "robEgEG_JNgA",
        "outputId": "c84aeaa0-02b6-4e47-cdb3-7f295dabf49e"
      },
      "execution_count": 39,
      "outputs": [
        {
          "output_type": "display_data",
          "data": {
            "text/plain": [
              "<Figure size 576x432 with 1 Axes>"
            ],
            "image/png": "[encoded data removed]"
          },
          "metadata": {
            "needs_background": "light"
          }
        }
      ]
    },
    {
      "cell_type": "markdown",
      "source": [
        " &rarr; RandomForestClassifier의 ROC 곡선이 왼쪽 위 모서리에 더 가까워 SGDClassifier보다 훨씬 좋아 보임. 당연하게 ROC AUC 점수도 훨씬 높음."
      ],
      "metadata": {
        "id": "70xEhQ6PJlC-"
      }
    },
    {
      "cell_type": "code",
      "source": [
        "roc_auc_score(y_train_5, y_scores_forest)"
      ],
      "metadata": {
        "colab": {
          "base_uri": "https://localhost:8080/"
        },
        "id": "tnmrD9w9JiAX",
        "outputId": "6f5afbd4-5bf9-4386-a485-67a61ed8b5b8"
      },
      "execution_count": 42,
      "outputs": [
        {
          "output_type": "execute_result",
          "data": {
            "text/plain": [
              "0.9983436731328145"
            ]
          },
          "metadata": {},
          "execution_count": 42
        }
      ]
    },
    {
      "cell_type": "markdown",
      "source": [
        " &rarr; 정밀도와 재현율 점수를 계산하면 99.0% 정밀도와 86.6% 재현율이 나옴."
      ],
      "metadata": {
        "id": "DpiV6pX7KA1Z"
      }
    },
    {
      "cell_type": "markdown",
      "source": [
        "## **3.4 다중 분류**\n",
        "\n",
        "- 이진 분류가 두 개의 클래스를 구별하는 반면 다중 분류기(multiclass classifier(또는 다항 분류기)) 둘 이상의 클래스를 구별할 수 있음.\n",
        "- 일부 알고리즘(ex. SGD 분류기, 랜덤 포레스트 분류기, 나이브 베이즈 분류기)은 여러 개의 클래스를 직접 처리할 수 있는 반면, 다른 알고리즘(ex. 로지스틱 회귀나 서포트 벡터 머신 분류기)는 이진 분류만 가능함.\n",
        "- 하지만 이진 분류기를 여러 개 사용해 다중 클래스를 분류하는 기법도 많음.\n",
        "- **OvR**(one-versus-the-rest) 전략 또는 **OvA**(one-versus-all): 이미지를 분류할 때 각 분류기의 결정 점수 중에서 가장 높은 것을 클래스로 선택\n",
        "- **OvO**(one-versus-one): 0과 1 구별, 0과 2 구별, 1과 2 구별 등과 같이 각 숫자의 조합마다 이진 분류기를 훈련시키는 것\n",
        "    - 클래스가 N개라면 분류기는 N*(N-1)/2개가 필요함.\n",
        "    - MNIST 문제에서는 45개의 분류기를 훈련시켜야 하므로, 이미지 하나를 분류하려면 45개 분류기 모두를 통과시켜서 가장 많이 양성으로 분류된 클래스를 선택함.\n",
        "    - OvO 전략의 주요 장점은 각 분류기의 훈련에 전체 훈련 세트 중 두 클래스에 해당하는 샘플만 필요하다는 것임.\n",
        "- 일부 알고리즘(ex. 서포트 벡터 머신)은 훈련 세트의 크기에 민감해서 큰 훈련 세트에서 몇 개의 분류기를 훈련시키는 것보다 작은 훈련 세트에서 많은 분류기를 훈련시키는 쪽이 빠르므로 OvO를 선호함. 하지만 대부분의 이진 분류 알고리즘에서는 OvR을 선호함.\n",
        "- 다중 클래스 분류 작업에 이진 분류 알고리즘을 선택하면 사이킷런이 알고리즘에 따라 자동으로 OvR 또는 OvO를 실행함.\n"
      ],
      "metadata": {
        "id": "ANZgfRd_KK7i"
      }
    },
    {
      "cell_type": "code",
      "source": [
        "from sklearn.svm import SVC\n",
        "svm_clf = SVC(gamma=\"auto\", random_state=42)\n",
        "svm_clf.fit(X_train[:1000], y_train[:1000]) # y_train_5이 아니라 y_train을 사용\n",
        "svm_clf.predict([some_digit])"
      ],
      "metadata": {
        "colab": {
          "base_uri": "https://localhost:8080/"
        },
        "id": "2kQwT0rfNf48",
        "outputId": "bf01e818-58fa-4587-babf-b3dd5491e7f4"
      },
      "execution_count": 44,
      "outputs": [
        {
          "output_type": "execute_result",
          "data": {
            "text/plain": [
              "array([5], dtype=uint8)"
            ]
          },
          "metadata": {},
          "execution_count": 44
        }
      ]
    },
    {
      "cell_type": "markdown",
      "source": [
        " &rarr; 5를 구별한 타깃 클래스(y_train_5) 대신 0에서 9까지의 원래 타깃 클래스(y_train)를 사용해 SVC를 훈련시킨 다음, 예측 하나를 만든 것임.  \n",
        " &rarr; 내부에서는 사이킷런이 OvO 전략을 사용해 10개의 이진 분류기를 훈련시키고 각각의 결정 점수를 얻어 점수가 가장 높은 클래스를 선택함.\n",
        "- `decision_function()` 메서드를 호출하면 (1개가 아니라) 샘플 당 10개의 점수를 반환함. 이 점수는 클래스마다 하나씩임."
      ],
      "metadata": {
        "id": "Dz2zqOxaMikO"
      }
    },
    {
      "cell_type": "code",
      "source": [
        "some_digit_scores = svm_clf.decision_function([some_digit])\n",
        "some_digit_scores"
      ],
      "metadata": {
        "colab": {
          "base_uri": "https://localhost:8080/"
        },
        "id": "c5PArfb_MhVI",
        "outputId": "2dc4c945-7c0d-4bf7-a1cc-1ceb5a2ba8b5"
      },
      "execution_count": 45,
      "outputs": [
        {
          "output_type": "execute_result",
          "data": {
            "text/plain": [
              "array([[ 2.81585438,  7.09167958,  3.82972099,  0.79365551,  5.8885703 ,\n",
              "         9.29718395,  1.79862509,  8.10392157, -0.228207  ,  4.83753243]])"
            ]
          },
          "metadata": {},
          "execution_count": 45
        }
      ]
    },
    {
      "cell_type": "markdown",
      "source": [
        " &rarr; 가장 높은 점수가 클래스 5에 해당하는 값임."
      ],
      "metadata": {
        "id": "jNNYwnRnNiXB"
      }
    },
    {
      "cell_type": "code",
      "source": [
        "np.argmax(some_digit_scores)"
      ],
      "metadata": {
        "colab": {
          "base_uri": "https://localhost:8080/"
        },
        "id": "mtPfBoTrNn9g",
        "outputId": "cc3ed394-99d3-41d1-c608-1e6039bb9596"
      },
      "execution_count": 46,
      "outputs": [
        {
          "output_type": "execute_result",
          "data": {
            "text/plain": [
              "5"
            ]
          },
          "metadata": {},
          "execution_count": 46
        }
      ]
    },
    {
      "cell_type": "code",
      "source": [
        "svm_clf.classes_"
      ],
      "metadata": {
        "colab": {
          "base_uri": "https://localhost:8080/"
        },
        "id": "msMwuA4QNqcu",
        "outputId": "db504149-c7a5-45df-ebcb-c216739403e7"
      },
      "execution_count": 47,
      "outputs": [
        {
          "output_type": "execute_result",
          "data": {
            "text/plain": [
              "array([0, 1, 2, 3, 4, 5, 6, 7, 8, 9], dtype=uint8)"
            ]
          },
          "metadata": {},
          "execution_count": 47
        }
      ]
    },
    {
      "cell_type": "code",
      "source": [
        "svm_clf.classes_[5]"
      ],
      "metadata": {
        "colab": {
          "base_uri": "https://localhost:8080/"
        },
        "id": "YyCljwmRNxkS",
        "outputId": "76d4f031-5434-41e3-b44b-b73eb614b580"
      },
      "execution_count": 48,
      "outputs": [
        {
          "output_type": "execute_result",
          "data": {
            "text/plain": [
              "5"
            ]
          },
          "metadata": {},
          "execution_count": 48
        }
      ]
    },
    {
      "cell_type": "markdown",
      "source": [
        "- 사이킷런에서 OvO나 OvR을 사용하도록 강제하려면 OneVsOneClassifier나 OneVsRestClassifier를 사용함.\n",
        "    - 간단하게 이진 분류기 인스턴스를 만들어 객체를 생성할 때 전달하면 됨.  \n",
        "    (심지어 이진 분류기일 필요도 없음)."
      ],
      "metadata": {
        "id": "CHbRmsjJN6Ea"
      }
    },
    {
      "cell_type": "code",
      "source": [
        "# SVC 기반으로 OvR 전략을 사용하는 다중 분류기 만들기\n",
        "from sklearn.multiclass import OneVsRestClassifier\n",
        "ovr_clf = OneVsRestClassifier(SVC(gamma=\"auto\", random_state=42))\n",
        "ovr_clf.fit(X_train[:1000], y_train[:1000])\n",
        "ovr_clf.predict([some_digit])"
      ],
      "metadata": {
        "colab": {
          "base_uri": "https://localhost:8080/"
        },
        "id": "FT6xV8M8OOVj",
        "outputId": "2957b450-f628-44aa-ba7b-e6e6c23efd5e"
      },
      "execution_count": 49,
      "outputs": [
        {
          "output_type": "execute_result",
          "data": {
            "text/plain": [
              "array([5], dtype=uint8)"
            ]
          },
          "metadata": {},
          "execution_count": 49
        }
      ]
    },
    {
      "cell_type": "code",
      "source": [
        "len(ovr_clf.estimators_)"
      ],
      "metadata": {
        "colab": {
          "base_uri": "https://localhost:8080/"
        },
        "id": "OvY0rr54OU6H",
        "outputId": "007f754d-cb12-4d4c-bd5e-65290759179d"
      },
      "execution_count": 50,
      "outputs": [
        {
          "output_type": "execute_result",
          "data": {
            "text/plain": [
              "10"
            ]
          },
          "metadata": {},
          "execution_count": 50
        }
      ]
    },
    {
      "cell_type": "markdown",
      "source": [
        "- SGDClassifier(또는 RandomForestClassifier)를 훈련시키는 것도 간단함."
      ],
      "metadata": {
        "id": "QrROnRvUOc0O"
      }
    },
    {
      "cell_type": "code",
      "source": [
        "sgd_clf.fit(X_train, y_train)\n",
        "sgd_clf.predict([some_digit])"
      ],
      "metadata": {
        "colab": {
          "base_uri": "https://localhost:8080/"
        },
        "id": "wHI63Y75OXXr",
        "outputId": "dbb1e442-24df-4562-b5c6-778c8e7d5653"
      },
      "execution_count": 51,
      "outputs": [
        {
          "output_type": "execute_result",
          "data": {
            "text/plain": [
              "array([3], dtype=uint8)"
            ]
          },
          "metadata": {},
          "execution_count": 51
        }
      ]
    },
    {
      "cell_type": "markdown",
      "source": [
        "- 이 경우 SGD 분류기는 직접 샘플을 다중 클래스로 분류할 수 있기 때문에 별도로 사이킷런의 OvR이나 OvO를 적용할 필요가 없음.\n",
        "- SGD 분류기가 클래스마다 부여한 점수를 확인해보기\n",
        "    - `decision_function()` 메서드는 클래스마다 하나의 값을 반환함."
      ],
      "metadata": {
        "id": "X-97LQqaOlL9"
      }
    },
    {
      "cell_type": "code",
      "source": [
        "sgd_clf.decision_function([some_digit])"
      ],
      "metadata": {
        "colab": {
          "base_uri": "https://localhost:8080/"
        },
        "id": "uMma27U7OWnV",
        "outputId": "99445e5b-ee93-4557-944b-7f79393cb0c6"
      },
      "execution_count": 52,
      "outputs": [
        {
          "output_type": "execute_result",
          "data": {
            "text/plain": [
              "array([[-31893.03095419, -34419.69069632,  -9530.63950739,\n",
              "          1823.73154031, -22320.14822878,  -1385.80478895,\n",
              "        -26188.91070951, -16147.51323997,  -4604.35491274,\n",
              "        -12050.767298  ]])"
            ]
          },
          "metadata": {},
          "execution_count": 52
        }
      ]
    },
    {
      "cell_type": "markdown",
      "source": [
        " &rarr; 이 결과에서 분류기가 예측 결과에 강한 확신을 보이고 있음을 알 수 있음.  \n",
        " &rarr; 대부분의 점수가 큰 음수임. 반면 클래스 5의 점수는 1823.7임.\n",
        "- 분류기 평가에는 일반적으로 교차 검증을 사용함.\n",
        "- `cross_val_score()` 함수를 사용해 SGDClassifier의 정확도 평가"
      ],
      "metadata": {
        "id": "DQ1CL94ZO4TF"
      }
    },
    {
      "cell_type": "code",
      "source": [
        "cross_val_score(sgd_clf, X_train, y_train, cv=3, scoring=\"accuracy\")"
      ],
      "metadata": {
        "colab": {
          "base_uri": "https://localhost:8080/"
        },
        "id": "DcE2el4CPqyZ",
        "outputId": "3c4b5d96-ef7a-48a8-c684-5f7e982bcf76"
      },
      "execution_count": 53,
      "outputs": [
        {
          "output_type": "execute_result",
          "data": {
            "text/plain": [
              "array([0.87365, 0.85835, 0.8689 ])"
            ]
          },
          "metadata": {},
          "execution_count": 53
        }
      ]
    },
    {
      "cell_type": "markdown",
      "source": [
        " &rarr; 모든 테스트 폴드에서 84% 이상을 얻음.  \n",
        " &rarr; 랜덤 분류기를 사용했다면 10% 정확도를 얻었을 것이므로 이 점수가 아주 나쁘지는 않지만 성능을 더 높일 여지가 있음."
      ],
      "metadata": {
        "id": "42TJgF7iPu0G"
      }
    },
    {
      "cell_type": "code",
      "source": [
        "# 입력의 스케일을 조정하여 성능 높이기\n",
        "from sklearn.preprocessing import StandardScaler\n",
        "scaler = StandardScaler()\n",
        "X_train_scaled = scaler.fit_transform(X_train.astype(np.float64))\n",
        "cross_val_score(sgd_clf, X_train_scaled, y_train, cv=3, scoring=\"accuracy\")"
      ],
      "metadata": {
        "colab": {
          "base_uri": "https://localhost:8080/"
        },
        "id": "ZZo7KSOlPsyJ",
        "outputId": "20e633af-2474-45b8-fb5d-9624adf82497"
      },
      "execution_count": 55,
      "outputs": [
        {
          "output_type": "execute_result",
          "data": {
            "text/plain": [
              "array([0.8983, 0.891 , 0.9018])"
            ]
          },
          "metadata": {},
          "execution_count": 55
        }
      ]
    },
    {
      "cell_type": "markdown",
      "source": [
        "## **3.5 에러 분석**\n",
        "\n",
        "- 실제 프로젝트라면 머신러닝 프로젝트 체크리스트의 단계를 따를 것임.\n",
        "    - 데이터 준비 단계에서 가능한 선택 사항을 탐색하고, 여러 모델을 시도하고, 가장 좋은 몇 개를 골라 GridSearchCV를 사용해 하이퍼파라미터를 세밀하게 튜닝하고, 앞 장에서 한 것처럼 가능한 한 자동화함.\n",
        "- 이 절에서는 가능성이 높은 모델을 하나 찾았다고 가정하고 이 모델의 성능을 향상시킬 방법을 찾아보고자 함.\n",
        "- 한 가지 방법은 만들어진 에러의 종류를 분석하는 것임.\n",
        "\n",
        "<U>오차 행렬 살펴보기</U>\n",
        "- `cross_val_predict()` 함수를 사용해 예측을 만들고 이전처럼 `confusion_matrix()` 함수를 호출함.\n",
        "\n"
      ],
      "metadata": {
        "id": "Y76KiolsQJAh"
      }
    },
    {
      "cell_type": "code",
      "source": [
        "y_train_pred = cross_val_predict(sgd_clf, X_train_scaled, y_train, cv=3)\n",
        "conf_mx = confusion_matrix(y_train, y_train_pred)\n",
        "conf_mx"
      ],
      "metadata": {
        "colab": {
          "base_uri": "https://localhost:8080/"
        },
        "id": "unja0iv2RACJ",
        "outputId": "a040c297-ecdb-4ab5-a95f-803f3e3c8419"
      },
      "execution_count": 56,
      "outputs": [
        {
          "output_type": "execute_result",
          "data": {
            "text/plain": [
              "array([[5577,    0,   22,    5,    8,   43,   36,    6,  225,    1],\n",
              "       [   0, 6400,   37,   24,    4,   44,    4,    7,  212,   10],\n",
              "       [  27,   27, 5220,   92,   73,   27,   67,   36,  378,   11],\n",
              "       [  22,   17,  117, 5227,    2,  203,   27,   40,  403,   73],\n",
              "       [  12,   14,   41,    9, 5182,   12,   34,   27,  347,  164],\n",
              "       [  27,   15,   30,  168,   53, 4444,   75,   14,  535,   60],\n",
              "       [  30,   15,   42,    3,   44,   97, 5552,    3,  131,    1],\n",
              "       [  21,   10,   51,   30,   49,   12,    3, 5684,  195,  210],\n",
              "       [  17,   63,   48,   86,    3,  126,   25,   10, 5429,   44],\n",
              "       [  25,   18,   30,   64,  118,   36,    1,  179,  371, 5107]])"
            ]
          },
          "metadata": {},
          "execution_count": 56
        }
      ]
    },
    {
      "cell_type": "markdown",
      "source": [
        "- 오차 행렬을 맷플롯립의 `matshow()` 함수를 사용해 이미지로 표현하면 보기에 편리할 때가 많음."
      ],
      "metadata": {
        "id": "tn6WYfzfRD9J"
      }
    },
    {
      "cell_type": "code",
      "source": [
        "plt.matshow(conf_mx, cmap=plt.cm.gray)\n",
        "plt.show()"
      ],
      "metadata": {
        "colab": {
          "base_uri": "https://localhost:8080/",
          "height": 275
        },
        "id": "Npd13kIzRKnO",
        "outputId": "a2de7353-5aaf-4366-ed03-89e6074c38dc"
      },
      "execution_count": 57,
      "outputs": [
        {
          "output_type": "display_data",
          "data": {
            "text/plain": [
              "<Figure size 288x288 with 1 Axes>"
            ],
            "image/png": "[encoded data removed]"
          },
          "metadata": {
            "needs_background": "light"
          }
        }
      ]
    },
    {
      "cell_type": "markdown",
      "source": [
        " &rarr; 이 오차 행렬은 대부분의 이미지가 올바르게 분류되었음을 나타내는 주대각선에 있으므로 매우 좋아 보임.\n",
        " &rarr; 숫자 5는 다른 숫자보다 조금 더 어두워 보임. 이는 데이터셋에 숫자 5의 이미지가 적거나 분류기가 숫자 5를 다른 숫자만큼 잘 분류하지 못한다는 뜻임. 사실 두 경우에 대해 모두 확인해 봐야 함.\n",
        "\n",
        "그래프의 에러 부분에 초점 맞춰보기\n",
        "- 오차 행렬의 각 값을 대응되는 클래스의 이미지 개수로 나누어(에러의 절대 개수가 아니라) 에러 비율을 비교함."
      ],
      "metadata": {
        "id": "S4grlRQuRYXa"
      }
    },
    {
      "cell_type": "code",
      "source": [
        "row_sums = conf_mx.sum(axis=1, keepdims=True)\n",
        "norm_conf_mx = conf_mx / row_sums"
      ],
      "metadata": {
        "id": "vJZftukeR3ma"
      },
      "execution_count": 58,
      "outputs": []
    },
    {
      "cell_type": "markdown",
      "source": [
        "- 다른 항목은 그대로 유지하고 주대각선만 0으로 채워서 그래프를 그림."
      ],
      "metadata": {
        "id": "5WlgXTFpR7Bg"
      }
    },
    {
      "cell_type": "code",
      "source": [
        "np.fill_diagonal(norm_conf_mx, 0)\n",
        "plt.matshow(norm_conf_mx, cmap=plt.cm.gray)\n",
        "plt.show()"
      ],
      "metadata": {
        "colab": {
          "base_uri": "https://localhost:8080/",
          "height": 275
        },
        "id": "7JCbkhATR-cK",
        "outputId": "ffc608e4-da3f-4ff7-abe1-ec85328319cf"
      },
      "execution_count": 59,
      "outputs": [
        {
          "output_type": "display_data",
          "data": {
            "text/plain": [
              "<Figure size 288x288 with 1 Axes>"
            ],
            "image/png": "[encoded data removed]"
          },
          "metadata": {
            "needs_background": "light"
          }
        }
      ]
    },
    {
      "cell_type": "markdown",
      "source": [
        " &rarr; 분류기가 만든 에러를 확실히 볼 수 있음. 행은 실제 클래스를 나타내고 열은 예측한 클래스를 나타낸다는 사실을 기억해야 함.  \n",
        " &rarr; 클래스 8이 열이 상당히 밝으므로 많은 이미지가 8로 잘못 분류되었음을 암시함. 하지만 클래스 8의 행은 그리 나쁘지 않음. 이는 실제 8이 적절히 8로 분류되었다는 것을 말해줌.  \n",
        " &rarr; 여기서 볼 수 있듯이 오차 행렬은 반드시 대칭인 것은 아님. 3과 5가 (서로) 많이 혼동되고 있는 것도 볼 수 있음.\n",
        "\n",
        "- 오차 행렬을 분석하면 분류기의 성능 향상 방안에 대한 통찰을 얻을 수 있음.\n",
        "    - 이 그래프를 살펴보면 8로 잘못 분류되는 것을 줄이도록 개선할 필요가 있음.\n",
        "        - 예) 8처럼 보이는 (하지만 실제 8은 아닌) 숫자의 훈련 데이터를 더 많이 모아서 실제 8과 구분하도록 분류기를 학습시킬 수 있음.\n",
        "        - 예) 분류기에 도움 될 만한 특성을 더 찾아볼 수 있음.\n",
        "        - 예) 동심원 같은 어떤 패턴이 나도록 (Scikit-Image, Pillow, OpenCV 등을 사용해서) 이미지를 전처리해볼 수 있음.\n",
        "- 개개의 에러를 분석해보면 분류기가 무슨 일을 하고, 왜 잘못되었는지에 대해 통찰을 얻을 수 있지만, 더 어렵고 시간이 오래 걸림.\n",
        "\n",
        "*3과 5의 샘플을 그려보기*"
      ],
      "metadata": {
        "id": "ZVIcSei4SCRz"
      }
    },
    {
      "cell_type": "code",
      "source": [
        "# 숫자 그림을 위한 추가 함수\n",
        "def plot_digits(instances, images_per_row=10, **options):\n",
        "    size = 28\n",
        "    images_per_row = min(len(instances), images_per_row)\n",
        "    # n_rows = ceil(len(instances) / images_per_row) 와 동일합니다:\n",
        "    n_rows = (len(instances) - 1) // images_per_row + 1\n",
        "\n",
        "    # 필요하면 그리드 끝을 채우기 위해 빈 이미지를 추가합니다:\n",
        "    n_empty = n_rows * images_per_row - len(instances)\n",
        "    padded_instances = np.concatenate([instances, np.zeros((n_empty, size * size))], axis=0)\n",
        "\n",
        "    # 배열의 크기를 바꾸어 28×28 이미지를 담은 그리드로 구성합니다:\n",
        "    image_grid = padded_instances.reshape((n_rows, images_per_row, size, size))\n",
        "\n",
        "    # 축 0(이미지 그리드의 수직축)과 2(이미지의 수직축)를 합치고 축 1과 3(두 수평축)을 합칩니다. \n",
        "    # 먼저 transpose()를 사용해 결합하려는 축을 옆으로 이동한 다음 합칩니다:\n",
        "    big_image = image_grid.transpose(0, 2, 1, 3).reshape(n_rows * size,\n",
        "                                                         images_per_row * size)\n",
        "    # 하나의 큰 이미지를 얻었으므로 출력하면 됩니다:\n",
        "    plt.imshow(big_image, cmap = mpl.cm.binary, **options)\n",
        "    plt.axis(\"off\")"
      ],
      "metadata": {
        "id": "txGQ7o6XZSua"
      },
      "execution_count": 61,
      "outputs": []
    },
    {
      "cell_type": "code",
      "source": [
        "cl_a, cl_b = 3, 5\n",
        "X_aa = X_train[(y_train == cl_a) & (y_train_pred == cl_a)]\n",
        "X_ab = X_train[(y_train == cl_a) & (y_train_pred == cl_b)]\n",
        "X_ba = X_train[(y_train == cl_b) & (y_train_pred == cl_a)]\n",
        "X_bb = X_train[(y_train == cl_b) & (y_train_pred == cl_b)]\n",
        "\n",
        "plt.figure(figsize=(8,8))\n",
        "plt.subplot(221); plot_digits(X_aa[:25], images_per_row=5)\n",
        "plt.subplot(222); plot_digits(X_ab[:25], images_per_row=5)\n",
        "plt.subplot(223); plot_digits(X_ba[:25], images_per_row=5)\n",
        "plt.subplot(224); plot_digits(X_bb[:25], images_per_row=5)\n",
        "plt.show()"
      ],
      "metadata": {
        "colab": {
          "base_uri": "https://localhost:8080/",
          "height": 466
        },
        "id": "SMfyCBuATUwh",
        "outputId": "27f67300-b09d-4ab6-9a4d-c884ee9a89a1"
      },
      "execution_count": 62,
      "outputs": [
        {
          "output_type": "display_data",
          "data": {
            "text/plain": [
              "<Figure size 576x576 with 4 Axes>"
            ],
            "image/png": "[encoded data removed]"
          },
          "metadata": {
            "needs_background": "light"
          }
        }
      ]
    },
    {
      "cell_type": "markdown",
      "source": [
        "- 왼쪽의 5*5 블록 두 개는 3으로 분류된 이미지이고 오른쪽 5*5 블록 두 개는 5로 분류된 이미지임.\n",
        "- 분류기가 잘못 분류한 숫자 중 일부는 정말 잘못 쓰여 있어서(왼쪽 아래 블록과 오른쪽 위 블록) 사람도 분류하기 어려울 것임.\n",
        "- 그러나 대부분의 잘못 분류된 이미지는 확실히 에러인 것 같고 분류기가 실수한 이유를 이해하기 어려움. 원인은 선형 모델인 SGDClassifier를 사용했기 때문임.\n",
        "    - 선형 분류기는 클래스마다 픽셀에 가중치를 할당하고 새로운 이미지에 대해 단순히 픽셀 강도의 가중치 합을 클래스의 점수로 계산함. 따라서 3과 5는 몇 개의 픽셀만 다르기 때문에 모델이 쉽게 혼동하게 됨.\n",
        "- 3과 5의 주요 차이는 위쪽 선과 아래쪽 호를 이어주는 작은 직선의 위치임.\n",
        "    - 숫자 3을 쓸 때 연결 부위가 조금 왼쪽으로 치우치면 분류기가 5로 분류하고, 또 반대로 마찬가지임. 다른 말로 하면 분류기는 이미지의 위치나 회전 방향에 매우 민감함.\n",
        "- 3과 5의 에러를 줄이는 한 가지 방법은 이미지를 중앙에 위치시키고 회전되어 있지 않도록 전처리하는 것임. 이렇게 하면 아마 다른 에러도 줄어들 것임.\n",
        "\n"
      ],
      "metadata": {
        "id": "zN20sNdRTcIR"
      }
    },
    {
      "cell_type": "markdown",
      "source": [
        "## **3.6 다중 레이블 분류**\n",
        "\n",
        "- 지금까지는 각 샘플이 하나의 클래스에만 할당되었지만, 분류기가 샘플마다 여러 개의 클래스를 출력해야 할 때도 있음.\n",
        "- **다중 레이블 분류**(multilabel classification) 시스템: 여러 개의 이진 꼬리표를 출력하는 분류 시스템\n"
      ],
      "metadata": {
        "id": "Ln4jLGOsVWJL"
      }
    },
    {
      "cell_type": "code",
      "source": [
        "from sklearn.neighbors import KNeighborsClassifier\n",
        "\n",
        "y_train_large = (y_train >= 7)\n",
        "y_train_odd = (y_train % 2 == 1)\n",
        "y_multilabel = np.c_[y_train_large, y_train_odd]\n",
        "\n",
        "knn_clf = KNeighborsClassifier()\n",
        "knn_clf.fit(X_train, y_multilabel)"
      ],
      "metadata": {
        "colab": {
          "base_uri": "https://localhost:8080/"
        },
        "id": "A604iq1wVzm2",
        "outputId": "452107ca-464a-466f-c61e-fa71fc41402e"
      },
      "execution_count": 63,
      "outputs": [
        {
          "output_type": "execute_result",
          "data": {
            "text/plain": [
              "KNeighborsClassifier()"
            ]
          },
          "metadata": {},
          "execution_count": 63
        }
      ]
    },
    {
      "cell_type": "markdown",
      "source": [
        " &rarr; 각 숫자 이미지에 두 개의 타깃 레이블이 담긴 y_multilabel 배열을 만듦.  \n",
        " &rarr; 첫 번째는 숫자가 큰 값(7,8,9)인지 나타내고 두 번째는 홀수인지 나타냄.  \n",
        " &rarr; 그다음 줄이 KNeighborClassifier 인스턴스를 만들고 다중 타깃 배열을 사용하여 훈련시킴."
      ],
      "metadata": {
        "id": "HDaPxGlyV5EI"
      }
    },
    {
      "cell_type": "code",
      "source": [
        "knn_clf.predict([some_digit])"
      ],
      "metadata": {
        "colab": {
          "base_uri": "https://localhost:8080/"
        },
        "id": "_vKA7HpdWcbt",
        "outputId": "1f219203-0beb-427f-9953-217ccaebd5fb"
      },
      "execution_count": 64,
      "outputs": [
        {
          "output_type": "execute_result",
          "data": {
            "text/plain": [
              "array([[False,  True]])"
            ]
          },
          "metadata": {},
          "execution_count": 64
        }
      ]
    },
    {
      "cell_type": "markdown",
      "source": [
        "- 다중 레이블 분류기를 평가하는 방법은 많음.\n",
        "- 적절한 지표는 프로젝트에 따라 다름.\n",
        "    - 예) 각 레이블 F1 점수를 구하고 간단하게 평균 점수를 계산"
      ],
      "metadata": {
        "id": "gcKfH7MCWd0h"
      }
    },
    {
      "cell_type": "code",
      "source": [
        "# 모든 레이블에 대한 F1 점수의 평균 계산\n",
        "y_train_knn_pred = cross_val_predict(knn_clf, X_train, y_multilabel, cv=3)\n",
        "f1_score(y_multilabel, y_train_knn_pred, average=\"macro\")"
      ],
      "metadata": {
        "colab": {
          "base_uri": "https://localhost:8080/"
        },
        "id": "lJZhMmbqWo1p",
        "outputId": "1fc098ff-527f-465a-cf67-c5f42685d9e7"
      },
      "execution_count": 65,
      "outputs": [
        {
          "output_type": "execute_result",
          "data": {
            "text/plain": [
              "0.976410265560605"
            ]
          },
          "metadata": {},
          "execution_count": 65
        }
      ]
    },
    {
      "cell_type": "markdown",
      "source": [
        " &rarr; 실제로는 아닐 수 있지만 이 코드는 모든 레이블의 가중치가 같다고 가정한 것임.\n",
        "\n",
        "- 레이블에 클래스의 지지도(즉, 타깃 레이블에 속한 샘플 수)를 가중치로 주어 가중치를 다르게 둘 수 있음. - `average=\"weighted\"`\n",
        "\n",
        "\n"
      ],
      "metadata": {
        "id": "dhd9kM11Wv34"
      }
    },
    {
      "cell_type": "markdown",
      "source": [
        "## **3.7 다중 출력 분류**\n",
        "\n",
        "- 다중 출력 다중 클래스 분류(multioutput-multiclass classification(또는 간단히 다중 출력 분류)): 다중 레이블 분류에서 한 레이블이 다중 클래스가 될 수 있도록 일반화한 것(즉, 값을 두 개 이상 가질 수 있음)  \n",
        "\n",
        "- 이를 위해 이미지에서 잡음을 제거하는 시스템을 만들어보기\n",
        "    - 잡음이 많은 숫자 이미지를 입력으로 받고 (기대하건대) 깨끗한 숫자 이미지를 MNIST 이미지처럼 픽셀의 강도를 담은 배열로 출력함.\n",
        "    - 분류기의 출력이 다중 레이블(픽셀당 한 레이블)이고 각 레이블은 값을 여러 개 가짐(0부터 255까지 픽셀 강도).\n",
        "- 먼저 MNIST 이미지에서 추출한 훈련 세트와 테스트 세트에 넘파이의 `radint()` 함수를 사용하여 픽셀 강도에 잡음을 추가함. 타깃 이미지는 원본 이미지가 될 것임."
      ],
      "metadata": {
        "id": "_SIGEr-1XSiL"
      }
    },
    {
      "cell_type": "code",
      "source": [
        "noise = np.random.randint(0, 100, (len(X_train), 784))\n",
        "X_train_mod = X_train + noise\n",
        "noise = np.random.randint(0, 100, (len(X_test), 784))\n",
        "X_test_mod = X_test + noise\n",
        "y_train_mod = X_train\n",
        "y_test_mod = X_test"
      ],
      "metadata": {
        "id": "WNJFYYInYXye"
      },
      "execution_count": 66,
      "outputs": []
    },
    {
      "cell_type": "markdown",
      "source": [
        "- 테스트 세트에서 이미지를 하나 선택함.\n",
        "- 분류기를 훈련시켜 이미지를 깨끗하게 만들어보기"
      ],
      "metadata": {
        "id": "KWDQpTZUYe1i"
      }
    },
    {
      "cell_type": "code",
      "source": [
        "def plot_digit(data):\n",
        "    image = data.reshape(28, 28)\n",
        "    plt.imshow(image, cmap = mpl.cm.binary,\n",
        "               interpolation=\"nearest\")\n",
        "    plt.axis(\"off\")"
      ],
      "metadata": {
        "id": "NTALCoN_arHC"
      },
      "execution_count": 70,
      "outputs": []
    },
    {
      "cell_type": "code",
      "source": [
        "some_index = 0"
      ],
      "metadata": {
        "id": "6cmeO3R8agqh"
      },
      "execution_count": 71,
      "outputs": []
    },
    {
      "cell_type": "code",
      "source": [
        "knn_clf.fit(X_train_mod, y_train_mod)\n",
        "clean_digit = knn_clf.predict([X_test_mod[some_index]])\n",
        "plot_digit(clean_digit)"
      ],
      "metadata": {
        "colab": {
          "base_uri": "https://localhost:8080/",
          "height": 248
        },
        "id": "5mjsqmDJYwij",
        "outputId": "c9fd2e5e-7bfc-4ebc-fce8-487d22776879"
      },
      "execution_count": 72,
      "outputs": [
        {
          "output_type": "display_data",
          "data": {
            "text/plain": [
              "<Figure size 432x288 with 1 Axes>"
            ],
            "image/png": "[encoded data removed]"
          },
          "metadata": {
            "needs_background": "light"
          }
        }
      ]
    }
  ]
}