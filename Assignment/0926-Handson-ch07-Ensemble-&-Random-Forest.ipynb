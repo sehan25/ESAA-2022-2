{
  "nbformat": 4,
  "nbformat_minor": 0,
  "metadata": {
    "colab": {
      "provenance": [],
      "authorship_tag": "ABX9TyNH9fAJ8XmTloqFNVaMt8uE",
      "include_colab_link": true
    },
    "kernelspec": {
      "name": "python3",
      "display_name": "Python 3"
    },
    "language_info": {
      "name": "python"
    }
  },
  "cells": [
    {
      "cell_type": "markdown",
      "metadata": {
        "id": "view-in-github",
        "colab_type": "text"
      },
      "source": [
        "<a href=\"https://colab.research.google.com/github/sehan25/ESAA-2022-2/blob/main/Assignment/0926-Handson-ch07-Ensemble-%26-Random-Forest.ipynb\" target=\"_parent\"><img src=\"https://colab.research.google.com/assets/colab-badge.svg\" alt=\"Open In Colab\"/></a>"
      ]
    },
    {
      "cell_type": "markdown",
      "source": [
        "# **CHAPTER 7. 앙상블 학습과 랜덤 포레스트**"
      ],
      "metadata": {
        "id": "-lrkaetXTVKO"
      }
    },
    {
      "cell_type": "markdown",
      "source": [
        "## **7.1 투표 기반 분류기**"
      ],
      "metadata": {
        "id": "T6NtWtVfTcXT"
      }
    },
    {
      "cell_type": "markdown",
      "source": [
        "- 더 좋은 분류기를 만드는 매우 간단한 방법은 각 분류기의 예측을 모아서 가장 많이 선택된 클래스를 예측하는 것임.\n",
        "- **직접 투표** 분류기: 다수결 투표로 정해지는 분류기\n",
        "    - 각 분류기가 약한 학습기(즉, 랜덤 추측보다 조금 더 높은 성능을 내는 분류기)일지라도 충분하게 많고 다양하다면 앙상블은 (높은 정확도를 내는) 강한 학습기가 될 수 있음.\n",
        "- 여러 분류기를 조합하여 사이킷런의 투표 기반 분류기(VotingClassifier)를 만들고 훈련시키기"
      ],
      "metadata": {
        "id": "s-8O54uEYuwB"
      }
    },
    {
      "cell_type": "code",
      "source": [
        "from sklearn.model_selection import train_test_split\n",
        "from sklearn.datasets import make_moons\n",
        "\n",
        "X, y = make_moons(n_samples=500, noise=0.30, random_state=42)\n",
        "X_train, X_test, y_train, y_test = train_test_split(X, y, random_state=42)"
      ],
      "metadata": {
        "id": "Nd-ru4fIT0HB"
      },
      "execution_count": 1,
      "outputs": []
    },
    {
      "cell_type": "markdown",
      "source": [
        "- 각 분류기의 테스트셋 정확도 확인"
      ],
      "metadata": {
        "id": "pWbTVqgqZZ63"
      }
    },
    {
      "cell_type": "code",
      "execution_count": 2,
      "metadata": {
        "colab": {
          "base_uri": "https://localhost:8080/"
        },
        "id": "9AxORiTlsS1J",
        "outputId": "e928e70c-577a-49c9-a284-fe5f2e515672"
      },
      "outputs": [
        {
          "output_type": "execute_result",
          "data": {
            "text/plain": [
              "VotingClassifier(estimators=[('lr', LogisticRegression()),\n",
              "                             ('rf', RandomForestClassifier()), ('svc', SVC())])"
            ]
          },
          "metadata": {},
          "execution_count": 2
        }
      ],
      "source": [
        "from sklearn.ensemble import RandomForestClassifier\n",
        "from sklearn.ensemble import VotingClassifier\n",
        "from sklearn.linear_model import LogisticRegression\n",
        "from sklearn.svm import SVC\n",
        "\n",
        "log_clf = LogisticRegression()\n",
        "rnd_clf = RandomForestClassifier()\n",
        "svm_clf = SVC()\n",
        "\n",
        "voting_clf = VotingClassifier(\n",
        "    estimators=[('lr', log_clf), ('rf', rnd_clf), ('svc', svm_clf)],\n",
        "    voting='hard')\n",
        "voting_clf.fit(X_train, y_train)"
      ]
    },
    {
      "cell_type": "code",
      "source": [
        "from sklearn.metrics import accuracy_score\n",
        "\n",
        "for clf in (log_clf, rnd_clf, svm_clf, voting_clf):\n",
        "    clf.fit(X_train, y_train)\n",
        "    y_pred = clf.predict(X_test)\n",
        "    print(clf.__class__.__name__, accuracy_score(y_test, y_pred))"
      ],
      "metadata": {
        "colab": {
          "base_uri": "https://localhost:8080/"
        },
        "id": "h5G_BxsuTqMY",
        "outputId": "350322f5-6af5-49a2-a1a1-69ea5be8928f"
      },
      "execution_count": 3,
      "outputs": [
        {
          "output_type": "stream",
          "name": "stdout",
          "text": [
            "LogisticRegression 0.864\n",
            "RandomForestClassifier 0.888\n",
            "SVC 0.896\n",
            "VotingClassifier 0.904\n"
          ]
        }
      ]
    },
    {
      "cell_type": "markdown",
      "source": [
        "&rarr; 투표 기반 분류기가 다른 개별 분류기보다 성능이 조금 더 높음.\n",
        "\n",
        "- 간접 투표: 모든 분류기가 클래스의 확률을 예측할 수 있으면(즉, `predict_proba()` 메서드가 있으면), 개별 분류기의 예측을 평균 내어 확률이 가장 높은 클래스를 예측할 수 있는 방식\n",
        "    - `voting=\"hard\"`를 `voting=\"soft\"`로 바꾸 고 모든 분류기가 클래스의 확률을 추정할 수 있으면 됨\n",
        "    - SVC는 기본값에서는 클래스 확률을 제공하지 않으므로 `probability` 매개변수를 `True`로 지정해야 함"
      ],
      "metadata": {
        "id": "xp0OyITEZdZ1"
      }
    },
    {
      "cell_type": "markdown",
      "source": [
        "## **7.2 배깅과 페이스팅**\n",
        "\n",
        "- **배깅**: 훈련 세트에서 중복을 허용하여 샘플링하는 방식\n",
        "- **페이스팅**: 훈련 세트에서 중복을 허용하지 않고 샘플링하는 방식\n",
        "- 모든 예측기가 훈련을 마치면 앙상블은 모든 예측기의 예측을 모아서 새로운 샘플에 대한 예측을 만듦.\n",
        "    - 수집 함수는 전형적으로 분류일 때는 통계적 최빈값(즉, 직접 투표 분류기처럼 가장 많은 예측 결과)이고 회귀에 대해서는 평균을 계산함\n",
        "    - 개별 예측기는 원본 훈련 세트로 훈련시킨 것보다 훨씬 크게 편향되어 있지만 수집 함수를 통과하면 편향과 분산이 모두 감소함\n",
        "    - 일반적으로 앙상블의 결과는 원본 데이터셋으로 하나의 예측기를 훈련시킬 때와 비교해 편향은 비슷하지만 분산은 줄어듦"
      ],
      "metadata": {
        "id": "BteRKYn2T6zT"
      }
    },
    {
      "cell_type": "markdown",
      "source": [
        "### 7.2.1 사이킷런의 배깅과 페이스팅\n",
        "- 결정 트리 분류기 500개의 앙상블을 훈련시키기"
      ],
      "metadata": {
        "id": "gTVO70PCUFpA"
      }
    },
    {
      "cell_type": "code",
      "source": [
        "from sklearn.ensemble import BaggingClassifier\n",
        "from sklearn.tree import DecisionTreeClassifier\n",
        "\n",
        "bag_clf = BaggingClassifier(\n",
        "    DecisionTreeClassifier(), n_estimators=500,\n",
        "    max_samples=100, bootstrap=True, n_jobs=-1)\n",
        "bag_clf.fit(X_train, y_train)\n",
        "y_pred = bag_clf.predict(X_test)"
      ],
      "metadata": {
        "id": "VTwkhZTeT2I_"
      },
      "execution_count": 4,
      "outputs": []
    },
    {
      "cell_type": "markdown",
      "source": [
        "&rarr; 앙상블의 예측이 결정 트리 하나의 예측보다 일반화가 훨씬 잘된 것 같아 보임.\n",
        "\n",
        "&rarr; 전반적으로 배깅이 더 나은 모델을 만들기 때문에 일반적으로 더 선호함. 그러나 시간과 CPU 파워에 여유가 있다면 교차 검증으로 배깅과 페이스팅을 모두 평가해서 더 나은 쪽을 선택하는 것이 좋음."
      ],
      "metadata": {
        "id": "8Pfwaqocb72V"
      }
    },
    {
      "cell_type": "markdown",
      "source": [
        "### 7.2.2. oob 평가\n",
        "- 배깅을 사용하면 어떤 샘플은 한 예측기를 위해 여러 번 샘플링되고 어떤 것은 전혀 선택되지 않을 수 있음.\n",
        "- BaggingClassifier는 기본값으로 중복을 허용하여 (`bootstrap=True`) 훈련 세트의 크기만큼인 m개 샘플을 선택함\n",
        "    - 평균적으로 각 예측기에 훈련 샘플의 63% 정도만 샘플링된다는 것을 의미함\n",
        "    - 선택되지 않은 훈련 샘플의 나머지 37%를 oobout of bag 샘플이라고 부름\n",
        "    - 예측기마다 남겨진 37%는 모두 다름\n",
        "- 예측기가 훈련되는 동안에는 oob 샘플을 사용하지 않으므로 별도의 검증 세트를 사용하지 않고 oob 샘플을 사용해 평가할 수 있음.\n",
        "    - 사이킷런에서 BaggingClassifier를 만들 때 `oob_score=True`로 지정하면 훈련이 끝난 후 자동으로 oob 평가를 수행함\n",
        "    - 평가 점수 결과는 oob_ score 변수에 저장되어 있음"
      ],
      "metadata": {
        "id": "toWBnRzUUPJQ"
      }
    },
    {
      "cell_type": "code",
      "source": [
        "bag_clf = BaggingClassifier(\n",
        "    DecisionTreeClassifier(), n_estimators=500,\n",
        "    bootstrap=True, oob_score=True)\n",
        "\n",
        "bag_clf.fit(X_train, y_train)\n",
        "bag_clf.oob_score_"
      ],
      "metadata": {
        "colab": {
          "base_uri": "https://localhost:8080/"
        },
        "id": "1ExE4V0tUNzD",
        "outputId": "598b4f02-17a1-4cb4-e996-57a435a46f11"
      },
      "execution_count": 5,
      "outputs": [
        {
          "output_type": "execute_result",
          "data": {
            "text/plain": [
              "0.896"
            ]
          },
          "metadata": {},
          "execution_count": 5
        }
      ]
    },
    {
      "cell_type": "markdown",
      "source": [
        "- oob 샘플에 대한 결정 함수의 값 확인"
      ],
      "metadata": {
        "id": "4xKClQr6dGCd"
      }
    },
    {
      "cell_type": "code",
      "source": [
        "bag_clf.oob_decision_function_"
      ],
      "metadata": {
        "colab": {
          "base_uri": "https://localhost:8080/"
        },
        "id": "3q64vC51UY-Q",
        "outputId": "cced5a1d-a0d5-4d6a-acf0-8e1d5ee2856d"
      },
      "execution_count": 6,
      "outputs": [
        {
          "output_type": "execute_result",
          "data": {
            "text/plain": [
              "array([[0.43956044, 0.56043956],\n",
              "       [0.3583815 , 0.6416185 ],\n",
              "       [1.        , 0.        ],\n",
              "       [0.        , 1.        ],\n",
              "       [0.00571429, 0.99428571],\n",
              "       [0.07954545, 0.92045455],\n",
              "       [0.32065217, 0.67934783],\n",
              "       [0.02702703, 0.97297297],\n",
              "       [0.99408284, 0.00591716],\n",
              "       [0.97575758, 0.02424242],\n",
              "       [0.80213904, 0.19786096],\n",
              "       [0.01142857, 0.98857143],\n",
              "       [0.83068783, 0.16931217],\n",
              "       [0.8404908 , 0.1595092 ],\n",
              "       [0.96842105, 0.03157895],\n",
              "       [0.06951872, 0.93048128],\n",
              "       [0.        , 1.        ],\n",
              "       [0.99462366, 0.00537634],\n",
              "       [0.98275862, 0.01724138],\n",
              "       [0.98314607, 0.01685393],\n",
              "       [0.01648352, 0.98351648],\n",
              "       [0.37572254, 0.62427746],\n",
              "       [0.90217391, 0.09782609],\n",
              "       [1.        , 0.        ],\n",
              "       [0.96551724, 0.03448276],\n",
              "       [0.        , 1.        ],\n",
              "       [1.        , 0.        ],\n",
              "       [1.        , 0.        ],\n",
              "       [0.        , 1.        ],\n",
              "       [0.62962963, 0.37037037],\n",
              "       [0.        , 1.        ],\n",
              "       [1.        , 0.        ],\n",
              "       [0.        , 1.        ],\n",
              "       [0.        , 1.        ],\n",
              "       [0.17486339, 0.82513661],\n",
              "       [1.        , 0.        ],\n",
              "       [0.        , 1.        ],\n",
              "       [0.38333333, 0.61666667],\n",
              "       [0.        , 1.        ],\n",
              "       [1.        , 0.        ],\n",
              "       [0.21142857, 0.78857143],\n",
              "       [0.36094675, 0.63905325],\n",
              "       [1.        , 0.        ],\n",
              "       [1.        , 0.        ],\n",
              "       [0.        , 1.        ],\n",
              "       [1.        , 0.        ],\n",
              "       [1.        , 0.        ],\n",
              "       [0.01604278, 0.98395722],\n",
              "       [1.        , 0.        ],\n",
              "       [0.00558659, 0.99441341],\n",
              "       [0.98876404, 0.01123596],\n",
              "       [0.90217391, 0.09782609],\n",
              "       [0.96551724, 0.03448276],\n",
              "       [0.96590909, 0.03409091],\n",
              "       [0.        , 1.        ],\n",
              "       [0.05181347, 0.94818653],\n",
              "       [0.99450549, 0.00549451],\n",
              "       [0.        , 1.        ],\n",
              "       [0.00543478, 0.99456522],\n",
              "       [0.015625  , 0.984375  ],\n",
              "       [0.99428571, 0.00571429],\n",
              "       [0.81081081, 0.18918919],\n",
              "       [0.35294118, 0.64705882],\n",
              "       [1.        , 0.        ],\n",
              "       [0.        , 1.        ],\n",
              "       [0.68253968, 0.31746032],\n",
              "       [1.        , 0.        ],\n",
              "       [1.        , 0.        ],\n",
              "       [0.86885246, 0.13114754],\n",
              "       [1.        , 0.        ],\n",
              "       [0.58375635, 0.41624365],\n",
              "       [0.125     , 0.875     ],\n",
              "       [0.7183908 , 0.2816092 ],\n",
              "       [0.90229885, 0.09770115],\n",
              "       [0.        , 1.        ],\n",
              "       [0.17391304, 0.82608696],\n",
              "       [0.89411765, 0.10588235],\n",
              "       [1.        , 0.        ],\n",
              "       [0.        , 1.        ],\n",
              "       [1.        , 0.        ],\n",
              "       [0.        , 1.        ],\n",
              "       [0.07567568, 0.92432432],\n",
              "       [0.06666667, 0.93333333],\n",
              "       [0.37435897, 0.62564103],\n",
              "       [1.        , 0.        ],\n",
              "       [0.00578035, 0.99421965],\n",
              "       [0.8547486 , 0.1452514 ],\n",
              "       [0.00529101, 0.99470899],\n",
              "       [0.        , 1.        ],\n",
              "       [0.        , 1.        ],\n",
              "       [0.29381443, 0.70618557],\n",
              "       [1.        , 0.        ],\n",
              "       [0.        , 1.        ],\n",
              "       [0.00966184, 0.99033816],\n",
              "       [0.00531915, 0.99468085],\n",
              "       [0.89371981, 0.10628019],\n",
              "       [0.7704918 , 0.2295082 ],\n",
              "       [0.01058201, 0.98941799],\n",
              "       [1.        , 0.        ],\n",
              "       [0.30366492, 0.69633508],\n",
              "       [0.64606742, 0.35393258],\n",
              "       [0.        , 1.        ],\n",
              "       [0.02272727, 0.97727273],\n",
              "       [0.48587571, 0.51412429],\n",
              "       [0.99435028, 0.00564972],\n",
              "       [0.00581395, 0.99418605],\n",
              "       [1.        , 0.        ],\n",
              "       [0.28342246, 0.71657754],\n",
              "       [0.465     , 0.535     ],\n",
              "       [1.        , 0.        ],\n",
              "       [0.02747253, 0.97252747],\n",
              "       [0.98918919, 0.01081081],\n",
              "       [0.2826087 , 0.7173913 ],\n",
              "       [0.93956044, 0.06043956],\n",
              "       [1.        , 0.        ],\n",
              "       [1.        , 0.        ],\n",
              "       [0.        , 1.        ],\n",
              "       [0.        , 1.        ],\n",
              "       [0.77380952, 0.22619048],\n",
              "       [1.        , 0.        ],\n",
              "       [0.01098901, 0.98901099],\n",
              "       [1.        , 0.        ],\n",
              "       [1.        , 0.        ],\n",
              "       [1.        , 0.        ],\n",
              "       [0.98378378, 0.01621622],\n",
              "       [1.        , 0.        ],\n",
              "       [0.        , 1.        ],\n",
              "       [0.93650794, 0.06349206],\n",
              "       [1.        , 0.        ],\n",
              "       [0.        , 1.        ],\n",
              "       [0.23295455, 0.76704545],\n",
              "       [0.97837838, 0.02162162],\n",
              "       [0.36312849, 0.63687151],\n",
              "       [1.        , 0.        ],\n",
              "       [0.        , 1.        ],\n",
              "       [0.        , 1.        ],\n",
              "       [0.68131868, 0.31868132],\n",
              "       [0.35714286, 0.64285714],\n",
              "       [0.41304348, 0.58695652],\n",
              "       [0.86885246, 0.13114754],\n",
              "       [0.94652406, 0.05347594],\n",
              "       [0.05978261, 0.94021739],\n",
              "       [0.81052632, 0.18947368],\n",
              "       [0.005     , 0.995     ],\n",
              "       [0.        , 1.        ],\n",
              "       [0.01685393, 0.98314607],\n",
              "       [0.99421965, 0.00578035],\n",
              "       [0.98876404, 0.01123596],\n",
              "       [1.        , 0.        ],\n",
              "       [0.00520833, 0.99479167],\n",
              "       [0.        , 1.        ],\n",
              "       [0.01169591, 0.98830409],\n",
              "       [0.        , 1.        ],\n",
              "       [1.        , 0.        ],\n",
              "       [1.        , 0.        ],\n",
              "       [0.95628415, 0.04371585],\n",
              "       [1.        , 0.        ],\n",
              "       [1.        , 0.        ],\n",
              "       [1.        , 0.        ],\n",
              "       [0.        , 1.        ],\n",
              "       [0.42473118, 0.57526882],\n",
              "       [0.22807018, 0.77192982],\n",
              "       [0.        , 1.        ],\n",
              "       [0.        , 1.        ],\n",
              "       [0.38265306, 0.61734694],\n",
              "       [1.        , 0.        ],\n",
              "       [1.        , 0.        ],\n",
              "       [0.        , 1.        ],\n",
              "       [1.        , 0.        ],\n",
              "       [0.0049505 , 0.9950495 ],\n",
              "       [0.        , 1.        ],\n",
              "       [0.96428571, 0.03571429],\n",
              "       [0.        , 1.        ],\n",
              "       [0.        , 1.        ],\n",
              "       [1.        , 0.        ],\n",
              "       [0.        , 1.        ],\n",
              "       [0.56424581, 0.43575419],\n",
              "       [0.93063584, 0.06936416],\n",
              "       [0.        , 1.        ],\n",
              "       [1.        , 0.        ],\n",
              "       [1.        , 0.        ],\n",
              "       [1.        , 0.        ],\n",
              "       [0.        , 1.        ],\n",
              "       [0.        , 1.        ],\n",
              "       [1.        , 0.        ],\n",
              "       [0.11049724, 0.88950276],\n",
              "       [1.        , 0.        ],\n",
              "       [0.02247191, 0.97752809],\n",
              "       [0.        , 1.        ],\n",
              "       [1.        , 0.        ],\n",
              "       [0.        , 1.        ],\n",
              "       [0.05027933, 0.94972067],\n",
              "       [1.        , 0.        ],\n",
              "       [0.94086022, 0.05913978],\n",
              "       [0.74736842, 0.25263158],\n",
              "       [0.625     , 0.375     ],\n",
              "       [0.        , 1.        ],\n",
              "       [0.19277108, 0.80722892],\n",
              "       [1.        , 0.        ],\n",
              "       [0.9494382 , 0.0505618 ],\n",
              "       [0.98412698, 0.01587302],\n",
              "       [1.        , 0.        ],\n",
              "       [0.01098901, 0.98901099],\n",
              "       [0.        , 1.        ],\n",
              "       [0.45876289, 0.54123711],\n",
              "       [0.83589744, 0.16410256],\n",
              "       [0.        , 1.        ],\n",
              "       [0.        , 1.        ],\n",
              "       [1.        , 0.        ],\n",
              "       [0.00549451, 0.99450549],\n",
              "       [0.        , 1.        ],\n",
              "       [0.98314607, 0.01685393],\n",
              "       [0.        , 1.        ],\n",
              "       [0.32804233, 0.67195767],\n",
              "       [0.        , 1.        ],\n",
              "       [1.        , 0.        ],\n",
              "       [0.        , 1.        ],\n",
              "       [0.        , 1.        ],\n",
              "       [0.97237569, 0.02762431],\n",
              "       [0.8121547 , 0.1878453 ],\n",
              "       [1.        , 0.        ],\n",
              "       [0.00529101, 0.99470899],\n",
              "       [0.08522727, 0.91477273],\n",
              "       [1.        , 0.        ],\n",
              "       [0.0273224 , 0.9726776 ],\n",
              "       [0.        , 1.        ],\n",
              "       [0.06060606, 0.93939394],\n",
              "       [0.99415205, 0.00584795],\n",
              "       [0.77386935, 0.22613065],\n",
              "       [0.        , 1.        ],\n",
              "       [0.9       , 0.1       ],\n",
              "       [0.99415205, 0.00584795],\n",
              "       [0.21348315, 0.78651685],\n",
              "       [0.18421053, 0.81578947],\n",
              "       [1.        , 0.        ],\n",
              "       [0.        , 1.        ],\n",
              "       [0.        , 1.        ],\n",
              "       [0.00574713, 0.99425287],\n",
              "       [0.16091954, 0.83908046],\n",
              "       [0.97660819, 0.02339181],\n",
              "       [0.        , 1.        ],\n",
              "       [1.        , 0.        ],\n",
              "       [0.99428571, 0.00571429],\n",
              "       [0.        , 1.        ],\n",
              "       [0.4973262 , 0.5026738 ],\n",
              "       [1.        , 0.        ],\n",
              "       [0.        , 1.        ],\n",
              "       [1.        , 0.        ],\n",
              "       [0.01098901, 0.98901099],\n",
              "       [0.        , 1.        ],\n",
              "       [0.1030303 , 0.8969697 ],\n",
              "       [0.11      , 0.89      ],\n",
              "       [0.99428571, 0.00571429],\n",
              "       [0.0106383 , 0.9893617 ],\n",
              "       [1.        , 0.        ],\n",
              "       [0.32926829, 0.67073171],\n",
              "       [0.1097561 , 0.8902439 ],\n",
              "       [0.5625    , 0.4375    ],\n",
              "       [0.61585366, 0.38414634],\n",
              "       [0.        , 1.        ],\n",
              "       [1.        , 0.        ],\n",
              "       [0.        , 1.        ],\n",
              "       [0.        , 1.        ],\n",
              "       [0.5698324 , 0.4301676 ],\n",
              "       [0.        , 1.        ],\n",
              "       [1.        , 0.        ],\n",
              "       [0.19886364, 0.80113636],\n",
              "       [0.84357542, 0.15642458],\n",
              "       [0.08235294, 0.91764706],\n",
              "       [1.        , 0.        ],\n",
              "       [0.80434783, 0.19565217],\n",
              "       [0.        , 1.        ],\n",
              "       [0.01648352, 0.98351648],\n",
              "       [0.11979167, 0.88020833],\n",
              "       [0.02688172, 0.97311828],\n",
              "       [0.        , 1.        ],\n",
              "       [1.        , 0.        ],\n",
              "       [0.92222222, 0.07777778],\n",
              "       [0.2       , 0.8       ],\n",
              "       [0.93220339, 0.06779661],\n",
              "       [0.01104972, 0.98895028],\n",
              "       [0.60606061, 0.39393939],\n",
              "       [0.07179487, 0.92820513],\n",
              "       [0.99450549, 0.00549451],\n",
              "       [0.79888268, 0.20111732],\n",
              "       [0.        , 1.        ],\n",
              "       [1.        , 0.        ],\n",
              "       [0.93298969, 0.06701031],\n",
              "       [0.        , 1.        ],\n",
              "       [0.        , 1.        ],\n",
              "       [1.        , 0.        ],\n",
              "       [0.        , 1.        ],\n",
              "       [1.        , 0.        ],\n",
              "       [0.3025641 , 0.6974359 ],\n",
              "       [1.        , 0.        ],\n",
              "       [1.        , 0.        ],\n",
              "       [0.        , 1.        ],\n",
              "       [0.        , 1.        ],\n",
              "       [0.88023952, 0.11976048],\n",
              "       [0.        , 1.        ],\n",
              "       [1.        , 0.        ],\n",
              "       [0.8121547 , 0.1878453 ],\n",
              "       [0.96891192, 0.03108808],\n",
              "       [1.        , 0.        ],\n",
              "       [0.74226804, 0.25773196],\n",
              "       [0.58767773, 0.41232227],\n",
              "       [0.        , 1.        ],\n",
              "       [0.92268041, 0.07731959],\n",
              "       [0.00543478, 0.99456522],\n",
              "       [1.        , 0.        ],\n",
              "       [0.86057692, 0.13942308],\n",
              "       [1.        , 0.        ],\n",
              "       [1.        , 0.        ],\n",
              "       [0.75879397, 0.24120603],\n",
              "       [0.13227513, 0.86772487],\n",
              "       [0.54545455, 0.45454545],\n",
              "       [0.25628141, 0.74371859],\n",
              "       [0.        , 1.        ],\n",
              "       [0.85      , 0.15      ],\n",
              "       [0.8556701 , 0.1443299 ],\n",
              "       [0.00578035, 0.99421965],\n",
              "       [1.        , 0.        ],\n",
              "       [1.        , 0.        ],\n",
              "       [1.        , 0.        ],\n",
              "       [0.        , 1.        ],\n",
              "       [0.01111111, 0.98888889],\n",
              "       [0.95675676, 0.04324324],\n",
              "       [0.93548387, 0.06451613],\n",
              "       [1.        , 0.        ],\n",
              "       [0.56862745, 0.43137255],\n",
              "       [1.        , 0.        ],\n",
              "       [0.        , 1.        ],\n",
              "       [0.99444444, 0.00555556],\n",
              "       [0.01176471, 0.98823529],\n",
              "       [1.        , 0.        ],\n",
              "       [1.        , 0.        ],\n",
              "       [1.        , 0.        ],\n",
              "       [0.        , 1.        ],\n",
              "       [0.95530726, 0.04469274],\n",
              "       [0.        , 1.        ],\n",
              "       [0.10326087, 0.89673913],\n",
              "       [0.        , 1.        ],\n",
              "       [0.        , 1.        ],\n",
              "       [1.        , 0.        ],\n",
              "       [1.        , 0.        ],\n",
              "       [0.        , 1.        ],\n",
              "       [1.        , 0.        ],\n",
              "       [0.01554404, 0.98445596],\n",
              "       [1.        , 0.        ],\n",
              "       [0.12690355, 0.87309645],\n",
              "       [0.        , 1.        ],\n",
              "       [0.01092896, 0.98907104],\n",
              "       [0.        , 1.        ],\n",
              "       [0.40932642, 0.59067358],\n",
              "       [0.06629834, 0.93370166],\n",
              "       [0.24431818, 0.75568182],\n",
              "       [1.        , 0.        ],\n",
              "       [1.        , 0.        ],\n",
              "       [0.25      , 0.75      ],\n",
              "       [1.        , 0.        ],\n",
              "       [0.        , 1.        ],\n",
              "       [0.        , 1.        ],\n",
              "       [1.        , 0.        ],\n",
              "       [0.95939086, 0.04060914],\n",
              "       [0.30569948, 0.69430052],\n",
              "       [0.99438202, 0.00561798],\n",
              "       [1.        , 0.        ],\n",
              "       [0.        , 1.        ],\n",
              "       [1.        , 0.        ],\n",
              "       [0.01025641, 0.98974359],\n",
              "       [0.06122449, 0.93877551],\n",
              "       [1.        , 0.        ],\n",
              "       [1.        , 0.        ],\n",
              "       [0.01648352, 0.98351648],\n",
              "       [0.68789809, 0.31210191]])"
            ]
          },
          "metadata": {},
          "execution_count": 6
        }
      ]
    },
    {
      "cell_type": "markdown",
      "source": [
        "## **7.3 랜덤 패치와 랜덤 서브 스페이스**\n",
        "- BaggingClassifier는 특성 샘플링도 지원함.\n",
        "    - 샘플링은 `max_features`, `bootstrap_ features` 두 매개변수로 조절됨\n",
        "    - 특히 (이미지와 같은) 매우 고차원의 데이터셋을 다룰 때 유용함\n",
        "- **랜덤 패치 방식**: 훈련 특성과 샘플을 모두 샘플링하는 것\n",
        "- **랜덤 서브스페이스 방식**: 훈련 샘플을 모두 사용하고 특성은 샘플링하는 것"
      ],
      "metadata": {
        "id": "5HGtdSTNUfur"
      }
    },
    {
      "cell_type": "markdown",
      "source": [
        "## **7.4 랜덤 포레스트**\n",
        "- 랜덤 포레스트는 일반적으로 배깅 방법(또는 페이스팅)을 적용한 결정 트리의 앙상블임.\n",
        "    - 전형적으로 `max_samples`를 훈련 세트의 크기로 지정함\n",
        "- 500개의 트리로 이뤄진 랜덤 포레스트 분류기를 여러 CPU 코어에서 훈련시키기"
      ],
      "metadata": {
        "id": "LI9pS-z0UoCk"
      }
    },
    {
      "cell_type": "code",
      "source": [
        "from sklearn.ensemble import RandomForestClassifier\n",
        "\n",
        "rnd_clf = RandomForestClassifier(n_estimators=500, max_leaf_nodes=16, n_jobs=-1)\n",
        "rnd_clf.fit(X_train, y_train)\n",
        "\n",
        "y_pred_rf = rnd_clf.predict(X_test)"
      ],
      "metadata": {
        "id": "vZIyxKEwUeyx"
      },
      "execution_count": 7,
      "outputs": []
    },
    {
      "cell_type": "markdown",
      "source": [
        "- 랜덤 포레스트 알고리즘은 트리의 노드를 분할할 때 전체 특성 중에서 최선의 특성을 찾는 대신 무작위로 선택한 특성 후보 중에서 최적의 특성을 찾는 식으로 무작위성을 더 주입함.\n",
        "- 결국 트리를 더욱 다양하게 만들고 (다시 한번) 편향을 손해보는 대신 분산을 낮추어 전체적으로 더 훌륭한 모델을 만들어냄.\n",
        "- BaggingClassifier를 사용해 앞의 RandomForestClassifier와 거의 유사하게 만들어 보기\n"
      ],
      "metadata": {
        "id": "77DVSNlNeC2a"
      }
    },
    {
      "cell_type": "code",
      "source": [
        "bag_clf = BaggingClassifier(\n",
        "    DecisionTreeClassifier(max_features=\"auto\", max_leaf_nodes=16),\n",
        "    n_estimators=500, max_samples=1.0, bootstrap=True, n_jobs=-1)"
      ],
      "metadata": {
        "id": "bV5Sok-qUxnQ"
      },
      "execution_count": 8,
      "outputs": []
    },
    {
      "cell_type": "markdown",
      "source": [
        "### 7.4.1 엑스트라 트리\n",
        "- 랜덤 포레스트에서 트리를 만들 때 각 노드는 무작위로 특성의 서브 셋을 만들어 분할에 사용함. 트리를 더욱 무작위하게 만들기 위해 최적의 임곗값을 찾는 대신 후보 특성을 사용해 무작위로 분할한 다음 그중에서 최상의 분할을 선택함.\n",
        "- **익스트림 랜덤 트리**(엑스트라 트리): 극단적으로 무작위한 트리의 랜덤 포레스트를 익스트림 랜덤 트리\n",
        "    - 여기서도 역시 편향이 늘어나지만 대신 분산을 낮추게 됨\n",
        "    - 일반적으로 랜덤 포레스트보다 엑스트라 트리가 훨씬 빠름"
      ],
      "metadata": {
        "id": "lc1f5wykU7Og"
      }
    },
    {
      "cell_type": "markdown",
      "source": [
        "### 7.4.2 특성 중요도\n",
        "- 랜덤 포레스트의 또 다른 장점은 특성의 상대적 중요도를 측정하기 쉽다는 것임.\n",
        "- 사이킷런은 어떤 특성을 사용한 노드가 평균적으로 불순도를 얼마나 감소시키는지 확인하여 특성의 중요도를 측정함.\n",
        "    - 가중치 평균이며 각 노드의 가중치는 연관된 훈련 샘플 수와 같음\n",
        "- 사이킷런은 훈련이 끝난 뒤 특성마다 자동으로 이 점수를 계산하고 중요도의 전체 합이 1이 되도록 결괏값을 정규화함.\n",
        "    - 이 값은 `feature_importances_` 변수에 저장되어 있음.\n",
        "- iris 데이터셋에 RandomForestClassifier를 훈련시키고 각 특성의 중요도를 출력하기"
      ],
      "metadata": {
        "id": "TMegThC0U94A"
      }
    },
    {
      "cell_type": "code",
      "source": [
        "from sklearn.datasets import load_iris\n",
        "iris = load_iris()\n",
        "rnd_clf = RandomForestClassifier(n_estimators=500, n_jobs=-1)\n",
        "rnd_clf.fit(iris[\"data\"], iris[\"target\"])\n",
        "for name, score in zip(iris[\"feature_names\"], rnd_clf.feature_importances_):\n",
        "    print(name, score)"
      ],
      "metadata": {
        "colab": {
          "base_uri": "https://localhost:8080/"
        },
        "id": "qmmpw_VLU6rB",
        "outputId": "3a8474a2-ba8d-41a8-ff8c-91c341d52f46"
      },
      "execution_count": 9,
      "outputs": [
        {
          "output_type": "stream",
          "name": "stdout",
          "text": [
            "sepal length (cm) 0.0961030689365781\n",
            "sepal width (cm) 0.02374384597371519\n",
            "petal length (cm) 0.4210926153010735\n",
            "petal width (cm) 0.45906046978863313\n"
          ]
        }
      ]
    },
    {
      "cell_type": "markdown",
      "source": [
        "- 랜덤 포레스트는 특히 특성을 선택해야 할 때 어떤 특성이 중요한지 빠르게 확인할 수 있어 매우 편리함."
      ],
      "metadata": {
        "id": "k_QZe75RfoFT"
      }
    },
    {
      "cell_type": "markdown",
      "source": [
        "## **7.5 부스팅**\n",
        "- **부스팅**(원래는 가설 부스팅): 약한 학습기를 여러 개 연결하여 강한 학습기를 만드는 앙상블 방법\n",
        "- 부스팅 방법의 아이디어는 앞의 모델을 보완해나가면서 일련의 예측기를 학습시키는 것임."
      ],
      "metadata": {
        "id": "cSAh1pcCVHuY"
      }
    },
    {
      "cell_type": "markdown",
      "source": [
        "### 7.5.1 에이다부스트\n",
        "- 이전 예측기를 보완하는 새로운 예측기를 만드는 방법은 이전 모델이 과소적합했던 훈련 샘플의 가중치를 더 높이는 것임.\n",
        "- 이렇게 하면 새로운 예측기는 학습하기 어려운 샘플에 점점 더 맞춰지게 됨."
      ],
      "metadata": {
        "id": "vlSglZOcVLG4"
      }
    },
    {
      "cell_type": "code",
      "source": [
        "from sklearn.ensemble import AdaBoostClassifier\n",
        "\n",
        "ada_clf = AdaBoostClassifier(\n",
        "    DecisionTreeClassifier(max_depth=1), n_estimators=200,\n",
        "    algorithm=\"SAMME.R\", learning_rate=0.5, random_state=42)\n",
        "ada_clf.fit(X_train, y_train)"
      ],
      "metadata": {
        "colab": {
          "base_uri": "https://localhost:8080/"
        },
        "id": "kD62b9evgSrX",
        "outputId": "08218207-985a-4601-e4c4-a29c3b7a7370"
      },
      "execution_count": 10,
      "outputs": [
        {
          "output_type": "execute_result",
          "data": {
            "text/plain": [
              "AdaBoostClassifier(base_estimator=DecisionTreeClassifier(max_depth=1),\n",
              "                   learning_rate=0.5, n_estimators=200, random_state=42)"
            ]
          },
          "metadata": {},
          "execution_count": 10
        }
      ]
    },
    {
      "cell_type": "code",
      "source": [
        "import numpy as np\n",
        "\n",
        "%matplotlib inline\n",
        "import matplotlib as mpl\n",
        "import matplotlib.pyplot as plt\n",
        "mpl.rc('axes', labelsize=14)\n",
        "mpl.rc('xtick', labelsize=12)\n",
        "mpl.rc('ytick', labelsize=12)"
      ],
      "metadata": {
        "id": "JlzdCLvRpIDv"
      },
      "execution_count": 13,
      "outputs": []
    },
    {
      "cell_type": "code",
      "source": [
        "from matplotlib.colors import ListedColormap\n",
        "\n",
        "def plot_decision_boundary(clf, X, y, axes=[-1.5, 2.45, -1, 1.5], alpha=0.5, contour=True):\n",
        "    x1s = np.linspace(axes[0], axes[1], 100)\n",
        "    x2s = np.linspace(axes[2], axes[3], 100)\n",
        "    x1, x2 = np.meshgrid(x1s, x2s)\n",
        "    X_new = np.c_[x1.ravel(), x2.ravel()]\n",
        "    y_pred = clf.predict(X_new).reshape(x1.shape)\n",
        "    custom_cmap = ListedColormap(['#fafab0','#9898ff','#a0faa0'])\n",
        "    plt.contourf(x1, x2, y_pred, alpha=0.3, cmap=custom_cmap)\n",
        "    if contour:\n",
        "        custom_cmap2 = ListedColormap(['#7d7d58','#4c4c7f','#507d50'])\n",
        "        plt.contour(x1, x2, y_pred, cmap=custom_cmap2, alpha=0.8)\n",
        "    plt.plot(X[:, 0][y==0], X[:, 1][y==0], \"yo\", alpha=alpha)\n",
        "    plt.plot(X[:, 0][y==1], X[:, 1][y==1], \"bs\", alpha=alpha)\n",
        "    plt.axis(axes)\n",
        "    plt.xlabel(r\"$x_1$\", fontsize=18)\n",
        "    plt.ylabel(r\"$x_2$\", fontsize=18, rotation=0)"
      ],
      "metadata": {
        "id": "wrohbqwEpSAB"
      },
      "execution_count": 15,
      "outputs": []
    },
    {
      "cell_type": "code",
      "source": [
        "m = len(X_train)\n",
        "\n",
        "fig, axes = plt.subplots(ncols=2, figsize=(10,4), sharey=True)\n",
        "for subplot, learning_rate in ((0, 1), (1, 0.5)):\n",
        "    sample_weights = np.ones(m) / m\n",
        "    plt.sca(axes[subplot])\n",
        "    for i in range(5):\n",
        "        svm_clf = SVC(kernel=\"rbf\", C=0.2, gamma=0.6, random_state=42)\n",
        "        svm_clf.fit(X_train, y_train, sample_weight=sample_weights * m)\n",
        "        y_pred = svm_clf.predict(X_train)\n",
        "        r = sample_weights[y_pred != y_train].sum() / sample_weights.sum() # equation 7-1\n",
        "        alpha = learning_rate * np.log((1 - r) / r) # equation 7-2\n",
        "        sample_weights[y_pred != y_train] *= np.exp(alpha) # equation 7-3\n",
        "        sample_weights /= sample_weights.sum() # normalization step\n",
        "        plot_decision_boundary(svm_clf, X, y, alpha=0.2)\n",
        "        plt.title(\"learning_rate = {}\".format(learning_rate), fontsize=16)\n",
        "    if subplot == 0:\n",
        "        plt.text(-0.7, -0.65, \"1\", fontsize=14)\n",
        "        plt.text(-0.6, -0.10, \"2\", fontsize=14)\n",
        "        plt.text(-0.5,  0.10, \"3\", fontsize=14)\n",
        "        plt.text(-0.4,  0.55, \"4\", fontsize=14)\n",
        "        plt.text(-0.3,  0.90, \"5\", fontsize=14)\n",
        "    else:\n",
        "        plt.ylabel(\"\")\n",
        "\n",
        "plt.show()"
      ],
      "metadata": {
        "colab": {
          "base_uri": "https://localhost:8080/",
          "height": 308
        },
        "id": "-Tb4fUKigcD8",
        "outputId": "90a62dbd-5520-4d75-cdbd-24b873071a99"
      },
      "execution_count": 16,
      "outputs": [
        {
          "output_type": "display_data",
          "data": {
            "text/plain": [
              "<Figure size 720x288 with 2 Axes>"
            ],
            "image/png": "[encoded data removed]"
          },
          "metadata": {
            "needs_background": "light"
          }
        }
      ]
    },
    {
      "cell_type": "markdown",
      "source": [
        "&rarr; moons 데이터셋에 훈련시킨 다섯 개의 연속된 예측기의 결정 경계\n",
        "\n",
        "&rarr; 첫 번째 분류기가 많은 샘플을 잘못 분류해서 이 샘플들의 가중치가 높아짐. 따라서 두 번째 분류기는 이 샘플들을 더 정확히 예측하게 됨.\n",
        "\n",
        "&rarr; 오른쪽 그래프는 학습률을 반으로 낮춘 것만 빼고 똑같은 일련의 예측기를 나타낸 것임. \n",
        "\n",
        "&rarr; 경사 하강법과 비슷한 면이 있음. 경사 하강법은 비용 함수를 최소화하기 위해 한 예측기의 모델 파라미터를 조정해가는 반면 에이다부스트는 점차 더 좋아지도록 앙상블에 예측기를 추가함."
      ],
      "metadata": {
        "id": "XjmjnXGKgisn"
      }
    },
    {
      "cell_type": "markdown",
      "source": [
        "- 모든 예측기가 훈련을 마치면 이 앙상블은 배경이나 페이스팅과 비슷한 방식으로 예측을 만듦. 하지만 가중치가 적용된 훈련 세트의 전반적인 정확도에 따라 예측기마다 다른 가중치가 적용됨.\n",
        "- 에이다부스트 알고리즘은 지정된 예측기 수에 도달하거나 완벽한 예측기가 만들어지면 중지됨.\n",
        "- 예측을 할 때 에이다부스트는 단순히 모든 예측기의 예측을 계산하고 예측기 가중치를 더해 예측 결과를 만듦. 가중치 합이 가장 큰 클래스가 예측 결과가 됨.\n",
        "- 사이킷런은 SAMME라는 에이다부스트의 다중 클래스 버전을 사용함.\n",
        "    - 클래스가 두 개뿐일 때는 SAMME가 에이다부스트와 동일함.\n",
        "    - 예측기가 클래스의 확률을 추정할 수 있다면 사이킷런은 SAMME.R이라는 SAMME의 변종을 사용함.\n",
        "    - 이 알고리즘은 예측값 대신 클래스 확률에 기반하며 일반적으로 성능이 더 좋음.\n",
        "- 사이킷런의 AdaBoostClassifier를 사용하여 200개의 아주 얕은 결정 트리를 기반으로 하는 에이다부스트 분류기를 훈련시키기"
      ],
      "metadata": {
        "id": "FIUZ8RQqhptO"
      }
    },
    {
      "cell_type": "markdown",
      "source": [
        "### 7.5.2 그레이디언트 부스팅\n",
        "- 인기가 높은 또 하나의 부스팅 알고리즘은 **그레이디언트 부스팅**임.\n",
        "- 에이다부스트처럼 그레이디언트 부스팅은 앙상블에 이전까지의 오차를 보정하도록 예측기를 순차적으로 추가함.\n",
        "- 하지만 에이다부스트처럼 반복마다 샘플의 가중치를 수정하는 대신 이전 예측기가 만든 잔여 오차에 새로운 예측기를 학습시킴.\n",
        "\n",
        "*결정 트리를 기반 예측기로 사용하는 간단한 회귀 문제 풀어보기(그레이디언트 트리 부스팅)*\n",
        "- DecisionTreeRegressor를 훈련 세트에 학습시키기"
      ],
      "metadata": {
        "id": "1vUKOIIZVOP9"
      }
    },
    {
      "cell_type": "code",
      "source": [
        "np.random.seed(42)\n",
        "X = np.random.rand(100, 1) - 0.5\n",
        "y = 3*X[:, 0]**2 + 0.05 * np.random.randn(100)"
      ],
      "metadata": {
        "id": "YfLNXumSl4Z8"
      },
      "execution_count": 17,
      "outputs": []
    },
    {
      "cell_type": "code",
      "source": [
        "from sklearn.tree import DecisionTreeRegressor\n",
        "\n",
        "tree_reg1 = DecisionTreeRegressor(max_depth=2)\n",
        "tree_reg1.fit(X, y)"
      ],
      "metadata": {
        "colab": {
          "base_uri": "https://localhost:8080/"
        },
        "id": "a_cTbcRpVGpz",
        "outputId": "9f30acdd-6811-4b50-d6da-d08728b8b3dc"
      },
      "execution_count": 18,
      "outputs": [
        {
          "output_type": "execute_result",
          "data": {
            "text/plain": [
              "DecisionTreeRegressor(max_depth=2)"
            ]
          },
          "metadata": {},
          "execution_count": 18
        }
      ]
    },
    {
      "cell_type": "markdown",
      "source": [
        "- 두 번째 예측기가 만든 잔여 오차에 세 번째 회귀 모델을 훈련시키기"
      ],
      "metadata": {
        "id": "M31IBBrxjXG7"
      }
    },
    {
      "cell_type": "code",
      "source": [
        "y2 = y - tree_reg1.predict(X)\n",
        "tree_reg2 = DecisionTreeRegressor(max_depth=2)\n",
        "tree_reg2.fit(X, y2)"
      ],
      "metadata": {
        "colab": {
          "base_uri": "https://localhost:8080/"
        },
        "id": "JzA4ILbPVWC2",
        "outputId": "fb71fad1-74d7-49fb-a8fc-ea39e1047884"
      },
      "execution_count": 19,
      "outputs": [
        {
          "output_type": "execute_result",
          "data": {
            "text/plain": [
              "DecisionTreeRegressor(max_depth=2)"
            ]
          },
          "metadata": {},
          "execution_count": 19
        }
      ]
    },
    {
      "cell_type": "markdown",
      "source": [
        "- 세 개의 트리를 포함하는 앙상블 모델이 생긴 후, 새로운 샘플에 대한 예측을 만들기 위해 모든 트리의 예측을 더하기"
      ],
      "metadata": {
        "id": "kYJ_LfMhji6t"
      }
    },
    {
      "cell_type": "code",
      "source": [
        "y3 = y2 - tree_reg2.predict(X)\n",
        "tree_reg3 = DecisionTreeRegressor(max_depth=2)\n",
        "tree_reg3.fit(X, y3)"
      ],
      "metadata": {
        "colab": {
          "base_uri": "https://localhost:8080/"
        },
        "id": "7A53-no5VaNJ",
        "outputId": "1fa5bd5d-265e-49ae-8934-688c7142568f"
      },
      "execution_count": 20,
      "outputs": [
        {
          "output_type": "execute_result",
          "data": {
            "text/plain": [
              "DecisionTreeRegressor(max_depth=2)"
            ]
          },
          "metadata": {},
          "execution_count": 20
        }
      ]
    },
    {
      "cell_type": "code",
      "source": [
        "X_new = np.array([[0.8]])"
      ],
      "metadata": {
        "id": "klgk3nyVViQo"
      },
      "execution_count": 21,
      "outputs": []
    },
    {
      "cell_type": "code",
      "source": [
        "y_pred = sum(tree.predict(X_new) for tree in (tree_reg1, tree_reg2, tree_reg3))"
      ],
      "metadata": {
        "id": "uCFgSFDkVdj-"
      },
      "execution_count": 22,
      "outputs": []
    },
    {
      "cell_type": "markdown",
      "source": [
        "&rarr; 트리가 앙상블에 추가될수록 앙상블의 예측이 점차 좋아지는 것을 알 수 있음.\n",
        "\n",
        "- 사이킷런의 GradientBoostingRegressor를 사용하여 GBRT 앙상블을 간단하게 훈련시키기"
      ],
      "metadata": {
        "id": "aaInlpQIjvcV"
      }
    },
    {
      "cell_type": "code",
      "source": [
        "from sklearn.ensemble import GradientBoostingRegressor\n",
        "\n",
        "gbrt = GradientBoostingRegressor(max_depth=2, n_estimators=3, learning_rate=1.0)\n",
        "gbrt.fit(X, y)"
      ],
      "metadata": {
        "colab": {
          "base_uri": "https://localhost:8080/"
        },
        "id": "hJJfou9AVf7I",
        "outputId": "d2f57541-7100-4fc9-c9fb-ef504c7b5e2d"
      },
      "execution_count": 23,
      "outputs": [
        {
          "output_type": "execute_result",
          "data": {
            "text/plain": [
              "GradientBoostingRegressor(learning_rate=1.0, max_depth=2, n_estimators=3)"
            ]
          },
          "metadata": {},
          "execution_count": 23
        }
      ]
    },
    {
      "cell_type": "markdown",
      "source": [
        "- `learning_rate` 매개변수가 각 트리의 기여 정도를 조절함.\n",
        "    - 이를 0.1처럼 낮게 설정하면 앙상블을 훈련 세트에 학습시키기 위해 많은 트리가 필요하지만 일반적으로 예측의 성능은 좋아짐. 이는 축소라고 부르는 규제 방법임.\n",
        "- 최적의 트리 수를 찾기 위해서는 조기 종료 기법을 사용할 수 있음.\n",
        "    - 간단하게 구현하려면 `stagged_predict()` 메서드를 사용함\n",
        "    - 이 메서드는 훈련의 각 단계(트리 하나, 트리 두 개 등)에서 앙상블에 의해 만들어진 예측기를 순회하는 반복자를 반환함\n",
        "- 120개의 트리로 GBRT 앙상블을 훈련시키고 최적의 트리 수를 찾기 위해 각 훈련 단계에서 검증 오차를 측정하고 마지막에 최적의 트리 수를 사용해 새로운 GBRT 앙상블을 훈련시키기\n"
      ],
      "metadata": {
        "id": "a9WIhSqxkThQ"
      }
    },
    {
      "cell_type": "code",
      "source": [
        "import numpy as np\n",
        "from sklearn.model_selection import train_test_split\n",
        "from sklearn.metrics import mean_squared_error\n",
        "\n",
        "X_train, X_val, y_train, y_val = train_test_split(X, y)\n",
        "\n",
        "gbrt = GradientBoostingRegressor(max_depth=2, n_estimators=120)\n",
        "gbrt.fit(X_train, y_train)\n",
        "\n",
        "errors = [mean_squared_error(y_val, y_pred)\n",
        "          for y_pred in gbrt.staged_predict(X_val)]\n",
        "bst_n_estimators = np.argmin(errors) + 1\n",
        "\n",
        "gbrt_best = GradientBoostingRegressor(max_depth=2, n_estimators=bst_n_estimators)\n",
        "gbrt_best.fit(X_train, y_train)"
      ],
      "metadata": {
        "colab": {
          "base_uri": "https://localhost:8080/"
        },
        "id": "tXM0IZubV7dg",
        "outputId": "49528944-f0ab-45fc-f4dd-946374485d8c"
      },
      "execution_count": 24,
      "outputs": [
        {
          "output_type": "execute_result",
          "data": {
            "text/plain": [
              "GradientBoostingRegressor(max_depth=2, n_estimators=85)"
            ]
          },
          "metadata": {},
          "execution_count": 24
        }
      ]
    },
    {
      "cell_type": "code",
      "source": [
        "def plot_predictions(regressors, X, y, axes, label=None, style=\"r-\", data_style=\"b.\", data_label=None):\n",
        "    x1 = np.linspace(axes[0], axes[1], 500)\n",
        "    y_pred = sum(regressor.predict(x1.reshape(-1, 1)) for regressor in regressors)\n",
        "    plt.plot(X[:, 0], y, data_style, label=data_label)\n",
        "    plt.plot(x1, y_pred, style, linewidth=2, label=label)\n",
        "    if label or data_label:\n",
        "        plt.legend(loc=\"upper center\", fontsize=16)\n",
        "    plt.axis(axes)"
      ],
      "metadata": {
        "id": "QTlUWRGplVwZ"
      },
      "execution_count": 25,
      "outputs": []
    },
    {
      "cell_type": "code",
      "source": [
        "min_error = np.min(errors)"
      ],
      "metadata": {
        "id": "ThLokCMJlL9d"
      },
      "execution_count": 26,
      "outputs": []
    },
    {
      "cell_type": "code",
      "source": [
        "plt.figure(figsize=(10, 4))\n",
        "\n",
        "plt.subplot(121)\n",
        "plt.plot(np.arange(1, len(errors) + 1), errors, \"b.-\")\n",
        "plt.plot([bst_n_estimators, bst_n_estimators], [0, min_error], \"k--\")\n",
        "plt.plot([0, 120], [min_error, min_error], \"k--\")\n",
        "plt.plot(bst_n_estimators, min_error, \"ko\")\n",
        "plt.text(bst_n_estimators, min_error*1.2, \"Minimum\", ha=\"center\", fontsize=14)\n",
        "plt.axis([0, 120, 0, 0.01])\n",
        "plt.xlabel(\"Number of trees\")\n",
        "plt.ylabel(\"Error\", fontsize=16)\n",
        "plt.title(\"Validation error\", fontsize=14)\n",
        "\n",
        "plt.subplot(122)\n",
        "plot_predictions([gbrt_best], X, y, axes=[-0.5, 0.5, -0.1, 0.8])\n",
        "plt.title(\"Best model (%d trees)\" % bst_n_estimators, fontsize=14)\n",
        "plt.ylabel(\"$y$\", fontsize=16, rotation=0)\n",
        "plt.xlabel(\"$x_1$\", fontsize=16)\n",
        "\n",
        "plt.show()"
      ],
      "metadata": {
        "colab": {
          "base_uri": "https://localhost:8080/",
          "height": 305
        },
        "id": "GKzmPsxllOX1",
        "outputId": "90bf8885-c69c-480c-99e9-7722941a3130"
      },
      "execution_count": 27,
      "outputs": [
        {
          "output_type": "display_data",
          "data": {
            "text/plain": [
              "<Figure size 720x288 with 2 Axes>"
            ],
            "image/png": "[encoded data removed]"
          },
          "metadata": {
            "needs_background": "light"
          }
        }
      ]
    },
    {
      "cell_type": "markdown",
      "source": [
        "- 실제로 훈련을 중지하는 방법으로 조기 종료를 구현할 수도 있음.\n",
        "- 연속해서 다섯 번의 반복 동안 검증 오차가 향상되지 않으면 훈련을 멈추기"
      ],
      "metadata": {
        "id": "rRsyU02-mLRR"
      }
    },
    {
      "cell_type": "code",
      "source": [
        "gbrt = GradientBoostingRegressor(max_depth=2, warm_start=True)\n",
        "\n",
        "min_val_error = float(\"inf\")\n",
        "error_going_up = 0\n",
        "for n_estimators in range(1, 120):\n",
        "    gbrt.n_estimators = n_estimators\n",
        "    gbrt.fit(X_train, y_train)\n",
        "    y_pred = gbrt.predict(X_val)\n",
        "    val_error = mean_squared_error(y_val, y_pred)\n",
        "    if val_error < min_val_error:\n",
        "        min_val_error = val_error\n",
        "        error_going_up = 0\n",
        "    else:\n",
        "        error_going_up += 1\n",
        "        if error_going_up == 5:\n",
        "            break  # 조기 종료"
      ],
      "metadata": {
        "id": "hNTz1iJJWIuN"
      },
      "execution_count": 28,
      "outputs": []
    },
    {
      "cell_type": "markdown",
      "source": [
        "- GradientBoostingRegressor는 각 트리가 훈련할 대 사용할 훈련 샘플의 비율을 지정할 수 있는 subsample 매개변수도 지원함.\n",
        "    - 예를 들어 subsample=0.25라고 하면 각 트리는 무작위로 선택된 25%의 훈련 샘플로 학습되는데, 편향이 높아지는 대신 분산이 낮아지게 되며 훈련 속도를 상당히 높임. 이런 기법을 **확률적 그레이디언트 부스팅**이라고 함.\n",
        "- 최적화된 그레이디언트 부스팅 구현으로 XGBoost 파이썬 라이브러리가 유명함."
      ],
      "metadata": {
        "id": "zMN1T6A-mWtK"
      }
    },
    {
      "cell_type": "code",
      "source": [
        "import xgboost\n",
        "\n",
        "xgb_reg = xgboost.XGBRegressor()\n",
        "xgb_reg.fit(X_train, y_train)\n",
        "y_pred = xgb_reg.predict(X_val)"
      ],
      "metadata": {
        "colab": {
          "base_uri": "https://localhost:8080/"
        },
        "id": "BnBjaF-VWO0u",
        "outputId": "39789ba0-5dcd-4cd2-b014-3d4f438c7233"
      },
      "execution_count": 29,
      "outputs": [
        {
          "output_type": "stream",
          "name": "stdout",
          "text": [
            "[07:14:18] WARNING: /workspace/src/objective/regression_obj.cu:152: reg:linear is now deprecated in favor of reg:squarederror.\n"
          ]
        }
      ]
    },
    {
      "cell_type": "code",
      "source": [
        "xgb_reg.fit(X_train, y_train,\n",
        "            eval_set=[(X_val, y_val)], early_stopping_rounds=2)\n",
        "y_pred = xgb_reg.predict(X_val)"
      ],
      "metadata": {
        "colab": {
          "base_uri": "https://localhost:8080/"
        },
        "id": "Bznh-07YWb1E",
        "outputId": "df169131-0db9-40ee-a14d-dbcfb124a940"
      },
      "execution_count": 30,
      "outputs": [
        {
          "output_type": "stream",
          "name": "stdout",
          "text": [
            "[07:14:18] WARNING: /workspace/src/objective/regression_obj.cu:152: reg:linear is now deprecated in favor of reg:squarederror.\n",
            "[0]\tvalidation_0-rmse:0.275313\n",
            "Will train until validation_0-rmse hasn't improved in 2 rounds.\n",
            "[1]\tvalidation_0-rmse:0.247499\n",
            "[2]\tvalidation_0-rmse:0.222947\n",
            "[3]\tvalidation_0-rmse:0.201049\n",
            "[4]\tvalidation_0-rmse:0.181641\n",
            "[5]\tvalidation_0-rmse:0.166735\n",
            "[6]\tvalidation_0-rmse:0.153621\n",
            "[7]\tvalidation_0-rmse:0.141686\n",
            "[8]\tvalidation_0-rmse:0.131314\n",
            "[9]\tvalidation_0-rmse:0.122047\n",
            "[10]\tvalidation_0-rmse:0.112234\n",
            "[11]\tvalidation_0-rmse:0.10366\n",
            "[12]\tvalidation_0-rmse:0.097232\n",
            "[13]\tvalidation_0-rmse:0.092018\n",
            "[14]\tvalidation_0-rmse:0.087123\n",
            "[15]\tvalidation_0-rmse:0.083105\n",
            "[16]\tvalidation_0-rmse:0.079681\n",
            "[17]\tvalidation_0-rmse:0.076621\n",
            "[18]\tvalidation_0-rmse:0.074141\n",
            "[19]\tvalidation_0-rmse:0.071896\n",
            "[20]\tvalidation_0-rmse:0.070115\n",
            "[21]\tvalidation_0-rmse:0.068281\n",
            "[22]\tvalidation_0-rmse:0.066894\n",
            "[23]\tvalidation_0-rmse:0.065783\n",
            "[24]\tvalidation_0-rmse:0.064704\n",
            "[25]\tvalidation_0-rmse:0.063744\n",
            "[26]\tvalidation_0-rmse:0.062625\n",
            "[27]\tvalidation_0-rmse:0.061978\n",
            "[28]\tvalidation_0-rmse:0.060858\n",
            "[29]\tvalidation_0-rmse:0.059868\n",
            "[30]\tvalidation_0-rmse:0.059202\n",
            "[31]\tvalidation_0-rmse:0.058817\n",
            "[32]\tvalidation_0-rmse:0.058233\n",
            "[33]\tvalidation_0-rmse:0.057706\n",
            "[34]\tvalidation_0-rmse:0.057434\n",
            "[35]\tvalidation_0-rmse:0.056745\n",
            "[36]\tvalidation_0-rmse:0.056413\n",
            "[37]\tvalidation_0-rmse:0.055872\n",
            "[38]\tvalidation_0-rmse:0.055391\n",
            "[39]\tvalidation_0-rmse:0.05512\n",
            "[40]\tvalidation_0-rmse:0.054845\n",
            "[41]\tvalidation_0-rmse:0.054576\n",
            "[42]\tvalidation_0-rmse:0.054318\n",
            "[43]\tvalidation_0-rmse:0.054347\n",
            "[44]\tvalidation_0-rmse:0.054104\n",
            "[45]\tvalidation_0-rmse:0.054106\n",
            "[46]\tvalidation_0-rmse:0.054133\n",
            "Stopping. Best iteration:\n",
            "[44]\tvalidation_0-rmse:0.054104\n",
            "\n"
          ]
        }
      ]
    },
    {
      "cell_type": "markdown",
      "source": [
        "## **7.6 스태킹**\n",
        "- 스태킹은 '앙상블에 속한 모든 예측기의 예측을 취합하는 간단한 함수(직접 투표 같은)를 사용하는 대신 취합하는 모델을 훈련시킬 수 없을까요?'라는 기본 아이디어로 출발함.\n",
        "- 새로운 샘플에 회귀 작업을 수행하는 앙상블\n",
        "    - 세 예측기는 각각 다른 값(3.1, 2.7, 2.9)을 예측하고 마지막 예측기(블렌더 또는 메타 학습기)가 이 예측을 입력으로 받아 최족 예측(3.0)을 만듦.\n",
        "- 블렌더를 학습시키는 일반적인 방법은 홀드 아웃 세트를 사용하는 것임.\n",
        "    - 먼저 훈련 세트를 두 개의 서브셋으로 나눔. 첫 번째 서브셋은 첫 번째 레이어의 예측을 훈련시키기 위해 사용됨.\n",
        "    - 그 다음 첫 번째 레이어의 예측기를 사용해 두 번째 (홀드 아웃) 세트에 대한 예측을 만듦.\n",
        "        - 홀드 아웃 세트의 각 샘플에 대해 세 개의 예측값이 있음.\n",
        "        - 타깃값은 그대로 쓰고 앞에서 예측한 값을 입력 특성으로 사용하는 새로운 훈련 세트를 만들 수 있음.\n",
        "        - 블렌더가 새 훈련 세트로 훈련됨. 즉, 첫 번째 레이어의 예측을 가지고 타깃값을 예측하도록 학습됨.\n",
        "- 블렌더를 여러 개 훈련시키는 것도 가능함.\n",
        "    - 훈련 세트를 세 개의 서브셋으로 나누면, 첫 번째 세트는 첫 번째 레이어를 훈련시키는 데 사용되고 두 번째 세트는 (첫 번째 레이어의 예측기로) 두 번째 레이어를 훈련시키기 위한 훈련 세트를 만드는 데 사용됨. 그리고 세 번째 세트는 (두 번째 레이어의 예측기로) 세 번째 레이어를 훈련시키기 위한 훈련 세트를 만드는 데 사용됨.\n",
        "    - 각 레이어를 차례대로 실행해서 새로운 샘플에 대한 예측을 만들 수 있음.\n",
        "- 사이킷런은 스태킹을 직접 지원하지는 않음."
      ],
      "metadata": {
        "id": "5KFTnaGiWivU"
      }
    }
  ]
}