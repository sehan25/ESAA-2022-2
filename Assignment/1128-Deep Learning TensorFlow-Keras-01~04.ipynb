{
  "nbformat": 4,
  "nbformat_minor": 0,
  "metadata": {
    "colab": {
      "provenance": [],
      "toc_visible": true,
      "authorship_tag": "ABX9TyOFfjejKl79Hfr3XX5cxShQ",
      "include_colab_link": true
    },
    "kernelspec": {
      "name": "python3",
      "display_name": "Python 3"
    },
    "language_info": {
      "name": "python"
    }
  },
  "cells": [
    {
      "cell_type": "markdown",
      "metadata": {
        "id": "view-in-github",
        "colab_type": "text"
      },
      "source": [
        "<a href=\"https://colab.research.google.com/github/sehan25/ESAA-2022-2/blob/main/Assignment/1128-Deep%20Learning%20TensorFlow-Keras-01~04.ipynb\" target=\"_parent\"><img src=\"https://colab.research.google.com/assets/colab-badge.svg\" alt=\"Open In Colab\"/></a>"
      ]
    },
    {
      "cell_type": "markdown",
      "source": [
        "# **PART 03. 케라스(Keras)**"
      ],
      "metadata": {
        "id": "fwv1gaWegLEx"
      }
    },
    {
      "cell_type": "markdown",
      "source": [
        "## **01. 딥러닝 준비**"
      ],
      "metadata": {
        "id": "GXz1GJmMgYjX"
      }
    },
    {
      "cell_type": "markdown",
      "source": [
        "### 1-1 주요 용어"
      ],
      "metadata": {
        "id": "WLJx51J3gcU7"
      }
    },
    {
      "cell_type": "markdown",
      "source": [
        "#### 1-1-1 하이퍼 파리미터(hyper-parameter)\n",
        ": 사용자가 직접 설정해야 하는 값  \n",
        "- 사용자가 어떠한 값을 설정하느냐에 따라 모델의 성능 및 결과가 달라지기 때문에 매우 중요하다."
      ],
      "metadata": {
        "id": "BvfemQfQgmP_"
      }
    },
    {
      "cell_type": "markdown",
      "source": [
        "#### 1-1-2 과소적합 vs. 과대적합(undefitting vs. overfitting)\n",
        "- 과소적합: 모델이 충분히 학습되지 않은 경우에 예측 성능이 떨어지는 상태\n",
        "- 과대적합: 학습 데이터를 지나치게 반복 학습하게 되어 과하게 적합된 상태\n",
        "- 모델을 학습시킬 때는 과소적합과 과대적합 문제를 최소화하면서 정확도를 가장 높일 수 있도록 해야 한다.\n",
        "- 훈련 데이터를 잘 구성하는 것도 물론 중요하다.\n",
        "    - 예측 데이터와 분포가 동일하게 구성해야 하며 불필요한 노이즈는 데이터 분석 및 전처리를 통해 해소해야 한다.\n",
        "- 훈련 데이터의 일부를 검증 데이터로 활용하여 검증 성능이 가장 좋은 구간을 모델의 가장 이상적으로 학습된 지점이라 판단하는 방법으로 최종 모델을 결정한다.\n"
      ],
      "metadata": {
        "id": "-bNmrGFojahH"
      }
    },
    {
      "cell_type": "markdown",
      "source": [
        "#### 1-1-3 에포크(epoch)\n",
        "- 딥러닝은 데이터셋을 학습하는 과정을 여러 번 반복(iteration)하면서 최적의 모델 가중치를 찾는 과정이다.\n",
        "- 딥러닝 모델이 반복 훈련을 할 때 데이터셋을 전부 학습에 사용하는 1회의 훈련 루프(loop)를 1 epoch라고 하며, '에포크'라고 읽는다."
      ],
      "metadata": {
        "id": "PnRsKiZYlT4Y"
      }
    },
    {
      "cell_type": "markdown",
      "source": [
        "#### 1-1-4 손실함수(loss function)\n",
        "- 쉽게  '예측 값과 정답 값의 차이 또는 오차(Error)'라고 말할 수 있다.\n",
        "- 딥러닝 모델에 적용하는 손실함수는 사용자가 정의해야 한다.\n",
        "    - 분류\n",
        "        - 이진 분류(binary classification), 출력층의 활성화 함수(activation fucntion)가 'sigmoid'인 경우 - binary_crossentropy\n",
        "        - 다중 분류(multi-class classification), 대상이 되는 클래스가 원핫 벡터인 경우 - categorical_crossentropy\n",
        "        - 정답 클래스가 원핫 인코딩이 아닌 레이블 값으로 표현되어 서로 다른 숫자로 구분된 경우 - sparse_categorical_crossentropy\n",
        "    - 회귀\n",
        "        - 평균제곱오차(Mean Squared Error), 평균절대값오차(Mean Absolute Error), 후버(Huber) 등이 사용된다.\n",
        "- 다음과 같이, 클래스 및 함수 형태로 정의되어 있는 손실함수 지정하여 사용\n",
        "    ```\n",
        "    import tensorflow as tf\n",
        "\n",
        "    # 클래스\n",
        "    tf.keras.losses.BinaryCrossentropy()\n",
        "\n",
        "    # 함수\n",
        "    tf.keras.losses.binary_crossentropy\n",
        "    ```\n",
        "\n",
        "\n"
      ],
      "metadata": {
        "id": "gCZnYSTnltGh"
      }
    },
    {
      "cell_type": "markdown",
      "source": [
        "#### 1-1-5 경사하강법(gradient descent)\n",
        "-: 딥러닝 모델을 훈련할 때, 모델 내부의 가중치(weight)에 대한 미분값을 구하고 목적 함수 값이 낮아지는 방향으로 차감하면서 결국 최소 함수 값을 갖도록 하는 방법\n",
        "- 딥러닝 훈련 프로세스에서 경사하강법 알고리즘을 적용하여 손실함수 값을 최소로 만드는 가중치를 찾을 수 있다.\n",
        "\n",
        "*경사하강법을 넘파이로 직접 구현해 보기*\n",
        "- 손실함수 혹은 목적 함수 다음과 같이 정의한다.\n",
        "$$ Loss = \\frac{1}{2} ∑(y - y ̂)^2 $$\n",
        "    - 1/2: 가중치에 대한 그래디언트(gradient)를 계산하기 쉽도록 추가된 상수 값\n",
        "- 다음과 단순 선형회귀 수식이 주어졌을 때, 손실함수를 최소로 하는 w와 b를 구하는 과정을 경사하강법으로 구현한다.\n",
        "$$ y = wx + b$$\n",
        "- 샘플 데이터셋을 생성하는 함수를 정의하고 임의의 w와 b 값을 지정하여 주어진 x에 대한 y 값을 생성한다. y 값을 생성할 때 약간의 노이즈도 추가한다."
      ],
      "metadata": {
        "id": "m83578ywquz0"
      }
    },
    {
      "cell_type": "code",
      "execution_count": 1,
      "metadata": {
        "colab": {
          "base_uri": "https://localhost:8080/",
          "height": 446
        },
        "id": "_V4I-ndXf1ou",
        "outputId": "e790a25f-efba-4ed5-c1bb-e89d457863e5"
      },
      "outputs": [
        {
          "output_type": "display_data",
          "data": {
            "text/plain": [
              "<Figure size 720x504 with 1 Axes>"
            ],
            "image/png": "[encoded data removed]"
          },
          "metadata": {
            "needs_background": "light"
          }
        },
        {
          "output_type": "stream",
          "name": "stdout",
          "text": [
            "w: 0.3, b: 0.5\n"
          ]
        }
      ],
      "source": [
        "import numpy as np\n",
        "import matplotlib.pyplot as plt\n",
        "\n",
        "# 샘플에 활용할 데이터셋 만들기\n",
        "def make_linear(w=0.5, b=0.8, size=50, noise=1.0):\n",
        "    x = np.random.rand(size)\n",
        "    y = w * x + b\n",
        "    noise = np.random.uniform(-abs(noise), abs(noise), size=y.shape)\n",
        "    yy = y + noise\n",
        "    plt.figure(figsize=(10,7))\n",
        "    plt.plot(x, y, color='r', label=f'y = {w}*x + {b}')\n",
        "    plt.scatter(x, yy, label='data')\n",
        "    plt.legend(fontsize=20)\n",
        "    plt.show()\n",
        "    print(f'w: {w}, b: {b}')\n",
        "    return x, yy\n",
        "\n",
        "x, y = make_linear(w=0.3, b=0.5, size=100, noise=0.01)"
      ]
    },
    {
      "cell_type": "markdown",
      "source": [
        "- 경사하강법 알고리즘의 핵심인 w, b에 대한 그래디언트를 구하는 부분만 구현하면 된다.\n",
        "    -  그래디언트는 손실함수를 w, b에 대한 각각의 편미분 값을 구한 뒤 학습률 계수를 곱하여 이전의 w, b로부터 차감한다.\n",
        "-   - 가설함수를 $\\hat{y} = wx + b$로 정의\n",
        "    - 손실함수는 $\\frac{1}{2}\\sum_{i}(y-\\hat{y})^2$\n",
        "    - a는 학습률(learning rate)을 의미\n",
        "- 그래디언트 업데이트 최종 수식\n",
        "    - $w - a\\sum_{i}(y-\\hat{y})(x)$\n",
        "    - $b - a\\sum_{i}(y-\\hat{y})$\n",
        "- 넘파이로 최적화하는 과정 구현해 본다.\n",
        "    - 최대 반복 횟수 지정하고 오차가 0.005 이내로 수렴하면 반복문 종료한다."
      ],
      "metadata": {
        "id": "mxg_HALesdZ1"
      }
    },
    {
      "cell_type": "code",
      "source": [
        "# 최대 반복 횟수\n",
        "num_epoch = 1000\n",
        "\n",
        "# 학습율 (learning_rate)\n",
        "learning_rate = 0.005\n",
        "\n",
        "# 에러 기록\n",
        "errors = []\n",
        "\n",
        "# random 한 값으로 w, b를 초기화\n",
        "w = np.random.uniform(low=0.0, high=1.0)\n",
        "b = np.random.uniform(low=0.0, high=1.0)\n",
        "\n",
        "for epoch in range(num_epoch):\n",
        "    # Hypothesis 정의\n",
        "    y_hat = w * x + b\n",
        "    \n",
        "    # Loss Function 정의\n",
        "    error = 0.5*((y_hat - y) ** 2).sum()\n",
        "    if error < 0.005:\n",
        "        break\n",
        "    # Gradient 미분 계산\n",
        "    w = w - learning_rate * ((y_hat - y) * x).sum()\n",
        "    b = b - learning_rate * (y_hat - y).sum()\n",
        "    \n",
        "    errors.append(error)\n",
        "\n",
        "    if epoch % 5 == 0:\n",
        "        print(\"{0:2} w = {1:.5f}, b = {2:.5f} error = {3:.5f}\".format(epoch, w, b, error))\n",
        "    \n",
        "print(\"----\" * 15)\n",
        "print(\"{0:2} w = {1:.1f}, b = {2:.1f} error = {3:.5f}\".format(epoch, w, b, error))"
      ],
      "metadata": {
        "colab": {
          "base_uri": "https://localhost:8080/"
        },
        "id": "99f864RBscDG",
        "outputId": "c877793a-2ad3-4f37-cedc-9f640a6fd788"
      },
      "execution_count": 2,
      "outputs": [
        {
          "output_type": "stream",
          "name": "stdout",
          "text": [
            " 0 w = 0.21775, b = 0.59071 error = 0.87790\n",
            " 5 w = 0.21364, b = 0.54455 error = 0.03512\n",
            "10 w = 0.22673, b = 0.53743 error = 0.02574\n",
            "15 w = 0.23796, b = 0.53162 error = 0.01900\n",
            "20 w = 0.24750, b = 0.52669 error = 0.01415\n",
            "25 w = 0.25559, b = 0.52251 error = 0.01065\n",
            "30 w = 0.26247, b = 0.51895 error = 0.00813\n",
            "35 w = 0.26830, b = 0.51594 error = 0.00631\n",
            "40 w = 0.27326, b = 0.51338 error = 0.00500\n",
            "------------------------------------------------------------\n",
            "41 w = 0.3, b = 0.5 error = 0.00479\n"
          ]
        }
      ]
    },
    {
      "cell_type": "code",
      "source": [
        "plt.figure(figsize=(10,7))\n",
        "plt.plot(errors)\n",
        "plt.xlabel('Epochs')\n",
        "plt.ylabel('Error')\n",
        "plt.show()"
      ],
      "metadata": {
        "colab": {
          "base_uri": "https://localhost:8080/",
          "height": 442
        },
        "id": "FkiJKtUIumuv",
        "outputId": "ddd54b4c-8ac6-406e-c65d-1b964c3937da"
      },
      "execution_count": 3,
      "outputs": [
        {
          "output_type": "display_data",
          "data": {
            "text/plain": [
              "<Figure size 720x504 with 1 Axes>"
            ],
            "image/png": "[encoded data removed]"
          },
          "metadata": {
            "needs_background": "light"
          }
        }
      ]
    },
    {
      "cell_type": "markdown",
      "source": [
        "- 종료 후 w, b 계수를 확인하면 샘플 데이터셋 생성할 때 설정한 w, b 계수와 비슷한 값이다."
      ],
      "metadata": {
        "id": "aLDmbnJZu-G6"
      }
    },
    {
      "cell_type": "markdown",
      "source": [
        "### 1-2 딥러닝 프로세스"
      ],
      "metadata": {
        "id": "RHjs_QCcu4bj"
      }
    },
    {
      "cell_type": "markdown",
      "source": [
        "![image.png](data:image/png;base64,iVBORw0KGgoAAAANSUhEUgAAAnsAAADFCAYAAAAsazS7AAAAAXNSR0IArs4c6QAAAARnQU1BAACxjwv8YQUAAAAJcEhZcwAAEnQAABJ0Ad5mH3gAALXWSURBVHhe7H0FYJ7V+f35NG5tmtTdS40KTltadLABg7GNAbP/GNsYMqbM95sCE2ZM2IDhPmxokZa6u3ubNm1cP/+fc9/vbdI2qdA0Kck97c336pXnPvc+5+rrSRCwsLCwsGhzqDr2eDz7fw8Ht+pu7rkP4peLpp5v/Mzx+Ofec+PWGEfy94PgWOJtYdFeYcmehYWFxUmAWCx2ADHx+/3Jo0Oh5+LxePLMgc/nSx45kH8u9Pzh/HOfdf0NBAIHECNd0z3XKSyv15u8eyjkn5z7TOOw3TDkv/uMrjX+bUlSFo1Gk0cO2Wtp/y0sPgxovrRaWFhYWLQaXAIiMuISn8PBJS6C+3swXD+PRG503/VPRO/gsN1zPSOidzT+ieC5aWkMN5ym/DxSmj8IFJYbhoVFR4UlexYWFhYnAdzeLv3KHQkiRuoZ0ztuz5wL1y8947ojwQ23uWfd68cSt6bC1rl62/QrQuiGK4iYHZyW44WbJoUpmVhYdERYsmdhYWHRCthPfPRfxyIhSSKiXy+JyLZt21BWVpZ8o+Gdg50IzKpVq/YTmYOJnXsu4rRu3br95Ko5V1xcbJwbpvvrOpck1dTUYNOmTfvDbeyExvHZunUrysvLzXWh8XNuj5/it3v3bhO27uncDUvn9fX1qK6uRlVV1QFO12pra80zCjMUCu33X64xFF+9o569g+9ZWHQU2Dl7FhYWFq2ABIlMLMrqNp7A8y88j6XLl/FiHKNGjcHll30U3qAf9/7xXowYMQJTp041JEbkavXq1QgGgxgyZAjS0tIMYYlEIvjKV76CP/3pT4bI6VzXRaD0npCZmWmuf+c738Gdd96JjIyM/c+5hErIzs7Giy++aML6zGc+g3A4jKKiouRdh8ClpKSgW7duhjg++uij+OEPf2jCEhlzTYj81LPp6enm+Fe/+pVJx8SJEw2ZcwmZ7sl16dLF9Ow9/vjjJq6XXXaZ8VP3lCYdP/jgg5g3b54J34X8EHHr06cPbrrpJuzduxePPPIIvv71rxs5uX64+MY3voFrrrkG48eP3/+uhUVHgyV7FhYWFq2ARDSGeCxBrpfAls2bsW9fCY+jyO9SgP79+8Pr9+Luu+8m+RuFCy64wPSK/fKXv0RqaqrpxcrJyTHERWRK51/60pfw97//HdOnT8eMGTP2L6pQ75hI1+c//3l0794dt912G3784x+bZxYvXmyIk+7rOVX/N998M2bOnGn8vP76603P4r///W9DzvRcaWkp6urq8Ne//hVr167FAw88gF/84hfmXZE+/brDsXv27MEf//hHQ7p+/vOfY9q0aZgwYQJ++tOfmt64vLw8IwvF4brrrkPXrl3x0EMPGbJ35ZVX7ierImSK389+9jOMGTMGY8eONe+50D0RXxFG9SD+6Ec/wt/+9jfjr+LSmOwpfddee62Jh2DJnkVHhB3GtbCwsGgFxETytm7G93/4fdz39/vwzDNP4/nnnsff7/sbfvyDH2LTxo2G7Ig8ifC89dZbptfte9/7niFL6sFyh27d5/Q7ZcoUQ5quuOIKfPvb38bQoUNx2mmnGQKpZ1wCeOmll5p3RejU26d3LrnkEhQWFiZj6BAhETIRRD2jsG+44Yb9/rhO/gglJSW48cYbcccdd+BrX/uaIYa67/auyQnqLVS48k9xvP3221FQUGDuCQrXfV7HjefXPf/884ZAuu7ee+/Fn//8Z8rvGXPflYOe1+/B0H0Li44OS/YsLCwsWgPkHIVdu+G6a6/D5z77eXziU9fgE9d8Ap/7wudw3Q3XG/IlkPLA6/Fi0cKFZgg0GAgiLTUVk86dhDVr1iBO4ia/9JwITnpaOqoqqwwBS0tNQ3lZmSFXIoc7duxAJBwx8wF1r2jXLvOOesWK9xTD5/UZ5yfBqqyowM7tO/b3+GkeocIS8TLzDOP6w/+8p+vxmDPPUMPDmRmZyMrMcgganyH1Sv5z0i2/KisrsW/fPtNzWKGwGLfZs2Zhy6bNTrr5rtLgEkmFI+KnHr+v33yzGaZ13S1fvwUf//jH9ZB5Vr8xxlNxra2pMWnXXL09u3c7cbKw6OCwZM/CwsKiFaBep7SUNPTu3Rvz583Fk48/jiefehJz5841w60ibVESs8cefRS/u+e32LJ5C7p0yjekB+Q/+Z06o6K8HN6EBz46j0hXJMpfjxm+jIYivO4l2alDwO/Hf//7X/zz7/9ACQmWJ04CyeeCvgBC9fXmnVB9CGnpaUhEtTAijtkzZ+Hf//gnNqxZh1tvuQXf//738aPv/wAP3f8A8rJzHGJFt3b1Wnzn29/GgvnzDUn0MG4+mhIeOeROpJD+mTTrX9yLcCiERx5+GPfcdQ9+e9dd+Pf9/8LGtevw/owZ2LTZIXtKp4iZnNtDp+Hd1157DfczXkrLv+//N4//Yc5fZPoiJLUiqx7y3x//6Ef4/p13ml7Q3959N/55331YvmTZfn/16zoLi44GS/YsLCwsWgHqrRPpeP3117F9x3YzlHnL129F8Z7d+N+r/yMJgSFj502ejI9f+XF0LShEaXmZIWoe3quqqkQWyY86qmKJOEhb4PX5DXkJJIc+hbraOmRkZOL6a6/H977zPRRomFYvkYoFggGSQvXUJVBXU+v0xvGfDMG0qdPwjTu+ifSMDCRiCdx+6zdw2+3fMKTvmyR3gnwZ0L8fbrvlNowYNlyddmYOov4l+xoZ1KFmRWRUcwjv/N73SMh+gBu/9GVMmnQe7rjj25h63nnJpxy4ZEw9fJ/+9Kdx+223mSHgz93wWXP+2c9+FtffcAMuvvgSMz+vZ7ce+NVvfoM7br+Dcb4N37ztDnz7jm/hBz/8MaZMmWr8ckmkJXoWHRWW7FlYWFi0AmIJLZyIYdXK5Tj99DPMXLnu3bth/PgJWL5sObxxdeAlUFjQDb379MGYcadiyeJFiMQiCJPIzZgxEwMHDKQ/Io5aZEACw+NoLApfwI/aujrUR0Koq68jAYubX6/P6/R80edYLIyUYApq6mvNMG8oEjaEqrSshEQxhgAJWVpahjxHKo/zC/JR0KUAXbsWolNeJ0Pn5FKCqejVsycy0jPM+x4+r949Q/hEqBTBgyCSlZmWjuycHORk55ih3wSZY4LxMr2BjSBSpsUcv/vd78yii/vuuw+///3v8dB//oNHH34Ef/nLX3HfX/6MB/55P35NkreNxLmQxFjD3UsWL8bTzz6D/zzyHzz00IN4+X8vG4I4aNAgEwf5bWHREeH7sZZpWVhYWFicUKiHTiRMQ7HzF8wzK0zrSbo03DpixCkYPmw4Zs2ZTRJYgAEkdb169sJzzz2HrVs2490Z76KysgKf/tS1ZqVrJBrBiy+9gGnTpuK3v70Hs2fPwfLlK/Due+9g06aN2LxpM8+Xm+1J5s9zwrr33j9i+coVWMnrb7/7LnZs24G1a1Zhzry5yM3LNcOvo8eMQXVVFf77/HOorq3BgoULMHfuPEyf/hZeff1VdMnvgo2bNmDKeVMM8XviySewfOlSvDtzBt5+ezrWb1iP6669Fl6/38S5f/8B6NG9B9546w0sW7EcCxcuxFvvTMcrr7yCV199Bd26dce+4mL4gwGzsMQlY+qxGzx4sFmJqyHpLVu24ms3fw3jxo83c/00v/GaT13DdI1DQUEX1NXV4h6Sw3AkiomnTcTQIcPQlWR6w4aNeOV/r+Dss882BFP+u87CoiPBbr1iYWFh0QqIR2Km16smVIunn3gCa9etNUO7AwYNxlVXXYVMkpF7fns3Ro8ag/PPP18jrdixawfJ1hx4vF6cN/k85OaSlPFGiCTx/33x8/jHP+4nOas2iyo0GBv3qKeNrXivHymBgDr/8K3vfBvf+86dPE9BlP80X09cR87nCyAQ8OM1Ern6+pAZ+q2tr8OMd99DJB6Bn36kpqUiMz0DnfM7m8UPjz32OH7845+YHr2N69YjFA0zXUwg/fP7vIZoaSj357/+OS447wJMnDAeazasQ8nefSRxATOkq+1jsrIyDcl8moQxPTvbWXBBuCtrXWjLmBf++wJ+9ctfma7FB+7/F9KzMnDN1deYOMQRM/Mb777nHvzmN79BWmq66cWTP+r1/NrXv2a2XhHhE9yVvxYWHQl2GNfCwsKiNaDhTpKhjLR0XH/dZ3HnnT/A9+iu/8xnkJWRycrYB5/HbwiNmJOIYK/uPfDxK67CVZdfhdwcEj1D0kiGNAZKMiNCU1hQYDY8LuhWgB5de6BbQXfTA5eVk2Pm9GlOnUhRl8J8dC/sbnq8unbtZnrH8jt3Ql5OHp/zOatr+ZyI3YUXX4SPXnoZLrrwIkw+ezLGjxuHvr37mfh54gnGlKSJ8Rg0eAhGnjISo0eOxuhTRmHYsGEOWVNazTitVux6MWzQEJx91tmYOHGC6a0bQoLbnXHWCmGxU5d86dddjevCxItyc4aJ6aWH4fv9ZhhYw95aD5JDEhwkiVRPqLa3KS0twbat2/D8f583Gz9rUYxgSZ5FR4UdxrWwsLBoDWheWzxGbkOSRoKjTZDVcyYCaCiISAxJUq8+fdA5r7PTS5dwiJDHLMhQ3x3b5zwWZ9H7g0mieFd8yfzGDf1JmFa8ere0XUpqagoGDxxk5rTpPfknPqnn9VcPi7wVkPwVdi00JMosJpEfzhPmQL8iXRnZmejXtz/P6Q8vyk8RMG0Y7fU6nyRjMsQG0bdPX2RmZzu+JJ8VWeUj5lwXdN69R3d06tSJFxy4q3GF1GAqepIYduveDV6mR/Lq3qOHWZ2s9xV39eaNHjkKxXv2YN7s2Zg7bx42rl9rVvPe8Nkb0KtXL+OX22toSZ9FR4MdxrWwsGgXUEUWofORVGmNQMIbRwBReBMBXiARIiuIk0P4zdOtD7OYQYTP8B5RMpIO54QXec5fzekTQfMlSUnypp50aBz90N52pu+Lf0TyRHjcfw607IHP8TwhT83TIlgxsR3zlGp9Q/rMgR5RD1kCfq3uNeE5cI2DrjkHPDLv6rXksHHyn/xy/FTE+IAe1Guml0+x0LvO8KrximHqWGnm6+bYNUeNyZ7p6eOzjp/6r7jG4ff4TTq1BY1D4HxmEYyS68SX90g+5XdjuITvREMxcNZHJ6iHSoMXGmynKio34GMaYoyLLxbmdS8iXj/T5EEgRi028ZYPorIWFscPS/YsLCzaBWTgo/E6Gk/+Ip2GNIoUDw1pPA1+kp4o7aZojM/WeBathJjhrDEEoiR7InQ+EVJ1eoqRRknwAkiL1ZK8+lHjDyKdBDCgPQr9fFEtE9+JJ6UWHQOW7FlYWLQLGLKXCKM+AqwpSaCahjPoiZIAppDg8Z4vbkif19Z4Fq0ErVsR1Nus3s+I+vS0J6Ihe3Gke2MYnedF0OdHrcevJgr88QhiJH4Jj7fNeqEt2h8s2bOwsGgXUEVWzT+l4RgeWViG3VV1yPRFEPGk04BGRQVpamlAbY1n0UqImp69BMmeNE/D2B7EvB6E4EOMZK7AV4fPntYTBWlAKO5DKomeBnsj/lSSPQ+CxhcLi+OHJXsWFhbtA6zKYiR1JSHg0YXFSMtKx2kD8hD3AClxzZvifWi2nIVF60CDtw480GxIcT/19tWSyK3cVoVt+yrwmYnd0CslbpoiwViUTwJhP2meJXsWLQhL9iwsLNoHWJUlojEURz14eFExupHsXTYyx5C71ESMhlQ9LV6zUMPCojXgLKVRA8MrY2vm7kW9HtRQD9/fUIKFu+rx6dO6oX9KDNG4H/4EyR5JXtjnM3NL9e0Tw/4sLI4TluxZWFi0D7Amo63EDhrY/yzch77pQXx8WI5Z0OjXwJmZLU9nJ+1ZtBY8MSS8PkQQgJ9Ez5sIa40wqn0BvLuxAkt21eHa0wrRz0cS6PHDm5xjoNW5gUgEHpI+NFqZbGHxQWHJnoWFRftAkuxtpzl9YNEeDEkT2ctDXF0knij8MRpOj7YLST5vYXFCkWA7I4o4yV6IzY1ALIFAXGQPKPcHSfYqsXJnNT4zoQB9AjFEvEE2TBxip7/+SIjnfp7YrmiL44dtMlhYWLQPkMQl1ItHbudLeAypi2jrCo++RuFDzE/Tqy8xeA/vTE9KC7qmwjhe11Q4x+OaCuN4XFNhHK9rKpzjcU2FcTzuUP+1wXTAbKviI8Xz+eKI+fQJOx+CiQRiHj+ibHx4tTDXT1JHPfWptUKS6EGMuiw/bMvEomVAbbKwsLBoH9DWZAGRPVO1ecz8KD/tpbaw0Pwn/dLcHtbpmZZ0TYVxvK6pcI7HNRXG8bimwjhe11Q4x+OaCuN4XFP+e/UFFOqjNlX20kk/hSAJnvrrdNXLhon6APXr0+bRhPOs8cGcW1gcL6wmWVhYWFhYWFi0Y1iyZ2FhYWFhYWHRjmHJnoWFhYWFhYVFO4YlexYWFhYWFhYW7RiW7FlYWFhYWFhYtGNYsmdhYfEhg1YsarcyOWf14tHAeZJ/7daiFhYWHQyW7FlYWHy4EIsBkQhdmMfalyxJ/OIR+OgE0bmIW7vFPIhHfeabpEjwOb2T0HOus+TPwsKifcOSPQsLiw8NRO0i2qzWbFrrRZwuzGrMfD5enE28L4mEux9twtmkdj+psx8ksLCw6GCwZM/CwuJDAzNw6/Egrs9I+QKIeZwqTN8b1afQyALN+YEg2RPh0/At39WjxhlY5mdhYdH+YcmehYXFhwYuR/PGSfsSZmDWwKsvD/CauJ7TuZeAH1FD5bxuj54eMT643zyQc5mfHdK1sLBov7Bkz8LC4kMDP+laIBaBJ0ZKR4Kn74qK3Xk8JH5mHp5D10TffLzeuILTsG4s5kGYB3Lih85aDec9CwsLi/YKS/YsLCw+NPDEYvA4XXcG6tvT90bjCX1NVD11DRCPizqc0Az3RuhiqvGSnXlREUYLCwuLDgBL9iwsLD48EFFL/ka8InAeVEeBOl4I+wKIauFGEhrSNb158CFKoldLZihyGOXzWtAL30HVn2GOzqGFhYVFe4Ile60A9TA05wy0HYTmHyUSTdxvOLI4GI5sXAk1SIp/jTwdy33w/cbO4oOAktP4p/P/ANdwcILg9RuiF2fVFaOrqIvh9VmrsHZXlSF8Mbq4IqC8j3vMT8TrQQV/567agSXL1lA1ImadhjzSOl3j+Cx/2hiKc9LtF+TBruOhIeX8a/ROZVvMvOHO4eE+d+DzB56dGJgwXL1Stu6HE7q01fyadLEuM5dVp+2faXrC4MTAhXt2sDsS+Iwpa3LOO0f7ZntFQ/r190DZtKVkWpTsNU6OdQ1Oxdmd/t3YqboyiPNI4018svGzcVMBROnHoYTGOjn+lXwopwNlSima8TvnTH/d+42dZH2on9bJHRbqFqPcJUGzFUrSGUMVPdG6yn809N5EFYLxEGJ+L/aldMJba4uxtqQWGpkN8bmApx4BxjFGQ7uHEXtxcwVmFfHdQBa8JH9eXouzEo7yfgR+xEgio94AErzXdLgt4w4PRn4/kZFkD3RN+dcRnCuBhJlkySOVbbpEI5kcDgnWAAnWBQnmt/u864zenkAXZ9vEkD1zQifonJZXmhZQ3Hik6Ql6RDMR/J4YU8YH1FjhpRPlJFNpmjk3DQzJk87ISncOD8efpL7qeVMXx/fXB/KxcXgdwSnNDennFcnFuKRsk8+1BdigMFV0i4BJMs7iQKhs04w4JwfAKcxSBNOy83ppfHxGYbSK0GcKEFXG56Py2E7Yg6HJ+l7JiAY6JoPNa5K1nxWXrqgSVU+QrjVVxCKu/C0OgDTtwNlvB8FsZEzJefym10wy9FN/vTEeseKP+ZkXTtfZCYFH+cvwRMzUm7c3HMebC7agLOzFRad0Q2p2EM8v3o4hacCk4b3x7qYSLNqxFxO7d8akgV2QovIW8DsGjWXLcwLj2himTDuHTULGwRAapsnDtB0cq6TUOyx8TL2zNbYov1PmVVdKTgE90AxcQteW8IukMrIhnx8B6l2YsX5tcz2W76zA9eMK0CeoqQZMo187Rqrx6md50hZDSQ9OMFTm5RzpOjJ1VrI3Dcld+qjn/LRRHvXuedQQCzRsZt7BwRqG8pOUJC+NREiDj1wPnCi0KNlTZaX6viVxcIV3vDgRhf5IcVTh9ZnVgskLgnlJBMV5W+VDBUiFTXAUgmcxkT2qTJP7hx0dWlqGQkvL8YPEUbRYhp/CpaQcsifIL5EVyVNwipjk3yjWfEgbcyT2j7EcGS0tx7bQxaOBl76QaxwGrMCi1EfNj5NaKiHGmPGA/2N+kzPmyYNxvPEzNJ6eyIArj1OidQwzjm2hIB5bvI+GNIRRI3vivfWl6JceQI90DxZuKEa/nnm4eGAnZCq+mqunqMpI6fgAsscKuoUzRt4pBC/DUfBNwTWeh4eG+5yj45XjwWjhJLd4/ATppCM/lfeGulJhHY7shZO/DXDkKL/kZ0vZrIO9UbykWqrj/WxgCHVsfKoxqriL7C0m2fv8BJI9lhmRPY/fmYig+sxHD1s6X1z/FDdXno4sdeVAqHw1p6+N5S8Ekz7r7/HKs6XTfGjKjh9HiqPCpFnaH7YovGuPJNPDNqZPEI6L7B36apLhWxwAIyXlOg/E+cyBX5pwIElx4aNcnUImWTrydCt5i0aQTE1pIp1OOD2iB/co7SfN0suohMhndVHi1wNWrofCI3rcIMfD9nxRfgnJ1Suyl5SparITJVeS8zDjE/Z4jYEPRmpZpmpRG+yEtXUevLZkF8oTAZQhHX4a1sxQFYZ38WPKkFwUsvb1myFSRlVljP54SVgb0pcsbycq7l4pXtPmU0GKDjhBO4RTxqIhLk7cOnQ9YLJJf0iM+FcSEYzxPIyOmgFS5TcbI+Yp7dfjytF97UTJlf5Gme/eKPWOYYV9JHEkezL+r26uxYpd6tkrRO+gRm+on34N4EZJUIMIRJnfLis9EZD9VrpV3rXYyblqGsda226aJtqovBlEknbK6aWSR40smU47OvarpJfVlnr2CMrFmJ/D1aknCMdF9jTnxX1dv6o8TU+LxQHQ3G8Nz4rfub11phDxwsFkT4VHG8aa+XqEqicvDVRL9za0B6hTLu7xmzlYhszpGiutxvLcT/bMvmys9n0khWR7ekaDQB4zbGZxACjDxqVYFZNIkQtXYqa6Esej7JUXUuk4m/Vez4kjJe6Edg2LOOcKSOd+hBiBjZUhPLe8GDtiuSaPx3SO49IhOejOsqa5UHrf01wvubxSQWuc+BaBPKaA/CKWjmlsEoaIJgXH8r9/rpf7wz+Nt53pMJAcDOkwGmd+9BWVBMu0h8TNwxLuaaSfB4ICE9FyBZj0IylWc+YenyjEWT+5drHeGyCNizBMZxh35c5SfGZCd3QPsAFDUujnPZW+qCcAv+qsEwiVHf1zyrsz/qHyoc4Gc6LWhhZENYN4cqGTdFK9eRoR2G+o9JM87JBopI7KRemZ2nqmiGtq0YeR7CnS0SjbKYr8QUbCwoH4hFYOiuyJ2nk1fCSpNyJ7KiMa45dWKEeifCnOCs6p8F3TZtEYEqHInUSkCfeqltwyJD1U67kx2dPzZt0GCWKUD5oqLvm8RQMkEvWUxGIx+ESOWc7160K9KnpGVyTTmCbLMx+kx5K75Hqi9FXhssZx5geyfIRYgyo0H8tISjxs8nVRWQIvraxCl4wEPjayE7oFSAZYnnyoR5QVrfK/OTj+tyAkIHqoH8nL3ywpITQUznQlqJSmJ8D0mLIOkFBlKKjjLRq3Dwkku4NzxsiTlagWNvhUBzQrV8ozQrlSfnE+69EiHOl28q58dPw/cVCuiVgpG8NsaATZ6FBsX99Qa8jetRO7o1vQhzr1PCdjE2ccg8xvvXOi4KbdcYqR/iYQkF2XEToC2YtFSFrliT5baKJ9YGwbcqvjwclF51eSNWIyjWBqg5Fp60vnuMme+yuyV1YbQu1hZ090TJgMZ8WUwvzNSfUjqNaoYXsO2dORM7yUlCevR3ldRrW6Noo6deer98riAEiEfv7JTgsgQIsYYBnaPzOC+igZmkKWpCGJuNdUtpWhKOpFpllTWakeipREBJ3TU3hEgpQkeY1botJLQXd0rGqgLhxDTV3Y6Tlt9GxLQ4ZTTk0k9UVo6EtHiksKjXnMw/LiS8WmPRFkZgKF6VGkJ1TGRPJIBln1muGpVoCkoF5PH+WhOHdK8yNDLb5moOaIGobm2788r6+PorY+wnjzmiG1J06uJztURzoSVZllLtJspfBqekoQqSlO/jcFvRcxPYB8i0KNxKKooVydYbUTv72J0QH+la4qLDVGUqLO0rBFFT5sq4zg3O5BdPGyTgoESej1tDQhII01NdeJguKmOLkykI3SfMLM1AAygioljrybQ4TPKrZhelBRFUb84H0rLQzUuZPOBmc6Cb0apX4/G5/Je62JYyJ7rmI4Weq8FjVzEZzKadOeClTGgua6RQMkYlUtWQEP+nTJRqqPLcxGZE8Zb1btGJEmzIhjzOM3E4uL9tWhjBW+5lVYHAgNjaT5E+hdmIVUVt4BGnpVopKrEKeR12o2zZHxeGPMB5I9XthRWo3SOhpRyf4EEpMPK9JRj4GFuQiw8tY2J3623E0LnlDLVBW8jBBFb75eEeHvvvIQ9pRXUt40WMwLNw9aGlpUIyMdMLRNtY6MqMySGZRHyOuFj0UpNSHj6RjLANmSJruHvDRmqmxPUNwOhghejLHSSnxp5SDqaR6NaHMQcdZzcpo/VVEZQlFZNWIkejK9ZjFRB9RXyUM57eiU0yPvoV5mUGIFeZnIzUpptotB+S+SJ19ilF95fQi7S2rMtBrHkp14eUovZSEVUoQFJsDyJc5f4stBNeNREKtBZrwedd4UU76UxbILovetBafBxIZJLIzundPROYMNaF5vvseUaaHtj7KOqGYFsI22P2Y0vTUk+uGAKws1Tgqz0pCfQz1l/irv28LuHBPZk+qZynP/GSvTGNvYyTKzvqgaZdHmu307Kkymk9x1CkQxoEsWUryqyhv16tFJrpKohqc0VTZOA1XvD2DH3nqUhbTvkiV7B0PELpNWvH9hGit+GQHK1VROlFWynozyUMXK7d2LUHu3kUAX1TnF0Mkdi8ZI84QxtDsJNEVjpsJTpjKORo5m2xXKmMRZq43iPrbseV5MsrerMoywhwaLT+zvYW1hNM4thdMYB99zz93nDj5vabhmUSkX0VNIXjYyPHGnpA/umoXcIw18aLoBdTpEye+rCmFnecTorNFpQwc7Hhrnq6Qs2WquXkY8hN55qcjNDJo6tHlEkWC9qp7+vfVhbC+NUGedjBA9OdFSVfwb66BbNkitTK+tentUl5l0JZ9s/M6JhHRWYSkuOgtQMr2y/eiaTvKnCPhdrT4YbDxH4oj6/Shjtbt5TxXlGDT+OJato2qrU1I1tURORE8N025Zqeiaq213IqwPKJ3D9PCfKDSXkx8QTr+KdQc6I5ejYPLO8009Z+XatJOsHHntl1rDpSNAMrVybcodIr/m5Gl6pxvByN4xxgf72VKuMY50z8XB993zE+EE59dVRNcdPRzNTIIHjjydIceO6A6EJOPomGu+jizdRvI00JnrDg2vpZ1w4LHiLyKQcBZDmCOlpaHcCO7xiXQH4kC5HAkHPukeOXoqHBxWR3GCk59Onro4UF6tjxYmexYWFhYWFhYWFicTLNmzsLCwsLCwsGjHsGTPwsLCwsLCwqIdw5I9CwsLCwsLC4t2DEv2LCwsLCwsLCzaMSzZaxVojU6jrSi0V43W3O/HidmmwsKiJXCA9qrGaMNaw9muIsBfP8Bfbaijr3e4KxwVV/M3wTMWMX2AXk87O4ARcS+0E6j23dM2MtrE2Enh4TfvaO9QbdSQrQ1nB163sPhwwK2mmnMdER013W0L7fQr55zQJQ2RhcVJApGoJiHrL9dGMBtkx0OsuOpJ5GqQjghSeZ6CEPyJMFJI4LwkePo+b31NNUr37UZp0Q6U7tmDaG0YVRXleHv660hE6nH/n36HspIS0keVP+3T2KZJa1OIIJtPOSbPHPLrTR5pl0/bILX4cMGtqg52HRWW7FlYWHxoEPCEkRWpwh9++j383x1fx09v+xp+9s2b8dNv3oKffPtW/OBbt2Lh7FmGwL37zpv43W/vweOPP4pHHvkPNmzYgNqqcqxeOA/eSB12bV6PeKjOkBwgzF9tD90xG16ics43SRqbRGf7X31dIdahzaTFhw2O3jbtOmqzxZI9CwuLDw30ybAw3cZN23DTzbfimz/8Ee74/o/xzTt/gju++2OcMmoUSkp2IxGLIBqOYNqUKbj15q/h/33xC6iuKMXCOXMQD9eb74DqqzaJhD6xx4owuRl0R4XSrh3/nf3/XbMgmbhEz5I9iw8TpMOHcx0PJ12q4/q4Mt0xfMXtiDjZvn+qz0fr4zhuOmP6GG4LQ2mW383JUvdjMbVzDo/G7x6NHJ1nZERlTI9O7opjczhcOowMzV/+Jo6clpZG4/gcHDfBSf6h15vDkfw7Grgyl7yOVv5NIcEsifGP/p1MiHj9qPOkIBzIQCCvkK6Arjv8eV3h4zGCvE5iok89meR7PfAmvPDFqSMkgCHqiehdlOKV0/w/kZkIq0K5E51a5YvKnfL3cHrf2lBMnNjor77d7VwRCXTckaE0Sed85pvKH0x/PwjizNtoNGrk2VQ9cbLBLZfHUz5bA3HKUbraWGdPZrj65+iBjh1640T75JZ1a6BNyV5Tyu7z+eD3H9sH6r1NfKzZyXhVBKq4nPOTBeb7h4yOqU9J9LyaSX4cUNpcGbgGxFX8pvx2ZSFZH0nO7rP6lTsSQXSfV3zcdw4HxVfGoalK2gnP+cKi339oXCVH0T2lWDOujhBUi0NpVJzkmkpn4wrnSFD6XX/kjpQvB0PvKD/d48Zxa3zMu+aZw8HEgb9Gp/Tx/ZMIPn1n1sP0xaPwJSIIqHyHa3kegi9ah0AibOIvxBn3pStW4rXXX8HMd99C0fatGNx/APy+FCR8AbOwI0aZ6EueGsJMIEh34tIrqbrlx83vkwWOfuiXpSkW5m+EkhAtlpHntaOIq9Ebumi0dRtequKk+03VIScbjCxN6WqQ18kM6YXkerJD8XRk6dR9Pi9Lsr5DS332So8TrC94HOc1tEHHwMmANiV7TSm6FOtIhEJoXFCael6Zrx6zQCBg/DSG6ySBSEpUlaipXZWW5I0PiMYF0jX4Lpry2y0YCv5IkNwa8qmBUBwOIjhu/iisw8ElIs0RT13XM8rLhng0QG8oZ6M0/m0BV19FRg9GY1kdSf90X6TXPW4qrYeDnlc8Gr+nc8VPTkZG93T7SH4nSFJNG0HPikyfRHW9jxFLIaFLZwl64K9/xH2//w3+es8v8Ld7fo5/33sP5i+cB08wjbEOYOjIUeg/YCBClENGRjpGDR6ITjlZyOuUBU8sgs45uUhhw5K5SENA2SjBJxASu6vjbnk9acD4BChbUV6fj7+UmZcR1sIMv3T3KOIrfXd160jlviWhqKlnT3B0/MTm4/FAdaPqMsmnNWX0weDUHR+kPmptKH6O/jllyytHXXZInppwrAtjUaPjgZNe7icGbcSApDgHKk+MhdUUVGaSe9yAQ5/X/XAoZH6bKzS6HgqFUV9Xbwzf4eGGcWhYLQXX56h6IxJURf6yJJnu8kND5BXnfxP3DoVDJvQC5RIOmV+hQT6uT851FYhQfcj8Hg7Ki1Conv6ILCQvHoDG/qpQMS6s0Iz/fO9I/svTyspKkz8iwY4/ghNvva+wdT8aYausESQ1n4hlXMN2JNDaSsNcd+45EXZka3w1f1zsv3r0oH9GR5Ourq7WXPaR6KkXrwG671SUircjPze8psOU3ldXVZs0y3AdoNN818jR+OEi6Zeu0el59eJGKKP6+jrU1tZQD9RD4zwdDkdMXh7gbzNQ/slrSp5xccJ0QnPDa7jS+Mg5ExqOWhqKTsSfgu/85Ke48tPX4ZLLrsCWnbsxeuw4fPSKK/GVr92KiWechQjTMGDgYJxx5jmoqqrF7l1FWLNmDRbMmok0Ju/FZ59E9/xcZKYEzKw0kRrTA3AC466miYx9JEoi5fPvL/cmxAMOHOy/1OjoREEEL0Z9iVJXaytKUV1eitqqUtRUlVE3I6Z8HQ5e3pd+Sfekh46+txIYtRjLn6l9GA+3sblfV5M/LhofH3zW8khGoJFzyFOcelnVSE7J+/vjnXTmeutDoUZjlKiXpcO1ncnouLGSO/iai8bHJxZOyFJP1ZsaCYpF1aOnSNE+qF6lfdEq/Dr+VpaWIhKmjjovdyj4fkwkj48IN0OTg0XGJURaVA/QlVZHUBdvXowqjDHeT/WwsmMmxFkoVblqytqct9+EN1qPzZs2YfmyFRg8eBgzjMY+VIua0j1IhGuQnpJhjHmM7xXv3oYXHn4Qp5w6EYkoK+pINUIRkj9mdCQaZnwSCDCim9avx3NPPIYJ4yfAY3paFFknBfU1dSgp2YdQdRXqqyoQrparRG1lOWKs9NLTUvg4zQCVRi3dKCu9KH9lmH0afmVh0DCxukGOaER5P4Wiyc0IYltFDRYU1SE9OxUpPslAlSONNRNn5hol6h3DkwhgT8iDCspM845IaXidLXC2VvxqsSgPWGmIMG5cvQob169CKi89++TTGD3+VNOCicVCqCouoYUMITONBYKyC3n9qC0txuP/uA/jxk2kv0wbK+kEiUKChihsCgsjS7d9M+X36MM49VTKj+85pJJpp0y2b92Mkl27ULl3F8r37kbJ3mIGE0FmRgb27tqBxx/8F04dPRa+QBB79xZh59q1KN21ExWUdXZ+ntnrrLaiAr/76fcw5cJLDXn3hmpYGKPwhkmkmPdeyt/jTWALDfXbr7+BEWNPYXy9ZmMIrRwMeuLIy/AjRMG9u4bhp2UiGKCsdTdBPWDawiJBfMeXoF/MroraKCrVU8j3m8s1XQ8mHD0F0616V0MCO7duw8wZM9CvR3c8ct8fMfLUUwGSPR/lW1dShvraeqSlaCqCjI8f1WXF+Mef/4RTxoxHpo+6U1dNfY/TqJKIqTeSLsjAasrK8Pu7f4Nzzj2b8gowdMnZ2Q6jaMdWzJnxLoYN7M9zD/NeZU89LzG8/eYbyExPRU52Dh9P4P333sQrzz6NpfPnYM/OHRg6ZIhpzc6ZOQMb161G/4F96YPytnl9DVCnCjOD2pIOby7biRj9Tgkmt+GgbrBAmG0iVaEyFgjTr8pQAtUhGQX5a8xus1Dpk19NOeft5uFl3FTWsnM7IysrB506dcKM997FWedOwoD+g5CVw7hmpJt6Qs4p6XF0pr51zu+MvMJ85BcWID09Ey+8+jomTp6M9KxsRPiwn/ruxMNI6BAnuClzSKFC0DnPkvJsiL9zXTLyqP7g1bysFNTSGL2/djdiqRlIUQWlMqr7Gloik5WOKXs1rFwZSaCC7TYhgHAybCecloYaTQEWjtXLl+Gf9/8d82fPwUwS413btuPUcWOpcyxzjFjZ7iKsXboExdu2Ys+2bXRbkBHwIzUjDeG6Gvzud/fgzIkT2QDSzoaKq0i09MKV4PFC/tBfylXlMyfVhwDl+P7GEuyLMh5pAVbZrClVP6sBJjvD8htj/ap8qaWMy+o8Zu01SzX1g3WeU5N+QCiNjpYJydiZcENsdEtOlfuKWA/sRSVtTZgNxEzpZ30N64V7MaBff2Skp7ER8i7WLJmPbSuXYtPKRdiycgm2rVuBdbRfJXv3okfPnkmPzZ8WQ4NeO0c+al5umg9plOk7m0tRHPUyvkHabD5BOxtn/a8mkerTBK/5YsxdVgnFdfWIkhhK1xVDvqYsajHITw/zW3tm+vgbpxwTLEuptA2qi+bMfBt11dVYPmcWijdvQd8hI/gCyxaJ3cP//Dtef+VFLJg9E/PmzcPQgQORnZetFKgqM8+1JCRJR56yL2ZnUGSl+JGVKhvEOoNlSZyhtdGqZE8IR8J47cmHMev99zB38RKUFu3CwIED8P7r/0VuZjrC4TgqyiswYsQIxNnSfOg/9+ONl1/ErBnvUAHT0b1fb3hoXKvK92LVjJkYffYkzJ81G08+cB+WLJiPubNmseDMYYs9BQO690L57t1YNnceJk2ahARb0yrYgvJ325ZNeOapx7Bq5XKsWrYIq5csxkq6JUsWYt6cORh3+mnG8G6jgX/yX/dhOZVl0aK5WDJnJhbPmY0l82Zj8fzZ6NO7FzKyc42/zUHhpZLNiextr4rg5XWV2LmvDinpfmSwgkqh1gUoyAgriYg/Se5ITspJgGpICNQTKNVRYXzn9Vfw9muvYMmiBVi9YR169+mHonUbsHXHJvQpLMSylcswhnEPknhpy4k3XnnVbEOR7vegW79+qPelIk75LXrnbZx59nlYMvc9PPzvfxiCMH/WDCxkgRHf6NurO8r27OD1uThz0hTEfSQAlKAIkJ9Gad6Cudi6dhWm/+9FrFmx3JDiMMliP1ZgFSXFphfljLMmISUtiN00DFvXrEVV2T4z5NqNfgfoX6S2Bm8+8zCmXn4NZs2chWce+Rfen78Ac997GzPZAEhJTUMf5nnFtl3YwobAyDPGGSlIGipGKd4YumQFUEfS/NrKEizdVc84UM7ZKSQ5fIqCF+2SMTXvMB+q6qKs9E1KkrlzKESqF82cjpdfeQULFlIn5s/HmFOGonjXdsx8/10atPGY99arGEf9U6X32kvPsVHxFGYx7rFILSvxXizTqYhWl2PG9Ddw+qRp2LVpNf795z/g/QWLMXfeHMyaPQM1bG0OHzqUrc4KvPLyC7jkkktYoapKE/HwsHIj2duyGS8+/QTJeBibNm7AhvXrsH7dWmxh3r/75usYPmI40jIy8fwzz9Cg7GFlHUA2K5cY5bxhwxakpaaibO8eGpo6DGNYSrdLTpqCenEKMkgv+Pvc0mKs3EvSTL9yslKdIT76oKERtiRMNRBlxVVFUlJLsqe8ceqG5tF8yEd6E2yZ78PGVauwg/XG7uJi7N2xAwtYFnNzMlFHol1UvAe7ea+irBxdu+bTUJbg2aefwradO7F9xzZsIznZsnUHdu7g+2WVmDztfPjT0kkQ/IhHNL9XBK3pGDpmTOmT5qkmUS4Z7TJOTzh/BT17INnrlEmyx+MXVhRjY2kIIVrJzMxUBClTP8uU6n81vNjiYv54wWqCJJqh0VOPjITx/XDSO3Yoreo13rR6Od59/WWUFe9C97wcdO2Uje6d80jyfVi3YinWbN2O7n36oqqmApvYAKyrr0VduBrvz3qfKYsjmMIG3Z4izHz3TVx8/oVGngkzLUEGWk80EKLjQ1IGlOt+shf04/1ddZi9tQKVNRGkpgeQTgIqeXopSzVate+i8kVkr7yO9RTjozwUET2+uCk+7obcDIGydH2rqijD9OmvY+umddi1eRNmz5yJtSRvZ7Ju9obr2Xh9GcPHnYk0NlrCUTb6fD42VrIx/a03sWP7Nkw4/XQ2RLKQz3zI69SZeSUtatn8V+wFR3NVemPISxfZ8+K9nTWYu6Mae6uiSCeZz0wlQTajUmy0SlNZvwZYoaoa2E2yV8/81rliqO8GkIe1GKT/6mfwMPwFc2fjkYf+iYWLFqF/r27IyM3B3LfeMB0R9bQvsWgYA04ZhbVr12AL68pC6rIayn379KZt6ovy6krsZqOlc5d8cgk1n10ptAzkmyvPk4nstWwqjwD1YKA+hCUL56J/z+6YMGYkBtGQB0hgNPE6okqWhVLtBu15NYfGtmRPMb7zgx/j/930dbz0wvMoYWXuUfey1I0FXj1hZaz0B5Fg3HjjV3DTTXRf+SpGjR7NClMFnK0Rn3oR6XimiloVqo/GazAV4M47voFv3XoL7rjtG/jGN7+NW7/xLdzw+S9oRQCfcYpxdWUpKioqcdFlH8Nll3wUl152JS752OW4+GMfw0WXXo6cLgXG58NB3cn7249UympPBtbXevDM0lK8sroSO+riNJpMj58x5v2wPwURFh61YtJi9ZRRhO+rioph5bKlJDNZGHvqGIwYNhzpqSRhCfW4qM3FwsjSJ1I4d/YsbGel8e0f/gBfvfV2vPT8f1FWtA9BFs4AncSdYAJLSkvZcuyFL335Jnzxy1/BF2+8kfIbY+ouMXlDmETwjB0nBaHWRHl+4bQL8KlrP4ku+fno0aMnPnXNNZTpQMyfOwdL2fqPM94hXxTbt2yFn8Sz75AB6DN8MHp2LsCutRtRHalnbGNmThBTirPOPAPfvP2buPXW23DHN27HqDFjUEYSFGcBUd5p6ONAaGYW5ZrMpxDJcWkiDe9trcHDS0oxryyKEsbXy0QGIyrS6uVjRU+nvkGFejisXL7M+D9+9HCMP/UUklO+FY9AlNfDVmWE+idCuWHFKiycPRe3fvMb+Nptt+B9ktbNq9cwLxrDQz2qQae8Tvjyl2/EjZ//Ir5GWZ83dRqzjamjPFWhiTBLt51hMxEJJxv0x0cDSjU2+RZgZiivY3FnqDaVlXO/fn3QtaDQzB9UAyyXYfXu0we5NCaeWJwkZyMWsDFTR0NzOJgwmdfqVKpnA2t3LAUzNpXj2YU7sIgy3Uep1Ooh1VmURyrjbHpBKReH/hweysXm3JHeLSktw9Lli7Fo6WIsXbYES5Yvwanjx6KYOryYOqfri9lY20AinIhEUUNyomkCH/3IJbjiso/iY5d+DFdf/nF8/PIr8YNvfQedM7ONJvhYp6T5tY636XjJCZK6nnK0R40OP8/V80ZDx1+93xxMryQzJhTIxsZIBqZvqcVLi4uwho2+yjhLNzPSnXnqZ+NPhsHpj1INmcKjlquuGxNaGckMyqGwd39kdOoCjSuU1YZRHaJ+p2Yht6AHuvfqxYavl789cclll+LiSy/BhRdfhAFDB6GecZ03ezZmTp+OSHUN/U7GkyxVoxOixScMSgbLocY5KhPpmL8nhqeWVmDmtgrsCSegATsRD3WXBlg/Sk/9iRCfdt6h9h5R544JlKWZ88q6Iq9zZ1x33edwwxe+hE997vMoZFkcMmIEGyKV2LtvHyJsvPl8jBcb4Vo4NIQNse3bt8MTCFIBUtg42W165tVj7SE5cGhU60AykTWpTASxcF8Mj9FOvb0jxLqA6WM0gokaPuNYVJqS/ZColdtsg7cojL4ysL3FJXj11Vdw1TWfQv9Bg/HkE09g4+p1qCrTdAOttI8jprqRkVSDbxvt3+49+/DCiy/hb3//O8+3oqioCHvIK7SQSOX5yLVO+0DL1R5HAQ15ioClBAMYPXoUJk6YgEEkAGY+kZoHHlWhHioSW4o0Yu+RrV944YUIZuSgkIXhlFOGYeO6tfSIhkXKxMKr/bLEnP0BH1I0hJObhwBb+XG29vaSwe9l67PWLyVga9nEwuXcwE5m/D//cR+efPhBthQewQMPP4z/PPYonv/vSwjVR8xwihRIJDyFlV7f/oPRm67XwMHoM2goeg4Ygu4DBsGXlmF8PhxENRSu+WwTK4OY14cqXyb2+vLwdnEM/1q8F7N31KCCVkXDfHzI9EKpQqI0+K7iLeNPn7x+ym04xk44HaeMGmOugq0Zp7HgPKchjBnvvoNLzp8GX0Y6CknGxk+YiE1r1lK+zHgljlWd2mj1lLtHw0q5+UjN7UQ5diF7yEZpbZQteREDkQ/FSOBfRszPykw+lFVUYcu2bdi4aSPKKxzDunHjRhQX7UKCrego83L56lV4d8YMPP3M0/jzH+/F22+9hTkzZtMwVEvApodIUQ/QmKSlprAVmck8z4SPxyJ4ph9PNcwhrSFV2ZQHvXBakQnUeALY683GyuoAnllZipfXlmNrfRy1NMoaGjNPseLQ57YcTWgeql8G9O2LM9jCHj9uHEllApGQs9pTlUqEr3tIKFbNX4LJZ5yFjPw8ZBR0xoRx47F62YqkLw6UDvkXSGXrnWnLZgs+IyudeutHTV0NSQkrT6ZPxFYPOsRWiaKx4nlGTh7GsbycdvoETBw/ARPGj8dpzM/uhQVGQ3xsnHQt7Ip5c+Yyr2homI+rVq1G8Z49yGecJL7y0gqeF5thw8NDnxHjM3ynjr5XelNR6svB6toA/rt0H15fXYodIS+qqJdRElAZW6eXizBZdCTjLmrenDt8ngwaNBDXfe4L+BwbZNfd8AV8hqT505/9fNKg8vyzX8RnefyRSz/KuPiREkgxcxcfe/JpPPTYE3jkiafwwCOP4OFHH8ejNBTaaFmLPqTNZn5ok3FyndIlk+vojuOUS+754aF8kXjUKKnxpqDEl4sVVX78d8U+vLGxDFvJrqt9KZSpVgt7TJnzSw+Mx8aE6qBF4M4V06/IXreePUyDYy4bLSHWx11IVDIy0liWN2D1ypU4hfVctjeIlfPm4/e/+A3+eNc9+Otv78XCmfOQHUzB+ZMm46MXX4hM1oVOLJVWR25uuTthoIiiLJshyrQikIFtsTS8s7kSz60owtLKOEoZE22drSksanSrUeJ39dXkSMvB9OUwHPX2C6rDY/yzev06FO3abRrn/3rgfvz1b/dh985dLDpxM/f3xVdewq/u+jVKWZ/e+o1v4447f4B9VdW466678dIrL6O2us5shdSaiLLcS24hbwC7I0G8uL4KjywrxdIK1rPGkrFxQiEqjYJ+3JLf0jkuacr/zVs2olevPhhEYnze+eebUbcH//YPrFq82JQvPRljwVHnx7ixY0xjOhgMwp+aijPOPAv7SPwmjJ+I8/luKq+rXjxiddhOcIJL4YHQXLuEJnwq2zRswpbfuzT6//j3A1i+crVRHqcIknGTdasXr3fP3qwsmNFsIXYt7IKqihK2cviMDKKsp+lRAJYsWIhH/vkAHrn/ATxOt2TuPDxN8vbeS6/CXy/KdHBSEyjauQPr1q/F4EFsVQ0ehIGDB2PgkKEYRQL1iWs+gSAVRC0qVYLqso5T+eOsUMKsjENU9piHxi6YymOpYfOQMdB8BqOw1CwNgfpjmvSs4YQ4Qr4gdsQy8MLaGjy2rAyry0hNYx6kMOFmfgLTqb7OCMNUNRWjEZN/UR6vXLcFf7/vb4ZAxSKaSaG6j8aLUdpXtBM9e3Q1Q8OaEK4KvLSE8uMzKpROv1EMaSwYaxbNx2P330cZ3ofHH/wnls5+D8888m+88b8Xzea08Zh6JagwDNe8yVJSzorp8aeexvjTTsOYsafioYceQOcuhfj0pz6Fiy66yAztBPjOeRdPw2e/9mWccep4dCUJ+eyNn8elV16GNUuWY/7seQjHnB7JJQsX4+HHHsKjDz/K3yewYMFi083u8B9Wo0xHY8jAGpkoQXSSlbbjUNpFkPYlcjFrtxePLt2LOUVlqA6zRcraKUjZqlfO7UVpDmYxANMZpV+7WEn85Z//wAuvvc5Kl4aMrUdRA01Kr2Wl3K0HjSVb6Jpj2JOGs7y8nJW8qLRLA5iPzPtVK9figQcexL8fpPvXg5g7dy6eIgF55rnnSSQbNMnQeoar4bzM7GwzF+3Z55/Dk0/x2aefwFNPPsXzZ/mkB+kahuS/NWtXo1N+J1x++RW4+JJLcO455+K9d96mQqhUJTB27FhceMGFSElLcwJpBtLLAJ1DoJkG5nk9db3Kk4aSWND0njy7aC8WqXESox5SH5XKBpgXm4RDMig55pXrTBj81Xw1DRG5q+ekaT4+rx4uGWilQ/mq8FT2tOdeWGXQn4pwguWDv3EPyyavhXlPZaRrz374v1/ehdu+/V3c8q3v4JY7voXbviX3TdzyjTswcPgQ6gJjIKLN8DQ/VPFTnJxfJ65eXtdvzBNhmY1S76gbzBuVuKjRJTYO3cw7DBh9BOlHKtOqPKn1pmELOmH6LuD5JcVYsL0SJYxQmHokUalnTz2C0jYnTi0Hs+gn+aupGWtWLEFBXi6mnHE6zhg/DqedOhan02AW79zOsl7KFMZYDvYgj42Hj1z+MVzwkUvw/772VYxmQ+j992fhjTfeRKi2LllOXbMvoYj0nUDQuCt/1EiRrOoZZAl1dVlVAE+vrMDba0uwsy6iD+yZURNFSVbImX12pFrgGMHwNfeT7JN1gRe14XrMmD0bzz//Aj5+1VXo1bsPbv/mN/H9O7+P3jxWJofq6pCSEsAX2HC59rrrkJmVjbSMHDZmPocvfuGL8PsDqK8LJclM60C5lqIeUKanjiS/jHav1peKrZUs+0v24rkNUeytYeuE8TdFulGZ17tyLQvWCYyLpmXk57Px6vciJT0dvXv1wq1f/Sou0nQMFUD1rKrODodoRx7Bfx56yJSaO775Ldz05Ztw5lln46UXX8Q///43bN28xczhVplsjNaTcuuiVdPlYQUW0aIGFjUZUfVujSUBuPLKq9B/4KCkujiVroihtk2JREIqosxoEg6SGfmhcUQZeB1rXpt6C4cPHoiLLzofF0ydgmnTpmHs6NH47Gc/h8su/gjSA6mm8DWGWoJqgWVl5rEADkDfAf3Qr3dv9O3bB33790WngkLG1VndqXBq9mzF/564H68+QQL0xAN448l/4bXH/o3XHrkf1Ts2MNbNV8RKl6oW9X/oWPWSKpuUWBiZdKJxYRKImkAWtpaFsG6bhqoZcoKVl0ixxlrN59udifuqsLT6TCvgBvTvg09+4mqcdvpE+PWslF2xoXxEViNU+gCP41FnuE/zWxQHVXEioRqK8lE2GgafOvU8XHThBZg2ZTLGjBqJz9/wWXzsox/lOymmECls5Z5ISGl5Cf78p3sRjkRx5TXX4qNXXY3s3Hz84/77UVZdw/jxcSKVYhFZjjItW9ZvQHnRHhSXlqAqXEcyWoTdNB4y4loWv3rlcgR9ARLH0Rgpwv2JT+G00043adL7Ir2NYfRE2qEuEEI9NCIpgXgYaepBZth18SB218exctc+VNTUs/KS/NWzyoMDvTsUIpoMU02F/IKuuPqaT2LS5ClSCMrBayr1uE8OqI8wH9l40fCbeue0is3oKoNRPFUB6V+vnj1JuC6grl6ICy44H6NHjcKnr/0UPnnN1SRhbFzIb8bPJJW/u4uLWAaiuPjSy3D22WdjyuRJmHzuZJx33nk46+xzcBmJXX19xPTgjZ94OoXgx59JSv/CBsCceXNxA/NQaQ6SnAZoUExD6UishGkwhI+HQeaNetq1hYEx2ZSJWvullOnq7XtQUlVvSPF+k8ljJ8UHQoRCaRMYFep3GAFGTHtfaT6l3+uEocn1Sr+GV1SuRdz1ll51ZaJ+OJWgOCsBUaaY6gDqjalXmCdG0iR7ZlUx0xtISWfDIwO+QDoCJMa+lFT4SXi9lAcvkqwpVvSaj4ts+kXu6Mw+XdIwykJf5DBf3TB5w/TxWLO9PIy3IayyGpTTkSC1C8RiLBdhOpJ7XqinrlT5M1BcG8XGrcUoqwk79aNJuTRN895a/lNujbdKCTHx11z3JQwZOxGvvz8Xjz7/Ip577W3sqqzF9Td+Fd269jB1kladpweCyEpPQ1pqGvPSh+LifRg0fDg+8anrkJqV4xCq/VD8jyyX44UkFaT+pNBOBKJsSDP/I55UlEf92LyzAtv3VJme+AjjJg1SqkWg1e+YzP4WgXrN49QNpXg1G19/+fNfsHzxYnyB5XDIkMEMizqjB6nMqSzv1Xt34Ln//APrFs7BK48/iL/f/XP85Tc/xZ9+/SP8kb9PPPYYVq1YgYcfeRj79u7Vm/vRWMonAqrL1LMcjCflSj2MsU6rZINv2e467Cbx8lHtFQ+nb1y57biWznGpaZyVgUqdQdKea17yHtqi2vpa07hWbOLkGHt378GwYYNxEevakaecYqYqbd25EwVdC3DB+RfgNNaVWj9QX19zQGRVx51oubYVWjddrPBFPJzeOBW5OLKzMtG9oItZUahKzTzmIcnzBtCjdz+sWbeOBoGkJxrCxs2b0bVbD0MYRQa1UlaKpcULmXk5KOjfE4UDe6PHoH5ARhpYGyGmFXCsUGM0Us4gikLhL41ibh5bCKwUHnvmGTz473/hFz/5CZ554gk88fSzeOLJZ7Ft527670Wffv1w9bXXos/A/ujZty969uqBPr36mJZZ//79GUy68bc56E6ABUcQeVCFI6Jr0kAZqDWayVZUH28NLh6Si4tO6YEMtv6VPtMaNSrotEKN8aGx0NyTFBqjTJKNrl3ykZubx4pGlY0sqUiGj8Sit1ndrJXEIperVq9Cl+7dTE+GU+VQInw25E9DaqeuKOw3jDIcisL+w+HP6oJEMIuGMoN+qQ9LFViSyDANPsZpMonPF2+8CX6mP5iWhWuuvQGfYWs0PSPLFEwlWQQtlWGsWbIU5VVlOGvKufjfyy+hW0EBrvzU1bj8ysvhpfX3GQORoEx7YRgNx2iSvWGnjESXTp0YnkgB7ydl6EI6pFk3ek/l1ay4oxBEwmRQs2JV6OOrwund0nD+qP4oyKZOMNmqMMzqxwO9OwSaRypD5eVvgC3JAq3mzM2RlWRgzAMyak1Ez+5WiDWb1psVgH5GZMXKlcjv2c0sZnDMCuMq8sckZGVno2+fvujDhkUf/mazFZ9CMh3UkDWfNv8oMyaZ5wls2bQF78+eZXoAF85fjDmz5+CPJNlvTZ+OuTyfO3cR3p0zB6s3bUZOdi4uuOgSDBw0hI2XARg9+lQzrD7r/RkIh+rQj+GxCDok6HBgvNV7qafUNJC+ZVBmqZRZKg1qV28txvXMwtRR/dA9j+TJeasRpFsNMOSNMtNUDbPJt+ZOUZ5agBVhJa3zqspy1NZUkmDxGaZflbvmPsl4anhbUhSnL9+3D+GqCqPPQQpJK4dNLaD3+LzIo3PMOkOEShM6RSx5XaRNpLOmqhql+0qpA3rTmVQuKL2GyBkdj6N4dxH1KWz89DNwzfNNoTPzb5UWGhzNH46G61FevMf0ghxRqYgo6xwzysH4aIwgP16Bnp4yTOyZjanj+qNHTir9YlwphzjLjhpuIpbyvaWgPHHyxYtly5bhX3/7K5584B/YsGwRfMyTIMktm4oo37Ud0195Af/+y5/x+nPPo0+nLqjeV4Y3X3gFM998G/Pfex+rl65gY2MfU04dJ3l2pgm4sdXVloz5QWBQIuAKUXMeFZrm0abF6tAlWo4xuQlcMKYnRvXpRF2mPKkjajyrTnX6jlsWph5jPWAGsWlzLmbD+dzTx2Pfrl1YtnghllNWixYsMosHxp46Dt37D8FHrr4Wn7juc/jYp27AmVMvwujTzsKpp52DSeddiGs/fa0ZKfnk1R9n3ZNrLIFwokmJ5Fnv0/QhL7Jom7LiddRJkb44huf5cc3IThjWp4cKjCN/NXYItwQcYZ3mMUNzmL2s3wu6dME+1gF+BhKtq6Pe7cXzL7+AmfNmm94+lf1YOIJF8+dj4/r1WEyiPYt158xZcrMwY8b7WLBgPtauWYNFS5Zg7959ppNA0N8TKdO2RqutxtUjKmJRGp3333wFNTVV2Lx5G1YuWUSDVI7SXVuQ360nC6IX5TXVGEpDrxVIL/z3OfTo1oWFZCnWrFqNiy4nOQimscKuxOpFCzDu3GlYTxJTtH0DK6407Nqx08wzWb92HarKy5Hi8WPDyrU4+9xJjLhMl8ypQ/uy8/JwztlnYeJpp6FbfhcsWb4I3/7O9zBh4mmYSJdNw6zJxkEa4y7d+6Bzz/7II4HSRGYNDxWS8HXp2Qe+tGyTxuahWXdxpHqjyMlIwU624OeUAHU0gOot6Oypw5kFrBiG5WFwp1SzkMXHeMejXtSGwghF63nuVJqqoubOfBclO7fRGO3C8hXLsWX7NtPCqmIrpU+v3ljBtE8480wUsJX97AvPoTtb5WtWrcDyJQtx4RVXw5NB011dhqXz5uGMs8/DljUrsHXzRqQFA9iu1YpbNmL9mtWoYYspze/BypUrcMa5U5iB6l1k/rLQZ6alo0fP7lhCErdu/Ub07dufhtyPdMpMRCHGfC4q2oHhY8di3YpVeO6Rx3DZVZfjtHPOYvxnY/OGLegxeCDtahSzXnsF5132caxkCzbGNMRJPvfsKzZ7o23dugWbNm+l/DSUWoRRE8eb/FMOiuKleyPolKkhOy/mbqlBGUg+KD+tvhuQC0wbmIHTe+WgkIRf27RE2Noor4sgpGa+0eSmDZF8Xzl3FjZv2YyysjISuBVYt3o5slIC2LplE86aMAELZ72PcZOmIDU/B2+QwHbJzMO2rbswZ/4sXHrFpSS9eQjXVmHO++/jtLOnkhAUYRn1PZCZi13bt2MT/V7Nxsw+VjgFeZ3w3ttvY+rFF7OiDBgxa9iiZ48e6Ne3D7IzMzB16lSMHDEcc1hpfer6z+HsSedC34JVL2ivPmzgMD07d2zBPupFPBw1+yjW1tSgvrqa+bSY5SaIQSNOQZhJFqFqDiKDnTPVlwTM2lRh5kKls2WvRVM9c9Nx3qAcTOyVjq5BEV6SKnpVG0qgKhxDlA01Sc+hZw1QaKqwX3rxBdRXVqE7Gx1RxlFD2t26FmIFy/f2bdswcAB1gk9rDuOjDz9setpT0knSTSUTw+MP/hsZATZw+I7yecPqlVi3ZpXpgcjJyTYESr1zO7ZuxLqVy7CdebWDOr2T5SUt4EdWVhYNwBLMeOttM/WgPlyHWCREx9TWh00PuGLuISn4y5//iPFjx8EfCKKW9c30t97AO3SrqAuZ6RnIZ0NE29rspt8vPv0Mxo07lW0sp45xUizirviIUrKcs+zX83fW9hAqWFdJ97ISYQzOAs4flIsJPTKRH0ggTUSV71Zq5ahGyuiV6llJtaVgGhR0IuAZrA+6FeabxsywESMwYPAALJi/EN179MQ51O8BgwejN123/r0wYPgQ9B80EIHsTEy68AJTvgedMgK9+/ajXxEsX74MZ55zNpVIveKiJGpaO2SsZaBySzlQru5q3BSW6aXFddhaFzTbSqle6BWI4py+2Zg8MAd90rxsTLOBweshyrSsLoEQ9dShZLJixwP5oDg59pDRMtfUY6vhRh9J0D2//hXqaquxa2cRtmzdim0s+1s2b8KsGe9i4jlTTK/p9p078NrLL7MMbEV5eSlK9u01nRurafM09Nu7fz+aL9W/To3l0tTjpdGKuSANVbzViNLWK+kkTst316OoTlsrBXk1ga6pwNS+6Ti/fwb6pbHBwwIoAhaNsGFEghVlw8SbtP9RRlBzqVsK7pxnbYL+3tvvoHOXApK2RbwWNQsyKyvLkJGbh0h1relxvuLyK5CVk4UsEuSCggK6QnTJ74quhQXowvO+/fpiMjlBDjmG9MCFe3Q8UZcfrjzVoSW73aFW46oMaL5NgJXkFTfchJ5Dx6ErydLgoSMxsM9A3tOediyorBg1GV+FRj08F156GV59bTo27yjCZ276uhl2VQ9DgK1rzWtRr8sgGrz8vqdgZ1EJ9u6rQJgFOiszC53VK8SWq1rhPgpYvVkyoD5WsGtXLMHC2e9hwZz3aIzfJaFZimoa9QWzZ2DhjLew6L3XsWzW23jmwX/g73f/H/56F93dP8M/7vkF7uPxn+76Gf5y18/xl1//DH+95+d4e/pbJp3uUNXBUMtcwnbppj+WQA4Ny5iUMD49sgsuHdYZ3UhaUvm62eCE8YxSJGov6fkY35YPMrkXkLANO2sKsnv1R++hIzB02Ch4gqlstepJqVnYDJP1PWUYLrryE3hz+nSs27AJn/3K7SSwNFBseWr4M8zKQ7MBB55yCnoNGoRte/aw1VSGMI2e9srLo/zgVbWiwV76SzkqXxJs8YXU28J7NWWlbOkX09jSQKmrn3mjnticwkJcdcMXabRDeP3N6fjoJz6JU8ZMRGpGZ9zwpa+Q0PlRUVJmesJqSSZUcQwc1B+7q6oxd/5s0yJbu2EdiksqkZqagQjtRoQyCfB5zc1zqlZWTXHGTOTSVLIJZCRq0MtTgUv6B3DVqHyM7pqJbApeexwqKcodkUWnMDdfpJVL537kCpw25UIUkOj36z8Iw0aNhS89XZ16prdFz3ipS/3YAPjEtZ/HrEVLsWjZYlx73Q2sXHqaQh5lnqgnJ5Uy6aGJxSPHY+eunSimnOvqo8hII2nokm9CREJrOp3ZpSoHqg/Uw7Nr63a88vwLJCC8wYudO+cjoK1VeM/MJSXB0Psakqqkkdiydi3Jzhbs2LSBbg220lVUlMOnCckkMc5eic1D5UW9v2HJjWSuc7waXXz1uKh/Nj41Mgtj84PI5X3Tu6C5i0ZHTAqahJ9xVs+aJ1KHDauWYsf2jUyfBsdjKN2zA4n6KpLTGjPPRmVUxjpWXYH1C+airnwfSYOzx2WQZDLGdMSjJGe89t67r+HF/72MGMv7C08+iu0b1vBZZ9i9to6EqqIC1VXlqCjdiycfeQg7t2+mvjHzQiHqeC2Ki7bhX3/6Pf7ym1+ybP8Kf/r9r/EXlvWHHn+Kjc4o4tUlphzGePz804+heNdWTDpvKvoMGobHH30E+/bsQlQkjMoXrtUEeklEGtY0JFPRnvR4HfIi1ehPmV7cLwsfH9UVI/PTkcUywBzSyLNZoCGCaIYZZRyYppaGmavHwESAuxd2xZNPPYl+A/qhZ79+bNR2Q37vnug9ZCDrhv50g1HAxm6MuratqAivvfaamZunTm4ppof5kZaeii999aumt9uBBveTIyknEOEECV+snsS5Ep3iVTivM/AZ1qnn9MpADqPiTBdQLzF1Q/Uz/6s+kzv+mKlQanTB7dliDjO7pMcagfLRRmnh1Be+/DX8v6/ehhu/fhu++vVb8YUvfBG5JCzS9vpwLR5jw2bSlCn40o1fwRe/fDPr6q/j81+9GedNmYx//v3vpo7TFAVnMoUzntHCsw0PgMpymOFpakWnWCUmF3hx/ZhcnNM7A53I4tS4Uo9/gqQ2wsaXhyQvRQyPcZNEyLVbFpSj7F9WfiEmX3wZnnvhFTbEt+CKqz6FdDaefcEsM6JjdI31ojrri/YUYzXrwtXrN2IN3dqNm3i8GUuWrzT1QdjsSiANkGsdubYlWnefPSkPK5fO3Xqge8++6Nmju2HdOWwlzl+8iIy7OysNH6q099iIU0zB6d27N8ZPOBNjxo1DVp5YeIKtaaCyvByLly3H6WeehS5de2LwiJEYOnQYBg0ZjD79B6AHK6pcsvp9e4uxZvVqnH7OJLKoFNNy1xYCq5cvx64d29iKqkR1RaVZht17wABUVNWgvKoW5ZUVKOX13n16YySN/MDBQzBIjpWecWzpqsWrRR2DBg5C9159zRCdyJ4M9cHQdzhTfHF0ygiirLqOxr4Sp/XNwdTBOeiVFUCaLLv+s6TICEq8EdaklbUx1JNZOGRP7QQP8vK7oGuPXsYVdu1utvPYtHUzaqqrTW/b6jVrMPGMMxD1B/hMT5w1cSLGnjqBrZxCGmbSCVbStfXVWDh3Llvu55CYdcXQ4aMweNgwDBkyzMyf7Nm7F7JzOqF03z6sWEU5n3UOCWXAtNad/Z4YV/4p2rwBWzesNYsxivfuQfHu3ZQ5f/fuRRXl17VrN5w6YTzzo7eRgXr/gilpGEaCmZObg0h9Hf732hv46OVXmu1b9CWEMWPG4pSRIzFk+AgMGDQUvbp3x17m47ad2zFhwkSFzALpDMGlkf11ZotJxnHtlr3okZ+JKSTOI7umk+RpXp3hRwyXFTsjLPNZqVXGWkYmgZuUNAUP5ZXPfO1DXe1JORcil63AkpJSEuf1ZmXz3DmzcRrl4gukIZ/pHDvuNIwffyr1uNCUCVXktSQBM2fNMYslOpHUDRo2FMOHDTe61H/AIBLA3maouo5ymD79HZx/8SWsd1SxieyJvAP7iovNMK6G6zXHsaB7IarrarC3eC92FO0h4fUgJyfTlMuZ7043G1ufO3kS+vQhSe2r4eI+GEp59iZhzVYZEkGRx80g1RNBXoYG8YCNG3egT9ccnDG8EMML0tCJmpjKWKnxpN4LEX6tcqwJxUzPXsz07DlpdyFtibEh4IlE8OTjj8Mf8FA/z0QkHMHM6W+iqrzE9HR0KejK/B5i0r2DevXma6+wHhiBzLw8PPX4E5j17jvYtHIF64Lx6MQ8+e+zT+CKj12JceMmIFFbg81sdPQZOIzlL2Z62zSqE2T8wpTt7qJijGf+FFOW62gA6uqqcM655yKduqihn6s/cRWGsyxrk+BLr7keqUEf5r71OiYw38IhksnnnsL111+LHn36UR/6YAuJpXSrZ79BZu/I1atXYtyZZxvy5KRcAmb+Uefcnr3cDDVoY9i8dTf6dMnB5OFdMDw/BXkyniyTWuGuMqWMVC9JXThqNqqOk8w4K1sdQtFSaNwwjZIAP/3EoxjCRl/JvlLkZGQjJS0FZaVlKCrajbKaeuTl5RuCV1q8G4sXLEQX1kPFe/ehhHqoMr9n9x5UsPGXpc/QBVjXGu8Vb5W15htWx4ZkuaWg9u+zF/CxHOw1+X3GkC44s08GulENNddMDSEzBMi34qy7aljPV9ZpSJyyZp44/YAtiP0yVd6zDq8px/vvvoe+tEnlrJ/Ly9T4KEXZvj1YtHAhxp9+BjKzMjFn9ixkp2ehK+u6IBuUmk9eyec3rFqNnaxTJ0893xAZRw8UhnqMmq+9jhaSiyANlb/7e/aoixuLS9lIjmLy0E44rVcmClnPpklYjFtco1LUBe2lWMNIVNRE6IfqZMVPW2K1XI4Lsqnm4wbMT20TNpH1r0bkclg3SCrLly5HVmYm7VqdsTODR46m7euB4aNGY8Tw4bQnozCCNmfEyFPQv19fzJ+ruvts+Fn+NTnKkatw/HKVJF15nkw9e62+qbKg+VyGtrA0mCXqPFe3bI/efVBVU6c76MfCoUnucd42Y/FUsDCPtSebWtsyjntYcY8cPdasjFSvobqUtXpRc11Mrwvfr2aB0VcyRo+fYOYraYsWoS9br6eMHm3cCLqho0+lG0ujOAbDNF9sJI95vWe/gcijEcolIepEp+NDXJeuZp6aKvpo1GkXHNzDp8IbYHw6ZZDssEAN7JqFUwpS2EpS6895XhI14uB9s6KIz4uY1LOFKJkcDBMGnRap5JJodid5DqSmYh8JyVCSXw0pac6PZitK+RQzEQN1cWmF7c6inRg9eoyz4tV4zzhQPCpUCb7nZcQqaypRWl5qtnhxhnFZKOQFn9Hi+3C4BkUkzXv27eVvkTGmu4p2mZXApTQEffr1RxYrM5MfdFq5qIR6mKdauRqNaOPfzSSTZ5trIpOq1FREFGd3NXRFVaVZtTaUZKnx/TSEUJipvc+A9PRUjCSB7pbmRzoVJyiZSkS8JwkoYL2nL2hUm1n5crreNCQqhS/Za2hTT2trGA1ZZWfnYcu2HRg55lStejHykpylc2bbEqpsLBqnvBM07ttwKgmK+TIGn1MlaFalk9krfnIytpu2bMVpJOmaX6r3nUUd1OdYlI2PKuzcsxtFrPhLS8vZat1Ftwe7dhcbne7Vozf1QAtnyrB9xy7s2F2CnTu0kfAukuQibN2xA3WMz8ChQxj64ctoMB5C1+xUQ7rystIxqn8e8mUAKCst2NCG39I7tUzUk6b8qKlvnuxJbmqqaA7NytUrUMHyeMrwkchkI2/WjPfQr08v8/WUHBLRQSR7cerEs/99Gv0GD8DKlaswbsw4DBswGMNPGW6Gvnv0HYSuvXqhYpc2Sd6OPmxovfbqfzFm/OnoxPKoXubtJI+1VRWor63G629Nx4Uf+Qhj4MXcWbOZHxtNb/EZZ56JvSUlWLZqFaacN83k1VuvvoCpV1wDhMKY9fbrGHPa2dDXILQ3aHcS+kI2VGtJwma8/SZG0XB0YWPLkL1VKzH+jMOTvfzMIFJ4npuZhlP65RjjmcW6TI0vqhefdnSMAqZMtZKTMg2pF151lvKsZcneAWC9VcfyVUQd27p9F8orylmWS1BMkrx71x5UVdej38ABZi/CSChKQriPRE9lvQg7dlEXSfR26XdfCXrTmGamZ5p62LUWMqItA8lBupcke9RLP4m5Nn8e2TsfvbOCyGCQQZ8W16hRwnqMGaJ8UP7XJsmeO19PtUhLkpKDoc2T169dxQbGeqxZvw5r1qzm8Sps3LAOWWlpZuP+zIxMDGHjb9mSpXibDYy33nwTb7PRtpg6FyZhvf76zyE1M8uMhji9vIq3YxGON+6Ob6oFHbm6ZC+DLZkUfxxj+3ZCX8pUoyNB2iFlaYR2QfNoFQfZW4oT5TXaV0LSlFx11HI5LqhcGRupupXQVlOaB6yGq0Yr8vPz0Y32r4L2XrsX9OwzQC+Z0S4ZWNlfZw4sbRBlqi1bRo4ZS24RoL8iekq/qOrxy9XxyZGnY6lODrLHeigpvaOABKDqxqnOdcZCE6NxdtKF9UU1KDVduYeHAtREbbWvRNycCdFUHhnCiBg8BcTMlNE0IlEm02l7BBkNZzgxblaaanGAskg9hl5mrCEqJgxtisDn+VyMFXdKGltLvBFhRptnFb7JUYXAMFkZaCNMXTNXzD2FnzRbTGNz2WPS43hm0iG5yFC7MD7Q7zSSmeGdWTFpiIgq4ItpOIrKF0iFn7/yQfsHavNkKWk9FXHH3nqUscJ3NlVpBlQes3pQKwMZjwjl4w2KNBkJmKFSA6+uyfjwOM4jhq9Vmlph1ZA4+sETySgRY77E9U3ViOm90mIWlg6TXq3MMp3mbPnFY2HzvOKhnkmlnTEyJCZi8pnHjJvZK49wZOSExNdp6OvNEFCc9w1RVx6SDOlXqTYVRyTE+zEEAxrYYjooT1XYuZ46nNLZb+ZO1SZSTL76o5qQz7zkcYLpU2iqxBSi1pRt20ejVifzqzuucA6F4i3BKGma2O1XTxYVw+QVZRzXVikkf84KUGcTbpPXJs1KL59nBRmJRRhvUmOeuwsVjHwlMl7jH7OAR8TXS72PkLzxNRO6GgjaHNj0UNJPPW56/BJqSUvLtfBDqVNjgjKJ1ptwjdT0o3TrnO9Lps68VYZtnmkaGYk6DOuWY9IhKel9yVUVlaZNwBA6xk55zzC1TrS4PIRdVWGEPZpfJ8lK3g4Ub3267d577sLnvvBZ1JeV4/mXX8F119+Apx9/BDd8+pPms1D1rEimXnARnnnqWeyr2YdPX/9pzHhjOtYtW4trrvokeg/rj9/+9i6cfsZ5ZvV5onQ7vvnd7yMnvxsunjYF48+dirgWS0XqWbai2LJ5HZ5//jkzBH/pZVdQh1PMNIP3ZryLZUuX4cabbsKatWvx4v9ewe13fBOlxXvx73vvwm2/uBeor8LPvnUzsnsNxqARozG4VwGefupJBNNSzZcthvfuhmuu/iR8GTko2rQWzzz9JL50+3co3pRkyl3dYV5TZjIig7pmkohomxZKhDJSPRBgPhqtUdmi01xBKZL2INhbFcLOCq3UTzayzCzKEwPVp6oXzBYm/O8QVCmNlJp1FPVGWzjpk2nSST0foyx1T3WKSpkptyrj1BXpo+45kL4onS0Bp5GnijIzHkbvvCDrDpEghhJnraNy6WN9RBlquy5vXMZcCYoxBpRpfRjbS6OUpGPFNHOvpWJ2KJjHtDesKCgXZ6MXIxLJkfUXWxeIp6QgKplKfiSi9bU1CEU0b5T1TTBgiIumgqgRrPrMG9fUGz3vxFp/mboPDNWtet+hZ2o0h9G3UxBdUjRliFcZX00lUVxFuNRREFbciQDrtRh1tpSR2LynmumTNJ28bskcdyG74SzyUvhyEia1gfLUAj41kUIk1wHqKkzD2omnqW/36yJBvY2FahBMTaN9YrrjmjqjKTTMF9MlcnxyVUlViXdKkGQRQbesVHTLpZ2iPSVr50ON4tNKcKTRapBCJbOIlZqIgVbEgaRGhkj77sFHg+1PY2WoQqoZLFIbOpIMfYdP82MUbSm/36wU5TuqZGI0sIZMSMD652xVYnq2WKBUaZm9vGRk+U5cAjfZokxRZcFKJCpjxkjRyVyrUDm/znUNYTTpqEyCU9mROB7EH0z1xIJh7vFc9al6H8ywoj/ozCM5HvB9TeoX+dEefD6SR6XHRyPh0w72NM5yZk6fCJmync+lqKeO8pFEVZ4dJ3nSP5MkSoD+akGMWkYOQVA1LhrkJDJKOUY86YgkUnmHFZc3hXHRb5Bx0exD+c/0MW9lCIzjq3LmGuOu7TCiClPPMb5sQ1KuapE7+WI2maaOeJkuET29IxgveC6ndmaQUZcUAk5Tnklz9O2DQnLSP8VT8ZDOJBgnZ/sgkugU6anSwPhKbiJ9lKcWqDikmGnxBRn1DPNMwkMiwOugfCRJJcCorPKP72rzT6cik86oFch8U0uKspSOiCQoDMnJkGIeq9PbobOsoGTopAeSvY/knMRD5MPLfPaqXMlgmDw2oTcPxsHpfVfpYK4ys7S6WcO2MfrlbnVztFCv3YMPPoSLLr4YI4YOw4SJE3HxJRdh9bo1CDDNmlerwNQEeva558wK4us+cy0ysjJwyWUfwZRJU8zq4zo22ky6ma1q6D380H8wdNgw1NTXYfDQwYjxmr6Tq88t/uW+v+LBhx7CeVPOw+Ufu4JkO5XpUvrVYxGgrFUmqDW8FpPR5XWRFx+Jtmnu8F46643PXnc9pk6dhuEjRuG2W7+BT5Pg3fT5L+LjJI8qCzU11fCz4tY3To+0yln6qryWfmaQKGtFoal/tP0L4+HqdVtAcz8190o7BRhHPZYhjCXjpmrX1KtMo6Jtyir1SfWHhkml95qioa+8HEj0hJY2+weBYakBZBqgJIFqUEVY3xmZGi1uK2gkgzKkPYv5WSf72RDx02axPtDG2THqZERlHNonkuWKzwSz85DduQA5dBlZeawXWX9KzpK9sX2yVo48nbOWhGTFciC+Q48l0wRl6eatuS/5mhx2SFFrQvVWA2nTr2wKyyvrPDV9FSN/SirrPZVzOtoQOdkTwyH2O+ppaiZTocaV7KEgS+WkqeXlenKglYdx9aYjRuepZMapFqRC0TNecUy42QKh8e9+lwxsv3OP9JwYipzzrANVolJPem8edwzyge/rn1bMOp3Qx+pUKBSaq4gHtCIIVY+iPKl8uAtboWZbBXXJszINMS4yYFJBSca0rhlbkaIjDeM2wMSCrnELRmnSdZ07Tvf0z5EriQHPpeqO3wc6/W0411PuNSffBV3R3DmnACmFjnO6zJ1fJy+cZ91/rr/Gv0bxdSDi1vCkKICTpsaOf42cvGZBS2fK1GuGgHmFsjUbUctQ0Wi5bzgmSnI8+mFcJ1eT+pfUQ8XP6KpkKbLOX6XVx/xSGKJiamE6OXbguw1+ODIR9L700UcZSo+UMOmq0tE4fEGVvgibIRUSgJGv5G9y3sSJf5K/TmwoCZPPrjP3j4CAN24+2u/4Ll8IvUZSpvl5yg8+wmtMK48V9uGGcQPU9ZGjTsGwQYNIOhPYV1aKfeVVqA9FkEKyV1CQb/YxzC3oZoZW9HWQjIwU1FSUY8XKNWYIu1N+ZzM3q1eP7ujeozdmvz8LBTnZ+MR1n0Vut+5mwvXAvv0w8/25OP2M09CrZw8MHTzYzDnbsmUrNtBt2bwN2zdvQEVlOfqSnPXSUHBlBZYsW4azzzzDfJ94/cqlmDB5Gkl2GHPfeQNnnHcBUjJz2eiJY/269Xj7tf9h+ao1WLVkARYsnI8FS5Zh8cIFpkdh7PjTqRoiGIIj68bDuHmZKUghUVYPsFaLK/sMkaKeKs8kZ9MrK1LNs9YcxlX7JMZgRPLNlBgNfema7tEpNerRNr3Kig91lofGPCr/9Zz76+jfiYKRkgS1fxg3NUUTKCRXlTHGQx0HIicUsOltN2XFaaC19jCumVbEsq2yKztkNIHXnHpSBCqZt+Za8vp+l0yrcUqHfjVm4Lzl5s3xQCEITimnvOh7TooXmdojjbqgeJkREv6aT7ZRb7WDhIkZI6Ce/dYYxnXRYN+U8kZ1qi6buseVqTTTude43t3/bFKuzl9B9XbLyFWySUqI/5yc7IBz9hwx6H05nTlPa1hAc57UR+NkSctAcXQzWZGU7wpRx1IGp6py7juF/oO6w8OpaIJMdIGICa+E1GJi9LQRqOYhKk6Kra4dO9lTDEw1ewAkT8fcO1J2WtiOKjv0zMHh469wHQPuyNOBK9mGXNRzbhx113VHls6BUPzkRH/016k45LMbuhuSqtFUtjQ7p5MokexphayItFYFm8r1OMmeW23INaRCR3IiY5Iwj0kENIzuVM9HZzzkp6Tm9KSqH0/G3omPYuRKVFCRUm+WuuUUhkPiXR+aHtxTzPTs0cTlYARZLvJJ9tRjKOc17IQ3TEVr+jrF88yfoyF7asSlpQQQjcXwxKOP4MVXXuEDfqSlpSEajWPegjlYunwFzjpnMrI7daEfcbz76mt46pH/IBJhWUhJQSmJ2OyZM7Bz/VpDBme9NxfnnH4mUvI6oXPP3ohVleFff/4jpl50CXoPHIzszCy8+9Z0LF6yxJDNqqoaM+G9proK69esw559u80UhpdffhFb169H0c7tWL5oAbZsXI8lG7ajrqwEe7ZtwrhzzjMjCCLfOdk5GNK3J4aOGIXRwwabid9Dho9BQW4W1q1bi/FaoOFTT43g6NehZM/RUdNLSuPvNIgcTZJMTZ63AdljkGalu+KgTbhNXOSUGEZK8VJ5UO+y4qP4yUlfHbg1ihxfPGFw5KWIuQs00jVVg8xD3xYXcVYp8ccpU40eaRhd+stoqnS2NtlzJKc4C8o/NzST0/zr1NHOdVeWej6ZThNPHR8YS73hPn08cGPWQPYo0yTZ86pFRztkKAtvNzQYVfcxdrzd2mTv8FCIck4cDw/p64mRq3w9Gcke6yHWPEcJiUXCcKpzR7DHNmdP1YWqCHVFN8AZKdeoefiAbDq4898JV/dpOJLHmiXgxErQsSLjwC1CDnTdDdXMmjEKKSg8x7/Dxf1IcOPQFJyWUQ5r0xH5AQo9jnoaoGA8gkCsjlELsFWtYVAWMHpzzHP2moBSagokXdiky4mfK0NX1Y6U+coth4LryQMlKihWIgSuT+5dVxoKubmYN8i9AW78BDeOgvK8IaedIxWiHF8EA/Kz4Akqnnw/TvJMmca86ZSpSJTjj9O3e2xz9hSiiqt8UFwPjq/8lq8qu7Inbtylt440mkfDs5KQI0Fdcz685UhcUHim/cQH1JLW0+r71HdXnJQppEOHyTSArhjq78EyPhKyPPUY2j3HEABTfZtgeGJaIgqPYYssH+WcPVV4mu5Qumcn7vr1r/DzX/wKgUCqGSLSxsgakn3yySfM1xcuufzj2FtajPt/cxdu+8qNyOveA7VBUiEa7tS6CP5+72/Rf8RwBFKysWPdBnzqK19BeTyMl//5Vyyd+S7OvexqXHz1J6ANlJ995BF079oFZ085z5BqlS/1+s6ZNQPzFs7H566/AZU1VUyjS9FJSinrykAectl40PZKX/vuT+DPyWeK43j9fy9jxsv/Rd+hw5GaCCHCOIU0PBeuMXsFXnr1Z8hhVY4FJ9Maz9nr3zULuQHWfWzgCdqTUKFKj/V5SJO7kjWVqbXn7Lna1BiKm5uLrhmXvh5Ye7v6J+11fXCvnQgofMqWcjVz9nKD6JRK+fiiCBuSTJ1igQmYiFPOfspMPWhsCbb+nD0Hkoq0oaGuaTjTkKzuS2I6U8lpKK+649QKjjvWknxkKE/ls2MN1cAOo1e2H13THeLngPUf7ZW2DnLgaIZk3Jpz9hpDsZUUmwtDUW2spY3hSFJlykl5g5a3DBSunbNnlNWpVlVt6UyZFTXCjphjXddvU5noXk9+mdI4fa+x4UyTSt1jJxsb4IYq5/R4uM81FCHF44O6w4EZy2aQSJwhdGw6yyRoNWrMl8FcSEk+13JwZavUNo6fm2ZXEu55c86RlPvkgRIVdCXKPHXDO1gaOm7sX2PXIPcGNL7vxtEJvXFOOyE4FaNTCWkRivaEM7uh+9OpCazwD43uMUH6pOaHm/qD4yvvVWRNA5i/bux0fCTIL8c/pUUTsvXN1TD/OpFuuG9UxxA9haW7zra/bmhyh0IETHcOjvPRQDqqWKlycHodeE1DY9RXc6qJf0cJVXyemIa5vUhLyUU0FsCChQsRi9SZRRR1oXqzeeyGjZvRg4QphWQsL5hqFl7NWboS5VXV8NeF4K2tx4ZN67F5924Udu2BcyedhbTcDPz0+9/CXXd+F/nduuMXf7oPtfUhVJaWmkzQRttbtu/CqqXLsXLpIqxbvhirli/Cpq2bNN8cKbmdUNhrADrRde49DHm9RiCn+0B079IFQRLPKpbNCOOdSqmrNy5Gvzvl5+OCaZMxeepFmHrhpbhw2jRMu+RyjJx4Lhu+yqHm4ZhTQuSDTseSj+nR1bzFY5wL2ZJQtrpOOiPdcXLegXRCZaGh9j5Y//TbUFpbE+r11lSIACWawjgaMRphS4Nbvm49Vqi0OLJ1esFdOeu66i/XSWoHllc90Vzt0wpQL56ZFNzQGJW+amxKC0qSVVWbQPI7nJZJcrrflHMk6cq1sZa3b7Ryz15HBYXDVmdnfwQDumQhxSslU6F35veoALkVQEv17HUEqALKInHuX5iKTJ6pFeVU8NTBZBmWOuq5D9Kz11GR7g1jaLcspFI5zaRlzdXjkZGjmb1NGZuhiCP37Jm6gs8m4jRz9KB49x68+vqLWLdqNerqwwhSx7t2L8SUaedj5MiRZl6QVtZpa49XX/0fVqxYjlBdPbmRH726d8X5F15sthUS4dS8srpwiGFo+w0tIlBbWnFV+AksXbAQy5YsZjyTusEyZRZf8N/AIcMw8ayzEPAG2VhQylQK+TeupicbFrEYnnr8KVx99dXGb72zZtVKzJ81wwwLi+9qzm0kGkOMBjE1JR0f+9jHkJ6hid+CUyk27tkbbHr2zM3mIRbaBj17Hx4c1LOXF0ReZpBXDwfmPTOlrXr2TmZIbrJBTfbsmWIhPW4KEmgcUZaFtujZO5nh2POTr2fPkr1WAYVjyV6LQ8XFkr2WR0uSPem2oVckPGYPOlPd8J5+SMJUHYZJrLSKUzmoGYvmKx8Kk2Fpmw9tc+N8U9dZbazetoSpLJ3qVHMBNS9OqzDlr2KqlfdaUKD81bGumbB4bObLMLyoVjdqwrF5TtAziouXQdGQ8YrUSdsZaf9E/Yq0qadVyTAT1/mOFisoXcYX+uWkXHpoyV7Lw5K9loTkpqJoyV7L4WQle83lpIWFhcVxQ4TJ7KXJas8YFRImx1izkcjLIR57g9pSR0Pyopak5bwXibOiNM9ocjiJmXgZiZ7ZEsYQP3rBayJefg0vi4wpAE9yuru23iCRC+t93tfWNSG+pi1pwp4UXnfi0ED0BHpAv0MkmVpPrZ5DM5WOfkZJQMUNzWxfhUHialb/MU5m2yAtCDrALwsLC4uTB5bsWVhYnFCYFXwiaIRX839IlsTL3G/qxrTnx/6Nj9QuFglTX1jQED/yNRI93qM/Winq3ImbDX61uEHn2rlQ62DVw+f0VzgETOFqkZEhkWptJ7Q9j5+ORE0tbNMH0QD1qHtNHEgeYzxWXPmO6RckaVQPiNk7TQSS4cUSSo+et1WphYXFyQtbQ1lYWJxwqIdPwzqu03kDRNDkGsO95lzXX3dYSLSxOUe6Rtc4JEHkT6ROpExo7Lf7zNFAIYhSyi/5KRwcloWFhcXJB0v2LCwsWhWH9qe5ZKkxCXNJW8MMOHezBGfIV711jtPmFa7T/UMhP1y/3LBcdyw4NF4WFhYWHwYcF9kzIyaqAHVgTswEF+sOcRRzwpm4rXk/2kZTcnN2QTMSNFeSTyahs8Zo7F8rOmWthrQYM9eU6teJvTNc1lZOMdB8MMVGKzFN7LT/myNWs4ZAcOQchz5t5sy7EpKT66071CnP6Yy+0jmfIdQBnY41rmqkbSRu/jY8615N+tWEc990+tka31POuE6BudedcqErInfOgK0mQDvOoY6ucwZhnbcE1w+5AwaK97vGz2iZSHNO/w6Ml5wD+eP29Tl3pF3USVMvHvhs0+BzUk7678pH8pS8navJuY77/epIzpGHU4p1zDOV94Q2n+c13TwM9IweaXjMSJbnaih0VJk6zim3qiF1TulqAZN0jadusW8WeiYpVZMP9EdnZqpDozA6mtP2OpKnY5mkn/pNOL+60GDkWxXHtBr3YGiytRLn+rBuTxX2xdKdE4sDoL6I7GAc/fLTkUqCEtDGaVIMLw0Wxej3suLSRHNT1vSVUA/qvT7sKqlHaSiOsOnXaH1ox++wVjkyRsF4GBF97YEVgr71qNWJqbzjFOzWh7bWTvdF0LswAykexoW1k76pa8AC5azEpYE3K0hhvvdZzxvbSutQEdKke2eFqcWByKSUBnbLMN98dT7bFoW+f+rTPnKSr1kyrrIvrfChliR6b0UERTXaDZF6yvrA7L3cLBrfPJocaMnndU/OvX40/h0ODWGpmk9qXxKs8LVS2EctJCMZ2j0dnQ/s0mwEylOrQRidOMub9LS4Mozd5dp7MYW6q7mJanAdb3w/fNAuntpLz6HP+gpBwszZ1MrGnp3SkZvuY/lPPtwEYrEIbZXqAz8q6sPYUVLH+jQFYbOptQeBD24CP9RQquM+l67RBiWiSI3XoUdOOjplpRqLk5xq2wQcUhiOeVHOw417aoyexn0O4fOxQag92DsiTHs4WQGqTkihnhZkBdAjK0iZsj7QwrA2KMfHSfYcpqptEVSY1hVVoMzT9ptYnmzQpPFENIy8VC96FWhLi4jZBFhr22NaxcdjkT1N+pY8tZu+btez4OzcV4PyEKs7b7NW4oRCH8BXS8V8Z5YRDflSzJc/FE99FcHPuzF/28TNz/hk0BD06pqJFBKTQJRtS7PDqioxVu78VZ+kL87aKEYZ8jzsC1Cm1Sipo4zNBP4DzbMFkE5SP7BrFgIUjxp04vpGji7Zk8i8ItDaYteHUJzEpKIee6pClHHAWYDR+nXZSQCV2gaImglxbTvDunJw9yx0Okqyp+1sSipD2FlWS1lqoQpvGO/aqFugLaEKUqBeGalSJ72sgwJsdPbMz0Ruhh/Bw+hbgvVtlLqbINkro44WldWwHmPNZRbWyIm4HMaDdgvJ1e3ZJI0mKQ7Q9SCBziPZM/3kzaobZaaOAJb98nACW4srEVUHQPJuAzqgvjaqB9Q88cdCKMxOQ2GOCLS6RqhzbbBy/7jInkAuYBRCv0UlVah0e1Ys9kPfx1RHeUbAywzPgN8XcT4kL7LHjFcnn/bjMmSPl/2s9JUrYZK9PeX1qAyp/dk2lZEqVH1jVh9sryRb2lYTRfc0r9kvLMCWoIdGTKsT2wJqOaaxBVWYn0ZiQhlHxEO0dQf1MRkl/Zg99mJxtrb4kwhgX0UtKkKUtxnn7YiV/OGRQpl2zUuHn3WShsl9JMTac8tHMaoeE59WHS7tlb5GeaGsqh7lNSFjQDUa2TF7oIiDkq0Pt5sqlr+9OqUiRx+YbxJ8Ji4CzYYz5a35hxXVIZRX1dE8iDyrIdgRpUpVo2hUUtWAkKn0UpZeGhwfK86CvAykp/rQrFgNooZHawuf6toQSiqq6ZcfIdVbJJDmCzXJJzsS3FpbxVq6q178FBomfcM5KyNoyrzk3jT4RoxypfxqSPb2kEA7Q5fOt98F+dsRYewNoWFtM0BOO5mbpd7SFPgiMXj81LkPG9nTm+rRU7x1rHlTynCLA5EgKzFCpnzUAvUbqymYLVxZyKgAlKM+SaUKzR+nEaVgNewYUgVPAZPLtAlUAcgERbwebK5O4IX5mzFpaDeM6UaCRauuPTfbKs8lEg2PabjR59HsG0XGKWrxpIxF/pJXzHmULJB1k1FaxdrTMbugDgtVCaZFzzwXodZ2J2YkX1APabKXSZdE+LRdSYROUo7JEPNX73Q0aCpjk19ME0GmPFLZQDr8ZAxKkPqo72irzMVYB4jgiTwnKHPJ9PDD4+0XbjE1EzIkB3PGsk+hqG9OX11pDmZvR2aAtsmJJafPmMkJSYMboH8dcsiRyXeTLamoLhXBU+eE9NSnEz3UHNg4iSbtVoxK6mnUDSg97YgiFQwf4q+bfjWY1UDRpCE/ZWw6lJO615o47p69A6CcTxpViwaI4cfNjtmOIZQaOGf6S/Env0rgfH+UZC9G+sRKKZ4IIEKL6hOh0VBkW4DR07T2MAv+hhrgsTlbMW1YZ5zZI9MM8WqI2iSjDRBn5a0K2+t3hpONDHlNGpgw5E+DNKZkMQ3u3BS1PgUNW2jYt+XUv73AbBqcrOglQ5fnOWAFz6vSaUnWrd7VzDNypVWWXCXxjgaT/sOUBQ8Z89H2zUl6htg0gi8qyXc8iPwmqI+mXJt/TonWmcZCHJkceSrJwWuvjT8s/37VY86lDgX10ItEO3JtQINMJRWV8mZABZUfmh7jQiNW6rgw9aoh1h0MEihtkuy49FajSS6MJVKhdlrJrY4WJnvMXHd+hUUDTJlR9aQPXjsFS5eU5zKbZgycWhH28wpv+NhKcrZs9ZLs+XgeI+FrS7n6kfDGsKrWh0fnbcdFQzrhzK6p8JnmtlLTcip0TGChCuszWyR2kqWk6dX4LaMV5zU1nkRXnNVhDlT2nLLGK+oysep6KIyQKDzV5BKmsnk/GsieHpPTbadfj8KUKuiwjVSiTeEIonno22tJTT1mSE/1qaWOKFeKLUHZSbQO1XMaywfiyGTvYMgnTUMxw+cdVK6HV0dJuXmy11B1ylJRgJKhKfvymCdiNh1RrhKbEQH/mFEQNVQaNFZHDWethxYle2apsSV7h8DkPf+IkjQWtvTBn2AFbphIE2SPBDAa4DVmkSGFbQEqrIfNFC/juabOj//M346LSfbOLkxhuWYFq7ElNeXaAEYqYnTJNrvoh19kT0I23x8WSOv0FYbkmWDqOA3tsBmqYTKLA6GqSfpqJj+K8ElgcgYNZM+FkSedS/hMv16HlKtDSJozcM4o1weXi5ZKNed3e4ahEiznEp/ImRnKblygpXxGYY8dIo/xjmqzkkPfpifOHEqwcpKlK8/m5ep8qdnJDK2O3n8a09ZIlGtyxX5Hg5cCPVBq2gNUtt+5qmZJ81I9cWhRsqeqXq4l0dJCabHENsKR4qj7qo8cU9gAMwyWINPThz/5RMzvrGLU1gLGcJLsaSm73jueeB+vDNU174tFsJpk7yGSvUuGdMY5hVpEHlC5bhF8kDg2vCO2LJn5zZJ/I2RfsheERkCDvIZPJ6F6TU6PHUt1dLxyPBhtoYtHA1E5M89RYxBmqxVzMYk476iX+sCQGh6JsWJTO7/pmLS0DIWWluMHjeOR3jtAjB8Aar64aW1pOZ4sMmwOrn+qi4wMGxfc4xCs0t24bjgenKzluTEa688hMj1GGTrNacdWHdj/p/0vP7hcT3ZdFJqLo8LSRKKDO2f0uUa3TjTDueaoddGiZK+lM6m9oHHGNpbR/usmC3jWjAa0tVxNxx1J6bJaHx6ZtxOXkuydSbIntW6jHWEMGsTlSqgpSTvXmpJ7W8v1ZMWBEmss06NDR5XrsUvq2NCR9fVEytbq6wfDkWoIK9cDcSR5nWh8wPZQ01AirDvUNUaT153JZc2i8Ttt4RwceOai8XOt7Rpw6JWDr7lnjZ9qfM26BufgwLNjQWO/OpI70WgqzI7iTiSaCq8juOPFkfxpHFZHcs3hSPdPNFqU7FlYWFhYWFhYWJxcsGTPwsLCwsLCwqIdw5I9CwsLCwsLC4t2DEv2LCwsLCwsLCzaMdoR2dNalwbnHlm0AA4QZGPJWgm3GFyxNnYWFhYWFhYtgJb9gkZbQvvVJb8yoQ+J6+P82u3Lz2v6eLbg7F9ncSwwtDmujzx5sawWeHj+Flw6rABnFaTzSky7r1CJrFSPFc4HmhraWp5EXIWRB7wmNeaPx3xiz8LCwsLC4vjQbshelBZSH3KWrRSlk/NEo+abstp9Pa6vD+tr7tZ+HhMSJNH6goY2111Vl8Aj8zfhoiFdcU5hBgmJNtiNUaxtuNnehxVshPj0+Ssi4vebRom+3ESNJc/zmC9rmc/TWlhYWFhYHCfaDdnTp1u0Y7f27tZHmNVT4nyOnS5GXuJTz4m1nscK8xEFytAb9WJjKI6HZq/HJcO74/SCLPM5HEnYfL7I4phgNFOKydYJqZ3RXX0WSrJ0v6To9VP4FhYWFhYWx4l2Q/YSNJz6xqGHqdEnyPQBl11hH3bVxsx3/2Q2HUNqcSxQp54+15YSB7bUe/C/DSU4s0cmRuYGEQ9I7kAH/QTicUFyjXo0PA4EqbcRyjGFZ/1z/EhLhKiz6ok+8CNEFhYWFhYWHwTtZ85ePIKEhmx9Pnj4G/H68N6WOry9rgzBgK5FEPalJB+2OFrou4fBWAypsQSKg2nY6M1Cn1g1uoarEQsGUEftSYiYWBwT1Pusb8iqYZKNetR4/MhK8eP603siF1EE2ELxevRFZQsLCwsLi+NDu5qzpxlQMqApTJJ6o97dWIX3t1Th9KGdUGDGGq3xPFbEPc5cyADFtyXiwxubS3B29ywMy/Ih4tEgOUmJ6Te1OBb4SPJCXg8LoAfBeBzzd9WhtC6ML57dHZ0pa809VY+0hYWFhYXF8aLdkL0Yk1HP35DHg1QzU49kb1MV5m0ux/Xn9kDPBGmgFmlYHBOi5Mdhj3pGPVhbk8B/5m7CpSMKcVrXTEo5gSBpdUDM2uKY4EEdyV4AcW8Qceru82sqsLa0Hl8+qxvyE3HqqhcBfTPZwsLCwsLiONFu+g58sTDSYrXIpKFMiUXgj0cRJY2l2eQ9GlfazbhZleu17hichhvTKM+0WAK+eAJ+Xxx+yjUtGkc6ZezTKtIm3rPu8E69zGqSxClTnxYOkUz7KNcU9aLGQzx2VupaWFhYWFgcL9rPQJFXqxoDxnD64jzWogGPhhp9ZhsLjz+AhJ8G1u+17hicV3PHJF4K1Euy7E0EzUIXUhb+8txnZfpBHLxp0lYEKVt/wouYl9objyGolRuUsZ1yYGFhYWHRUmhHZE+kw+9uWkGe54HHQ8PKU9pR07On3eCsOzanRQIeL8kHNSUhQRoS4oPpJdWecLzf1HvWHd5pHa769ihJnlG2Eq3TQkFcq3CpzxYWFhYWFi2B9kP2LCwsLCwsLCwsDoElexYWFhYWFhYW7RiW7FlYWFhYWFhYtGNYsmdhYWFhYWFh0Y5hyZ6FhYWFhYWFRTtG+yF72ho6oW1+kysbzSJHnSUPLY4DjhwPhK5ZyX5gUHySXiM1NXAkmuBvUzK3sLCwsLA4drToFzRitFSxNrJR2kRZW1eE/EEE4hHEGZHXt4Yxd3sVvnh2AXr5EogmtJ2FmGDrwscgfV7Gj3FKxL1I8ILZvc798oQod6OdNpQl+s6vN05h6jGPj6+2DS9Xdvq1wS/TsKwmgKfm78L5Qzrh3ELFhzL16vP9bQNtQuwz6ktBaqsSCfoASMAuIXWFzHwwqfJQX/1tpq+BeBgRr7av8ZnNqp9cW4k1JTW4+Rx9Li3KmOtrL22T59phR1sBWlhYWFi0D7Qo2WtBr44dIngJD+r9AbM5LdkS3t5aizlbynHdOT3R168d+Nrmc2mGvCVl4/Fo/z/nm6iHI3uCh2lQOhL64oL56kLrI0zno2w9JEjLa1Pw5OxtOH9EPs4uCPBaHDGSa20B3BZIxPXdXpE5kme/z8j1QDRF9hIkeXE2BuLOhtFt9QHaaBgh7Q3JOFE18cy6MqzfV4cvndONZC/G7Pa3EdVzIFlKDaPkxhKRr5F+WlhYWFh8uNCy9kTWQca3LRyTEqNVEk0SOYp7aEgjMfj06TRei+nLBE291wpOcYrRsMuJmBxCihm1hisJvhJDLBZjOpgGGv2EiGET/raG8zBiCcnVQ/IRTyCF9M+rXlT1SokFKOJNvNcaThsTe70BEj2/ISdxXU8KUj8NMnWg+5KlekoTbBTwpUP8bDUnPVDxU7wpy0A0gjSSPF3XJ/4MiW0rR/10VVQk7xAObWFhYWHxocJx9ew1flXGti4aR7StxsUIhRyhoVR/if4t312DdXsqMHVUd3SSCW2j3jETMZIMrzeBAK2nn8ZTxw7Jk9GnjaUjrePfGO0tr5JcUZyIRKPOEG4bGVyHfhhFwbZ6L2atLsLIPjkY2inVDPWJRB8yetpKEBEVkff5vPBTqB4NewskKLGkXB16LTj3IlEPIiQ0EeqpSExbERkFq/5SxUvFaP6WcuyorMdFo7shU7GnvhzaU9k6UCkJkshLpoIlexYWFhYfbhwX2XN6ShJmKEyGaUdpJeri+hhU68PpD5GRp5GiAY3R1XhSESYjSTO9JpHkE60P2UpfLI4UMpP8nAxDkrySnT/GeDqfeFPM/DwT7VOOxONek5byyipUxZS6thmCFhS6qFM9UlHn9SElEUd6os7c05yztoKXgspkvHJz0+En4/RpbqGJjmTnM9KUXB3CJ40g0eOVispa1NTHEDXDqG1FqEjqTdj6bFoc1Z40hFmOMmJhSjli8r6t4pbC8LvnZpFEM+fZ4LBDuBYWFhYfbrQo2dtWVk2yl5a829pQMtQ/pkP9OkO5zpFjOp1+oLaBl0Qkw5NA55w0BAzZI9HzxxkzGXRnfpYhe5qjx6hGE4q/F6WV9aiKkmp52oZEOzLVogYdiUYzr81fEisDyVSxb314ElGke+PonJ1KmXrgjyfJHuXmkj1Bl3Qm8hRmXMso0+ow5e/RbMO2ibsj06S+EnEETPwUT09CQ/jOF3TbAoFEPXqTQFuyZ2FhYdE+0LKWztBG/WkLJ8PomHXIUJLokS6RikT5q/siJQe/01rOMeYu+TQm3tdg6A+ALvMVvRUngdZ8roQZR2vsX2s6qYhIUZCENUYiEDLENcFzOUfuTb134p3kIkIcVxTldLkZsTaG00/pqv6h/raGk2Y29Ip6jUxNz6TiZkio0PS7J95ZWFhYWLQnHFPPnvug09+ghQROL5THq14oD3aX1qDGbG/Skjja3g2Fe/Cz6ttxB/NE9txtN1oaR4qjI5N0XwydM1OQwlMf4xLzaLhZ74qYaq0wmUo8ZmQaSXjNMGNJdQi1ETGYo5VDUziedxvk6kmETRxFn+MkJJKkQ6Sdnr/jwweJYxwp1L38nCBSqX/+GMkSszpBubkUX1Du+9RFReIcZjgllWHUhKm/Zg6n2/93NDgeOR4I9TwKbt+zh0TPxIYNAkfmun4scXNx/HFMZVy65WaYoXF1kvuS80v1x5Vpy0nCwsLCwuJE45jInmt+nAHFOMmeiIkfMRpR1f47y+oQjrfVRhzNQck7GUxTHBm+CAoz0s0wboz2XDHzi4RoFabPGXqUgLXa1cwvI2nZUxNGnRkxdchB20IxdtVF1KStEUeQBLprdgrJXtws0Ij5zEAovLEEyYq01UPi5zMaoFPp8L6aCCrCIqzy42SBYia0vVzVe9ujcxpl5jEd0D4vBWdkJRLtHJ4M2mhhYWFhcXQ4GSz2CcbJY9EVExObw9Brh5rq38kIxUoqcxKqjRHYfgkncaigD37i5MHJJNeDJHRyCszCwsLC4ijRAciehYWFhYWFhUXHhSV7FhYWFhYWFhbtGJbsWVhYWFhYWFi0Y1iyZ2FhYWFhYWHRjmHJnoWFhYWFhYVFO8ZJRva0VYbcYZarHgbavOLIb+opNxw57Wty4NcMOhYkMcnh4PQ3d93i5ISrz9Jl/VpYWFhYWDg4Scne0dG2xtAbx75lshvOsb31YcKRqZpL6g4mCO71+FH48cFx7Dn94YWk2RLbTzeNhvw6NC8tLCwsLDoyTtJhXBkruaOnAdoKTBu9HilB+kyWPlMlF4O+Rhswv/GTVRTHCSdVLgFojgToqYPTL4nqmueESsYJoX3iYGk3J/2WQdt999nCwsLC4uTGibTjx4nmCErjnqiG+w7ZO/Bac5APDo3UW84Wxg2Eo7Efci7hbOrayYLm4qTr7jB14/g3hlRAROHgbyJIIrquX73TVP9eU9cOhuLVOOzDuZMdR5OWY4GeP1iGjfX+YNec3rn3BeXnSVysLSwsLCxaHW1qFZxv68q4JZCIR+GNJ+Cn8/C6x1x3jJhHnxPTMwnHxeMRUhBe90R5HEWM9xN0zoeyouZYLp702wxE6rNk/PXymi/uPOuPhxBMhBEkIfIYUsR3YvogPf1RGHSQ43Uvr+kzZki4xOlkInxOOl3oTATPw7h6mFYvZebjbccpbZKpZM/75HIx88U8OaYrRufKTfJWvug5ujjvx4wcXSif3Hcoc/4zeSE5G/as/ArzV/I6yDEO+tX7kq2O9e9khdLmDGgzvnSSo+vM5+5M3B0n/dTz5pwy1Fd6nXd5zePqI/UrKWelW9fi9Edfn3V1TXKXnio86Z2Hzzjlha/LC3PkhKn8ETVXVDwJhmjyVH7yneSTFhYWFhYdE236bVyHlMkYeVG0Yxve+t9LsoUyiYZUJLwykz4EfD5cevllyC3oRg5Do+aNY8OaNSgvL8f408+Ah/ejsTiKd27Fc8//F9ff8HmkZ6abj8p7Yh54fcDSJYuwd9cuRjOGoD+IaCSCgOItYsn3R59+JrIycxGpr8bjjzyCoj274PMFceY5k3Du5EkI19fi3j/9EdfdcD3yOxfQiCrN6g0zrOYoEEdm8tu4fr4So2VWOg/+Nq4O/ZIr74WP+tu4eqBhEFuEy0tB1leV46nHHjPEwMhUUeWBJxnvKVOnoE+/vvD4U+AlYSsuKsKKpcswdepUxCkTOU88jF/95If46u13IDMnj+8GkqEIDplctHAJfAE/RowZRV8ZCFVqw+p1eOPVV3HTV76MXUU7UVtXx+iRyvBe3z59sWL5cqQGgyjoko9/PvAvfPvO7zM8P9OuSB4urY3R6Nu41AkPZed8G5dBmW/jiph7GcuGb+NKDvo2bvkxfhs3od5RyrSyvAzPPPIYk8KXpaz0Wd8xVpge5uF5U8/HwP4DEaGexpne2qpKzHlvJiZNmwpvegrllUAKadk9d/0KV175cfTo1496FkBUeigvSQK9fPfFF57H8uXLDO/mHVzysY9h3PjxPGK86UecupHgO0sXz8NLzzxr8kHPjRgxCp+69jrUSZuMvFmG+Jzf75Tao0GABL1H51T6lvw2rvnGsGC/jWthYWHxYUSb9uwlZN1ktGjRtu/cgb1FuzH5nHMw5dxzMW3yZEybMhnnTT4bZ597FrKzs+EjUfAzxkFGe/3aNZj1/kwaRpFOmkCSr0Q4ir2799DLBP1OBiKDx+cTcS88fFdhRiIkKTyO8reWJO7RR/6DqrJS1IZqsG9fMc468zR84uNX4mMf+wi6FnbBps1bSMJiKC3ea8IwPSzGvJ98MKSDJFm9lzUkw4sWzMXkyefgvCmTcP7kKTh/yhTK9FxMmXQ2CvI7kxCJ0Dm9obt3bMe7b72BaLgeqSQuPuaLl0SheOcu8skwAhR+hHIQ6Tcg1/HSrZg/D8sXLYTfPE8yzrBj9TUo37NbQsbf/vwXvEwSPv3V1zF3xkzUV1SgaOs27Cb5jtfXo2TXHvqtPDyZe/fibIBEUVdZhQXz5mLquedQRyc5OirZUq6TqLsFnfIRY8PD4/MgQPZZU1qK/738IqKhWuaJGhj0KlaHYsomkSCxI2FUn6mel0DV/ojGojifhPuWr38dt912C26/9RaMGDqEDZF6+k0iz/wtLyvB/176L+W4FaeNG4WJp47GaaeORSYJ5fPPPYUN69abnlkPM8gfsNTMwsLCoiPD92MieXxEqB9DzjEdGqLTGYmU6ZIAquo1pHr0hkU9gyJd6iHZvnU73nnjdewh4Vi/di1Wrl6NlStXYuWq1diwaSOGDhmKzIwsGkoaxmgYr7zwAkp2F5tet0ULF+OlF/6LRfPnorK6CueQLPqCARpOEhnGja+gR/dC9Bk4AAMGDzEE8LRxEzFw8FDk53fBjPdn46NXfhx79u3Dqy+/jB1bN2PT+g3Yxjht2LQFu4v2oE+vnpgz932MP/VUpKVnilHt7yE7OiQQ9MaRaeLFM6Wb0BCrkWqSlJpDc009cV7URGIgnyWSLzQJPWAEaXpeyBZI4jyoq6nCs088irKSCqxatRKrVq7Acro1q9dg5ZrVlEkPdOncSW8ghW7OrFlYtGg+Lpw2FTtIvh9/4gnMmzcHO7dtxCUXXwpPSiqD8TMY9S8pjiR34RBeefEFVNdVkySfgY1bNmIp82PjmpWoKCkhAZqEOXNm4zOf+QzJ0RSMHT0KqenpjMMqVJIIBUhclMfTLrgAZHyI0lvfUfcbJeAjmclM8cNPHVJHm9MbbFSKpEhyETVnXvFIxFSojcRRH6O8jzbrDGJ8PoHqklI89eRTqK2oxIpVq7BCOrqajr+rmI4evXuic5cuJL1ObqgH+tVXX8bZZ55pCs5jDz6ExfPmYdmyJZg27TzkZuebdKu3TjF/99238eRjj2DO++9h+ptv4G9/+yc2b9mEuXPnYebM2ejdrw9y8nIRYhmorapAasCDbevW4XG+U0Z5njpmDNLS0tG5a1fkMG/jEQlC/w+nPwdCfaPZ6X7GXwRcckwKjn44EjVeWlhYWFh8SNCmZA8emg4ZOVqOnVu3IBGqxxe/+P9w6oQJGDdhPE4dPwGnklydeuo4ZOfmMig/ggxn9+5deOnFF82wWSGNWr9+/VBQ2AV5OTnYunUbzp40GT5/CvkYDb16N2iizFAW4xklefr5j3+KaZOm0Mb6sWPHTqxduw7TLrwAeZlZ6N2zO9asWYsd27ehpqYGvXv3xkc/eilyMtPxxlvT8c57M1BeXY3hI0aQ87gLGI4GrUP2JH0d+SjXWhLf5UuX47Zv3IEJEyZiPOU5kW78+PEYR7kWFBbAGwzCz8hUVJTjqWeeRqrXB38ggMHDhiCf9/v06YUFs+fhvGkXIJCRAb96Ysme1SOl+Wr7iovxwn+fN0PFE5hnJXv2Yjtlt3vPboTq63HupEn47wsv4U0S+f+9/hrenznLxGHzls14Z8Z7JIebUFtfh4989DJodh9jk0zB0aD1yJ7881BfayorsXTxAnzzjjtw2sTTTVomjkvK9bSJpvHgZR5rPqSXhOzxxx5HRmYmqmuqMYpEt1NePnr174eVy5bj9IlnoFNXTQlQvBW5BHW5r+ndPnXcOOrgLuwoKsJ5JMlf+OIXcd7UacjVULovgUhtDfbuKcK8uXOwt3gfvvXtb6OO8l64eBG6ditEl8JC5GRlm6FcJdRjWlWCZOLqS9OwZM/CwsKifaFNyV5C85Poh4hJZVkZ3iaZWrpkMWbPn4PZc+dhzuzZmDdvIRYsmIfeffqgc+c8lJaW4l//uh/naBht2vn49wMPkPAVYsyoUTRKHiwluTnzzLORkZbpDKcxnGioDjEa3mhtHeL1Ibzx8is46+yzjM2rC9eZ3pi8vM4kMVH84+//wOCBA/HZz38OZ5x+JgnJDOzZXYRhw0fg7Xfew5e+fCMmjDsNAZIkWl36rhCOBq1D9syZmdwfQ6QuTJL1JpauWIU5c+ZiLt3s2fwleZs7fy5SszLRq3cv1FIuTzz+BLoVFOLa66/DE08/Se98GDNhLAo6F+KNV9/Aeeefj7SMdNNLKhIlKhDiew89+ABJzwQMGjoEL1Cuk5knE0kss+n3ilUrceZZZ2PJoiW45fbbcM01n8D5F1yAlNQg1qxfj5EjTsFHPnIJ5i9YhAsvvoQ+BpO9pUeL1uzZI/VJxBGurcUbr7/KBsIqzJqzELMp01lzZmP2vFk8noP0rCx079UbsUgYL//3BVTVVOHLN92EN996mw2LIow/43R0694TM999D6eOORW5nTqDpYaFinEkY64oK8W709/BE488ih7058Yvfcnk3ZvTp8Pv86NzXieTjtUrVmLzpg2mh/qjH7sc2SwbY0afiiGDB2IPifaWLdswYNBANmiClEdjsichSC7Ny9mSPQsLC4v2hTZdoBGNhxCgkasuqaRxDMFLsqUeI0UpQeMkEmnmoMl7/qmoCeFf//4nThkyGJ/4xCdoyAJYv24t/v7P+3H55R9Dt27d8K8HHsRtd3wbGdnZJCYx+OjP3Xf/ika0DAGm1EcztatoF7oXFpKYMhyGr/A8gYAhI++RcHbq3BlnTByPSDSGJ59+CmPGjMUFF1yIH/3oR7jp6zfTWPdg6vmOR2k9WsbQegs0tBo0WlOLUHWFMhgx+q0lCnpCadXikjhPYpR1OBzD008+Qzkl8MUvfgGpKSkoKd2HP//lLxg5diwuvfgjuP3mm/HTn/8CWZ3zGYwf8WgEVRUVePihBxAPhXDLLbdQjh488tTTWL92A27+6lewp2inIZA//P6d+L+f/xwFXQqRnpZK4h1BemYmgilBdM7NwZARQ/Gbu3+H3/3pD8xvyfNw6TwYrbdAg4JDuK4KdVUVhmAmqBteb8NiFfUgR+mfaV74fXj9ldewdfNa3HjjTSgo6EJCXY8///WvyMjLwedv+Dy+e8cd+MpXvoI+gwaQoDLOjG88EsFjDz1kemQ/eulH0LevFs/4ECXbX75sGV5+5RUMGzYM+fn5eOuN1xmSAtRCpgS2bNuCnt16IoXKFWPjKca49aLf1157PXy+FDr1mJqY0klCzS/YsAs0LCwsLNoX2pTsxbTlCY3V808/i1VLl9KAKAT1Q9CY8kgzw6Ka9E+iFydpGzV+gukNGti3t3m7uqoSofowyiurkZWRwbjEMXf+QlxwyUcQSE0xw2PazgKhKCKxsFlAUF5eRoITpeGuR1pmOtJS05CRnoEoDW4gmMLrNZg9awaKdxfBQ4M5cOBAjD31VPhpdH/zm7vw+Ru/RGNbwJjSc48kIdN3NGg9sifZzHz7bbz79lsk0RF4ScT8bjeWyW7Kk4/GKdcevXphytQL0KtrdxI9H2pqa0hMalFBMhdITUWn3Fy89MxzuOzqqxFMz2SSmTtkNaXFu7FyxXKcc+ZZ8AZInEi8E2QCIt89enTHti1b8Pjjj+InP/khtm3fjhDJjt/vJbkPIpdkb+WKlcjOykLX3j3wzHPP40tf/xr1SfMgj37VqGTaaqtxKbeZM97F9NdfMr5pPUWMHviNj3ogTvJMekRS1W/wEJx1+hnoVtgFaSS49fUhVFdXo46/EeZHQUEBXnv1VdM73aVLN8aZ7zF/5s+di/KSvaZnV/2RZqU6/XR65hSeGhhe9O/fjw2b7ti6ZTNCkTr4+O6f/vQn3HD9DehMMhmORtGtZ1/kdcmHL5hKPwKmseTAkj0LCwuLjoY2JXtxTxSeqLaI8JrJ/Hv37HaIHY2cj0RHw5GMIc21F3369IMng2QjGkdtdQWee/YZFO3cSeNKs0MDGFOvIP25+OJLMHz0KPpB4kSCJjKpveIqy0rxxCMPo6pSPTN+Y+g190yrUU+nYT590iS+70dlebmZk6U5fhKMDCxv0LjFUVVVg6nnT0N6ZjZijOPJSvYkC783gVoS2z17dlGOIgtKMPNOmcgDkb0uhQXIzs1j/nlRT/L7xisvm4UTmgup4VSt/FQ8zjzzdJx11iREKU9t4ZEgufAyjhrW3LhuDXbu3oNzp0wxysGsMHqyfs1avPH6/3DjV24yW+c89/wzJIilJh7eqEiL/EigzhNGbm5nXP3JaxD1BCnqY6ERJ5rs6X3Fx2l+SN9D9VXYSSKrEWKvdM+kVnvh0W/KpWu3nsjMyuYr1LFYCO+88w7mzJljGguCthSKUeeHnzIcl370chKpAJ2P7ZEI5r43mzq9A0EjwyhKK8owc+b7uPDCi+EP+I1slCdjx41DQZfOeOG/L6CutsrI3SRQZJAnK1atxkcuvxLnsyyo91rTAfz7SbQTX0v2LCwsLDoO2rxnL0ADGUtEsXrJMkyfPj15R6B5pWFUD8ripUvxvTvvRP/BIwzBeO1/L5nVpTfddCPSUtNpdP2I0lguWDAfTz/zPH7w458gIydLW/KJp9El8Ie77kKXTp1xjXqo0lKM4YyEI9i+Yzvuufu3+Ob37kS3Hr1QV1OBxQsWGIOmnhqzN53MXjiMp556Cj/92c/QubCQqRdhOTmHcaNaHOCJY8fmzXj++ecM8XGh2HpIctesW4drrvkkJp0/lSTLgyWLF+HZJx7Ht277Bjp16sSHaNhJGot27cTPfv5TfO8HP0G3Pr2YJyIdCofCZV7MnzkT6+jXdTd83pBrhSRyLVKuvQlTMzMM2di1fTvqwyESLvXXOvHQDLDNWzfh5f+9hl/ecxcSnhTK1EnD0eFEkz0tGXEIvVNMSG43rifJepZXqRP7xWpSbVY5f/rT1+LsSSS+zM8d27fid7//HW7+ylfRr09fXqI+kaxVlFfguz+4E1+7+TYMGT6c/mhOoRQ1bnr13A2UtSL6D3/4I+X/c2eOqEg25RNnwJWl+/DgAw8yzRpOVgNJ+igtiGPdhg249IqrMPXCCxGmHLy+oOO/gSV7FhYWFh0Nx2JZWxwKXENVGoYaNXoMbv7GN4z7unG34dZv8vzWW5HfpYCmlOaKpE0rbP1+P4laCNWV1bzqWFxtklxTXQNfQIRDRJRkUc/LAtLgpaemoaq8DNW11YiSjCjccDxs9iszk/tFMkgUMrJycc5555kVvedOnozJ/JWbNOlc5HfubIy1Y+5OXog6aPivV5/euI3y+xplKZneeus3cAvdbbd/E8OGDicRoBziWtDgM+RXMquurmKmiMqqByqKirJy0xMaTA1KjJSp+o4aIEJesm8v1q9djdXLVmDd6tXYuGYNNm5Yh927dyNCYqk5aV1790a/AQPRZ/Bg9B4yBL3kBg8hwe7BsLQiW/RBROQkBeWpuY4DBw7CHbffgZtvu3W/nmrxya233oaBTFskqrRoKxUvyaaGT32orqlFmI0FMyzLfxVV5dRjNZJ4TpKmtEfZqonR/wjVMKz9DEkWw5JdILC/0aEe2DDzVv2IdbX1WESCPnzEcIwcPQpjx4zBqaNPxdixY3HVxz+OwdpiiPnloz8J9U5bWFhYWHRYtO0CjUTYbLSh+Ur6jWgrE5EzgyhNGqNGcvWHP/wBH7vicvTtM4DBxhAK1eL5Z57FmnVrkaGhXb4TCoUQpDH82FVXm5Wh+vCUJqXHNbzL47qqMjz9+OPYvG276dlToqMxp2fxsksuxbAx4xH1BwzxE9kxYRM6ErzREP7y17/gk5+5HrnaBkbxPEmHceMekYgofPRb/zQPjtIwMdXG1Mw4/OfhRzBg0ABMPON0k3+JaBhvvfYaFsyajay0NDNEGYnEURuuw0cuvRSjJozncwyD5EV++ZM9e5tI7J576knzvEiI6Iz57B0JS15OLq78zHVI1YbYhiwxfkpYMo9FW3ZvXI9nnn0aN99xh5lbpgHzo0dr9OzpIc3Mc/YwJPXiX6VUaVV69JdhU64PPfgfQ6JPnXiaaZRooczcuXPx+v9eRmowxQzl6gsaVTWVOP2sczHt4osoF6aXctX8P0MFmQgRQn0RQ9vaPPXE0/jyl78KXwoJOZ81Q+hMRMXeXfjD73+HlADjRj/V2xo3i0ZihpQOGTkaH2dZkMzjDLdBrrZnz8LCwqKjoU3JnuMj7aWJQbJ3zZgSBzKg+ldTU43UNJIkGnI9Z74hyntVVVXGaR5UamoaSVgOApqQrp4M443mnumX54yregErKivNdhjxGN9JSXXeCThbfmgRiCIjI6dnTbSSxETfMtXXNlJTMmmbHVLlBNIQ38PjRJI9ybEhLk7MlQ4d6Z7IjhtnIW56hrSfXkBDr8kk6LvBtbU1Zt5ilCQ7GEhBdm42ZUuZ8n1tayKvJR0nTP04cjWgrMw2PEaGyk+H4Emu4tB6w3xmjNAbOkpE61FXX0fSnsULSmMyMkeFE032kml0UsNfJ11O5HXuXDOO/7WFTUAypTO3eFG6GI7Uo7yszPRGS9eys7OQzkaKmUspoi1f+b7k5eSX87r0WnMp06n7WmSjZxSaclLzWbUqOiluOuaQ3pfsdZH++n0sixr2NSG4+S8fXF+ahiV7FhYWFu0LbUz2OhJOJNnrqGi91bgdCZbsWVhYWLQvNN+8t7CwsLCwsLCw+NDDkj0LCwsLCwsLi3YMS/YsLCwsLCwsLNoxLNmzsLCwsLCwsGjHsGTPwsLCwsLCwqIdw5I9i44FuwLXwsLCwqKDwZI9i44DT5war81XtImQ2c/GwsLCwsKi3cOSPYuOA69I3lFvK2lhYWFhYdEuYMmehYWFhYWFhUU7hiV7FhYWFhYWFhbtGJbsWVhYWFhYWFi0Y1iyZ2FhYWFhYWHRjtGiZM9j575bWFhYWFhYWJxU8CSI5PERobWMMbpA8iwejyGR8CPm9Zj9y/aV1SGcsJ2FB8Pd7CPDE0N+Zhr8lFfM51z3J3gnIan6KEfKjqdeI1cg4vGipC6McERP2g3imoLfG0fnrBSkehNmZ5WYj3LkdV88AZ83yiMvopStpKc78YQHpdVhVIb5POVrpXooJKeCvDTKxkM58twniTp3JFFHlhYWFhYWHxYcE9k7HGQO4jEa07hojUVTELXwkuj5SEiOBGVLLBZHTGTQ4jCgPMk+JFOP58jUTfopucbtFizNwstGh5fyVLPNkmELCwuLDz9ajOwJLehVu8XREBIXkqcr02N5r6OgsWyOVa4Wh4fVNwsLC4v2gxYne9aQHgrJRD1KMqBH2wPVGLa3tHmoF+pY4OaFnN61pOZQSCZWLhYWFhbtBy1K9mRALdlrGq4BPVYjamV6eEieH4Twuc7iUHwQmVpYWFhYnLxoUbJnYWFhYWFhYWFxcsE23y0sLCwsLCws2jEs2bOwsLCwsLCwaMewZM/CwsLCwsLCoh3Dkj0LCwsLCwsLi3YMS/YsLCwsLCwsLNoxLNmzsLCwsLCwsGjHsGTPwsLCwsLCwqIdw5I9CwsLCwsLC4t2DEv2LCwsLCwsLCzaMSzZs7CwsLCwsLBox7CfS7OwaGdQkdY3lX08jsODLVu2YPXqVUhNTcXpp52BtLQ0eHwN32h2qwB9E1fv6Y5H7UBed+7Reb28pjs85rVoNApfIKDX9iMRS+z3l2/SBy/Dj5tf513nugv32GO85B8+YuLA68uWLUNRUREKCgowduzY/d+Ulj/m2bjzrN4x/iT9MI7/FA2P16fLuqH/Bh4mKx53nnfOlVIvYokYfMnvARv/6H+CfsSYzgDTyVB5ab8EGGdd4ZEuCAxAd+P89TJeercxzPMJesrwXJjnJe/914yP5rrjF+/Rr1iUcfMxNxm9WMw5Vjp1z/0V7PeMLSwsmoPvx0Ty2MLCoh1Apt9D4oWEFwkShRdeegH/eeg/yM3NwYjhpxjyIiIhouE6kQb3WD7EI3HMmvU+Nm7chE1bNmPjhg3YtX0XevfsxWsb8X8//z+cf/4FhpQgxjfiCjWBcDiM4l17ULRrFwI+P1KCqeYZkR3DZOgUhofhG6LCeFZUlWP79h2oqqpEMCXFkJYFCxbgzTffxNKlS3HBBQwnSWhEh2oqa7Bl62bsLS5Gyb69KCktRSQcQTrJ7H1/vw8b1q3H6JGjUR8O8dlqhEMhhOrCiMYiJEp+Q+6+851vobBLAQroXnz5RWSmZyIzI4MhKK4KxYNN69fju3d+D5POPRfBIAky4x6TfBjnSCSC2uoqhBhGfX3IpDsUquN5GPUML+gnEeajYd7bRVlUlJejsqIClZWVqK6oMr/RSBQZKakmVfFYHFW8HuG7gUAQ9TX1uP/+fzJOWfjhD3+A/v0GIL8g3yF9eoNxlIwyGGeRd8GVkYWFhcXBsD17FhbtDCrSiaj6x0RZvPjPfx7CVhK2O+/8Pu96sGjpYrz8ysvOw0mIKESjUXTu3Bk3/r8bxcjw8MP/QTkJSozErGj3bqxYugyvv/Ymlq1chp//4ud48pEnRFP0Nh2PSCz/ef8/MH/hIuR2ysO+3Xvw7e9+F8OHjjiArDlEMwqvx4sN6zfh13f9Ap07dUFVdTVyc7JxB4lYXl4eFi1ahCeeeAK/+MUv9pMcH9Pz9tvv4Nt85qzTzzQ9aCKPZ55xBq688ir8+te/RF6nTrjpxpsw/d238TeSP4+680imckh2f/Pru8zvZ264Djd/9WuYOHEiLvvIR/Dd73wPZ5x7lvFf6VG6Vq1chdtuuw1PPP0kcrJynDSoumSgK9aswO9/+zvU1dXzaf7zMmWm9y5m0vX73/+e8eiMnTt2UlY/I4H1ISGSSyIbj8Swmflx6aWX4pZbbjUyicZi+M1vfkVCnse4fwWVJL6f/3+fx9dv/jru/s1v8JOf/gxjx401eSuIbF500UX45S9/iQkTJhiC7MrIwsLC4mDYfn8Li3aIiMgUqYsZFI0nTI+U08OWQCeSoVGjRu13I0aMwLBhwwyZeeuttxCJRuD3edGtZ08MGDAQA/sPQPeCriRVJDKGVHjN8KYIkYZKVYuIsBTv3YeVq1bj5z/7P9xNUjXutIl49PFHSWSiyVgR5CqKh88TMP49+sQjOP3MMw2h+x3JUyQaNj1WGq5UWI3booofaaIJq2thIX75q1/inrt/i9/e81tc/YlP0FdxsRhifEYnUyefh8cfeQyPPvyIIUv1dSFDDNWzlyD5c4+ZIENovWKO9FsyUhxND6Q5l78aljYSNH4PGzKMxPE3mDxlMu4lsXvwXw/gt7+9B6eRPP7+3nsNefVTNt26dcP//fwX+OlPfoqf/t//4ac//Sl+8n8/w/jTJxo5O9IwwSJUE0JVZRWPFbeYue41XNrERpEwhE5yWL58Ofbt24dZs2aZc0NELSwsLJqBJXsWFu0MogYBr98QBB2bOWEkA6JNXpKFfn364YorrtjvrrrqKlx55ZU45ZRTkJ+fj4A/gOr6evye5GXHrp2ora1DYdeuuOmrX0UkEiYR0Zw4n/k189BE4BJedO7SGT/+8U/QuaALiVU9SktKkaJhShEwEj6RmyhJaCwWQYQu4fGa8Hbv3IXSilLs3r0L5RWVyM7O3t9LdfDAg0kD36sL1WPt+nVYtXI5FixaiHfffhuz58ziXQ/8vC9KWFNXi117dqN4dzHKy8oMkdyweSNefOlFhlNuZKPnRCz37N2DrVu2YNmS5Xhz+nQ8/sQTZmhWspPkNA9PdMohZgkEPH7EwlG8+fobqKipolz9KCspw6uvvgYfSaNLvbZu3YLPXPcZ3HLr13H7bbfj5lu+jttuvw3LFi0xw8aml5MuGomgtKqMMtuHhYsX4Rckstu3b2e2ScYinPST6VJci4uLcffdd5s8EzmfPXu26ZXVPTmRVDkLCwsLF5bsWVi0QxxQsJ3JZiQumkYmAuiQKNeJGIhcaW6ZFkQEggH41GPHF2qrq1FRWYHqmmps3bYN9977B9RU15ghyYTT5WVIiJxIYl5eLrZu2oxvf/fbmPneu7jy8ivwOgnJ3b+/G3+49/f43T2/we//+Af8/g+/w1PPPIULL74I782YgRtvvBFfuvFLhqwMHz58f7wa91jpmnrX1DM5eNBg/OUvf8Hf//E3PPXE43jrnbdRvHcvMrOyEUxNJRn14pVXX8FnPv1p3PmD7+FvfG5A3/5M4068O/M9lJeWmwUZem7s2DF444038Ytf/gJ/v/8feOvNN1BSWmKYndIVpex0EomTSInYMk4iklWUTR1JseYnKuydu3YgjeS2jESyNlTnEEkSXc3F++3dv8Pdv7kLv7/7t7jn7nvwz/v/iWs++SlmiNKZQH1tPbZv24FNJJya56ge1+zMTMpYkTCpN3nwxhtv4PbbbzfE/Dvf+Q6+SgKuIeMHHnjA5J9k5srOwsLCwoVdoGFh0R4hVpLEsmVLUUbCNnnSZFIGp9fJjFgmIfIigvDcc89hwIABGDt6rBmC1KKAzOws5GXnIr9zJ/Ts2QtDBw82CwJ2F+/B5MlTTC+bGRY1xE9rNRJISUtF9+49sHv3buwo2oVRI0ciIyOdfnRBfpcu6NS5M7p17Yr8Tl3w/PPPo0/vPrjl67dg0rnnmOFJ9T4OGTLEvL9ixQpMmzbNDOkmY4vOJHvjxv7/ds41JssyjOP/OXwlm0FrTJeoYSuxNSFPIYqCpnLY8vDFQ1PIU5qRzmWJIRpmE8x09knsSyTCYNCHFE0NEtBJy0M5MAN1nrbIKTA5w/vS/b/wpsd3Suvr6/V7d/s89+m6D88e9ve6n/t+A0HGzsr31mDW7FjEREcjdFSobPYYHjwCQ4e+iMvVl43gAjJ37UJcXDymTpuG0aNfQ+zMWJSeKsX48RMQPCwYUVOiEDsrFhGTJ2Hc2LEIDxuLUa++YqbQiLD2dkRFRhkh27N8ym/uOLMlP/+Er41opeDj/JaUlqCy8iyaWlrkSk/oiJdGoLG+Ht+bMVZdrsbxE8dx7Ggxyk+fRqkRpzdv3cTECePF5umKClRVVaGttRVh4WHyrLhBhd/jVZw5gxkxM83YGnHgwAEsNgJ24cKF8hxCQkJkCZ5l6d2jCLTiXZd2FUWx6AYNRfE1+EZ3uXvuDd8ezMbV2utI35aOru4uI+zolXuYaaAooEBYtGiReIqmTpkqGxX47dvGjzeKiBjg5yfCyRSGx+02gusFpGxKeXhciRGLxt7V2hpU/1GNuNh4I45cqPylEnu++hJZWd9g0KBBRjzxeBM/uujgNmK0uekBliYlYlv6ZwgfE2byPSgqKsJZU2+XEWgXL17EoUOHZBOCXdaVbru7ce7cOaSmbkZS4rvwc/WXvnV3duHIsWJEGVG3PGkZCgrycfTYj1ixfLksP9Mb19HRialRUUhOTpbNDxERb5rxuVFUWIjjJScRGBAo3ytydbqh4T5i4xIw9+05MqVsW5Z1zWDb2tvQ3NJkumJyTFl6Qtn/HiXdLbto6SHtMO3WXq2Bp8uD8vIKnC4vQ8rmT0W8chk3OHgo/qytxfb07ViWlISWzjYUFhTigw+TkZmZIX3MyMjA59u34/WwMfIs/MyzsM+M0Bbv5TkNGNA7V/8KZEVRnnZU7CmKj8FXmjtjCb1G2d9l49q1a9iathWVlZXIy8sVr5UT1uHu19DQUFnKTUtNg/8z/oiOjkZKSgpeHhkiS4rc7FFTUyM283Lzer1HFDr85i0tLQ0rV63CyJCRyM7ORn39fXxhxJq/y98Ipp4fxRGXN3n0SLoReoMHD8a8+fPR3taG/VlZGDdunHiuKOjy8vJ6xZ6IGiNoqKgunLuADR9twLw5c6RtOjL7mTGUVVQgNiEeK1eswKmyMuQczDECyAVXfxcCng/EkCFDsHDBArxvRO3aNWsxKXKSHPkyx9jJyMxEeHi4tMOz7U6cPIGv9+1DrulD4HOBkk4P5u1bt00/95teGMFl2u7xlfbA8Ym30wjGiRMmoqmpSdIpxi5d+h2/GQG7ZGmilGO9ZwcOFA8fv21MTEw0ItiNgvx88djt2bsX69evx86dO7Fu3TpZwm1vb5c5t/PO58Zg45y3iIgIiVvRpyiKomJPUXwMKwDsq03RxbPxUlNT0djYiBs3bvTmPQ6ew8flQDJ9+nQJFIAWLq9WV1fLsSgigBztcbNAcXExmpubRVhxyZHCxSlOrEeKaXV1dcjNzcWdO3ckjQcoU3i5XC7x7OUb4bNjxw7xWLFeP9NtetPO/3oemz7ZiEXvLDbiqueQYbenS45lmf7WDBFO9IBJHdNHtsXAOMsuWbJEvHsURi0tLSKqgoKCZMmYx77cu3cPR44cQWtrK3bv3i3tEwqohoYGOf+PnjSnoKJdtsHvDpnO+PXr13vb5ZVphHGW4WaU2bNnP+KRIw8ePJD+rV69Wsa/ZcsWmRPWexIc57Bhw+T4HNpiXFEUhajYUxQfg6+0FTWksLBQBBU/+ucyLTc4UHj0BeuyDIUihZu3cKD4mzt3bq/Y49UKEV65k9UKJLvsSFjWLkVSFLEe4zw3jmUoaFgmJycH5eXlCA4OFs+iFXviGHR78PdfdTh8+AeTRqseIwA9skGko6sTkZMjRTRa+05om4EbGmJiYjB8+HARRnfv3hWReuXKFRF4/B6OG0USEhIQEBAgdayAs2NmcMI4x2AD4+wzx8ox2r4wzTlftjxhGu95pVDkbmV6N+Pj42UubDlvbNusx37y3nvsiqI8vajYUxQfg6+0M9BLRG8URQCXTJ3i63E4/yRY8eEUDs584h1neabZNljX3jOdIoxx2rZ2bR0GptfX1/eKLuupYrr5xwTaYuASqrEtNkxd/kwyr8S26Wzb9su2Z8fnLEPhyTlim06RRmw5W5/BYm3bvtqr895i723bjHvPsa1n7TL0hXdfOAZFURSiYk9RfJC+Xuv/KxqcIoQ482nLuy3vNO/2mMfwX/3wxtplLX5zyDh/veLOcW9x9sV57+RJ6RabL22beyfOuLcNm+ddz1nOaZvz7Mzzrke8406cdUlfZRVFebpQsacoiqIoiuLDPPpfdkVRFEVRFMWnULGnKIqiKIriw6jYUxRFURRF8VmAfwDjNwelClMuTQAAAABJRU5ErkJggg==)"
      ],
      "metadata": {
        "id": "Af2XjVaPNER_"
      }
    },
    {
      "cell_type": "markdown",
      "source": [
        "#### 1-2-1 데이터 전처리\n",
        ": 데이터를 모델에 주입하기 전에 데이터를 가공하는 단계"
      ],
      "metadata": {
        "id": "BOpsPWs9vKaf"
      }
    },
    {
      "cell_type": "markdown",
      "source": [
        "#### 1-2-2 모델 생성\n",
        ": 모델의 구조를 정의하고 생성하는 단계\n",
        "- 순차적인 구조의 모델은 Sequential API로 구현한다.\n",
        "- 다중 입력 및 출력을 가지고 복잡한 구조를 갖는 모델은 Functional API 혹은 Model Subclassing 방법으로 구현할 수 있다."
      ],
      "metadata": {
        "id": "9CCaPov3vT1y"
      }
    },
    {
      "cell_type": "markdown",
      "source": [
        "#### 1-2-3 모델 컴파일\n",
        ": 딥러닝 모델의 구조를 정의하고 생성한 뒤, 모델 훈련에 사용할 손실함수(loss), 옵티 마이저(optimizer), 평가지표(metrics) 등을 compile() 메소드를 적용하여 설정하는 단계\n"
      ],
      "metadata": {
        "id": "vxGcEAJbvuGk"
      }
    },
    {
      "cell_type": "markdown",
      "source": [
        "#### 1-2-4 모델 훈련\n",
        ": 모델을 훈련하는 단계\n",
        "- fit() 함수에 모델 훈련에 필요한 정보를 매개변수(또는 파라미터)로 전달한다.\n",
        "    - 훈련 데이터셋, 검증 데이터셋, epoch, 배치(batch) 크기 및 콜백(callback) 함수 등을 지정한다."
      ],
      "metadata": {
        "id": "0qhDjhYJwUML"
      }
    },
    {
      "cell_type": "markdown",
      "source": [
        "#### 1-2-5 모델 검증\n",
        ": 훈련이 완료된 모델을 검증하는 단계\n",
        "- 모델을 훈련할 때 사용하지 않은 검증 데이터셋을 모델에 입력하고 모델의 예측 값을 정답과 비교하여 평가지표를 계산한다,\n",
        "- 검증 결과를 바탕으로 다시 모델 생성 단계로 돌아가 모델 수정을 하고, 컴파일 및 훈련 과정을 거쳐 재평가하는 단계를 통해 목표 성능에 도달할 때까지 이 과정을 계속 반복한다.\n"
      ],
      "metadata": {
        "id": "_z8hyeAUwkR1"
      }
    },
    {
      "cell_type": "markdown",
      "source": [
        "#### 1-2-6 모델 예측\n",
        "- 훈련과 검증이 완료된 모델로 테스트셋에 대하여 모델이 예측하고 그 결과를 반환한다."
      ],
      "metadata": {
        "id": "oMNS6LSuw3EW"
      }
    },
    {
      "cell_type": "markdown",
      "source": [
        "## **02. 단순 신경망 훈련**"
      ],
      "metadata": {
        "id": "CBirUAhgw8V7"
      }
    },
    {
      "cell_type": "markdown",
      "source": [
        "### 2-1 선형회귀\n",
        "- 텐서플로 케라스를 활용하여 단순선형회귀 모델을 직접 만들고 딥러닝을 학습\n",
        "$$y = wx + b$$\n",
        "    - w: 가중치(weight)\n",
        "    - b: 편향(bias)"
      ],
      "metadata": {
        "id": "pfyVfawtw-np"
      }
    },
    {
      "cell_type": "markdown",
      "source": [
        "### 2-2 뉴런(Neuron)\n",
        ": 인공 신경망 모델을 구성하는 하나의 신경, 노드(node)\n",
        "- 뉴런의 내부에는 가중치가 존재하고 모델이 훈련을 진행하면서 오차 역전파를 통해 뉴런의 가중치가 업데이트됨"
      ],
      "metadata": {
        "id": "nBtKhnbvxnVl"
      }
    },
    {
      "cell_type": "markdown",
      "source": [
        "### 2-3 Dense 레이어\n",
        "- 심층 신경망 모델을 구성하는 가장 기본 레이어\n",
        "- 각 레이어와 레이어 사이에 모든 뉴런이 서로 연결되어 있기 떄문에 완전 연결층(Fully Connected Layer)이라고도 부름\n",
        "- Dense 레이어를 구성하는 노드 개수와 활성화 함수 지정 가능\n",
        "\n",
        "```\n",
        "import tensorflow as tf\n",
        "\n",
        "# 10개의 노드로 이루어진 Dense 레이어\n",
        "tf.keras.layers.Dense(10)\n",
        "\n",
        "# ReLU 활성화 함수 적용\n",
        "tf.keras.layers.Dense(10, activation='relu')\n",
        "```\n",
        "\n"
      ],
      "metadata": {
        "id": "CsmzwRk8x-9C"
      }
    },
    {
      "cell_type": "markdown",
      "source": [
        "### 2-4 데이터셋 만들기\n",
        "- 단순선형회귀 모형을 지도학습 방식으로 훈련하기 위해서 x, y 데이터를 생성"
      ],
      "metadata": {
        "id": "_PpC4pALytWs"
      }
    },
    {
      "cell_type": "code",
      "source": [
        "import numpy as np\n",
        "\n",
        "# 샘플 데이터셋 생성\n",
        "x = np.arange(1, 6)\n",
        "\n",
        "# y = 3x + 2\n",
        "y = 3 * x + 2\n",
        "print(x)\n",
        "print(y)"
      ],
      "metadata": {
        "colab": {
          "base_uri": "https://localhost:8080/"
        },
        "id": "TnNG1jLsuqSR",
        "outputId": "4dc88215-e7a5-43a4-f43c-38d55aee3422"
      },
      "execution_count": 4,
      "outputs": [
        {
          "output_type": "stream",
          "name": "stdout",
          "text": [
            "[1 2 3 4 5]\n",
            "[ 5  8 11 14 17]\n"
          ]
        }
      ]
    },
    {
      "cell_type": "code",
      "source": [
        "import matplotlib.pyplot as plt\n",
        "\n",
        "# 시각화\n",
        "plt.plot(x, y)\n",
        "plt.title('y = 3x + 2')\n",
        "plt.show()"
      ],
      "metadata": {
        "colab": {
          "base_uri": "https://localhost:8080/",
          "height": 281
        },
        "id": "O3h5Vxr-y7Zh",
        "outputId": "025e1e16-d935-4b67-a683-b9700dabb404"
      },
      "execution_count": 5,
      "outputs": [
        {
          "output_type": "display_data",
          "data": {
            "text/plain": [
              "<Figure size 432x288 with 1 Axes>"
            ],
            "image/png": "[encoded data removed]"
          },
          "metadata": {
            "needs_background": "light"
          }
        }
      ]
    },
    {
      "cell_type": "markdown",
      "source": [
        "### 2-5 Sequential API\n",
        "- 텐서플로 케라스는 세 가지 방식으로 모델을 생성할 수 있음. 그 중 케라스의 Sequential API를 사용하면 매우 간결하게 딥러닝 모델을 만들 수 있음\n",
        "- Sequential API 방식: 층을 이어 붙이듯 시퀀스에 맞게 일렬로 연결하는 방식\n",
        "    - 입력 레이어부터 출력 레이어까지 순서를 가짐\n",
        "    - 2개 이상의 다중 입력이나 다중 출력을 갖는 복잡한 구조를 만들 수 없다는 단점이 있어 이 경우에는 Functional API를 사용해야 함"
      ],
      "metadata": {
        "id": "kiOllJW_y_lg"
      }
    },
    {
      "cell_type": "markdown",
      "source": [
        "#### 2-5-1 모델 구조\n",
        "- 두 가지 방법으로 모델을 구성 가능함\n",
        "    1. 리스트형 정의\n",
        "        - 앞에 위치한 층부터 연산을 먼저 처리하고 순차적으로 다음 층의 연산을 수행하게 됨"
      ],
      "metadata": {
        "id": "Xlexkk9ezy5o"
      }
    },
    {
      "cell_type": "code",
      "source": [
        "import tensorflow as tf\n",
        "\n",
        "# 리스트형\n",
        "model = tf.keras.Sequential([\n",
        "    tf.keras.layers.Dense(10), \n",
        "    tf.keras.layers.Dense(5), \n",
        "    tf.keras.layers.Dense(1), \n",
        "])"
      ],
      "metadata": {
        "id": "QFi6csAqy-0N"
      },
      "execution_count": 6,
      "outputs": []
    },
    {
      "cell_type": "markdown",
      "source": [
        "-    2. add 함수로 레이어 추가\n",
        "        - 여러 개의 층을 추가하려면 add 함수를 반복해서 여러 번 사용해야 함"
      ],
      "metadata": {
        "id": "xwANbpZD0bcj"
      }
    },
    {
      "cell_type": "code",
      "source": [
        "# add 함수로 레이어 추가\n",
        "model = tf.keras.Sequential()\n",
        "model.add(tf.keras.layers.Dense(10))\n",
        "model.add(tf.keras.layers.Dense(5))\n",
        "model.add(tf.keras.layers.Dense(1))"
      ],
      "metadata": {
        "id": "n7J1B1RH0Rdd"
      },
      "execution_count": 7,
      "outputs": []
    },
    {
      "cell_type": "markdown",
      "source": [
        "#### 2-5-2 입력 데이터 형태\n",
        "- Sequential API를 사용하여 모델을 구성할 때 반드시 첫 번째 층은 input_shape 매개변수를 지정해야 함\n",
        "    - input_shpae 매개변수는 주입할 데이터셋의 shape를 투플 혹은 리스트로 지정 가능"
      ],
      "metadata": {
        "id": "Z28mJYiX0ry8"
      }
    },
    {
      "cell_type": "code",
      "source": [
        "import tensorflow as tf\n",
        "model = tf.keras.Sequential([\n",
        "    # 입력 데이터의 shape = (150,4) 인 경우 input_shape 지정 \n",
        "    tf.keras.layers.Dense(10, input_shape=[4]), \n",
        "    tf.keras.layers.Dense(5), \n",
        "    tf.keras.layers.Dense(1), \n",
        "])"
      ],
      "metadata": {
        "id": "YKN3s0gA0q4x"
      },
      "execution_count": 8,
      "outputs": []
    },
    {
      "cell_type": "markdown",
      "source": [
        "#### 2-5-3 단순선형회귀 모델 정의\n",
        "- 단순선형회귀 모델을 만들기 위해서는 1개의 뉴런을 가지는 Dense 레이어 한 개를 사용함"
      ],
      "metadata": {
        "id": "9pznAjOa1Dkw"
      }
    },
    {
      "cell_type": "code",
      "source": [
        "# 단순선형회귀 모델 생성\n",
        "model = tf.keras.Sequential([\n",
        "    tf.keras.layers.Dense(1, input_shape=[1])                    \n",
        "])"
      ],
      "metadata": {
        "id": "4AnSjEEq1Cli"
      },
      "execution_count": 24,
      "outputs": []
    },
    {
      "cell_type": "markdown",
      "source": [
        "### 2-6 모델 요약"
      ],
      "metadata": {
        "id": "Mv9wSZuJ1RWj"
      }
    },
    {
      "cell_type": "code",
      "source": [
        "# 모델 요약\n",
        "model.summary()"
      ],
      "metadata": {
        "colab": {
          "base_uri": "https://localhost:8080/"
        },
        "id": "zktZoFpT1Qmp",
        "outputId": "7c52f9fe-c72d-4708-8bee-92029d3b7329"
      },
      "execution_count": 25,
      "outputs": [
        {
          "output_type": "stream",
          "name": "stdout",
          "text": [
            "Model: \"sequential_4\"\n",
            "_________________________________________________________________\n",
            " Layer (type)                Output Shape              Param #   \n",
            "=================================================================\n",
            " dense_10 (Dense)            (None, 1)                 2         \n",
            "                                                                 \n",
            "=================================================================\n",
            "Total params: 2\n",
            "Trainable params: 2\n",
            "Non-trainable params: 0\n",
            "_________________________________________________________________\n"
          ]
        }
      ]
    },
    {
      "cell_type": "markdown",
      "source": [
        "- Total params: 모델 내부에 존재하는 모든 파라미터의 합계\n",
        "- Trainable params: 모델 훈련 시 업데이트할 파라미터의 총 개수\n",
        "- Non-trainable params: 훈련 시 업데이트하지 않을 파라미터의 총 개수"
      ],
      "metadata": {
        "id": "hE-YzF1j1cXd"
      }
    },
    {
      "cell_type": "markdown",
      "source": [
        "### 2-7 컴파일\n",
        "- 모델의 훈련 과정에서 적용할 옵티마이저(optimizer), 손실함수(loss), 평가지표(metrics) 등을 정의함\n",
        "- 클래스 인스턴스, 함수 혹은 사전 정의된 문자열로 지정 가능함\n",
        "    - 클래스 인스턴스로 지정할 경우 학습률(learning rate), 모멘텀(momentum) 등의 하이퍼파라미터를 직접 지정할 수 있음\n",
        "    - 문자열로 지정하는 경우 기본값으로 설정된 하이퍼파라미터를 사용하며, 수정은 어렵다는 한계 존재"
      ],
      "metadata": {
        "id": "JrTvme7q10tP"
      }
    },
    {
      "cell_type": "code",
      "source": [
        "# 긴 문자열 지정\n",
        "model.compile(optimizer='sgd', loss='mean_squared_error', \n",
        "              metrics=['mean_squared_error', 'mean_absolute_error'])"
      ],
      "metadata": {
        "id": "vcw-5kmw1Z7Z"
      },
      "execution_count": 26,
      "outputs": []
    },
    {
      "cell_type": "code",
      "source": [
        "# 짧은 문자열 지정\n",
        "model.compile(optimizer='sgd', loss='mse', metrics=['mse', 'mae'])"
      ],
      "metadata": {
        "id": "Uj4YwpbB6b6X"
      },
      "execution_count": 27,
      "outputs": []
    },
    {
      "cell_type": "code",
      "source": [
        "# 클래스 인스턴스 지정\n",
        "model.compile(optimizer=tf.keras.optimizers.SGD(lr=0.005), \n",
        "              loss=tf.keras.losses.MeanAbsoluteError(), \n",
        "              metrics=[tf.keras.metrics.MeanAbsoluteError(), \n",
        "                       tf.keras.metrics.MeanSquaredError()\n",
        "                       ])"
      ],
      "metadata": {
        "id": "TRtAS59T6dYF"
      },
      "execution_count": 28,
      "outputs": []
    },
    {
      "cell_type": "code",
      "source": [
        "# 컴파일\n",
        "model.compile(optimizer='sgd', loss='mse', metrics=['mae'])"
      ],
      "metadata": {
        "id": "qOsir9Bi6gVP"
      },
      "execution_count": 29,
      "outputs": []
    },
    {
      "cell_type": "markdown",
      "source": [
        "### 2-8 훈련"
      ],
      "metadata": {
        "id": "LpFenSCK6nCF"
      }
    },
    {
      "cell_type": "code",
      "source": [
        "# 훈련\n",
        "history = model.fit(x, y, epochs=5)"
      ],
      "metadata": {
        "colab": {
          "base_uri": "https://localhost:8080/"
        },
        "id": "4YkDyPel7VLE",
        "outputId": "8fa72d84-d18e-48b7-8343-176779c52007"
      },
      "execution_count": 30,
      "outputs": [
        {
          "output_type": "stream",
          "name": "stdout",
          "text": [
            "Epoch 1/5\n",
            "1/1 [==============================] - 0s 322ms/step - loss: 50.1907 - mae: 6.7252\n",
            "Epoch 2/5\n",
            "1/1 [==============================] - 0s 9ms/step - loss: 29.4063 - mae: 5.1912\n",
            "Epoch 3/5\n",
            "1/1 [==============================] - 0s 9ms/step - loss: 17.2930 - mae: 4.0199\n",
            "Epoch 4/5\n",
            "1/1 [==============================] - 0s 8ms/step - loss: 10.2330 - mae: 3.1256\n",
            "Epoch 5/5\n",
            "1/1 [==============================] - 0s 7ms/step - loss: 6.1177 - mae: 2.4427\n"
          ]
        }
      ]
    },
    {
      "cell_type": "markdown",
      "source": [
        "- 매 epoch당 loss 값을 보면 손실함수, 즉 모델의 예측 오차가 점점 줄어드는 것을 볼 수 있음\n",
        "    - 모델이 잘 학습되고 있는 것을 알 수 있지만 반복 훈련 횟수가 충분하지 않아 학습이 덜 되었다고 볼 수 있음\n",
        "    - 모델은 현재 과소적합 상태\n",
        "- 이번에는 epoch에 1200을 지정하여 충분히 훈련"
      ],
      "metadata": {
        "id": "rP513yaX61pw"
      }
    },
    {
      "cell_type": "code",
      "source": [
        "# 훈련\n",
        "history = model.fit(x, y, epochs=1200)"
      ],
      "metadata": {
        "colab": {
          "base_uri": "https://localhost:8080/"
        },
        "id": "HQzHIKUD6mB0",
        "outputId": "59bb061e-2abe-4b78-acfc-b00f147e5409"
      },
      "execution_count": 31,
      "outputs": [
        {
          "output_type": "stream",
          "name": "stdout",
          "text": [
            "Epoch 1/1200\n",
            "1/1 [==============================] - 0s 12ms/step - loss: 3.7185 - mae: 1.9212\n",
            "Epoch 2/1200\n",
            "1/1 [==============================] - 0s 11ms/step - loss: 2.3193 - mae: 1.5229\n",
            "Epoch 3/1200\n",
            "1/1 [==============================] - 0s 10ms/step - loss: 1.5029 - mae: 1.2187\n",
            "Epoch 4/1200\n",
            "1/1 [==============================] - 0s 11ms/step - loss: 1.0261 - mae: 0.9862\n",
            "Epoch 5/1200\n",
            "1/1 [==============================] - 0s 11ms/step - loss: 0.7472 - mae: 0.8086\n",
            "Epoch 6/1200\n",
            "1/1 [==============================] - 0s 11ms/step - loss: 0.5837 - mae: 0.6728\n",
            "Epoch 7/1200\n",
            "1/1 [==============================] - 0s 10ms/step - loss: 0.4874 - mae: 0.5703\n",
            "Epoch 8/1200\n",
            "1/1 [==============================] - 0s 10ms/step - loss: 0.4303 - mae: 0.5407\n",
            "Epoch 9/1200\n",
            "1/1 [==============================] - 0s 10ms/step - loss: 0.3961 - mae: 0.5179\n",
            "Epoch 10/1200\n",
            "1/1 [==============================] - 0s 7ms/step - loss: 0.3751 - mae: 0.5000\n",
            "Epoch 11/1200\n",
            "1/1 [==============================] - 0s 10ms/step - loss: 0.3619 - mae: 0.4867\n",
            "Epoch 12/1200\n",
            "1/1 [==============================] - 0s 12ms/step - loss: 0.3533 - mae: 0.4894\n",
            "Epoch 13/1200\n",
            "1/1 [==============================] - 0s 26ms/step - loss: 0.3473 - mae: 0.4911\n",
            "Epoch 14/1200\n",
            "1/1 [==============================] - 0s 14ms/step - loss: 0.3428 - mae: 0.4920\n",
            "Epoch 15/1200\n",
            "1/1 [==============================] - 0s 13ms/step - loss: 0.3393 - mae: 0.4923\n",
            "Epoch 16/1200\n",
            "1/1 [==============================] - 0s 11ms/step - loss: 0.3363 - mae: 0.4921\n",
            "Epoch 17/1200\n",
            "1/1 [==============================] - 0s 11ms/step - loss: 0.3336 - mae: 0.4916\n",
            "Epoch 18/1200\n",
            "1/1 [==============================] - 0s 12ms/step - loss: 0.3311 - mae: 0.4908\n",
            "Epoch 19/1200\n",
            "1/1 [==============================] - 0s 10ms/step - loss: 0.3287 - mae: 0.4898\n",
            "Epoch 20/1200\n",
            "1/1 [==============================] - 0s 10ms/step - loss: 0.3264 - mae: 0.4887\n",
            "Epoch 21/1200\n",
            "1/1 [==============================] - 0s 11ms/step - loss: 0.3242 - mae: 0.4874\n",
            "Epoch 22/1200\n",
            "1/1 [==============================] - 0s 11ms/step - loss: 0.3220 - mae: 0.4860\n",
            "Epoch 23/1200\n",
            "1/1 [==============================] - 0s 11ms/step - loss: 0.3198 - mae: 0.4846\n",
            "Epoch 24/1200\n",
            "1/1 [==============================] - 0s 9ms/step - loss: 0.3176 - mae: 0.4831\n",
            "Epoch 25/1200\n",
            "1/1 [==============================] - 0s 10ms/step - loss: 0.3155 - mae: 0.4816\n",
            "Epoch 26/1200\n",
            "1/1 [==============================] - 0s 12ms/step - loss: 0.3133 - mae: 0.4801\n",
            "Epoch 27/1200\n",
            "1/1 [==============================] - 0s 10ms/step - loss: 0.3112 - mae: 0.4786\n",
            "Epoch 28/1200\n",
            "1/1 [==============================] - 0s 10ms/step - loss: 0.3091 - mae: 0.4770\n",
            "Epoch 29/1200\n",
            "1/1 [==============================] - 0s 13ms/step - loss: 0.3070 - mae: 0.4754\n",
            "Epoch 30/1200\n",
            "1/1 [==============================] - 0s 8ms/step - loss: 0.3049 - mae: 0.4739\n",
            "Epoch 31/1200\n",
            "1/1 [==============================] - 0s 10ms/step - loss: 0.3029 - mae: 0.4723\n",
            "Epoch 32/1200\n",
            "1/1 [==============================] - 0s 10ms/step - loss: 0.3008 - mae: 0.4707\n",
            "Epoch 33/1200\n",
            "1/1 [==============================] - 0s 10ms/step - loss: 0.2988 - mae: 0.4691\n",
            "Epoch 34/1200\n",
            "1/1 [==============================] - 0s 13ms/step - loss: 0.2968 - mae: 0.4676\n",
            "Epoch 35/1200\n",
            "1/1 [==============================] - 0s 10ms/step - loss: 0.2948 - mae: 0.4660\n",
            "Epoch 36/1200\n",
            "1/1 [==============================] - 0s 10ms/step - loss: 0.2928 - mae: 0.4644\n",
            "Epoch 37/1200\n",
            "1/1 [==============================] - 0s 9ms/step - loss: 0.2908 - mae: 0.4629\n",
            "Epoch 38/1200\n",
            "1/1 [==============================] - 0s 11ms/step - loss: 0.2889 - mae: 0.4613\n",
            "Epoch 39/1200\n",
            "1/1 [==============================] - 0s 10ms/step - loss: 0.2869 - mae: 0.4597\n",
            "Epoch 40/1200\n",
            "1/1 [==============================] - 0s 11ms/step - loss: 0.2850 - mae: 0.4582\n",
            "Epoch 41/1200\n",
            "1/1 [==============================] - 0s 11ms/step - loss: 0.2830 - mae: 0.4566\n",
            "Epoch 42/1200\n",
            "1/1 [==============================] - 0s 12ms/step - loss: 0.2811 - mae: 0.4551\n",
            "Epoch 43/1200\n",
            "1/1 [==============================] - 0s 8ms/step - loss: 0.2792 - mae: 0.4536\n",
            "Epoch 44/1200\n",
            "1/1 [==============================] - 0s 13ms/step - loss: 0.2774 - mae: 0.4520\n",
            "Epoch 45/1200\n",
            "1/1 [==============================] - 0s 7ms/step - loss: 0.2755 - mae: 0.4505\n",
            "Epoch 46/1200\n",
            "1/1 [==============================] - 0s 8ms/step - loss: 0.2736 - mae: 0.4490\n",
            "Epoch 47/1200\n",
            "1/1 [==============================] - 0s 7ms/step - loss: 0.2718 - mae: 0.4475\n",
            "Epoch 48/1200\n",
            "1/1 [==============================] - 0s 8ms/step - loss: 0.2699 - mae: 0.4459\n",
            "Epoch 49/1200\n",
            "1/1 [==============================] - 0s 7ms/step - loss: 0.2681 - mae: 0.4444\n",
            "Epoch 50/1200\n",
            "1/1 [==============================] - 0s 8ms/step - loss: 0.2663 - mae: 0.4429\n",
            "Epoch 51/1200\n",
            "1/1 [==============================] - 0s 9ms/step - loss: 0.2645 - mae: 0.4414\n",
            "Epoch 52/1200\n",
            "1/1 [==============================] - 0s 11ms/step - loss: 0.2627 - mae: 0.4399\n",
            "Epoch 53/1200\n",
            "1/1 [==============================] - 0s 11ms/step - loss: 0.2609 - mae: 0.4385\n",
            "Epoch 54/1200\n",
            "1/1 [==============================] - 0s 6ms/step - loss: 0.2592 - mae: 0.4370\n",
            "Epoch 55/1200\n",
            "1/1 [==============================] - 0s 7ms/step - loss: 0.2574 - mae: 0.4355\n",
            "Epoch 56/1200\n",
            "1/1 [==============================] - 0s 6ms/step - loss: 0.2557 - mae: 0.4340\n",
            "Epoch 57/1200\n",
            "1/1 [==============================] - 0s 8ms/step - loss: 0.2540 - mae: 0.4326\n",
            "Epoch 58/1200\n",
            "1/1 [==============================] - 0s 8ms/step - loss: 0.2523 - mae: 0.4311\n",
            "Epoch 59/1200\n",
            "1/1 [==============================] - 0s 8ms/step - loss: 0.2506 - mae: 0.4296\n",
            "Epoch 60/1200\n",
            "1/1 [==============================] - 0s 12ms/step - loss: 0.2489 - mae: 0.4282\n",
            "Epoch 61/1200\n",
            "1/1 [==============================] - 0s 9ms/step - loss: 0.2472 - mae: 0.4267\n",
            "Epoch 62/1200\n",
            "1/1 [==============================] - 0s 7ms/step - loss: 0.2455 - mae: 0.4253\n",
            "Epoch 63/1200\n",
            "1/1 [==============================] - 0s 8ms/step - loss: 0.2439 - mae: 0.4239\n",
            "Epoch 64/1200\n",
            "1/1 [==============================] - 0s 8ms/step - loss: 0.2422 - mae: 0.4224\n",
            "Epoch 65/1200\n",
            "1/1 [==============================] - 0s 7ms/step - loss: 0.2406 - mae: 0.4210\n",
            "Epoch 66/1200\n",
            "1/1 [==============================] - 0s 9ms/step - loss: 0.2390 - mae: 0.4196\n",
            "Epoch 67/1200\n",
            "1/1 [==============================] - 0s 10ms/step - loss: 0.2373 - mae: 0.4182\n",
            "Epoch 68/1200\n",
            "1/1 [==============================] - 0s 6ms/step - loss: 0.2357 - mae: 0.4167\n",
            "Epoch 69/1200\n",
            "1/1 [==============================] - 0s 6ms/step - loss: 0.2341 - mae: 0.4153\n",
            "Epoch 70/1200\n",
            "1/1 [==============================] - 0s 8ms/step - loss: 0.2326 - mae: 0.4139\n",
            "Epoch 71/1200\n",
            "1/1 [==============================] - 0s 8ms/step - loss: 0.2310 - mae: 0.4125\n",
            "Epoch 72/1200\n",
            "1/1 [==============================] - 0s 8ms/step - loss: 0.2294 - mae: 0.4111\n",
            "Epoch 73/1200\n",
            "1/1 [==============================] - 0s 9ms/step - loss: 0.2279 - mae: 0.4097\n",
            "Epoch 74/1200\n",
            "1/1 [==============================] - 0s 8ms/step - loss: 0.2264 - mae: 0.4084\n",
            "Epoch 75/1200\n",
            "1/1 [==============================] - 0s 8ms/step - loss: 0.2248 - mae: 0.4070\n",
            "Epoch 76/1200\n",
            "1/1 [==============================] - 0s 8ms/step - loss: 0.2233 - mae: 0.4056\n",
            "Epoch 77/1200\n",
            "1/1 [==============================] - 0s 7ms/step - loss: 0.2218 - mae: 0.4042\n",
            "Epoch 78/1200\n",
            "1/1 [==============================] - 0s 9ms/step - loss: 0.2203 - mae: 0.4029\n",
            "Epoch 79/1200\n",
            "1/1 [==============================] - 0s 9ms/step - loss: 0.2188 - mae: 0.4015\n",
            "Epoch 80/1200\n",
            "1/1 [==============================] - 0s 8ms/step - loss: 0.2173 - mae: 0.4001\n",
            "Epoch 81/1200\n",
            "1/1 [==============================] - 0s 7ms/step - loss: 0.2159 - mae: 0.3988\n",
            "Epoch 82/1200\n",
            "1/1 [==============================] - 0s 7ms/step - loss: 0.2144 - mae: 0.3974\n",
            "Epoch 83/1200\n",
            "1/1 [==============================] - 0s 8ms/step - loss: 0.2130 - mae: 0.3961\n",
            "Epoch 84/1200\n",
            "1/1 [==============================] - 0s 9ms/step - loss: 0.2115 - mae: 0.3948\n",
            "Epoch 85/1200\n",
            "1/1 [==============================] - 0s 10ms/step - loss: 0.2101 - mae: 0.3934\n",
            "Epoch 86/1200\n",
            "1/1 [==============================] - 0s 7ms/step - loss: 0.2087 - mae: 0.3921\n",
            "Epoch 87/1200\n",
            "1/1 [==============================] - 0s 10ms/step - loss: 0.2073 - mae: 0.3908\n",
            "Epoch 88/1200\n",
            "1/1 [==============================] - 0s 6ms/step - loss: 0.2059 - mae: 0.3894\n",
            "Epoch 89/1200\n",
            "1/1 [==============================] - 0s 6ms/step - loss: 0.2045 - mae: 0.3881\n",
            "Epoch 90/1200\n",
            "1/1 [==============================] - 0s 9ms/step - loss: 0.2031 - mae: 0.3868\n",
            "Epoch 91/1200\n",
            "1/1 [==============================] - 0s 15ms/step - loss: 0.2017 - mae: 0.3855\n",
            "Epoch 92/1200\n",
            "1/1 [==============================] - 0s 7ms/step - loss: 0.2004 - mae: 0.3842\n",
            "Epoch 93/1200\n",
            "1/1 [==============================] - 0s 7ms/step - loss: 0.1990 - mae: 0.3829\n",
            "Epoch 94/1200\n",
            "1/1 [==============================] - 0s 7ms/step - loss: 0.1977 - mae: 0.3816\n",
            "Epoch 95/1200\n",
            "1/1 [==============================] - 0s 6ms/step - loss: 0.1963 - mae: 0.3803\n",
            "Epoch 96/1200\n",
            "1/1 [==============================] - 0s 11ms/step - loss: 0.1950 - mae: 0.3790\n",
            "Epoch 97/1200\n",
            "1/1 [==============================] - 0s 11ms/step - loss: 0.1937 - mae: 0.3778\n",
            "Epoch 98/1200\n",
            "1/1 [==============================] - 0s 9ms/step - loss: 0.1924 - mae: 0.3765\n",
            "Epoch 99/1200\n",
            "1/1 [==============================] - 0s 7ms/step - loss: 0.1911 - mae: 0.3752\n",
            "Epoch 100/1200\n",
            "1/1 [==============================] - 0s 12ms/step - loss: 0.1898 - mae: 0.3739\n",
            "Epoch 101/1200\n",
            "1/1 [==============================] - 0s 7ms/step - loss: 0.1885 - mae: 0.3727\n",
            "Epoch 102/1200\n",
            "1/1 [==============================] - 0s 6ms/step - loss: 0.1872 - mae: 0.3714\n",
            "Epoch 103/1200\n",
            "1/1 [==============================] - 0s 6ms/step - loss: 0.1860 - mae: 0.3702\n",
            "Epoch 104/1200\n",
            "1/1 [==============================] - 0s 7ms/step - loss: 0.1847 - mae: 0.3689\n",
            "Epoch 105/1200\n",
            "1/1 [==============================] - 0s 8ms/step - loss: 0.1835 - mae: 0.3677\n",
            "Epoch 106/1200\n",
            "1/1 [==============================] - 0s 7ms/step - loss: 0.1822 - mae: 0.3664\n",
            "Epoch 107/1200\n",
            "1/1 [==============================] - 0s 8ms/step - loss: 0.1810 - mae: 0.3652\n",
            "Epoch 108/1200\n",
            "1/1 [==============================] - 0s 7ms/step - loss: 0.1798 - mae: 0.3639\n",
            "Epoch 109/1200\n",
            "1/1 [==============================] - 0s 8ms/step - loss: 0.1786 - mae: 0.3627\n",
            "Epoch 110/1200\n",
            "1/1 [==============================] - 0s 8ms/step - loss: 0.1774 - mae: 0.3615\n",
            "Epoch 111/1200\n",
            "1/1 [==============================] - 0s 9ms/step - loss: 0.1762 - mae: 0.3603\n",
            "Epoch 112/1200\n",
            "1/1 [==============================] - 0s 9ms/step - loss: 0.1750 - mae: 0.3590\n",
            "Epoch 113/1200\n",
            "1/1 [==============================] - 0s 14ms/step - loss: 0.1738 - mae: 0.3578\n",
            "Epoch 114/1200\n",
            "1/1 [==============================] - 0s 9ms/step - loss: 0.1726 - mae: 0.3566\n",
            "Epoch 115/1200\n",
            "1/1 [==============================] - 0s 7ms/step - loss: 0.1715 - mae: 0.3554\n",
            "Epoch 116/1200\n",
            "1/1 [==============================] - 0s 7ms/step - loss: 0.1703 - mae: 0.3542\n",
            "Epoch 117/1200\n",
            "1/1 [==============================] - 0s 10ms/step - loss: 0.1692 - mae: 0.3530\n",
            "Epoch 118/1200\n",
            "1/1 [==============================] - 0s 9ms/step - loss: 0.1680 - mae: 0.3518\n",
            "Epoch 119/1200\n",
            "1/1 [==============================] - 0s 14ms/step - loss: 0.1669 - mae: 0.3506\n",
            "Epoch 120/1200\n",
            "1/1 [==============================] - 0s 7ms/step - loss: 0.1658 - mae: 0.3494\n",
            "Epoch 121/1200\n",
            "1/1 [==============================] - 0s 7ms/step - loss: 0.1646 - mae: 0.3483\n",
            "Epoch 122/1200\n",
            "1/1 [==============================] - 0s 9ms/step - loss: 0.1635 - mae: 0.3471\n",
            "Epoch 123/1200\n",
            "1/1 [==============================] - 0s 6ms/step - loss: 0.1624 - mae: 0.3459\n",
            "Epoch 124/1200\n",
            "1/1 [==============================] - 0s 6ms/step - loss: 0.1613 - mae: 0.3447\n",
            "Epoch 125/1200\n",
            "1/1 [==============================] - 0s 9ms/step - loss: 0.1602 - mae: 0.3436\n",
            "Epoch 126/1200\n",
            "1/1 [==============================] - 0s 6ms/step - loss: 0.1592 - mae: 0.3424\n",
            "Epoch 127/1200\n",
            "1/1 [==============================] - 0s 7ms/step - loss: 0.1581 - mae: 0.3413\n",
            "Epoch 128/1200\n",
            "1/1 [==============================] - 0s 8ms/step - loss: 0.1570 - mae: 0.3401\n",
            "Epoch 129/1200\n",
            "1/1 [==============================] - 0s 8ms/step - loss: 0.1560 - mae: 0.3390\n",
            "Epoch 130/1200\n",
            "1/1 [==============================] - 0s 7ms/step - loss: 0.1549 - mae: 0.3378\n",
            "Epoch 131/1200\n",
            "1/1 [==============================] - 0s 7ms/step - loss: 0.1539 - mae: 0.3367\n",
            "Epoch 132/1200\n",
            "1/1 [==============================] - 0s 8ms/step - loss: 0.1528 - mae: 0.3355\n",
            "Epoch 133/1200\n",
            "1/1 [==============================] - 0s 7ms/step - loss: 0.1518 - mae: 0.3344\n",
            "Epoch 134/1200\n",
            "1/1 [==============================] - 0s 8ms/step - loss: 0.1508 - mae: 0.3333\n",
            "Epoch 135/1200\n",
            "1/1 [==============================] - 0s 8ms/step - loss: 0.1497 - mae: 0.3321\n",
            "Epoch 136/1200\n",
            "1/1 [==============================] - 0s 8ms/step - loss: 0.1487 - mae: 0.3310\n",
            "Epoch 137/1200\n",
            "1/1 [==============================] - 0s 7ms/step - loss: 0.1477 - mae: 0.3299\n",
            "Epoch 138/1200\n",
            "1/1 [==============================] - 0s 8ms/step - loss: 0.1467 - mae: 0.3288\n",
            "Epoch 139/1200\n",
            "1/1 [==============================] - 0s 13ms/step - loss: 0.1457 - mae: 0.3277\n",
            "Epoch 140/1200\n",
            "1/1 [==============================] - 0s 11ms/step - loss: 0.1448 - mae: 0.3266\n",
            "Epoch 141/1200\n",
            "1/1 [==============================] - 0s 6ms/step - loss: 0.1438 - mae: 0.3255\n",
            "Epoch 142/1200\n",
            "1/1 [==============================] - 0s 7ms/step - loss: 0.1428 - mae: 0.3244\n",
            "Epoch 143/1200\n",
            "1/1 [==============================] - 0s 6ms/step - loss: 0.1418 - mae: 0.3233\n",
            "Epoch 144/1200\n",
            "1/1 [==============================] - 0s 8ms/step - loss: 0.1409 - mae: 0.3222\n",
            "Epoch 145/1200\n",
            "1/1 [==============================] - 0s 10ms/step - loss: 0.1399 - mae: 0.3211\n",
            "Epoch 146/1200\n",
            "1/1 [==============================] - 0s 7ms/step - loss: 0.1390 - mae: 0.3200\n",
            "Epoch 147/1200\n",
            "1/1 [==============================] - 0s 7ms/step - loss: 0.1381 - mae: 0.3189\n",
            "Epoch 148/1200\n",
            "1/1 [==============================] - 0s 7ms/step - loss: 0.1371 - mae: 0.3178\n",
            "Epoch 149/1200\n",
            "1/1 [==============================] - 0s 7ms/step - loss: 0.1362 - mae: 0.3168\n",
            "Epoch 150/1200\n",
            "1/1 [==============================] - 0s 7ms/step - loss: 0.1353 - mae: 0.3157\n",
            "Epoch 151/1200\n",
            "1/1 [==============================] - 0s 12ms/step - loss: 0.1344 - mae: 0.3146\n",
            "Epoch 152/1200\n",
            "1/1 [==============================] - 0s 7ms/step - loss: 0.1335 - mae: 0.3136\n",
            "Epoch 153/1200\n",
            "1/1 [==============================] - 0s 7ms/step - loss: 0.1326 - mae: 0.3125\n",
            "Epoch 154/1200\n",
            "1/1 [==============================] - 0s 7ms/step - loss: 0.1317 - mae: 0.3114\n",
            "Epoch 155/1200\n",
            "1/1 [==============================] - 0s 7ms/step - loss: 0.1308 - mae: 0.3104\n",
            "Epoch 156/1200\n",
            "1/1 [==============================] - 0s 8ms/step - loss: 0.1299 - mae: 0.3093\n",
            "Epoch 157/1200\n",
            "1/1 [==============================] - 0s 8ms/step - loss: 0.1290 - mae: 0.3083\n",
            "Epoch 158/1200\n",
            "1/1 [==============================] - 0s 8ms/step - loss: 0.1281 - mae: 0.3073\n",
            "Epoch 159/1200\n",
            "1/1 [==============================] - 0s 8ms/step - loss: 0.1273 - mae: 0.3062\n",
            "Epoch 160/1200\n",
            "1/1 [==============================] - 0s 8ms/step - loss: 0.1264 - mae: 0.3052\n",
            "Epoch 161/1200\n",
            "1/1 [==============================] - 0s 8ms/step - loss: 0.1256 - mae: 0.3041\n",
            "Epoch 162/1200\n",
            "1/1 [==============================] - 0s 11ms/step - loss: 0.1247 - mae: 0.3031\n",
            "Epoch 163/1200\n",
            "1/1 [==============================] - 0s 7ms/step - loss: 0.1239 - mae: 0.3021\n",
            "Epoch 164/1200\n",
            "1/1 [==============================] - 0s 7ms/step - loss: 0.1230 - mae: 0.3011\n",
            "Epoch 165/1200\n",
            "1/1 [==============================] - 0s 14ms/step - loss: 0.1222 - mae: 0.3001\n",
            "Epoch 166/1200\n",
            "1/1 [==============================] - 0s 7ms/step - loss: 0.1214 - mae: 0.2990\n",
            "Epoch 167/1200\n",
            "1/1 [==============================] - 0s 8ms/step - loss: 0.1206 - mae: 0.2980\n",
            "Epoch 168/1200\n",
            "1/1 [==============================] - 0s 9ms/step - loss: 0.1197 - mae: 0.2970\n",
            "Epoch 169/1200\n",
            "1/1 [==============================] - 0s 10ms/step - loss: 0.1189 - mae: 0.2960\n",
            "Epoch 170/1200\n",
            "1/1 [==============================] - 0s 7ms/step - loss: 0.1181 - mae: 0.2950\n",
            "Epoch 171/1200\n",
            "1/1 [==============================] - 0s 7ms/step - loss: 0.1173 - mae: 0.2940\n",
            "Epoch 172/1200\n",
            "1/1 [==============================] - 0s 7ms/step - loss: 0.1165 - mae: 0.2930\n",
            "Epoch 173/1200\n",
            "1/1 [==============================] - 0s 7ms/step - loss: 0.1158 - mae: 0.2920\n",
            "Epoch 174/1200\n",
            "1/1 [==============================] - 0s 7ms/step - loss: 0.1150 - mae: 0.2910\n",
            "Epoch 175/1200\n",
            "1/1 [==============================] - 0s 7ms/step - loss: 0.1142 - mae: 0.2901\n",
            "Epoch 176/1200\n",
            "1/1 [==============================] - 0s 8ms/step - loss: 0.1134 - mae: 0.2891\n",
            "Epoch 177/1200\n",
            "1/1 [==============================] - 0s 8ms/step - loss: 0.1127 - mae: 0.2881\n",
            "Epoch 178/1200\n",
            "1/1 [==============================] - 0s 8ms/step - loss: 0.1119 - mae: 0.2871\n",
            "Epoch 179/1200\n",
            "1/1 [==============================] - 0s 8ms/step - loss: 0.1111 - mae: 0.2862\n",
            "Epoch 180/1200\n",
            "1/1 [==============================] - 0s 18ms/step - loss: 0.1104 - mae: 0.2852\n",
            "Epoch 181/1200\n",
            "1/1 [==============================] - 0s 8ms/step - loss: 0.1097 - mae: 0.2842\n",
            "Epoch 182/1200\n",
            "1/1 [==============================] - 0s 6ms/step - loss: 0.1089 - mae: 0.2833\n",
            "Epoch 183/1200\n",
            "1/1 [==============================] - 0s 7ms/step - loss: 0.1082 - mae: 0.2823\n",
            "Epoch 184/1200\n",
            "1/1 [==============================] - 0s 8ms/step - loss: 0.1074 - mae: 0.2814\n",
            "Epoch 185/1200\n",
            "1/1 [==============================] - 0s 8ms/step - loss: 0.1067 - mae: 0.2804\n",
            "Epoch 186/1200\n",
            "1/1 [==============================] - 0s 7ms/step - loss: 0.1060 - mae: 0.2795\n",
            "Epoch 187/1200\n",
            "1/1 [==============================] - 0s 8ms/step - loss: 0.1053 - mae: 0.2785\n",
            "Epoch 188/1200\n",
            "1/1 [==============================] - 0s 7ms/step - loss: 0.1046 - mae: 0.2776\n",
            "Epoch 189/1200\n",
            "1/1 [==============================] - 0s 10ms/step - loss: 0.1039 - mae: 0.2766\n",
            "Epoch 190/1200\n",
            "1/1 [==============================] - 0s 7ms/step - loss: 0.1032 - mae: 0.2757\n",
            "Epoch 191/1200\n",
            "1/1 [==============================] - 0s 7ms/step - loss: 0.1025 - mae: 0.2748\n",
            "Epoch 192/1200\n",
            "1/1 [==============================] - 0s 10ms/step - loss: 0.1018 - mae: 0.2738\n",
            "Epoch 193/1200\n",
            "1/1 [==============================] - 0s 16ms/step - loss: 0.1011 - mae: 0.2729\n",
            "Epoch 194/1200\n",
            "1/1 [==============================] - 0s 10ms/step - loss: 0.1004 - mae: 0.2720\n",
            "Epoch 195/1200\n",
            "1/1 [==============================] - 0s 9ms/step - loss: 0.0997 - mae: 0.2711\n",
            "Epoch 196/1200\n",
            "1/1 [==============================] - 0s 8ms/step - loss: 0.0991 - mae: 0.2701\n",
            "Epoch 197/1200\n",
            "1/1 [==============================] - 0s 109ms/step - loss: 0.0984 - mae: 0.2692\n",
            "Epoch 198/1200\n",
            "1/1 [==============================] - 0s 6ms/step - loss: 0.0977 - mae: 0.2683\n",
            "Epoch 199/1200\n",
            "1/1 [==============================] - 0s 6ms/step - loss: 0.0971 - mae: 0.2674\n",
            "Epoch 200/1200\n",
            "1/1 [==============================] - 0s 6ms/step - loss: 0.0964 - mae: 0.2665\n",
            "Epoch 201/1200\n",
            "1/1 [==============================] - 0s 7ms/step - loss: 0.0958 - mae: 0.2656\n",
            "Epoch 202/1200\n",
            "1/1 [==============================] - 0s 12ms/step - loss: 0.0951 - mae: 0.2647\n",
            "Epoch 203/1200\n",
            "1/1 [==============================] - 0s 8ms/step - loss: 0.0945 - mae: 0.2638\n",
            "Epoch 204/1200\n",
            "1/1 [==============================] - 0s 7ms/step - loss: 0.0938 - mae: 0.2629\n",
            "Epoch 205/1200\n",
            "1/1 [==============================] - 0s 8ms/step - loss: 0.0932 - mae: 0.2620\n",
            "Epoch 206/1200\n",
            "1/1 [==============================] - 0s 7ms/step - loss: 0.0926 - mae: 0.2612\n",
            "Epoch 207/1200\n",
            "1/1 [==============================] - 0s 13ms/step - loss: 0.0919 - mae: 0.2603\n",
            "Epoch 208/1200\n",
            "1/1 [==============================] - 0s 8ms/step - loss: 0.0913 - mae: 0.2594\n",
            "Epoch 209/1200\n",
            "1/1 [==============================] - 0s 7ms/step - loss: 0.0907 - mae: 0.2585\n",
            "Epoch 210/1200\n",
            "1/1 [==============================] - 0s 7ms/step - loss: 0.0901 - mae: 0.2576\n",
            "Epoch 211/1200\n",
            "1/1 [==============================] - 0s 7ms/step - loss: 0.0895 - mae: 0.2568\n",
            "Epoch 212/1200\n",
            "1/1 [==============================] - 0s 7ms/step - loss: 0.0889 - mae: 0.2559\n",
            "Epoch 213/1200\n",
            "1/1 [==============================] - 0s 7ms/step - loss: 0.0883 - mae: 0.2550\n",
            "Epoch 214/1200\n",
            "1/1 [==============================] - 0s 11ms/step - loss: 0.0877 - mae: 0.2542\n",
            "Epoch 215/1200\n",
            "1/1 [==============================] - 0s 7ms/step - loss: 0.0871 - mae: 0.2533\n",
            "Epoch 216/1200\n",
            "1/1 [==============================] - 0s 8ms/step - loss: 0.0865 - mae: 0.2525\n",
            "Epoch 217/1200\n",
            "1/1 [==============================] - 0s 8ms/step - loss: 0.0859 - mae: 0.2516\n",
            "Epoch 218/1200\n",
            "1/1 [==============================] - 0s 8ms/step - loss: 0.0853 - mae: 0.2508\n",
            "Epoch 219/1200\n",
            "1/1 [==============================] - 0s 7ms/step - loss: 0.0848 - mae: 0.2499\n",
            "Epoch 220/1200\n",
            "1/1 [==============================] - 0s 11ms/step - loss: 0.0842 - mae: 0.2491\n",
            "Epoch 221/1200\n",
            "1/1 [==============================] - 0s 7ms/step - loss: 0.0836 - mae: 0.2482\n",
            "Epoch 222/1200\n",
            "1/1 [==============================] - 0s 7ms/step - loss: 0.0831 - mae: 0.2474\n",
            "Epoch 223/1200\n",
            "1/1 [==============================] - 0s 7ms/step - loss: 0.0825 - mae: 0.2465\n",
            "Epoch 224/1200\n",
            "1/1 [==============================] - 0s 7ms/step - loss: 0.0819 - mae: 0.2457\n",
            "Epoch 225/1200\n",
            "1/1 [==============================] - 0s 8ms/step - loss: 0.0814 - mae: 0.2449\n",
            "Epoch 226/1200\n",
            "1/1 [==============================] - 0s 8ms/step - loss: 0.0808 - mae: 0.2440\n",
            "Epoch 227/1200\n",
            "1/1 [==============================] - 0s 8ms/step - loss: 0.0803 - mae: 0.2432\n",
            "Epoch 228/1200\n",
            "1/1 [==============================] - 0s 8ms/step - loss: 0.0798 - mae: 0.2424\n",
            "Epoch 229/1200\n",
            "1/1 [==============================] - 0s 12ms/step - loss: 0.0792 - mae: 0.2416\n",
            "Epoch 230/1200\n",
            "1/1 [==============================] - 0s 8ms/step - loss: 0.0787 - mae: 0.2408\n",
            "Epoch 231/1200\n",
            "1/1 [==============================] - 0s 86ms/step - loss: 0.0782 - mae: 0.2400\n",
            "Epoch 232/1200\n",
            "1/1 [==============================] - 0s 6ms/step - loss: 0.0776 - mae: 0.2391\n",
            "Epoch 233/1200\n",
            "1/1 [==============================] - 0s 7ms/step - loss: 0.0771 - mae: 0.2383\n",
            "Epoch 234/1200\n",
            "1/1 [==============================] - 0s 7ms/step - loss: 0.0766 - mae: 0.2375\n",
            "Epoch 235/1200\n",
            "1/1 [==============================] - 0s 11ms/step - loss: 0.0761 - mae: 0.2367\n",
            "Epoch 236/1200\n",
            "1/1 [==============================] - 0s 19ms/step - loss: 0.0756 - mae: 0.2359\n",
            "Epoch 237/1200\n",
            "1/1 [==============================] - 0s 53ms/step - loss: 0.0750 - mae: 0.2351\n",
            "Epoch 238/1200\n",
            "1/1 [==============================] - 0s 8ms/step - loss: 0.0745 - mae: 0.2343\n",
            "Epoch 239/1200\n",
            "1/1 [==============================] - 0s 6ms/step - loss: 0.0740 - mae: 0.2335\n",
            "Epoch 240/1200\n",
            "1/1 [==============================] - 0s 6ms/step - loss: 0.0735 - mae: 0.2327\n",
            "Epoch 241/1200\n",
            "1/1 [==============================] - 0s 9ms/step - loss: 0.0730 - mae: 0.2320\n",
            "Epoch 242/1200\n",
            "1/1 [==============================] - 0s 8ms/step - loss: 0.0725 - mae: 0.2312\n",
            "Epoch 243/1200\n",
            "1/1 [==============================] - 0s 7ms/step - loss: 0.0721 - mae: 0.2304\n",
            "Epoch 244/1200\n",
            "1/1 [==============================] - 0s 9ms/step - loss: 0.0716 - mae: 0.2296\n",
            "Epoch 245/1200\n",
            "1/1 [==============================] - 0s 8ms/step - loss: 0.0711 - mae: 0.2288\n",
            "Epoch 246/1200\n",
            "1/1 [==============================] - 0s 7ms/step - loss: 0.0706 - mae: 0.2281\n",
            "Epoch 247/1200\n",
            "1/1 [==============================] - 0s 6ms/step - loss: 0.0701 - mae: 0.2273\n",
            "Epoch 248/1200\n",
            "1/1 [==============================] - 0s 7ms/step - loss: 0.0697 - mae: 0.2265\n",
            "Epoch 249/1200\n",
            "1/1 [==============================] - 0s 11ms/step - loss: 0.0692 - mae: 0.2258\n",
            "Epoch 250/1200\n",
            "1/1 [==============================] - 0s 16ms/step - loss: 0.0687 - mae: 0.2250\n",
            "Epoch 251/1200\n",
            "1/1 [==============================] - 0s 41ms/step - loss: 0.0683 - mae: 0.2242\n",
            "Epoch 252/1200\n",
            "1/1 [==============================] - 0s 9ms/step - loss: 0.0678 - mae: 0.2235\n",
            "Epoch 253/1200\n",
            "1/1 [==============================] - 0s 15ms/step - loss: 0.0673 - mae: 0.2227\n",
            "Epoch 254/1200\n",
            "1/1 [==============================] - 0s 7ms/step - loss: 0.0669 - mae: 0.2220\n",
            "Epoch 255/1200\n",
            "1/1 [==============================] - 0s 7ms/step - loss: 0.0664 - mae: 0.2212\n",
            "Epoch 256/1200\n",
            "1/1 [==============================] - 0s 7ms/step - loss: 0.0660 - mae: 0.2205\n",
            "Epoch 257/1200\n",
            "1/1 [==============================] - 0s 9ms/step - loss: 0.0655 - mae: 0.2197\n",
            "Epoch 258/1200\n",
            "1/1 [==============================] - 0s 9ms/step - loss: 0.0651 - mae: 0.2190\n",
            "Epoch 259/1200\n",
            "1/1 [==============================] - 0s 9ms/step - loss: 0.0647 - mae: 0.2182\n",
            "Epoch 260/1200\n",
            "1/1 [==============================] - 0s 8ms/step - loss: 0.0642 - mae: 0.2175\n",
            "Epoch 261/1200\n",
            "1/1 [==============================] - 0s 7ms/step - loss: 0.0638 - mae: 0.2168\n",
            "Epoch 262/1200\n",
            "1/1 [==============================] - 0s 13ms/step - loss: 0.0634 - mae: 0.2160\n",
            "Epoch 263/1200\n",
            "1/1 [==============================] - 0s 12ms/step - loss: 0.0629 - mae: 0.2153\n",
            "Epoch 264/1200\n",
            "1/1 [==============================] - 0s 9ms/step - loss: 0.0625 - mae: 0.2146\n",
            "Epoch 265/1200\n",
            "1/1 [==============================] - 0s 7ms/step - loss: 0.0621 - mae: 0.2139\n",
            "Epoch 266/1200\n",
            "1/1 [==============================] - 0s 7ms/step - loss: 0.0617 - mae: 0.2131\n",
            "Epoch 267/1200\n",
            "1/1 [==============================] - 0s 7ms/step - loss: 0.0612 - mae: 0.2124\n",
            "Epoch 268/1200\n",
            "1/1 [==============================] - 0s 7ms/step - loss: 0.0608 - mae: 0.2117\n",
            "Epoch 269/1200\n",
            "1/1 [==============================] - 0s 7ms/step - loss: 0.0604 - mae: 0.2110\n",
            "Epoch 270/1200\n",
            "1/1 [==============================] - 0s 7ms/step - loss: 0.0600 - mae: 0.2103\n",
            "Epoch 271/1200\n",
            "1/1 [==============================] - 0s 8ms/step - loss: 0.0596 - mae: 0.2096\n",
            "Epoch 272/1200\n",
            "1/1 [==============================] - 0s 18ms/step - loss: 0.0592 - mae: 0.2088\n",
            "Epoch 273/1200\n",
            "1/1 [==============================] - 0s 8ms/step - loss: 0.0588 - mae: 0.2081\n",
            "Epoch 274/1200\n",
            "1/1 [==============================] - 0s 7ms/step - loss: 0.0584 - mae: 0.2074\n",
            "Epoch 275/1200\n",
            "1/1 [==============================] - 0s 8ms/step - loss: 0.0580 - mae: 0.2067\n",
            "Epoch 276/1200\n",
            "1/1 [==============================] - 0s 8ms/step - loss: 0.0576 - mae: 0.2060\n",
            "Epoch 277/1200\n",
            "1/1 [==============================] - 0s 9ms/step - loss: 0.0572 - mae: 0.2053\n",
            "Epoch 278/1200\n",
            "1/1 [==============================] - 0s 12ms/step - loss: 0.0568 - mae: 0.2046\n",
            "Epoch 279/1200\n",
            "1/1 [==============================] - 0s 8ms/step - loss: 0.0565 - mae: 0.2039\n",
            "Epoch 280/1200\n",
            "1/1 [==============================] - 0s 8ms/step - loss: 0.0561 - mae: 0.2033\n",
            "Epoch 281/1200\n",
            "1/1 [==============================] - 0s 6ms/step - loss: 0.0557 - mae: 0.2026\n",
            "Epoch 282/1200\n",
            "1/1 [==============================] - 0s 7ms/step - loss: 0.0553 - mae: 0.2019\n",
            "Epoch 283/1200\n",
            "1/1 [==============================] - 0s 7ms/step - loss: 0.0550 - mae: 0.2012\n",
            "Epoch 284/1200\n",
            "1/1 [==============================] - 0s 7ms/step - loss: 0.0546 - mae: 0.2005\n",
            "Epoch 285/1200\n",
            "1/1 [==============================] - 0s 7ms/step - loss: 0.0542 - mae: 0.1998\n",
            "Epoch 286/1200\n",
            "1/1 [==============================] - 0s 7ms/step - loss: 0.0538 - mae: 0.1992\n",
            "Epoch 287/1200\n",
            "1/1 [==============================] - 0s 11ms/step - loss: 0.0535 - mae: 0.1985\n",
            "Epoch 288/1200\n",
            "1/1 [==============================] - 0s 7ms/step - loss: 0.0531 - mae: 0.1978\n",
            "Epoch 289/1200\n",
            "1/1 [==============================] - 0s 7ms/step - loss: 0.0528 - mae: 0.1972\n",
            "Epoch 290/1200\n",
            "1/1 [==============================] - 0s 7ms/step - loss: 0.0524 - mae: 0.1965\n",
            "Epoch 291/1200\n",
            "1/1 [==============================] - 0s 7ms/step - loss: 0.0521 - mae: 0.1958\n",
            "Epoch 292/1200\n",
            "1/1 [==============================] - 0s 7ms/step - loss: 0.0517 - mae: 0.1952\n",
            "Epoch 293/1200\n",
            "1/1 [==============================] - 0s 7ms/step - loss: 0.0514 - mae: 0.1945\n",
            "Epoch 294/1200\n",
            "1/1 [==============================] - 0s 7ms/step - loss: 0.0510 - mae: 0.1938\n",
            "Epoch 295/1200\n",
            "1/1 [==============================] - 0s 11ms/step - loss: 0.0507 - mae: 0.1932\n",
            "Epoch 296/1200\n",
            "1/1 [==============================] - 0s 12ms/step - loss: 0.0503 - mae: 0.1925\n",
            "Epoch 297/1200\n",
            "1/1 [==============================] - 0s 8ms/step - loss: 0.0500 - mae: 0.1919\n",
            "Epoch 298/1200\n",
            "1/1 [==============================] - 0s 8ms/step - loss: 0.0496 - mae: 0.1912\n",
            "Epoch 299/1200\n",
            "1/1 [==============================] - 0s 14ms/step - loss: 0.0493 - mae: 0.1906\n",
            "Epoch 300/1200\n",
            "1/1 [==============================] - 0s 8ms/step - loss: 0.0490 - mae: 0.1899\n",
            "Epoch 301/1200\n",
            "1/1 [==============================] - 0s 9ms/step - loss: 0.0486 - mae: 0.1893\n",
            "Epoch 302/1200\n",
            "1/1 [==============================] - 0s 9ms/step - loss: 0.0483 - mae: 0.1887\n",
            "Epoch 303/1200\n",
            "1/1 [==============================] - 0s 8ms/step - loss: 0.0480 - mae: 0.1880\n",
            "Epoch 304/1200\n",
            "1/1 [==============================] - 0s 9ms/step - loss: 0.0477 - mae: 0.1874\n",
            "Epoch 305/1200\n",
            "1/1 [==============================] - 0s 8ms/step - loss: 0.0473 - mae: 0.1868\n",
            "Epoch 306/1200\n",
            "1/1 [==============================] - 0s 11ms/step - loss: 0.0470 - mae: 0.1861\n",
            "Epoch 307/1200\n",
            "1/1 [==============================] - 0s 10ms/step - loss: 0.0467 - mae: 0.1855\n",
            "Epoch 308/1200\n",
            "1/1 [==============================] - 0s 7ms/step - loss: 0.0464 - mae: 0.1849\n",
            "Epoch 309/1200\n",
            "1/1 [==============================] - 0s 7ms/step - loss: 0.0461 - mae: 0.1842\n",
            "Epoch 310/1200\n",
            "1/1 [==============================] - 0s 8ms/step - loss: 0.0458 - mae: 0.1836\n",
            "Epoch 311/1200\n",
            "1/1 [==============================] - 0s 12ms/step - loss: 0.0455 - mae: 0.1830\n",
            "Epoch 312/1200\n",
            "1/1 [==============================] - 0s 7ms/step - loss: 0.0452 - mae: 0.1824\n",
            "Epoch 313/1200\n",
            "1/1 [==============================] - 0s 9ms/step - loss: 0.0448 - mae: 0.1818\n",
            "Epoch 314/1200\n",
            "1/1 [==============================] - 0s 7ms/step - loss: 0.0445 - mae: 0.1812\n",
            "Epoch 315/1200\n",
            "1/1 [==============================] - 0s 8ms/step - loss: 0.0442 - mae: 0.1805\n",
            "Epoch 316/1200\n",
            "1/1 [==============================] - 0s 8ms/step - loss: 0.0439 - mae: 0.1799\n",
            "Epoch 317/1200\n",
            "1/1 [==============================] - 0s 9ms/step - loss: 0.0436 - mae: 0.1793\n",
            "Epoch 318/1200\n",
            "1/1 [==============================] - 0s 7ms/step - loss: 0.0434 - mae: 0.1787\n",
            "Epoch 319/1200\n",
            "1/1 [==============================] - 0s 8ms/step - loss: 0.0431 - mae: 0.1781\n",
            "Epoch 320/1200\n",
            "1/1 [==============================] - 0s 8ms/step - loss: 0.0428 - mae: 0.1775\n",
            "Epoch 321/1200\n",
            "1/1 [==============================] - 0s 8ms/step - loss: 0.0425 - mae: 0.1769\n",
            "Epoch 322/1200\n",
            "1/1 [==============================] - 0s 9ms/step - loss: 0.0422 - mae: 0.1763\n",
            "Epoch 323/1200\n",
            "1/1 [==============================] - 0s 9ms/step - loss: 0.0419 - mae: 0.1757\n",
            "Epoch 324/1200\n",
            "1/1 [==============================] - 0s 12ms/step - loss: 0.0416 - mae: 0.1751\n",
            "Epoch 325/1200\n",
            "1/1 [==============================] - 0s 8ms/step - loss: 0.0413 - mae: 0.1745\n",
            "Epoch 326/1200\n",
            "1/1 [==============================] - 0s 15ms/step - loss: 0.0411 - mae: 0.1739\n",
            "Epoch 327/1200\n",
            "1/1 [==============================] - 0s 11ms/step - loss: 0.0408 - mae: 0.1733\n",
            "Epoch 328/1200\n",
            "1/1 [==============================] - 0s 8ms/step - loss: 0.0405 - mae: 0.1728\n",
            "Epoch 329/1200\n",
            "1/1 [==============================] - 0s 12ms/step - loss: 0.0402 - mae: 0.1722\n",
            "Epoch 330/1200\n",
            "1/1 [==============================] - 0s 6ms/step - loss: 0.0400 - mae: 0.1716\n",
            "Epoch 331/1200\n",
            "1/1 [==============================] - 0s 8ms/step - loss: 0.0397 - mae: 0.1710\n",
            "Epoch 332/1200\n",
            "1/1 [==============================] - 0s 7ms/step - loss: 0.0394 - mae: 0.1704\n",
            "Epoch 333/1200\n",
            "1/1 [==============================] - 0s 7ms/step - loss: 0.0392 - mae: 0.1699\n",
            "Epoch 334/1200\n",
            "1/1 [==============================] - 0s 7ms/step - loss: 0.0389 - mae: 0.1693\n",
            "Epoch 335/1200\n",
            "1/1 [==============================] - 0s 8ms/step - loss: 0.0386 - mae: 0.1687\n",
            "Epoch 336/1200\n",
            "1/1 [==============================] - 0s 9ms/step - loss: 0.0384 - mae: 0.1681\n",
            "Epoch 337/1200\n",
            "1/1 [==============================] - 0s 8ms/step - loss: 0.0381 - mae: 0.1676\n",
            "Epoch 338/1200\n",
            "1/1 [==============================] - 0s 7ms/step - loss: 0.0379 - mae: 0.1670\n",
            "Epoch 339/1200\n",
            "1/1 [==============================] - 0s 15ms/step - loss: 0.0376 - mae: 0.1664\n",
            "Epoch 340/1200\n",
            "1/1 [==============================] - 0s 7ms/step - loss: 0.0374 - mae: 0.1659\n",
            "Epoch 341/1200\n",
            "1/1 [==============================] - 0s 6ms/step - loss: 0.0371 - mae: 0.1653\n",
            "Epoch 342/1200\n",
            "1/1 [==============================] - 0s 7ms/step - loss: 0.0368 - mae: 0.1648\n",
            "Epoch 343/1200\n",
            "1/1 [==============================] - 0s 7ms/step - loss: 0.0366 - mae: 0.1642\n",
            "Epoch 344/1200\n",
            "1/1 [==============================] - 0s 7ms/step - loss: 0.0364 - mae: 0.1637\n",
            "Epoch 345/1200\n",
            "1/1 [==============================] - 0s 8ms/step - loss: 0.0361 - mae: 0.1631\n",
            "Epoch 346/1200\n",
            "1/1 [==============================] - 0s 7ms/step - loss: 0.0359 - mae: 0.1625\n",
            "Epoch 347/1200\n",
            "1/1 [==============================] - 0s 7ms/step - loss: 0.0356 - mae: 0.1620\n",
            "Epoch 348/1200\n",
            "1/1 [==============================] - 0s 7ms/step - loss: 0.0354 - mae: 0.1614\n",
            "Epoch 349/1200\n",
            "1/1 [==============================] - 0s 8ms/step - loss: 0.0351 - mae: 0.1609\n",
            "Epoch 350/1200\n",
            "1/1 [==============================] - 0s 7ms/step - loss: 0.0349 - mae: 0.1604\n",
            "Epoch 351/1200\n",
            "1/1 [==============================] - 0s 7ms/step - loss: 0.0347 - mae: 0.1598\n",
            "Epoch 352/1200\n",
            "1/1 [==============================] - 0s 11ms/step - loss: 0.0344 - mae: 0.1593\n",
            "Epoch 353/1200\n",
            "1/1 [==============================] - 0s 6ms/step - loss: 0.0342 - mae: 0.1587\n",
            "Epoch 354/1200\n",
            "1/1 [==============================] - 0s 7ms/step - loss: 0.0340 - mae: 0.1582\n",
            "Epoch 355/1200\n",
            "1/1 [==============================] - 0s 8ms/step - loss: 0.0337 - mae: 0.1577\n",
            "Epoch 356/1200\n",
            "1/1 [==============================] - 0s 7ms/step - loss: 0.0335 - mae: 0.1571\n",
            "Epoch 357/1200\n",
            "1/1 [==============================] - 0s 7ms/step - loss: 0.0333 - mae: 0.1566\n",
            "Epoch 358/1200\n",
            "1/1 [==============================] - 0s 7ms/step - loss: 0.0331 - mae: 0.1561\n",
            "Epoch 359/1200\n",
            "1/1 [==============================] - 0s 7ms/step - loss: 0.0328 - mae: 0.1555\n",
            "Epoch 360/1200\n",
            "1/1 [==============================] - 0s 7ms/step - loss: 0.0326 - mae: 0.1550\n",
            "Epoch 361/1200\n",
            "1/1 [==============================] - 0s 10ms/step - loss: 0.0324 - mae: 0.1545\n",
            "Epoch 362/1200\n",
            "1/1 [==============================] - 0s 7ms/step - loss: 0.0322 - mae: 0.1540\n",
            "Epoch 363/1200\n",
            "1/1 [==============================] - 0s 7ms/step - loss: 0.0320 - mae: 0.1535\n",
            "Epoch 364/1200\n",
            "1/1 [==============================] - 0s 183ms/step - loss: 0.0317 - mae: 0.1529\n",
            "Epoch 365/1200\n",
            "1/1 [==============================] - 0s 6ms/step - loss: 0.0315 - mae: 0.1524\n",
            "Epoch 366/1200\n",
            "1/1 [==============================] - 0s 6ms/step - loss: 0.0313 - mae: 0.1519\n",
            "Epoch 367/1200\n",
            "1/1 [==============================] - 0s 6ms/step - loss: 0.0311 - mae: 0.1514\n",
            "Epoch 368/1200\n",
            "1/1 [==============================] - 0s 6ms/step - loss: 0.0309 - mae: 0.1509\n",
            "Epoch 369/1200\n",
            "1/1 [==============================] - 0s 7ms/step - loss: 0.0307 - mae: 0.1504\n",
            "Epoch 370/1200\n",
            "1/1 [==============================] - 0s 7ms/step - loss: 0.0305 - mae: 0.1499\n",
            "Epoch 371/1200\n",
            "1/1 [==============================] - 0s 7ms/step - loss: 0.0303 - mae: 0.1494\n",
            "Epoch 372/1200\n",
            "1/1 [==============================] - 0s 6ms/step - loss: 0.0301 - mae: 0.1488\n",
            "Epoch 373/1200\n",
            "1/1 [==============================] - 0s 7ms/step - loss: 0.0299 - mae: 0.1483\n",
            "Epoch 374/1200\n",
            "1/1 [==============================] - 0s 16ms/step - loss: 0.0297 - mae: 0.1478\n",
            "Epoch 375/1200\n",
            "1/1 [==============================] - 0s 6ms/step - loss: 0.0295 - mae: 0.1473\n",
            "Epoch 376/1200\n",
            "1/1 [==============================] - 0s 6ms/step - loss: 0.0293 - mae: 0.1468\n",
            "Epoch 377/1200\n",
            "1/1 [==============================] - 0s 7ms/step - loss: 0.0291 - mae: 0.1463\n",
            "Epoch 378/1200\n",
            "1/1 [==============================] - 0s 7ms/step - loss: 0.0289 - mae: 0.1459\n",
            "Epoch 379/1200\n",
            "1/1 [==============================] - 0s 7ms/step - loss: 0.0287 - mae: 0.1454\n",
            "Epoch 380/1200\n",
            "1/1 [==============================] - 0s 7ms/step - loss: 0.0285 - mae: 0.1449\n",
            "Epoch 381/1200\n",
            "1/1 [==============================] - 0s 7ms/step - loss: 0.0283 - mae: 0.1444\n",
            "Epoch 382/1200\n",
            "1/1 [==============================] - 0s 8ms/step - loss: 0.0281 - mae: 0.1439\n",
            "Epoch 383/1200\n",
            "1/1 [==============================] - 0s 8ms/step - loss: 0.0279 - mae: 0.1434\n",
            "Epoch 384/1200\n",
            "1/1 [==============================] - 0s 8ms/step - loss: 0.0277 - mae: 0.1429\n",
            "Epoch 385/1200\n",
            "1/1 [==============================] - 0s 14ms/step - loss: 0.0275 - mae: 0.1424\n",
            "Epoch 386/1200\n",
            "1/1 [==============================] - 0s 7ms/step - loss: 0.0274 - mae: 0.1420\n",
            "Epoch 387/1200\n",
            "1/1 [==============================] - 0s 8ms/step - loss: 0.0272 - mae: 0.1415\n",
            "Epoch 388/1200\n",
            "1/1 [==============================] - 0s 6ms/step - loss: 0.0270 - mae: 0.1410\n",
            "Epoch 389/1200\n",
            "1/1 [==============================] - 0s 7ms/step - loss: 0.0268 - mae: 0.1405\n",
            "Epoch 390/1200\n",
            "1/1 [==============================] - 0s 9ms/step - loss: 0.0266 - mae: 0.1400\n",
            "Epoch 391/1200\n",
            "1/1 [==============================] - 0s 8ms/step - loss: 0.0264 - mae: 0.1396\n",
            "Epoch 392/1200\n",
            "1/1 [==============================] - 0s 7ms/step - loss: 0.0263 - mae: 0.1391\n",
            "Epoch 393/1200\n",
            "1/1 [==============================] - 0s 7ms/step - loss: 0.0261 - mae: 0.1386\n",
            "Epoch 394/1200\n",
            "1/1 [==============================] - 0s 8ms/step - loss: 0.0259 - mae: 0.1382\n",
            "Epoch 395/1200\n",
            "1/1 [==============================] - 0s 11ms/step - loss: 0.0257 - mae: 0.1377\n",
            "Epoch 396/1200\n",
            "1/1 [==============================] - 0s 7ms/step - loss: 0.0256 - mae: 0.1372\n",
            "Epoch 397/1200\n",
            "1/1 [==============================] - 0s 7ms/step - loss: 0.0254 - mae: 0.1368\n",
            "Epoch 398/1200\n",
            "1/1 [==============================] - 0s 7ms/step - loss: 0.0252 - mae: 0.1363\n",
            "Epoch 399/1200\n",
            "1/1 [==============================] - 0s 7ms/step - loss: 0.0250 - mae: 0.1358\n",
            "Epoch 400/1200\n",
            "1/1 [==============================] - 0s 9ms/step - loss: 0.0249 - mae: 0.1354\n",
            "Epoch 401/1200\n",
            "1/1 [==============================] - 0s 8ms/step - loss: 0.0247 - mae: 0.1349\n",
            "Epoch 402/1200\n",
            "1/1 [==============================] - 0s 42ms/step - loss: 0.0245 - mae: 0.1345\n",
            "Epoch 403/1200\n",
            "1/1 [==============================] - 0s 22ms/step - loss: 0.0244 - mae: 0.1340\n",
            "Epoch 404/1200\n",
            "1/1 [==============================] - 0s 27ms/step - loss: 0.0242 - mae: 0.1336\n",
            "Epoch 405/1200\n",
            "1/1 [==============================] - 0s 10ms/step - loss: 0.0240 - mae: 0.1331\n",
            "Epoch 406/1200\n",
            "1/1 [==============================] - 0s 11ms/step - loss: 0.0239 - mae: 0.1327\n",
            "Epoch 407/1200\n",
            "1/1 [==============================] - 0s 11ms/step - loss: 0.0237 - mae: 0.1322\n",
            "Epoch 408/1200\n",
            "1/1 [==============================] - 0s 11ms/step - loss: 0.0236 - mae: 0.1318\n",
            "Epoch 409/1200\n",
            "1/1 [==============================] - 0s 10ms/step - loss: 0.0234 - mae: 0.1313\n",
            "Epoch 410/1200\n",
            "1/1 [==============================] - 0s 9ms/step - loss: 0.0232 - mae: 0.1309\n",
            "Epoch 411/1200\n",
            "1/1 [==============================] - 0s 9ms/step - loss: 0.0231 - mae: 0.1304\n",
            "Epoch 412/1200\n",
            "1/1 [==============================] - 0s 9ms/step - loss: 0.0229 - mae: 0.1300\n",
            "Epoch 413/1200\n",
            "1/1 [==============================] - 0s 7ms/step - loss: 0.0228 - mae: 0.1295\n",
            "Epoch 414/1200\n",
            "1/1 [==============================] - 0s 7ms/step - loss: 0.0226 - mae: 0.1291\n",
            "Epoch 415/1200\n",
            "1/1 [==============================] - 0s 14ms/step - loss: 0.0225 - mae: 0.1287\n",
            "Epoch 416/1200\n",
            "1/1 [==============================] - 0s 7ms/step - loss: 0.0223 - mae: 0.1282\n",
            "Epoch 417/1200\n",
            "1/1 [==============================] - 0s 7ms/step - loss: 0.0222 - mae: 0.1278\n",
            "Epoch 418/1200\n",
            "1/1 [==============================] - 0s 6ms/step - loss: 0.0220 - mae: 0.1274\n",
            "Epoch 419/1200\n",
            "1/1 [==============================] - 0s 7ms/step - loss: 0.0219 - mae: 0.1269\n",
            "Epoch 420/1200\n",
            "1/1 [==============================] - 0s 8ms/step - loss: 0.0217 - mae: 0.1265\n",
            "Epoch 421/1200\n",
            "1/1 [==============================] - 0s 8ms/step - loss: 0.0216 - mae: 0.1261\n",
            "Epoch 422/1200\n",
            "1/1 [==============================] - 0s 7ms/step - loss: 0.0214 - mae: 0.1257\n",
            "Epoch 423/1200\n",
            "1/1 [==============================] - 0s 8ms/step - loss: 0.0213 - mae: 0.1252\n",
            "Epoch 424/1200\n",
            "1/1 [==============================] - 0s 9ms/step - loss: 0.0211 - mae: 0.1248\n",
            "Epoch 425/1200\n",
            "1/1 [==============================] - 0s 8ms/step - loss: 0.0210 - mae: 0.1244\n",
            "Epoch 426/1200\n",
            "1/1 [==============================] - 0s 8ms/step - loss: 0.0209 - mae: 0.1240\n",
            "Epoch 427/1200\n",
            "1/1 [==============================] - 0s 7ms/step - loss: 0.0207 - mae: 0.1235\n",
            "Epoch 428/1200\n",
            "1/1 [==============================] - 0s 8ms/step - loss: 0.0206 - mae: 0.1231\n",
            "Epoch 429/1200\n",
            "1/1 [==============================] - 0s 6ms/step - loss: 0.0204 - mae: 0.1227\n",
            "Epoch 430/1200\n",
            "1/1 [==============================] - 0s 7ms/step - loss: 0.0203 - mae: 0.1223\n",
            "Epoch 431/1200\n",
            "1/1 [==============================] - 0s 8ms/step - loss: 0.0202 - mae: 0.1219\n",
            "Epoch 432/1200\n",
            "1/1 [==============================] - 0s 8ms/step - loss: 0.0200 - mae: 0.1215\n",
            "Epoch 433/1200\n",
            "1/1 [==============================] - 0s 8ms/step - loss: 0.0199 - mae: 0.1211\n",
            "Epoch 434/1200\n",
            "1/1 [==============================] - 0s 14ms/step - loss: 0.0198 - mae: 0.1207\n",
            "Epoch 435/1200\n",
            "1/1 [==============================] - 0s 7ms/step - loss: 0.0196 - mae: 0.1202\n",
            "Epoch 436/1200\n",
            "1/1 [==============================] - 0s 8ms/step - loss: 0.0195 - mae: 0.1198\n",
            "Epoch 437/1200\n",
            "1/1 [==============================] - 0s 8ms/step - loss: 0.0194 - mae: 0.1194\n",
            "Epoch 438/1200\n",
            "1/1 [==============================] - 0s 7ms/step - loss: 0.0192 - mae: 0.1190\n",
            "Epoch 439/1200\n",
            "1/1 [==============================] - 0s 8ms/step - loss: 0.0191 - mae: 0.1186\n",
            "Epoch 440/1200\n",
            "1/1 [==============================] - 0s 8ms/step - loss: 0.0190 - mae: 0.1182\n",
            "Epoch 441/1200\n",
            "1/1 [==============================] - 0s 7ms/step - loss: 0.0188 - mae: 0.1178\n",
            "Epoch 442/1200\n",
            "1/1 [==============================] - 0s 8ms/step - loss: 0.0187 - mae: 0.1174\n",
            "Epoch 443/1200\n",
            "1/1 [==============================] - 0s 7ms/step - loss: 0.0186 - mae: 0.1170\n",
            "Epoch 444/1200\n",
            "1/1 [==============================] - 0s 8ms/step - loss: 0.0185 - mae: 0.1166\n",
            "Epoch 445/1200\n",
            "1/1 [==============================] - 0s 7ms/step - loss: 0.0183 - mae: 0.1162\n",
            "Epoch 446/1200\n",
            "1/1 [==============================] - 0s 12ms/step - loss: 0.0182 - mae: 0.1158\n",
            "Epoch 447/1200\n",
            "1/1 [==============================] - 0s 108ms/step - loss: 0.0181 - mae: 0.1155\n",
            "Epoch 448/1200\n",
            "1/1 [==============================] - 0s 6ms/step - loss: 0.0180 - mae: 0.1151\n",
            "Epoch 449/1200\n",
            "1/1 [==============================] - 0s 6ms/step - loss: 0.0179 - mae: 0.1147\n",
            "Epoch 450/1200\n",
            "1/1 [==============================] - 0s 7ms/step - loss: 0.0177 - mae: 0.1143\n",
            "Epoch 451/1200\n",
            "1/1 [==============================] - 0s 7ms/step - loss: 0.0176 - mae: 0.1139\n",
            "Epoch 452/1200\n",
            "1/1 [==============================] - 0s 12ms/step - loss: 0.0175 - mae: 0.1135\n",
            "Epoch 453/1200\n",
            "1/1 [==============================] - 0s 8ms/step - loss: 0.0174 - mae: 0.1131\n",
            "Epoch 454/1200\n",
            "1/1 [==============================] - 0s 7ms/step - loss: 0.0173 - mae: 0.1128\n",
            "Epoch 455/1200\n",
            "1/1 [==============================] - 0s 7ms/step - loss: 0.0171 - mae: 0.1124\n",
            "Epoch 456/1200\n",
            "1/1 [==============================] - 0s 12ms/step - loss: 0.0170 - mae: 0.1120\n",
            "Epoch 457/1200\n",
            "1/1 [==============================] - 0s 7ms/step - loss: 0.0169 - mae: 0.1116\n",
            "Epoch 458/1200\n",
            "1/1 [==============================] - 0s 7ms/step - loss: 0.0168 - mae: 0.1112\n",
            "Epoch 459/1200\n",
            "1/1 [==============================] - 0s 7ms/step - loss: 0.0167 - mae: 0.1109\n",
            "Epoch 460/1200\n",
            "1/1 [==============================] - 0s 7ms/step - loss: 0.0166 - mae: 0.1105\n",
            "Epoch 461/1200\n",
            "1/1 [==============================] - 0s 7ms/step - loss: 0.0165 - mae: 0.1101\n",
            "Epoch 462/1200\n",
            "1/1 [==============================] - 0s 15ms/step - loss: 0.0163 - mae: 0.1097\n",
            "Epoch 463/1200\n",
            "1/1 [==============================] - 0s 8ms/step - loss: 0.0162 - mae: 0.1094\n",
            "Epoch 464/1200\n",
            "1/1 [==============================] - 0s 8ms/step - loss: 0.0161 - mae: 0.1090\n",
            "Epoch 465/1200\n",
            "1/1 [==============================] - 0s 8ms/step - loss: 0.0160 - mae: 0.1086\n",
            "Epoch 466/1200\n",
            "1/1 [==============================] - 0s 8ms/step - loss: 0.0159 - mae: 0.1083\n",
            "Epoch 467/1200\n",
            "1/1 [==============================] - 0s 8ms/step - loss: 0.0158 - mae: 0.1079\n",
            "Epoch 468/1200\n",
            "1/1 [==============================] - 0s 8ms/step - loss: 0.0157 - mae: 0.1075\n",
            "Epoch 469/1200\n",
            "1/1 [==============================] - 0s 11ms/step - loss: 0.0156 - mae: 0.1072\n",
            "Epoch 470/1200\n",
            "1/1 [==============================] - 0s 7ms/step - loss: 0.0155 - mae: 0.1068\n",
            "Epoch 471/1200\n",
            "1/1 [==============================] - 0s 9ms/step - loss: 0.0154 - mae: 0.1064\n",
            "Epoch 472/1200\n",
            "1/1 [==============================] - 0s 11ms/step - loss: 0.0153 - mae: 0.1061\n",
            "Epoch 473/1200\n",
            "1/1 [==============================] - 0s 12ms/step - loss: 0.0152 - mae: 0.1057\n",
            "Epoch 474/1200\n",
            "1/1 [==============================] - 0s 15ms/step - loss: 0.0151 - mae: 0.1054\n",
            "Epoch 475/1200\n",
            "1/1 [==============================] - 0s 7ms/step - loss: 0.0150 - mae: 0.1050\n",
            "Epoch 476/1200\n",
            "1/1 [==============================] - 0s 7ms/step - loss: 0.0149 - mae: 0.1047\n",
            "Epoch 477/1200\n",
            "1/1 [==============================] - 0s 7ms/step - loss: 0.0148 - mae: 0.1043\n",
            "Epoch 478/1200\n",
            "1/1 [==============================] - 0s 6ms/step - loss: 0.0147 - mae: 0.1040\n",
            "Epoch 479/1200\n",
            "1/1 [==============================] - 0s 7ms/step - loss: 0.0146 - mae: 0.1036\n",
            "Epoch 480/1200\n",
            "1/1 [==============================] - 0s 7ms/step - loss: 0.0145 - mae: 0.1032\n",
            "Epoch 481/1200\n",
            "1/1 [==============================] - 0s 7ms/step - loss: 0.0144 - mae: 0.1029\n",
            "Epoch 482/1200\n",
            "1/1 [==============================] - 0s 6ms/step - loss: 0.0143 - mae: 0.1026\n",
            "Epoch 483/1200\n",
            "1/1 [==============================] - 0s 7ms/step - loss: 0.0142 - mae: 0.1022\n",
            "Epoch 484/1200\n",
            "1/1 [==============================] - 0s 7ms/step - loss: 0.0141 - mae: 0.1019\n",
            "Epoch 485/1200\n",
            "1/1 [==============================] - 0s 7ms/step - loss: 0.0140 - mae: 0.1015\n",
            "Epoch 486/1200\n",
            "1/1 [==============================] - 0s 6ms/step - loss: 0.0139 - mae: 0.1012\n",
            "Epoch 487/1200\n",
            "1/1 [==============================] - 0s 8ms/step - loss: 0.0138 - mae: 0.1008\n",
            "Epoch 488/1200\n",
            "1/1 [==============================] - 0s 7ms/step - loss: 0.0137 - mae: 0.1005\n",
            "Epoch 489/1200\n",
            "1/1 [==============================] - 0s 7ms/step - loss: 0.0136 - mae: 0.1002\n",
            "Epoch 490/1200\n",
            "1/1 [==============================] - 0s 13ms/step - loss: 0.0135 - mae: 0.0998\n",
            "Epoch 491/1200\n",
            "1/1 [==============================] - 0s 7ms/step - loss: 0.0134 - mae: 0.0995\n",
            "Epoch 492/1200\n",
            "1/1 [==============================] - 0s 7ms/step - loss: 0.0133 - mae: 0.0991\n",
            "Epoch 493/1200\n",
            "1/1 [==============================] - 0s 7ms/step - loss: 0.0133 - mae: 0.0988\n",
            "Epoch 494/1200\n",
            "1/1 [==============================] - 0s 8ms/step - loss: 0.0132 - mae: 0.0985\n",
            "Epoch 495/1200\n",
            "1/1 [==============================] - 0s 8ms/step - loss: 0.0131 - mae: 0.0981\n",
            "Epoch 496/1200\n",
            "1/1 [==============================] - 0s 8ms/step - loss: 0.0130 - mae: 0.0978\n",
            "Epoch 497/1200\n",
            "1/1 [==============================] - 0s 8ms/step - loss: 0.0129 - mae: 0.0975\n",
            "Epoch 498/1200\n",
            "1/1 [==============================] - 0s 10ms/step - loss: 0.0128 - mae: 0.0971\n",
            "Epoch 499/1200\n",
            "1/1 [==============================] - 0s 8ms/step - loss: 0.0127 - mae: 0.0968\n",
            "Epoch 500/1200\n",
            "1/1 [==============================] - 0s 15ms/step - loss: 0.0126 - mae: 0.0965\n",
            "Epoch 501/1200\n",
            "1/1 [==============================] - 0s 7ms/step - loss: 0.0126 - mae: 0.0962\n",
            "Epoch 502/1200\n",
            "1/1 [==============================] - 0s 7ms/step - loss: 0.0125 - mae: 0.0958\n",
            "Epoch 503/1200\n",
            "1/1 [==============================] - 0s 7ms/step - loss: 0.0124 - mae: 0.0955\n",
            "Epoch 504/1200\n",
            "1/1 [==============================] - 0s 7ms/step - loss: 0.0123 - mae: 0.0952\n",
            "Epoch 505/1200\n",
            "1/1 [==============================] - 0s 7ms/step - loss: 0.0122 - mae: 0.0949\n",
            "Epoch 506/1200\n",
            "1/1 [==============================] - 0s 8ms/step - loss: 0.0121 - mae: 0.0945\n",
            "Epoch 507/1200\n",
            "1/1 [==============================] - 0s 8ms/step - loss: 0.0121 - mae: 0.0942\n",
            "Epoch 508/1200\n",
            "1/1 [==============================] - 0s 7ms/step - loss: 0.0120 - mae: 0.0939\n",
            "Epoch 509/1200\n",
            "1/1 [==============================] - 0s 7ms/step - loss: 0.0119 - mae: 0.0936\n",
            "Epoch 510/1200\n",
            "1/1 [==============================] - 0s 13ms/step - loss: 0.0118 - mae: 0.0933\n",
            "Epoch 511/1200\n",
            "1/1 [==============================] - 0s 6ms/step - loss: 0.0117 - mae: 0.0930\n",
            "Epoch 512/1200\n",
            "1/1 [==============================] - 0s 6ms/step - loss: 0.0117 - mae: 0.0926\n",
            "Epoch 513/1200\n",
            "1/1 [==============================] - 0s 7ms/step - loss: 0.0116 - mae: 0.0923\n",
            "Epoch 514/1200\n",
            "1/1 [==============================] - 0s 8ms/step - loss: 0.0115 - mae: 0.0920\n",
            "Epoch 515/1200\n",
            "1/1 [==============================] - 0s 8ms/step - loss: 0.0114 - mae: 0.0917\n",
            "Epoch 516/1200\n",
            "1/1 [==============================] - 0s 8ms/step - loss: 0.0113 - mae: 0.0914\n",
            "Epoch 517/1200\n",
            "1/1 [==============================] - 0s 8ms/step - loss: 0.0113 - mae: 0.0911\n",
            "Epoch 518/1200\n",
            "1/1 [==============================] - 0s 8ms/step - loss: 0.0112 - mae: 0.0908\n",
            "Epoch 519/1200\n",
            "1/1 [==============================] - 0s 8ms/step - loss: 0.0111 - mae: 0.0905\n",
            "Epoch 520/1200\n",
            "1/1 [==============================] - 0s 9ms/step - loss: 0.0110 - mae: 0.0902\n",
            "Epoch 521/1200\n",
            "1/1 [==============================] - 0s 8ms/step - loss: 0.0110 - mae: 0.0899\n",
            "Epoch 522/1200\n",
            "1/1 [==============================] - 0s 8ms/step - loss: 0.0109 - mae: 0.0896\n",
            "Epoch 523/1200\n",
            "1/1 [==============================] - 0s 9ms/step - loss: 0.0108 - mae: 0.0893\n",
            "Epoch 524/1200\n",
            "1/1 [==============================] - 0s 13ms/step - loss: 0.0107 - mae: 0.0890\n",
            "Epoch 525/1200\n",
            "1/1 [==============================] - 0s 8ms/step - loss: 0.0107 - mae: 0.0887\n",
            "Epoch 526/1200\n",
            "1/1 [==============================] - 0s 7ms/step - loss: 0.0106 - mae: 0.0884\n",
            "Epoch 527/1200\n",
            "1/1 [==============================] - 0s 8ms/step - loss: 0.0105 - mae: 0.0881\n",
            "Epoch 528/1200\n",
            "1/1 [==============================] - 0s 9ms/step - loss: 0.0105 - mae: 0.0878\n",
            "Epoch 529/1200\n",
            "1/1 [==============================] - 0s 8ms/step - loss: 0.0104 - mae: 0.0875\n",
            "Epoch 530/1200\n",
            "1/1 [==============================] - 0s 8ms/step - loss: 0.0103 - mae: 0.0872\n",
            "Epoch 531/1200\n",
            "1/1 [==============================] - 0s 7ms/step - loss: 0.0102 - mae: 0.0869\n",
            "Epoch 532/1200\n",
            "1/1 [==============================] - 0s 6ms/step - loss: 0.0102 - mae: 0.0866\n",
            "Epoch 533/1200\n",
            "1/1 [==============================] - 0s 6ms/step - loss: 0.0101 - mae: 0.0863\n",
            "Epoch 534/1200\n",
            "1/1 [==============================] - 0s 7ms/step - loss: 0.0100 - mae: 0.0860\n",
            "Epoch 535/1200\n",
            "1/1 [==============================] - 0s 7ms/step - loss: 0.0100 - mae: 0.0857\n",
            "Epoch 536/1200\n",
            "1/1 [==============================] - 0s 8ms/step - loss: 0.0099 - mae: 0.0854\n",
            "Epoch 537/1200\n",
            "1/1 [==============================] - 0s 11ms/step - loss: 0.0098 - mae: 0.0851\n",
            "Epoch 538/1200\n",
            "1/1 [==============================] - 0s 8ms/step - loss: 0.0098 - mae: 0.0848\n",
            "Epoch 539/1200\n",
            "1/1 [==============================] - 0s 8ms/step - loss: 0.0097 - mae: 0.0845\n",
            "Epoch 540/1200\n",
            "1/1 [==============================] - 0s 7ms/step - loss: 0.0096 - mae: 0.0843\n",
            "Epoch 541/1200\n",
            "1/1 [==============================] - 0s 7ms/step - loss: 0.0096 - mae: 0.0840\n",
            "Epoch 542/1200\n",
            "1/1 [==============================] - 0s 8ms/step - loss: 0.0095 - mae: 0.0837\n",
            "Epoch 543/1200\n",
            "1/1 [==============================] - 0s 7ms/step - loss: 0.0094 - mae: 0.0834\n",
            "Epoch 544/1200\n",
            "1/1 [==============================] - 0s 7ms/step - loss: 0.0094 - mae: 0.0831\n",
            "Epoch 545/1200\n",
            "1/1 [==============================] - 0s 11ms/step - loss: 0.0093 - mae: 0.0828\n",
            "Epoch 546/1200\n",
            "1/1 [==============================] - 0s 6ms/step - loss: 0.0093 - mae: 0.0826\n",
            "Epoch 547/1200\n",
            "1/1 [==============================] - 0s 7ms/step - loss: 0.0092 - mae: 0.0823\n",
            "Epoch 548/1200\n",
            "1/1 [==============================] - 0s 10ms/step - loss: 0.0091 - mae: 0.0820\n",
            "Epoch 549/1200\n",
            "1/1 [==============================] - 0s 8ms/step - loss: 0.0091 - mae: 0.0817\n",
            "Epoch 550/1200\n",
            "1/1 [==============================] - 0s 7ms/step - loss: 0.0090 - mae: 0.0815\n",
            "Epoch 551/1200\n",
            "1/1 [==============================] - 0s 20ms/step - loss: 0.0089 - mae: 0.0812\n",
            "Epoch 552/1200\n",
            "1/1 [==============================] - 0s 6ms/step - loss: 0.0089 - mae: 0.0809\n",
            "Epoch 553/1200\n",
            "1/1 [==============================] - 0s 6ms/step - loss: 0.0088 - mae: 0.0806\n",
            "Epoch 554/1200\n",
            "1/1 [==============================] - 0s 6ms/step - loss: 0.0088 - mae: 0.0804\n",
            "Epoch 555/1200\n",
            "1/1 [==============================] - 0s 11ms/step - loss: 0.0087 - mae: 0.0801\n",
            "Epoch 556/1200\n",
            "1/1 [==============================] - 0s 6ms/step - loss: 0.0086 - mae: 0.0798\n",
            "Epoch 557/1200\n",
            "1/1 [==============================] - 0s 6ms/step - loss: 0.0086 - mae: 0.0795\n",
            "Epoch 558/1200\n",
            "1/1 [==============================] - 0s 6ms/step - loss: 0.0085 - mae: 0.0793\n",
            "Epoch 559/1200\n",
            "1/1 [==============================] - 0s 7ms/step - loss: 0.0085 - mae: 0.0790\n",
            "Epoch 560/1200\n",
            "1/1 [==============================] - 0s 10ms/step - loss: 0.0084 - mae: 0.0787\n",
            "Epoch 561/1200\n",
            "1/1 [==============================] - 0s 6ms/step - loss: 0.0084 - mae: 0.0785\n",
            "Epoch 562/1200\n",
            "1/1 [==============================] - 0s 7ms/step - loss: 0.0083 - mae: 0.0782\n",
            "Epoch 563/1200\n",
            "1/1 [==============================] - 0s 7ms/step - loss: 0.0082 - mae: 0.0779\n",
            "Epoch 564/1200\n",
            "1/1 [==============================] - 0s 12ms/step - loss: 0.0082 - mae: 0.0777\n",
            "Epoch 565/1200\n",
            "1/1 [==============================] - 0s 9ms/step - loss: 0.0081 - mae: 0.0774\n",
            "Epoch 566/1200\n",
            "1/1 [==============================] - 0s 8ms/step - loss: 0.0081 - mae: 0.0772\n",
            "Epoch 567/1200\n",
            "1/1 [==============================] - 0s 7ms/step - loss: 0.0080 - mae: 0.0769\n",
            "Epoch 568/1200\n",
            "1/1 [==============================] - 0s 10ms/step - loss: 0.0080 - mae: 0.0766\n",
            "Epoch 569/1200\n",
            "1/1 [==============================] - 0s 6ms/step - loss: 0.0079 - mae: 0.0764\n",
            "Epoch 570/1200\n",
            "1/1 [==============================] - 0s 7ms/step - loss: 0.0079 - mae: 0.0761\n",
            "Epoch 571/1200\n",
            "1/1 [==============================] - 0s 9ms/step - loss: 0.0078 - mae: 0.0759\n",
            "Epoch 572/1200\n",
            "1/1 [==============================] - 0s 7ms/step - loss: 0.0078 - mae: 0.0756\n",
            "Epoch 573/1200\n",
            "1/1 [==============================] - 0s 10ms/step - loss: 0.0077 - mae: 0.0754\n",
            "Epoch 574/1200\n",
            "1/1 [==============================] - 0s 9ms/step - loss: 0.0077 - mae: 0.0751\n",
            "Epoch 575/1200\n",
            "1/1 [==============================] - 0s 9ms/step - loss: 0.0076 - mae: 0.0748\n",
            "Epoch 576/1200\n",
            "1/1 [==============================] - 0s 8ms/step - loss: 0.0076 - mae: 0.0746\n",
            "Epoch 577/1200\n",
            "1/1 [==============================] - 0s 7ms/step - loss: 0.0075 - mae: 0.0743\n",
            "Epoch 578/1200\n",
            "1/1 [==============================] - 0s 12ms/step - loss: 0.0075 - mae: 0.0741\n",
            "Epoch 579/1200\n",
            "1/1 [==============================] - 0s 7ms/step - loss: 0.0074 - mae: 0.0738\n",
            "Epoch 580/1200\n",
            "1/1 [==============================] - 0s 6ms/step - loss: 0.0074 - mae: 0.0736\n",
            "Epoch 581/1200\n",
            "1/1 [==============================] - 0s 6ms/step - loss: 0.0073 - mae: 0.0733\n",
            "Epoch 582/1200\n",
            "1/1 [==============================] - 0s 6ms/step - loss: 0.0073 - mae: 0.0731\n",
            "Epoch 583/1200\n",
            "1/1 [==============================] - 0s 6ms/step - loss: 0.0072 - mae: 0.0728\n",
            "Epoch 584/1200\n",
            "1/1 [==============================] - 0s 11ms/step - loss: 0.0072 - mae: 0.0726\n",
            "Epoch 585/1200\n",
            "1/1 [==============================] - 0s 6ms/step - loss: 0.0071 - mae: 0.0724\n",
            "Epoch 586/1200\n",
            "1/1 [==============================] - 0s 5ms/step - loss: 0.0071 - mae: 0.0721\n",
            "Epoch 587/1200\n",
            "1/1 [==============================] - 0s 5ms/step - loss: 0.0070 - mae: 0.0719\n",
            "Epoch 588/1200\n",
            "1/1 [==============================] - 0s 9ms/step - loss: 0.0070 - mae: 0.0716\n",
            "Epoch 589/1200\n",
            "1/1 [==============================] - 0s 6ms/step - loss: 0.0069 - mae: 0.0714\n",
            "Epoch 590/1200\n",
            "1/1 [==============================] - 0s 6ms/step - loss: 0.0069 - mae: 0.0711\n",
            "Epoch 591/1200\n",
            "1/1 [==============================] - 0s 5ms/step - loss: 0.0068 - mae: 0.0709\n",
            "Epoch 592/1200\n",
            "1/1 [==============================] - 0s 6ms/step - loss: 0.0068 - mae: 0.0707\n",
            "Epoch 593/1200\n",
            "1/1 [==============================] - 0s 8ms/step - loss: 0.0067 - mae: 0.0704\n",
            "Epoch 594/1200\n",
            "1/1 [==============================] - 0s 7ms/step - loss: 0.0067 - mae: 0.0702\n",
            "Epoch 595/1200\n",
            "1/1 [==============================] - 0s 7ms/step - loss: 0.0066 - mae: 0.0699\n",
            "Epoch 596/1200\n",
            "1/1 [==============================] - 0s 8ms/step - loss: 0.0066 - mae: 0.0697\n",
            "Epoch 597/1200\n",
            "1/1 [==============================] - 0s 7ms/step - loss: 0.0066 - mae: 0.0695\n",
            "Epoch 598/1200\n",
            "1/1 [==============================] - 0s 5ms/step - loss: 0.0065 - mae: 0.0692\n",
            "Epoch 599/1200\n",
            "1/1 [==============================] - 0s 8ms/step - loss: 0.0065 - mae: 0.0690\n",
            "Epoch 600/1200\n",
            "1/1 [==============================] - 0s 6ms/step - loss: 0.0064 - mae: 0.0688\n",
            "Epoch 601/1200\n",
            "1/1 [==============================] - 0s 10ms/step - loss: 0.0064 - mae: 0.0685\n",
            "Epoch 602/1200\n",
            "1/1 [==============================] - 0s 7ms/step - loss: 0.0063 - mae: 0.0683\n",
            "Epoch 603/1200\n",
            "1/1 [==============================] - 0s 7ms/step - loss: 0.0063 - mae: 0.0681\n",
            "Epoch 604/1200\n",
            "1/1 [==============================] - 0s 9ms/step - loss: 0.0062 - mae: 0.0678\n",
            "Epoch 605/1200\n",
            "1/1 [==============================] - 0s 12ms/step - loss: 0.0062 - mae: 0.0676\n",
            "Epoch 606/1200\n",
            "1/1 [==============================] - 0s 7ms/step - loss: 0.0062 - mae: 0.0674\n",
            "Epoch 607/1200\n",
            "1/1 [==============================] - 0s 7ms/step - loss: 0.0061 - mae: 0.0672\n",
            "Epoch 608/1200\n",
            "1/1 [==============================] - 0s 8ms/step - loss: 0.0061 - mae: 0.0669\n",
            "Epoch 609/1200\n",
            "1/1 [==============================] - 0s 7ms/step - loss: 0.0060 - mae: 0.0667\n",
            "Epoch 610/1200\n",
            "1/1 [==============================] - 0s 7ms/step - loss: 0.0060 - mae: 0.0665\n",
            "Epoch 611/1200\n",
            "1/1 [==============================] - 0s 7ms/step - loss: 0.0060 - mae: 0.0663\n",
            "Epoch 612/1200\n",
            "1/1 [==============================] - 0s 7ms/step - loss: 0.0059 - mae: 0.0660\n",
            "Epoch 613/1200\n",
            "1/1 [==============================] - 0s 7ms/step - loss: 0.0059 - mae: 0.0658\n",
            "Epoch 614/1200\n",
            "1/1 [==============================] - 0s 188ms/step - loss: 0.0058 - mae: 0.0656\n",
            "Epoch 615/1200\n",
            "1/1 [==============================] - 0s 8ms/step - loss: 0.0058 - mae: 0.0654\n",
            "Epoch 616/1200\n",
            "1/1 [==============================] - 0s 7ms/step - loss: 0.0058 - mae: 0.0651\n",
            "Epoch 617/1200\n",
            "1/1 [==============================] - 0s 7ms/step - loss: 0.0057 - mae: 0.0649\n",
            "Epoch 618/1200\n",
            "1/1 [==============================] - 0s 11ms/step - loss: 0.0057 - mae: 0.0647\n",
            "Epoch 619/1200\n",
            "1/1 [==============================] - 0s 7ms/step - loss: 0.0056 - mae: 0.0645\n",
            "Epoch 620/1200\n",
            "1/1 [==============================] - 0s 9ms/step - loss: 0.0056 - mae: 0.0643\n",
            "Epoch 621/1200\n",
            "1/1 [==============================] - 0s 9ms/step - loss: 0.0056 - mae: 0.0640\n",
            "Epoch 622/1200\n",
            "1/1 [==============================] - 0s 9ms/step - loss: 0.0055 - mae: 0.0638\n",
            "Epoch 623/1200\n",
            "1/1 [==============================] - 0s 11ms/step - loss: 0.0055 - mae: 0.0636\n",
            "Epoch 624/1200\n",
            "1/1 [==============================] - 0s 9ms/step - loss: 0.0055 - mae: 0.0634\n",
            "Epoch 625/1200\n",
            "1/1 [==============================] - 0s 7ms/step - loss: 0.0054 - mae: 0.0632\n",
            "Epoch 626/1200\n",
            "1/1 [==============================] - 0s 7ms/step - loss: 0.0054 - mae: 0.0630\n",
            "Epoch 627/1200\n",
            "1/1 [==============================] - 0s 10ms/step - loss: 0.0053 - mae: 0.0628\n",
            "Epoch 628/1200\n",
            "1/1 [==============================] - 0s 13ms/step - loss: 0.0053 - mae: 0.0625\n",
            "Epoch 629/1200\n",
            "1/1 [==============================] - 0s 12ms/step - loss: 0.0053 - mae: 0.0623\n",
            "Epoch 630/1200\n",
            "1/1 [==============================] - 0s 21ms/step - loss: 0.0052 - mae: 0.0621\n",
            "Epoch 631/1200\n",
            "1/1 [==============================] - 0s 8ms/step - loss: 0.0052 - mae: 0.0619\n",
            "Epoch 632/1200\n",
            "1/1 [==============================] - 0s 7ms/step - loss: 0.0052 - mae: 0.0617\n",
            "Epoch 633/1200\n",
            "1/1 [==============================] - 0s 7ms/step - loss: 0.0051 - mae: 0.0615\n",
            "Epoch 634/1200\n",
            "1/1 [==============================] - 0s 7ms/step - loss: 0.0051 - mae: 0.0613\n",
            "Epoch 635/1200\n",
            "1/1 [==============================] - 0s 15ms/step - loss: 0.0051 - mae: 0.0611\n",
            "Epoch 636/1200\n",
            "1/1 [==============================] - 0s 7ms/step - loss: 0.0050 - mae: 0.0609\n",
            "Epoch 637/1200\n",
            "1/1 [==============================] - 0s 7ms/step - loss: 0.0050 - mae: 0.0607\n",
            "Epoch 638/1200\n",
            "1/1 [==============================] - 0s 6ms/step - loss: 0.0050 - mae: 0.0605\n",
            "Epoch 639/1200\n",
            "1/1 [==============================] - 0s 7ms/step - loss: 0.0049 - mae: 0.0603\n",
            "Epoch 640/1200\n",
            "1/1 [==============================] - 0s 8ms/step - loss: 0.0049 - mae: 0.0601\n",
            "Epoch 641/1200\n",
            "1/1 [==============================] - 0s 7ms/step - loss: 0.0049 - mae: 0.0599\n",
            "Epoch 642/1200\n",
            "1/1 [==============================] - 0s 8ms/step - loss: 0.0048 - mae: 0.0597\n",
            "Epoch 643/1200\n",
            "1/1 [==============================] - 0s 10ms/step - loss: 0.0048 - mae: 0.0594\n",
            "Epoch 644/1200\n",
            "1/1 [==============================] - 0s 7ms/step - loss: 0.0048 - mae: 0.0592\n",
            "Epoch 645/1200\n",
            "1/1 [==============================] - 0s 8ms/step - loss: 0.0047 - mae: 0.0590\n",
            "Epoch 646/1200\n",
            "1/1 [==============================] - 0s 7ms/step - loss: 0.0047 - mae: 0.0588\n",
            "Epoch 647/1200\n",
            "1/1 [==============================] - 0s 7ms/step - loss: 0.0047 - mae: 0.0586\n",
            "Epoch 648/1200\n",
            "1/1 [==============================] - 0s 10ms/step - loss: 0.0046 - mae: 0.0585\n",
            "Epoch 649/1200\n",
            "1/1 [==============================] - 0s 7ms/step - loss: 0.0046 - mae: 0.0583\n",
            "Epoch 650/1200\n",
            "1/1 [==============================] - 0s 9ms/step - loss: 0.0046 - mae: 0.0581\n",
            "Epoch 651/1200\n",
            "1/1 [==============================] - 0s 9ms/step - loss: 0.0045 - mae: 0.0579\n",
            "Epoch 652/1200\n",
            "1/1 [==============================] - 0s 10ms/step - loss: 0.0045 - mae: 0.0577\n",
            "Epoch 653/1200\n",
            "1/1 [==============================] - 0s 7ms/step - loss: 0.0045 - mae: 0.0575\n",
            "Epoch 654/1200\n",
            "1/1 [==============================] - 0s 11ms/step - loss: 0.0045 - mae: 0.0573\n",
            "Epoch 655/1200\n",
            "1/1 [==============================] - 0s 11ms/step - loss: 0.0044 - mae: 0.0571\n",
            "Epoch 656/1200\n",
            "1/1 [==============================] - 0s 7ms/step - loss: 0.0044 - mae: 0.0569\n",
            "Epoch 657/1200\n",
            "1/1 [==============================] - 0s 7ms/step - loss: 0.0044 - mae: 0.0567\n",
            "Epoch 658/1200\n",
            "1/1 [==============================] - 0s 8ms/step - loss: 0.0043 - mae: 0.0565\n",
            "Epoch 659/1200\n",
            "1/1 [==============================] - 0s 8ms/step - loss: 0.0043 - mae: 0.0563\n",
            "Epoch 660/1200\n",
            "1/1 [==============================] - 0s 7ms/step - loss: 0.0043 - mae: 0.0561\n",
            "Epoch 661/1200\n",
            "1/1 [==============================] - 0s 6ms/step - loss: 0.0042 - mae: 0.0559\n",
            "Epoch 662/1200\n",
            "1/1 [==============================] - 0s 7ms/step - loss: 0.0042 - mae: 0.0557\n",
            "Epoch 663/1200\n",
            "1/1 [==============================] - 0s 7ms/step - loss: 0.0042 - mae: 0.0556\n",
            "Epoch 664/1200\n",
            "1/1 [==============================] - 0s 7ms/step - loss: 0.0042 - mae: 0.0554\n",
            "Epoch 665/1200\n",
            "1/1 [==============================] - 0s 10ms/step - loss: 0.0041 - mae: 0.0552\n",
            "Epoch 666/1200\n",
            "1/1 [==============================] - 0s 7ms/step - loss: 0.0041 - mae: 0.0550\n",
            "Epoch 667/1200\n",
            "1/1 [==============================] - 0s 8ms/step - loss: 0.0041 - mae: 0.0548\n",
            "Epoch 668/1200\n",
            "1/1 [==============================] - 0s 8ms/step - loss: 0.0040 - mae: 0.0546\n",
            "Epoch 669/1200\n",
            "1/1 [==============================] - 0s 10ms/step - loss: 0.0040 - mae: 0.0544\n",
            "Epoch 670/1200\n",
            "1/1 [==============================] - 0s 6ms/step - loss: 0.0040 - mae: 0.0543\n",
            "Epoch 671/1200\n",
            "1/1 [==============================] - 0s 7ms/step - loss: 0.0040 - mae: 0.0541\n",
            "Epoch 672/1200\n",
            "1/1 [==============================] - 0s 10ms/step - loss: 0.0039 - mae: 0.0539\n",
            "Epoch 673/1200\n",
            "1/1 [==============================] - 0s 7ms/step - loss: 0.0039 - mae: 0.0537\n",
            "Epoch 674/1200\n",
            "1/1 [==============================] - 0s 8ms/step - loss: 0.0039 - mae: 0.0535\n",
            "Epoch 675/1200\n",
            "1/1 [==============================] - 0s 13ms/step - loss: 0.0039 - mae: 0.0533\n",
            "Epoch 676/1200\n",
            "1/1 [==============================] - 0s 10ms/step - loss: 0.0038 - mae: 0.0532\n",
            "Epoch 677/1200\n",
            "1/1 [==============================] - 0s 7ms/step - loss: 0.0038 - mae: 0.0530\n",
            "Epoch 678/1200\n",
            "1/1 [==============================] - 0s 7ms/step - loss: 0.0038 - mae: 0.0528\n",
            "Epoch 679/1200\n",
            "1/1 [==============================] - 0s 7ms/step - loss: 0.0038 - mae: 0.0526\n",
            "Epoch 680/1200\n",
            "1/1 [==============================] - 0s 7ms/step - loss: 0.0037 - mae: 0.0524\n",
            "Epoch 681/1200\n",
            "1/1 [==============================] - 0s 7ms/step - loss: 0.0037 - mae: 0.0523\n",
            "Epoch 682/1200\n",
            "1/1 [==============================] - 0s 8ms/step - loss: 0.0037 - mae: 0.0521\n",
            "Epoch 683/1200\n",
            "1/1 [==============================] - 0s 8ms/step - loss: 0.0037 - mae: 0.0519\n",
            "Epoch 684/1200\n",
            "1/1 [==============================] - 0s 8ms/step - loss: 0.0036 - mae: 0.0517\n",
            "Epoch 685/1200\n",
            "1/1 [==============================] - 0s 8ms/step - loss: 0.0036 - mae: 0.0516\n",
            "Epoch 686/1200\n",
            "1/1 [==============================] - 0s 7ms/step - loss: 0.0036 - mae: 0.0514\n",
            "Epoch 687/1200\n",
            "1/1 [==============================] - 0s 6ms/step - loss: 0.0036 - mae: 0.0512\n",
            "Epoch 688/1200\n",
            "1/1 [==============================] - 0s 7ms/step - loss: 0.0035 - mae: 0.0510\n",
            "Epoch 689/1200\n",
            "1/1 [==============================] - 0s 8ms/step - loss: 0.0035 - mae: 0.0509\n",
            "Epoch 690/1200\n",
            "1/1 [==============================] - 0s 8ms/step - loss: 0.0035 - mae: 0.0507\n",
            "Epoch 691/1200\n",
            "1/1 [==============================] - 0s 7ms/step - loss: 0.0035 - mae: 0.0505\n",
            "Epoch 692/1200\n",
            "1/1 [==============================] - 0s 7ms/step - loss: 0.0034 - mae: 0.0504\n",
            "Epoch 693/1200\n",
            "1/1 [==============================] - 0s 7ms/step - loss: 0.0034 - mae: 0.0502\n",
            "Epoch 694/1200\n",
            "1/1 [==============================] - 0s 7ms/step - loss: 0.0034 - mae: 0.0500\n",
            "Epoch 695/1200\n",
            "1/1 [==============================] - 0s 11ms/step - loss: 0.0034 - mae: 0.0498\n",
            "Epoch 696/1200\n",
            "1/1 [==============================] - 0s 7ms/step - loss: 0.0034 - mae: 0.0497\n",
            "Epoch 697/1200\n",
            "1/1 [==============================] - 0s 175ms/step - loss: 0.0033 - mae: 0.0495\n",
            "Epoch 698/1200\n",
            "1/1 [==============================] - 0s 7ms/step - loss: 0.0033 - mae: 0.0493\n",
            "Epoch 699/1200\n",
            "1/1 [==============================] - 0s 7ms/step - loss: 0.0033 - mae: 0.0492\n",
            "Epoch 700/1200\n",
            "1/1 [==============================] - 0s 7ms/step - loss: 0.0033 - mae: 0.0490\n",
            "Epoch 701/1200\n",
            "1/1 [==============================] - 0s 8ms/step - loss: 0.0032 - mae: 0.0488\n",
            "Epoch 702/1200\n",
            "1/1 [==============================] - 0s 7ms/step - loss: 0.0032 - mae: 0.0487\n",
            "Epoch 703/1200\n",
            "1/1 [==============================] - 0s 8ms/step - loss: 0.0032 - mae: 0.0485\n",
            "Epoch 704/1200\n",
            "1/1 [==============================] - 0s 7ms/step - loss: 0.0032 - mae: 0.0484\n",
            "Epoch 705/1200\n",
            "1/1 [==============================] - 0s 12ms/step - loss: 0.0032 - mae: 0.0482\n",
            "Epoch 706/1200\n",
            "1/1 [==============================] - 0s 10ms/step - loss: 0.0031 - mae: 0.0480\n",
            "Epoch 707/1200\n",
            "1/1 [==============================] - 0s 8ms/step - loss: 0.0031 - mae: 0.0479\n",
            "Epoch 708/1200\n",
            "1/1 [==============================] - 0s 7ms/step - loss: 0.0031 - mae: 0.0477\n",
            "Epoch 709/1200\n",
            "1/1 [==============================] - 0s 7ms/step - loss: 0.0031 - mae: 0.0475\n",
            "Epoch 710/1200\n",
            "1/1 [==============================] - 0s 7ms/step - loss: 0.0030 - mae: 0.0474\n",
            "Epoch 711/1200\n",
            "1/1 [==============================] - 0s 6ms/step - loss: 0.0030 - mae: 0.0472\n",
            "Epoch 712/1200\n",
            "1/1 [==============================] - 0s 12ms/step - loss: 0.0030 - mae: 0.0471\n",
            "Epoch 713/1200\n",
            "1/1 [==============================] - 0s 6ms/step - loss: 0.0030 - mae: 0.0469\n",
            "Epoch 714/1200\n",
            "1/1 [==============================] - 0s 7ms/step - loss: 0.0030 - mae: 0.0467\n",
            "Epoch 715/1200\n",
            "1/1 [==============================] - 0s 6ms/step - loss: 0.0029 - mae: 0.0466\n",
            "Epoch 716/1200\n",
            "1/1 [==============================] - 0s 6ms/step - loss: 0.0029 - mae: 0.0464\n",
            "Epoch 717/1200\n",
            "1/1 [==============================] - 0s 9ms/step - loss: 0.0029 - mae: 0.0463\n",
            "Epoch 718/1200\n",
            "1/1 [==============================] - 0s 7ms/step - loss: 0.0029 - mae: 0.0461\n",
            "Epoch 719/1200\n",
            "1/1 [==============================] - 0s 7ms/step - loss: 0.0029 - mae: 0.0460\n",
            "Epoch 720/1200\n",
            "1/1 [==============================] - 0s 9ms/step - loss: 0.0028 - mae: 0.0458\n",
            "Epoch 721/1200\n",
            "1/1 [==============================] - 0s 6ms/step - loss: 0.0028 - mae: 0.0456\n",
            "Epoch 722/1200\n",
            "1/1 [==============================] - 0s 6ms/step - loss: 0.0028 - mae: 0.0455\n",
            "Epoch 723/1200\n",
            "1/1 [==============================] - 0s 6ms/step - loss: 0.0028 - mae: 0.0453\n",
            "Epoch 724/1200\n",
            "1/1 [==============================] - 0s 7ms/step - loss: 0.0028 - mae: 0.0452\n",
            "Epoch 725/1200\n",
            "1/1 [==============================] - 0s 7ms/step - loss: 0.0028 - mae: 0.0450\n",
            "Epoch 726/1200\n",
            "1/1 [==============================] - 0s 6ms/step - loss: 0.0027 - mae: 0.0449\n",
            "Epoch 727/1200\n",
            "1/1 [==============================] - 0s 7ms/step - loss: 0.0027 - mae: 0.0447\n",
            "Epoch 728/1200\n",
            "1/1 [==============================] - 0s 8ms/step - loss: 0.0027 - mae: 0.0446\n",
            "Epoch 729/1200\n",
            "1/1 [==============================] - 0s 8ms/step - loss: 0.0027 - mae: 0.0444\n",
            "Epoch 730/1200\n",
            "1/1 [==============================] - 0s 10ms/step - loss: 0.0027 - mae: 0.0443\n",
            "Epoch 731/1200\n",
            "1/1 [==============================] - 0s 8ms/step - loss: 0.0026 - mae: 0.0441\n",
            "Epoch 732/1200\n",
            "1/1 [==============================] - 0s 7ms/step - loss: 0.0026 - mae: 0.0440\n",
            "Epoch 733/1200\n",
            "1/1 [==============================] - 0s 9ms/step - loss: 0.0026 - mae: 0.0438\n",
            "Epoch 734/1200\n",
            "1/1 [==============================] - 0s 9ms/step - loss: 0.0026 - mae: 0.0437\n",
            "Epoch 735/1200\n",
            "1/1 [==============================] - 0s 8ms/step - loss: 0.0026 - mae: 0.0435\n",
            "Epoch 736/1200\n",
            "1/1 [==============================] - 0s 8ms/step - loss: 0.0026 - mae: 0.0434\n",
            "Epoch 737/1200\n",
            "1/1 [==============================] - 0s 7ms/step - loss: 0.0025 - mae: 0.0432\n",
            "Epoch 738/1200\n",
            "1/1 [==============================] - 0s 7ms/step - loss: 0.0025 - mae: 0.0431\n",
            "Epoch 739/1200\n",
            "1/1 [==============================] - 0s 7ms/step - loss: 0.0025 - mae: 0.0429\n",
            "Epoch 740/1200\n",
            "1/1 [==============================] - 0s 7ms/step - loss: 0.0025 - mae: 0.0428\n",
            "Epoch 741/1200\n",
            "1/1 [==============================] - 0s 11ms/step - loss: 0.0025 - mae: 0.0427\n",
            "Epoch 742/1200\n",
            "1/1 [==============================] - 0s 7ms/step - loss: 0.0025 - mae: 0.0425\n",
            "Epoch 743/1200\n",
            "1/1 [==============================] - 0s 7ms/step - loss: 0.0024 - mae: 0.0424\n",
            "Epoch 744/1200\n",
            "1/1 [==============================] - 0s 7ms/step - loss: 0.0024 - mae: 0.0422\n",
            "Epoch 745/1200\n",
            "1/1 [==============================] - 0s 7ms/step - loss: 0.0024 - mae: 0.0421\n",
            "Epoch 746/1200\n",
            "1/1 [==============================] - 0s 6ms/step - loss: 0.0024 - mae: 0.0419\n",
            "Epoch 747/1200\n",
            "1/1 [==============================] - 0s 10ms/step - loss: 0.0024 - mae: 0.0418\n",
            "Epoch 748/1200\n",
            "1/1 [==============================] - 0s 8ms/step - loss: 0.0024 - mae: 0.0417\n",
            "Epoch 749/1200\n",
            "1/1 [==============================] - 0s 8ms/step - loss: 0.0023 - mae: 0.0415\n",
            "Epoch 750/1200\n",
            "1/1 [==============================] - 0s 7ms/step - loss: 0.0023 - mae: 0.0414\n",
            "Epoch 751/1200\n",
            "1/1 [==============================] - 0s 8ms/step - loss: 0.0023 - mae: 0.0412\n",
            "Epoch 752/1200\n",
            "1/1 [==============================] - 0s 10ms/step - loss: 0.0023 - mae: 0.0411\n",
            "Epoch 753/1200\n",
            "1/1 [==============================] - 0s 6ms/step - loss: 0.0023 - mae: 0.0410\n",
            "Epoch 754/1200\n",
            "1/1 [==============================] - 0s 7ms/step - loss: 0.0023 - mae: 0.0408\n",
            "Epoch 755/1200\n",
            "1/1 [==============================] - 0s 7ms/step - loss: 0.0022 - mae: 0.0407\n",
            "Epoch 756/1200\n",
            "1/1 [==============================] - 0s 11ms/step - loss: 0.0022 - mae: 0.0405\n",
            "Epoch 757/1200\n",
            "1/1 [==============================] - 0s 8ms/step - loss: 0.0022 - mae: 0.0404\n",
            "Epoch 758/1200\n",
            "1/1 [==============================] - 0s 8ms/step - loss: 0.0022 - mae: 0.0403\n",
            "Epoch 759/1200\n",
            "1/1 [==============================] - 0s 8ms/step - loss: 0.0022 - mae: 0.0401\n",
            "Epoch 760/1200\n",
            "1/1 [==============================] - 0s 7ms/step - loss: 0.0022 - mae: 0.0400\n",
            "Epoch 761/1200\n",
            "1/1 [==============================] - 0s 7ms/step - loss: 0.0022 - mae: 0.0399\n",
            "Epoch 762/1200\n",
            "1/1 [==============================] - 0s 7ms/step - loss: 0.0021 - mae: 0.0397\n",
            "Epoch 763/1200\n",
            "1/1 [==============================] - 0s 7ms/step - loss: 0.0021 - mae: 0.0396\n",
            "Epoch 764/1200\n",
            "1/1 [==============================] - 0s 7ms/step - loss: 0.0021 - mae: 0.0395\n",
            "Epoch 765/1200\n",
            "1/1 [==============================] - 0s 7ms/step - loss: 0.0021 - mae: 0.0393\n",
            "Epoch 766/1200\n",
            "1/1 [==============================] - 0s 7ms/step - loss: 0.0021 - mae: 0.0392\n",
            "Epoch 767/1200\n",
            "1/1 [==============================] - 0s 7ms/step - loss: 0.0021 - mae: 0.0391\n",
            "Epoch 768/1200\n",
            "1/1 [==============================] - 0s 6ms/step - loss: 0.0021 - mae: 0.0389\n",
            "Epoch 769/1200\n",
            "1/1 [==============================] - 0s 8ms/step - loss: 0.0020 - mae: 0.0388\n",
            "Epoch 770/1200\n",
            "1/1 [==============================] - 0s 7ms/step - loss: 0.0020 - mae: 0.0387\n",
            "Epoch 771/1200\n",
            "1/1 [==============================] - 0s 7ms/step - loss: 0.0020 - mae: 0.0385\n",
            "Epoch 772/1200\n",
            "1/1 [==============================] - 0s 10ms/step - loss: 0.0020 - mae: 0.0384\n",
            "Epoch 773/1200\n",
            "1/1 [==============================] - 0s 6ms/step - loss: 0.0020 - mae: 0.0383\n",
            "Epoch 774/1200\n",
            "1/1 [==============================] - 0s 6ms/step - loss: 0.0020 - mae: 0.0381\n",
            "Epoch 775/1200\n",
            "1/1 [==============================] - 0s 6ms/step - loss: 0.0020 - mae: 0.0380\n",
            "Epoch 776/1200\n",
            "1/1 [==============================] - 0s 7ms/step - loss: 0.0019 - mae: 0.0379\n",
            "Epoch 777/1200\n",
            "1/1 [==============================] - 0s 7ms/step - loss: 0.0019 - mae: 0.0378\n",
            "Epoch 778/1200\n",
            "1/1 [==============================] - 0s 8ms/step - loss: 0.0019 - mae: 0.0376\n",
            "Epoch 779/1200\n",
            "1/1 [==============================] - 0s 8ms/step - loss: 0.0019 - mae: 0.0375\n",
            "Epoch 780/1200\n",
            "1/1 [==============================] - 0s 6ms/step - loss: 0.0019 - mae: 0.0374\n",
            "Epoch 781/1200\n",
            "1/1 [==============================] - 0s 7ms/step - loss: 0.0019 - mae: 0.0373\n",
            "Epoch 782/1200\n",
            "1/1 [==============================] - 0s 7ms/step - loss: 0.0019 - mae: 0.0371\n",
            "Epoch 783/1200\n",
            "1/1 [==============================] - 0s 9ms/step - loss: 0.0019 - mae: 0.0370\n",
            "Epoch 784/1200\n",
            "1/1 [==============================] - 0s 13ms/step - loss: 0.0018 - mae: 0.0369\n",
            "Epoch 785/1200\n",
            "1/1 [==============================] - 0s 10ms/step - loss: 0.0018 - mae: 0.0368\n",
            "Epoch 786/1200\n",
            "1/1 [==============================] - 0s 8ms/step - loss: 0.0018 - mae: 0.0366\n",
            "Epoch 787/1200\n",
            "1/1 [==============================] - 0s 9ms/step - loss: 0.0018 - mae: 0.0365\n",
            "Epoch 788/1200\n",
            "1/1 [==============================] - 0s 6ms/step - loss: 0.0018 - mae: 0.0364\n",
            "Epoch 789/1200\n",
            "1/1 [==============================] - 0s 10ms/step - loss: 0.0018 - mae: 0.0363\n",
            "Epoch 790/1200\n",
            "1/1 [==============================] - 0s 10ms/step - loss: 0.0018 - mae: 0.0361\n",
            "Epoch 791/1200\n",
            "1/1 [==============================] - 0s 6ms/step - loss: 0.0018 - mae: 0.0360\n",
            "Epoch 792/1200\n",
            "1/1 [==============================] - 0s 7ms/step - loss: 0.0017 - mae: 0.0359\n",
            "Epoch 793/1200\n",
            "1/1 [==============================] - 0s 9ms/step - loss: 0.0017 - mae: 0.0358\n",
            "Epoch 794/1200\n",
            "1/1 [==============================] - 0s 15ms/step - loss: 0.0017 - mae: 0.0356\n",
            "Epoch 795/1200\n",
            "1/1 [==============================] - 0s 9ms/step - loss: 0.0017 - mae: 0.0355\n",
            "Epoch 796/1200\n",
            "1/1 [==============================] - 0s 7ms/step - loss: 0.0017 - mae: 0.0354\n",
            "Epoch 797/1200\n",
            "1/1 [==============================] - 0s 12ms/step - loss: 0.0017 - mae: 0.0353\n",
            "Epoch 798/1200\n",
            "1/1 [==============================] - 0s 13ms/step - loss: 0.0017 - mae: 0.0352\n",
            "Epoch 799/1200\n",
            "1/1 [==============================] - 0s 6ms/step - loss: 0.0017 - mae: 0.0351\n",
            "Epoch 800/1200\n",
            "1/1 [==============================] - 0s 6ms/step - loss: 0.0017 - mae: 0.0349\n",
            "Epoch 801/1200\n",
            "1/1 [==============================] - 0s 12ms/step - loss: 0.0016 - mae: 0.0348\n",
            "Epoch 802/1200\n",
            "1/1 [==============================] - 0s 7ms/step - loss: 0.0016 - mae: 0.0347\n",
            "Epoch 803/1200\n",
            "1/1 [==============================] - 0s 6ms/step - loss: 0.0016 - mae: 0.0346\n",
            "Epoch 804/1200\n",
            "1/1 [==============================] - 0s 7ms/step - loss: 0.0016 - mae: 0.0345\n",
            "Epoch 805/1200\n",
            "1/1 [==============================] - 0s 8ms/step - loss: 0.0016 - mae: 0.0343\n",
            "Epoch 806/1200\n",
            "1/1 [==============================] - 0s 6ms/step - loss: 0.0016 - mae: 0.0342\n",
            "Epoch 807/1200\n",
            "1/1 [==============================] - 0s 7ms/step - loss: 0.0016 - mae: 0.0341\n",
            "Epoch 808/1200\n",
            "1/1 [==============================] - 0s 7ms/step - loss: 0.0016 - mae: 0.0340\n",
            "Epoch 809/1200\n",
            "1/1 [==============================] - 0s 7ms/step - loss: 0.0016 - mae: 0.0339\n",
            "Epoch 810/1200\n",
            "1/1 [==============================] - 0s 7ms/step - loss: 0.0015 - mae: 0.0338\n",
            "Epoch 811/1200\n",
            "1/1 [==============================] - 0s 6ms/step - loss: 0.0015 - mae: 0.0337\n",
            "Epoch 812/1200\n",
            "1/1 [==============================] - 0s 7ms/step - loss: 0.0015 - mae: 0.0335\n",
            "Epoch 813/1200\n",
            "1/1 [==============================] - 0s 7ms/step - loss: 0.0015 - mae: 0.0334\n",
            "Epoch 814/1200\n",
            "1/1 [==============================] - 0s 7ms/step - loss: 0.0015 - mae: 0.0333\n",
            "Epoch 815/1200\n",
            "1/1 [==============================] - 0s 7ms/step - loss: 0.0015 - mae: 0.0332\n",
            "Epoch 816/1200\n",
            "1/1 [==============================] - 0s 7ms/step - loss: 0.0015 - mae: 0.0331\n",
            "Epoch 817/1200\n",
            "1/1 [==============================] - 0s 14ms/step - loss: 0.0015 - mae: 0.0330\n",
            "Epoch 818/1200\n",
            "1/1 [==============================] - 0s 7ms/step - loss: 0.0015 - mae: 0.0329\n",
            "Epoch 819/1200\n",
            "1/1 [==============================] - 0s 7ms/step - loss: 0.0015 - mae: 0.0328\n",
            "Epoch 820/1200\n",
            "1/1 [==============================] - 0s 7ms/step - loss: 0.0014 - mae: 0.0326\n",
            "Epoch 821/1200\n",
            "1/1 [==============================] - 0s 7ms/step - loss: 0.0014 - mae: 0.0325\n",
            "Epoch 822/1200\n",
            "1/1 [==============================] - 0s 6ms/step - loss: 0.0014 - mae: 0.0324\n",
            "Epoch 823/1200\n",
            "1/1 [==============================] - 0s 6ms/step - loss: 0.0014 - mae: 0.0323\n",
            "Epoch 824/1200\n",
            "1/1 [==============================] - 0s 7ms/step - loss: 0.0014 - mae: 0.0322\n",
            "Epoch 825/1200\n",
            "1/1 [==============================] - 0s 7ms/step - loss: 0.0014 - mae: 0.0321\n",
            "Epoch 826/1200\n",
            "1/1 [==============================] - 0s 7ms/step - loss: 0.0014 - mae: 0.0320\n",
            "Epoch 827/1200\n",
            "1/1 [==============================] - 0s 7ms/step - loss: 0.0014 - mae: 0.0319\n",
            "Epoch 828/1200\n",
            "1/1 [==============================] - 0s 7ms/step - loss: 0.0014 - mae: 0.0318\n",
            "Epoch 829/1200\n",
            "1/1 [==============================] - 0s 8ms/step - loss: 0.0014 - mae: 0.0317\n",
            "Epoch 830/1200\n",
            "1/1 [==============================] - 0s 10ms/step - loss: 0.0014 - mae: 0.0316\n",
            "Epoch 831/1200\n",
            "1/1 [==============================] - 0s 13ms/step - loss: 0.0013 - mae: 0.0315\n",
            "Epoch 832/1200\n",
            "1/1 [==============================] - 0s 7ms/step - loss: 0.0013 - mae: 0.0313\n",
            "Epoch 833/1200\n",
            "1/1 [==============================] - 0s 7ms/step - loss: 0.0013 - mae: 0.0312\n",
            "Epoch 834/1200\n",
            "1/1 [==============================] - 0s 7ms/step - loss: 0.0013 - mae: 0.0311\n",
            "Epoch 835/1200\n",
            "1/1 [==============================] - 0s 7ms/step - loss: 0.0013 - mae: 0.0310\n",
            "Epoch 836/1200\n",
            "1/1 [==============================] - 0s 7ms/step - loss: 0.0013 - mae: 0.0309\n",
            "Epoch 837/1200\n",
            "1/1 [==============================] - 0s 7ms/step - loss: 0.0013 - mae: 0.0308\n",
            "Epoch 838/1200\n",
            "1/1 [==============================] - 0s 7ms/step - loss: 0.0013 - mae: 0.0307\n",
            "Epoch 839/1200\n",
            "1/1 [==============================] - 0s 7ms/step - loss: 0.0013 - mae: 0.0306\n",
            "Epoch 840/1200\n",
            "1/1 [==============================] - 0s 7ms/step - loss: 0.0013 - mae: 0.0305\n",
            "Epoch 841/1200\n",
            "1/1 [==============================] - 0s 7ms/step - loss: 0.0013 - mae: 0.0304\n",
            "Epoch 842/1200\n",
            "1/1 [==============================] - 0s 7ms/step - loss: 0.0012 - mae: 0.0303\n",
            "Epoch 843/1200\n",
            "1/1 [==============================] - 0s 6ms/step - loss: 0.0012 - mae: 0.0302\n",
            "Epoch 844/1200\n",
            "1/1 [==============================] - 0s 7ms/step - loss: 0.0012 - mae: 0.0301\n",
            "Epoch 845/1200\n",
            "1/1 [==============================] - 0s 8ms/step - loss: 0.0012 - mae: 0.0300\n",
            "Epoch 846/1200\n",
            "1/1 [==============================] - 0s 7ms/step - loss: 0.0012 - mae: 0.0299\n",
            "Epoch 847/1200\n",
            "1/1 [==============================] - 0s 7ms/step - loss: 0.0012 - mae: 0.0298\n",
            "Epoch 848/1200\n",
            "1/1 [==============================] - 0s 9ms/step - loss: 0.0012 - mae: 0.0297\n",
            "Epoch 849/1200\n",
            "1/1 [==============================] - 0s 7ms/step - loss: 0.0012 - mae: 0.0296\n",
            "Epoch 850/1200\n",
            "1/1 [==============================] - 0s 8ms/step - loss: 0.0012 - mae: 0.0295\n",
            "Epoch 851/1200\n",
            "1/1 [==============================] - 0s 7ms/step - loss: 0.0012 - mae: 0.0294\n",
            "Epoch 852/1200\n",
            "1/1 [==============================] - 0s 9ms/step - loss: 0.0012 - mae: 0.0293\n",
            "Epoch 853/1200\n",
            "1/1 [==============================] - 0s 9ms/step - loss: 0.0012 - mae: 0.0292\n",
            "Epoch 854/1200\n",
            "1/1 [==============================] - 0s 7ms/step - loss: 0.0011 - mae: 0.0291\n",
            "Epoch 855/1200\n",
            "1/1 [==============================] - 0s 8ms/step - loss: 0.0011 - mae: 0.0290\n",
            "Epoch 856/1200\n",
            "1/1 [==============================] - 0s 7ms/step - loss: 0.0011 - mae: 0.0289\n",
            "Epoch 857/1200\n",
            "1/1 [==============================] - 0s 7ms/step - loss: 0.0011 - mae: 0.0288\n",
            "Epoch 858/1200\n",
            "1/1 [==============================] - 0s 7ms/step - loss: 0.0011 - mae: 0.0287\n",
            "Epoch 859/1200\n",
            "1/1 [==============================] - 0s 7ms/step - loss: 0.0011 - mae: 0.0286\n",
            "Epoch 860/1200\n",
            "1/1 [==============================] - 0s 7ms/step - loss: 0.0011 - mae: 0.0285\n",
            "Epoch 861/1200\n",
            "1/1 [==============================] - 0s 7ms/step - loss: 0.0011 - mae: 0.0284\n",
            "Epoch 862/1200\n",
            "1/1 [==============================] - 0s 7ms/step - loss: 0.0011 - mae: 0.0283\n",
            "Epoch 863/1200\n",
            "1/1 [==============================] - 0s 7ms/step - loss: 0.0011 - mae: 0.0282\n",
            "Epoch 864/1200\n",
            "1/1 [==============================] - 0s 207ms/step - loss: 0.0011 - mae: 0.0281\n",
            "Epoch 865/1200\n",
            "1/1 [==============================] - 0s 7ms/step - loss: 0.0011 - mae: 0.0280\n",
            "Epoch 866/1200\n",
            "1/1 [==============================] - 0s 8ms/step - loss: 0.0011 - mae: 0.0279\n",
            "Epoch 867/1200\n",
            "1/1 [==============================] - 0s 9ms/step - loss: 0.0011 - mae: 0.0278\n",
            "Epoch 868/1200\n",
            "1/1 [==============================] - 0s 7ms/step - loss: 0.0010 - mae: 0.0277\n",
            "Epoch 869/1200\n",
            "1/1 [==============================] - 0s 9ms/step - loss: 0.0010 - mae: 0.0277\n",
            "Epoch 870/1200\n",
            "1/1 [==============================] - 0s 9ms/step - loss: 0.0010 - mae: 0.0276\n",
            "Epoch 871/1200\n",
            "1/1 [==============================] - 0s 7ms/step - loss: 0.0010 - mae: 0.0275\n",
            "Epoch 872/1200\n",
            "1/1 [==============================] - 0s 11ms/step - loss: 0.0010 - mae: 0.0274\n",
            "Epoch 873/1200\n",
            "1/1 [==============================] - 0s 9ms/step - loss: 0.0010 - mae: 0.0273\n",
            "Epoch 874/1200\n",
            "1/1 [==============================] - 0s 8ms/step - loss: 0.0010 - mae: 0.0272\n",
            "Epoch 875/1200\n",
            "1/1 [==============================] - 0s 8ms/step - loss: 9.9661e-04 - mae: 0.0271\n",
            "Epoch 876/1200\n",
            "1/1 [==============================] - 0s 8ms/step - loss: 9.8988e-04 - mae: 0.0270\n",
            "Epoch 877/1200\n",
            "1/1 [==============================] - 0s 8ms/step - loss: 9.8321e-04 - mae: 0.0269\n",
            "Epoch 878/1200\n",
            "1/1 [==============================] - 0s 16ms/step - loss: 9.7658e-04 - mae: 0.0268\n",
            "Epoch 879/1200\n",
            "1/1 [==============================] - 0s 8ms/step - loss: 9.6997e-04 - mae: 0.0267\n",
            "Epoch 880/1200\n",
            "1/1 [==============================] - 0s 8ms/step - loss: 9.6342e-04 - mae: 0.0266\n",
            "Epoch 881/1200\n",
            "1/1 [==============================] - 0s 9ms/step - loss: 9.5693e-04 - mae: 0.0266\n",
            "Epoch 882/1200\n",
            "1/1 [==============================] - 0s 8ms/step - loss: 9.5048e-04 - mae: 0.0265\n",
            "Epoch 883/1200\n",
            "1/1 [==============================] - 0s 8ms/step - loss: 9.4403e-04 - mae: 0.0264\n",
            "Epoch 884/1200\n",
            "1/1 [==============================] - 0s 9ms/step - loss: 9.3767e-04 - mae: 0.0263\n",
            "Epoch 885/1200\n",
            "1/1 [==============================] - 0s 9ms/step - loss: 9.3134e-04 - mae: 0.0262\n",
            "Epoch 886/1200\n",
            "1/1 [==============================] - 0s 9ms/step - loss: 9.2504e-04 - mae: 0.0261\n",
            "Epoch 887/1200\n",
            "1/1 [==============================] - 0s 9ms/step - loss: 9.1882e-04 - mae: 0.0260\n",
            "Epoch 888/1200\n",
            "1/1 [==============================] - 0s 8ms/step - loss: 9.1260e-04 - mae: 0.0259\n",
            "Epoch 889/1200\n",
            "1/1 [==============================] - 0s 9ms/step - loss: 9.0644e-04 - mae: 0.0258\n",
            "Epoch 890/1200\n",
            "1/1 [==============================] - 0s 10ms/step - loss: 9.0032e-04 - mae: 0.0258\n",
            "Epoch 891/1200\n",
            "1/1 [==============================] - 0s 9ms/step - loss: 8.9425e-04 - mae: 0.0257\n",
            "Epoch 892/1200\n",
            "1/1 [==============================] - 0s 9ms/step - loss: 8.8822e-04 - mae: 0.0256\n",
            "Epoch 893/1200\n",
            "1/1 [==============================] - 0s 12ms/step - loss: 8.8222e-04 - mae: 0.0255\n",
            "Epoch 894/1200\n",
            "1/1 [==============================] - 0s 8ms/step - loss: 8.7626e-04 - mae: 0.0254\n",
            "Epoch 895/1200\n",
            "1/1 [==============================] - 0s 9ms/step - loss: 8.7035e-04 - mae: 0.0253\n",
            "Epoch 896/1200\n",
            "1/1 [==============================] - 0s 8ms/step - loss: 8.6448e-04 - mae: 0.0252\n",
            "Epoch 897/1200\n",
            "1/1 [==============================] - 0s 8ms/step - loss: 8.5862e-04 - mae: 0.0252\n",
            "Epoch 898/1200\n",
            "1/1 [==============================] - 0s 8ms/step - loss: 8.5282e-04 - mae: 0.0251\n",
            "Epoch 899/1200\n",
            "1/1 [==============================] - 0s 10ms/step - loss: 8.4708e-04 - mae: 0.0250\n",
            "Epoch 900/1200\n",
            "1/1 [==============================] - 0s 9ms/step - loss: 8.4136e-04 - mae: 0.0249\n",
            "Epoch 901/1200\n",
            "1/1 [==============================] - 0s 9ms/step - loss: 8.3569e-04 - mae: 0.0248\n",
            "Epoch 902/1200\n",
            "1/1 [==============================] - 0s 9ms/step - loss: 8.3006e-04 - mae: 0.0247\n",
            "Epoch 903/1200\n",
            "1/1 [==============================] - 0s 9ms/step - loss: 8.2444e-04 - mae: 0.0246\n",
            "Epoch 904/1200\n",
            "1/1 [==============================] - 0s 7ms/step - loss: 8.1887e-04 - mae: 0.0246\n",
            "Epoch 905/1200\n",
            "1/1 [==============================] - 0s 12ms/step - loss: 8.1334e-04 - mae: 0.0245\n",
            "Epoch 906/1200\n",
            "1/1 [==============================] - 0s 7ms/step - loss: 8.0785e-04 - mae: 0.0244\n",
            "Epoch 907/1200\n",
            "1/1 [==============================] - 0s 8ms/step - loss: 8.0240e-04 - mae: 0.0243\n",
            "Epoch 908/1200\n",
            "1/1 [==============================] - 0s 8ms/step - loss: 7.9697e-04 - mae: 0.0242\n",
            "Epoch 909/1200\n",
            "1/1 [==============================] - 0s 11ms/step - loss: 7.9161e-04 - mae: 0.0241\n",
            "Epoch 910/1200\n",
            "1/1 [==============================] - 0s 10ms/step - loss: 7.8627e-04 - mae: 0.0241\n",
            "Epoch 911/1200\n",
            "1/1 [==============================] - 0s 10ms/step - loss: 7.8094e-04 - mae: 0.0240\n",
            "Epoch 912/1200\n",
            "1/1 [==============================] - 0s 10ms/step - loss: 7.7568e-04 - mae: 0.0239\n",
            "Epoch 913/1200\n",
            "1/1 [==============================] - 0s 11ms/step - loss: 7.7044e-04 - mae: 0.0238\n",
            "Epoch 914/1200\n",
            "1/1 [==============================] - 0s 7ms/step - loss: 7.6523e-04 - mae: 0.0237\n",
            "Epoch 915/1200\n",
            "1/1 [==============================] - 0s 8ms/step - loss: 7.6008e-04 - mae: 0.0237\n",
            "Epoch 916/1200\n",
            "1/1 [==============================] - 0s 8ms/step - loss: 7.5495e-04 - mae: 0.0236\n",
            "Epoch 917/1200\n",
            "1/1 [==============================] - 0s 8ms/step - loss: 7.4986e-04 - mae: 0.0235\n",
            "Epoch 918/1200\n",
            "1/1 [==============================] - 0s 8ms/step - loss: 7.4478e-04 - mae: 0.0234\n",
            "Epoch 919/1200\n",
            "1/1 [==============================] - 0s 8ms/step - loss: 7.3977e-04 - mae: 0.0233\n",
            "Epoch 920/1200\n",
            "1/1 [==============================] - 0s 14ms/step - loss: 7.3477e-04 - mae: 0.0233\n",
            "Epoch 921/1200\n",
            "1/1 [==============================] - 0s 7ms/step - loss: 7.2981e-04 - mae: 0.0232\n",
            "Epoch 922/1200\n",
            "1/1 [==============================] - 0s 7ms/step - loss: 7.2487e-04 - mae: 0.0231\n",
            "Epoch 923/1200\n",
            "1/1 [==============================] - 0s 6ms/step - loss: 7.1998e-04 - mae: 0.0230\n",
            "Epoch 924/1200\n",
            "1/1 [==============================] - 0s 7ms/step - loss: 7.1513e-04 - mae: 0.0230\n",
            "Epoch 925/1200\n",
            "1/1 [==============================] - 0s 6ms/step - loss: 7.1029e-04 - mae: 0.0229\n",
            "Epoch 926/1200\n",
            "1/1 [==============================] - 0s 8ms/step - loss: 7.0550e-04 - mae: 0.0228\n",
            "Epoch 927/1200\n",
            "1/1 [==============================] - 0s 8ms/step - loss: 7.0074e-04 - mae: 0.0227\n",
            "Epoch 928/1200\n",
            "1/1 [==============================] - 0s 9ms/step - loss: 6.9602e-04 - mae: 0.0226\n",
            "Epoch 929/1200\n",
            "1/1 [==============================] - 0s 9ms/step - loss: 6.9130e-04 - mae: 0.0226\n",
            "Epoch 930/1200\n",
            "1/1 [==============================] - 0s 9ms/step - loss: 6.8664e-04 - mae: 0.0225\n",
            "Epoch 931/1200\n",
            "1/1 [==============================] - 0s 9ms/step - loss: 6.8199e-04 - mae: 0.0224\n",
            "Epoch 932/1200\n",
            "1/1 [==============================] - 0s 9ms/step - loss: 6.7740e-04 - mae: 0.0223\n",
            "Epoch 933/1200\n",
            "1/1 [==============================] - 0s 8ms/step - loss: 6.7283e-04 - mae: 0.0223\n",
            "Epoch 934/1200\n",
            "1/1 [==============================] - 0s 9ms/step - loss: 6.6830e-04 - mae: 0.0222\n",
            "Epoch 935/1200\n",
            "1/1 [==============================] - 0s 9ms/step - loss: 6.6378e-04 - mae: 0.0221\n",
            "Epoch 936/1200\n",
            "1/1 [==============================] - 0s 9ms/step - loss: 6.5930e-04 - mae: 0.0220\n",
            "Epoch 937/1200\n",
            "1/1 [==============================] - 0s 7ms/step - loss: 6.5485e-04 - mae: 0.0220\n",
            "Epoch 938/1200\n",
            "1/1 [==============================] - 0s 7ms/step - loss: 6.5043e-04 - mae: 0.0219\n",
            "Epoch 939/1200\n",
            "1/1 [==============================] - 0s 7ms/step - loss: 6.4604e-04 - mae: 0.0218\n",
            "Epoch 940/1200\n",
            "1/1 [==============================] - 0s 7ms/step - loss: 6.4168e-04 - mae: 0.0217\n",
            "Epoch 941/1200\n",
            "1/1 [==============================] - 0s 7ms/step - loss: 6.3734e-04 - mae: 0.0217\n",
            "Epoch 942/1200\n",
            "1/1 [==============================] - 0s 8ms/step - loss: 6.3303e-04 - mae: 0.0216\n",
            "Epoch 943/1200\n",
            "1/1 [==============================] - 0s 11ms/step - loss: 6.2876e-04 - mae: 0.0215\n",
            "Epoch 944/1200\n",
            "1/1 [==============================] - 0s 8ms/step - loss: 6.2451e-04 - mae: 0.0214\n",
            "Epoch 945/1200\n",
            "1/1 [==============================] - 0s 7ms/step - loss: 6.2031e-04 - mae: 0.0214\n",
            "Epoch 946/1200\n",
            "1/1 [==============================] - 0s 11ms/step - loss: 6.1611e-04 - mae: 0.0213\n",
            "Epoch 947/1200\n",
            "1/1 [==============================] - 0s 197ms/step - loss: 6.1196e-04 - mae: 0.0212\n",
            "Epoch 948/1200\n",
            "1/1 [==============================] - 0s 6ms/step - loss: 6.0783e-04 - mae: 0.0212\n",
            "Epoch 949/1200\n",
            "1/1 [==============================] - 0s 6ms/step - loss: 6.0374e-04 - mae: 0.0211\n",
            "Epoch 950/1200\n",
            "1/1 [==============================] - 0s 7ms/step - loss: 5.9964e-04 - mae: 0.0210\n",
            "Epoch 951/1200\n",
            "1/1 [==============================] - 0s 7ms/step - loss: 5.9559e-04 - mae: 0.0209\n",
            "Epoch 952/1200\n",
            "1/1 [==============================] - 0s 7ms/step - loss: 5.9158e-04 - mae: 0.0209\n",
            "Epoch 953/1200\n",
            "1/1 [==============================] - 0s 8ms/step - loss: 5.8758e-04 - mae: 0.0208\n",
            "Epoch 954/1200\n",
            "1/1 [==============================] - 0s 7ms/step - loss: 5.8363e-04 - mae: 0.0207\n",
            "Epoch 955/1200\n",
            "1/1 [==============================] - 0s 7ms/step - loss: 5.7967e-04 - mae: 0.0207\n",
            "Epoch 956/1200\n",
            "1/1 [==============================] - 0s 7ms/step - loss: 5.7577e-04 - mae: 0.0206\n",
            "Epoch 957/1200\n",
            "1/1 [==============================] - 0s 15ms/step - loss: 5.7189e-04 - mae: 0.0205\n",
            "Epoch 958/1200\n",
            "1/1 [==============================] - 0s 7ms/step - loss: 5.6803e-04 - mae: 0.0205\n",
            "Epoch 959/1200\n",
            "1/1 [==============================] - 0s 7ms/step - loss: 5.6420e-04 - mae: 0.0204\n",
            "Epoch 960/1200\n",
            "1/1 [==============================] - 0s 7ms/step - loss: 5.6037e-04 - mae: 0.0203\n",
            "Epoch 961/1200\n",
            "1/1 [==============================] - 0s 7ms/step - loss: 5.5660e-04 - mae: 0.0202\n",
            "Epoch 962/1200\n",
            "1/1 [==============================] - 0s 6ms/step - loss: 5.5284e-04 - mae: 0.0202\n",
            "Epoch 963/1200\n",
            "1/1 [==============================] - 0s 7ms/step - loss: 5.4910e-04 - mae: 0.0201\n",
            "Epoch 964/1200\n",
            "1/1 [==============================] - 0s 7ms/step - loss: 5.4540e-04 - mae: 0.0200\n",
            "Epoch 965/1200\n",
            "1/1 [==============================] - 0s 9ms/step - loss: 5.4173e-04 - mae: 0.0200\n",
            "Epoch 966/1200\n",
            "1/1 [==============================] - 0s 7ms/step - loss: 5.3806e-04 - mae: 0.0199\n",
            "Epoch 967/1200\n",
            "1/1 [==============================] - 0s 7ms/step - loss: 5.3444e-04 - mae: 0.0198\n",
            "Epoch 968/1200\n",
            "1/1 [==============================] - 0s 8ms/step - loss: 5.3082e-04 - mae: 0.0198\n",
            "Epoch 969/1200\n",
            "1/1 [==============================] - 0s 8ms/step - loss: 5.2726e-04 - mae: 0.0197\n",
            "Epoch 970/1200\n",
            "1/1 [==============================] - 0s 8ms/step - loss: 5.2369e-04 - mae: 0.0196\n",
            "Epoch 971/1200\n",
            "1/1 [==============================] - 0s 7ms/step - loss: 5.2015e-04 - mae: 0.0196\n",
            "Epoch 972/1200\n",
            "1/1 [==============================] - 0s 6ms/step - loss: 5.1665e-04 - mae: 0.0195\n",
            "Epoch 973/1200\n",
            "1/1 [==============================] - 0s 7ms/step - loss: 5.1314e-04 - mae: 0.0194\n",
            "Epoch 974/1200\n",
            "1/1 [==============================] - 0s 8ms/step - loss: 5.0968e-04 - mae: 0.0194\n",
            "Epoch 975/1200\n",
            "1/1 [==============================] - 0s 7ms/step - loss: 5.0624e-04 - mae: 0.0193\n",
            "Epoch 976/1200\n",
            "1/1 [==============================] - 0s 7ms/step - loss: 5.0284e-04 - mae: 0.0192\n",
            "Epoch 977/1200\n",
            "1/1 [==============================] - 0s 7ms/step - loss: 4.9943e-04 - mae: 0.0192\n",
            "Epoch 978/1200\n",
            "1/1 [==============================] - 0s 8ms/step - loss: 4.9605e-04 - mae: 0.0191\n",
            "Epoch 979/1200\n",
            "1/1 [==============================] - 0s 8ms/step - loss: 4.9271e-04 - mae: 0.0191\n",
            "Epoch 980/1200\n",
            "1/1 [==============================] - 0s 7ms/step - loss: 4.8937e-04 - mae: 0.0190\n",
            "Epoch 981/1200\n",
            "1/1 [==============================] - 0s 7ms/step - loss: 4.8608e-04 - mae: 0.0189\n",
            "Epoch 982/1200\n",
            "1/1 [==============================] - 0s 6ms/step - loss: 4.8280e-04 - mae: 0.0189\n",
            "Epoch 983/1200\n",
            "1/1 [==============================] - 0s 7ms/step - loss: 4.7954e-04 - mae: 0.0188\n",
            "Epoch 984/1200\n",
            "1/1 [==============================] - 0s 7ms/step - loss: 4.7629e-04 - mae: 0.0187\n",
            "Epoch 985/1200\n",
            "1/1 [==============================] - 0s 9ms/step - loss: 4.7309e-04 - mae: 0.0187\n",
            "Epoch 986/1200\n",
            "1/1 [==============================] - 0s 7ms/step - loss: 4.6989e-04 - mae: 0.0186\n",
            "Epoch 987/1200\n",
            "1/1 [==============================] - 0s 7ms/step - loss: 4.6672e-04 - mae: 0.0185\n",
            "Epoch 988/1200\n",
            "1/1 [==============================] - 0s 7ms/step - loss: 4.6356e-04 - mae: 0.0185\n",
            "Epoch 989/1200\n",
            "1/1 [==============================] - 0s 7ms/step - loss: 4.6044e-04 - mae: 0.0184\n",
            "Epoch 990/1200\n",
            "1/1 [==============================] - 0s 9ms/step - loss: 4.5733e-04 - mae: 0.0184\n",
            "Epoch 991/1200\n",
            "1/1 [==============================] - 0s 9ms/step - loss: 4.5425e-04 - mae: 0.0183\n",
            "Epoch 992/1200\n",
            "1/1 [==============================] - 0s 6ms/step - loss: 4.5117e-04 - mae: 0.0182\n",
            "Epoch 993/1200\n",
            "1/1 [==============================] - 0s 7ms/step - loss: 4.4814e-04 - mae: 0.0182\n",
            "Epoch 994/1200\n",
            "1/1 [==============================] - 0s 7ms/step - loss: 4.4509e-04 - mae: 0.0181\n",
            "Epoch 995/1200\n",
            "1/1 [==============================] - 0s 7ms/step - loss: 4.4210e-04 - mae: 0.0180\n",
            "Epoch 996/1200\n",
            "1/1 [==============================] - 0s 7ms/step - loss: 4.3911e-04 - mae: 0.0180\n",
            "Epoch 997/1200\n",
            "1/1 [==============================] - 0s 7ms/step - loss: 4.3615e-04 - mae: 0.0179\n",
            "Epoch 998/1200\n",
            "1/1 [==============================] - 0s 7ms/step - loss: 4.3320e-04 - mae: 0.0179\n",
            "Epoch 999/1200\n",
            "1/1 [==============================] - 0s 13ms/step - loss: 4.3028e-04 - mae: 0.0178\n",
            "Epoch 1000/1200\n",
            "1/1 [==============================] - 0s 7ms/step - loss: 4.2738e-04 - mae: 0.0177\n",
            "Epoch 1001/1200\n",
            "1/1 [==============================] - 0s 11ms/step - loss: 4.2449e-04 - mae: 0.0177\n",
            "Epoch 1002/1200\n",
            "1/1 [==============================] - 0s 8ms/step - loss: 4.2161e-04 - mae: 0.0176\n",
            "Epoch 1003/1200\n",
            "1/1 [==============================] - 0s 8ms/step - loss: 4.1878e-04 - mae: 0.0176\n",
            "Epoch 1004/1200\n",
            "1/1 [==============================] - 0s 9ms/step - loss: 4.1595e-04 - mae: 0.0175\n",
            "Epoch 1005/1200\n",
            "1/1 [==============================] - 0s 8ms/step - loss: 4.1315e-04 - mae: 0.0174\n",
            "Epoch 1006/1200\n",
            "1/1 [==============================] - 0s 8ms/step - loss: 4.1035e-04 - mae: 0.0174\n",
            "Epoch 1007/1200\n",
            "1/1 [==============================] - 0s 7ms/step - loss: 4.0759e-04 - mae: 0.0173\n",
            "Epoch 1008/1200\n",
            "1/1 [==============================] - 0s 8ms/step - loss: 4.0483e-04 - mae: 0.0173\n",
            "Epoch 1009/1200\n",
            "1/1 [==============================] - 0s 8ms/step - loss: 4.0210e-04 - mae: 0.0172\n",
            "Epoch 1010/1200\n",
            "1/1 [==============================] - 0s 7ms/step - loss: 3.9939e-04 - mae: 0.0172\n",
            "Epoch 1011/1200\n",
            "1/1 [==============================] - 0s 7ms/step - loss: 3.9669e-04 - mae: 0.0171\n",
            "Epoch 1012/1200\n",
            "1/1 [==============================] - 0s 7ms/step - loss: 3.9401e-04 - mae: 0.0170\n",
            "Epoch 1013/1200\n",
            "1/1 [==============================] - 0s 9ms/step - loss: 3.9134e-04 - mae: 0.0170\n",
            "Epoch 1014/1200\n",
            "1/1 [==============================] - 0s 7ms/step - loss: 3.8871e-04 - mae: 0.0169\n",
            "Epoch 1015/1200\n",
            "1/1 [==============================] - 0s 8ms/step - loss: 3.8607e-04 - mae: 0.0169\n",
            "Epoch 1016/1200\n",
            "1/1 [==============================] - 0s 7ms/step - loss: 3.8348e-04 - mae: 0.0168\n",
            "Epoch 1017/1200\n",
            "1/1 [==============================] - 0s 7ms/step - loss: 3.8089e-04 - mae: 0.0168\n",
            "Epoch 1018/1200\n",
            "1/1 [==============================] - 0s 11ms/step - loss: 3.7831e-04 - mae: 0.0167\n",
            "Epoch 1019/1200\n",
            "1/1 [==============================] - 0s 8ms/step - loss: 3.7576e-04 - mae: 0.0166\n",
            "Epoch 1020/1200\n",
            "1/1 [==============================] - 0s 8ms/step - loss: 3.7323e-04 - mae: 0.0166\n",
            "Epoch 1021/1200\n",
            "1/1 [==============================] - 0s 8ms/step - loss: 3.7071e-04 - mae: 0.0165\n",
            "Epoch 1022/1200\n",
            "1/1 [==============================] - 0s 7ms/step - loss: 3.6820e-04 - mae: 0.0165\n",
            "Epoch 1023/1200\n",
            "1/1 [==============================] - 0s 8ms/step - loss: 3.6571e-04 - mae: 0.0164\n",
            "Epoch 1024/1200\n",
            "1/1 [==============================] - 0s 8ms/step - loss: 3.6326e-04 - mae: 0.0164\n",
            "Epoch 1025/1200\n",
            "1/1 [==============================] - 0s 10ms/step - loss: 3.6080e-04 - mae: 0.0163\n",
            "Epoch 1026/1200\n",
            "1/1 [==============================] - 0s 8ms/step - loss: 3.5836e-04 - mae: 0.0162\n",
            "Epoch 1027/1200\n",
            "1/1 [==============================] - 0s 9ms/step - loss: 3.5595e-04 - mae: 0.0162\n",
            "Epoch 1028/1200\n",
            "1/1 [==============================] - 0s 6ms/step - loss: 3.5354e-04 - mae: 0.0161\n",
            "Epoch 1029/1200\n",
            "1/1 [==============================] - 0s 7ms/step - loss: 3.5116e-04 - mae: 0.0161\n",
            "Epoch 1030/1200\n",
            "1/1 [==============================] - 0s 7ms/step - loss: 3.4878e-04 - mae: 0.0160\n",
            "Epoch 1031/1200\n",
            "1/1 [==============================] - 0s 6ms/step - loss: 3.4643e-04 - mae: 0.0160\n",
            "Epoch 1032/1200\n",
            "1/1 [==============================] - 0s 6ms/step - loss: 3.4410e-04 - mae: 0.0159\n",
            "Epoch 1033/1200\n",
            "1/1 [==============================] - 0s 7ms/step - loss: 3.4177e-04 - mae: 0.0159\n",
            "Epoch 1034/1200\n",
            "1/1 [==============================] - 0s 7ms/step - loss: 3.3947e-04 - mae: 0.0158\n",
            "Epoch 1035/1200\n",
            "1/1 [==============================] - 0s 8ms/step - loss: 3.3717e-04 - mae: 0.0158\n",
            "Epoch 1036/1200\n",
            "1/1 [==============================] - 0s 8ms/step - loss: 3.3490e-04 - mae: 0.0157\n",
            "Epoch 1037/1200\n",
            "1/1 [==============================] - 0s 14ms/step - loss: 3.3264e-04 - mae: 0.0157\n",
            "Epoch 1038/1200\n",
            "1/1 [==============================] - 0s 7ms/step - loss: 3.3040e-04 - mae: 0.0156\n",
            "Epoch 1039/1200\n",
            "1/1 [==============================] - 0s 6ms/step - loss: 3.2816e-04 - mae: 0.0155\n",
            "Epoch 1040/1200\n",
            "1/1 [==============================] - 0s 7ms/step - loss: 3.2595e-04 - mae: 0.0155\n",
            "Epoch 1041/1200\n",
            "1/1 [==============================] - 0s 7ms/step - loss: 3.2375e-04 - mae: 0.0154\n",
            "Epoch 1042/1200\n",
            "1/1 [==============================] - 0s 8ms/step - loss: 3.2157e-04 - mae: 0.0154\n",
            "Epoch 1043/1200\n",
            "1/1 [==============================] - 0s 8ms/step - loss: 3.1938e-04 - mae: 0.0153\n",
            "Epoch 1044/1200\n",
            "1/1 [==============================] - 0s 8ms/step - loss: 3.1723e-04 - mae: 0.0153\n",
            "Epoch 1045/1200\n",
            "1/1 [==============================] - 0s 8ms/step - loss: 3.1510e-04 - mae: 0.0152\n",
            "Epoch 1046/1200\n",
            "1/1 [==============================] - 0s 7ms/step - loss: 3.1298e-04 - mae: 0.0152\n",
            "Epoch 1047/1200\n",
            "1/1 [==============================] - 0s 8ms/step - loss: 3.1085e-04 - mae: 0.0151\n",
            "Epoch 1048/1200\n",
            "1/1 [==============================] - 0s 7ms/step - loss: 3.0875e-04 - mae: 0.0151\n",
            "Epoch 1049/1200\n",
            "1/1 [==============================] - 0s 8ms/step - loss: 3.0667e-04 - mae: 0.0150\n",
            "Epoch 1050/1200\n",
            "1/1 [==============================] - 0s 8ms/step - loss: 3.0461e-04 - mae: 0.0150\n",
            "Epoch 1051/1200\n",
            "1/1 [==============================] - 0s 8ms/step - loss: 3.0255e-04 - mae: 0.0149\n",
            "Epoch 1052/1200\n",
            "1/1 [==============================] - 0s 8ms/step - loss: 3.0050e-04 - mae: 0.0149\n",
            "Epoch 1053/1200\n",
            "1/1 [==============================] - 0s 8ms/step - loss: 2.9847e-04 - mae: 0.0148\n",
            "Epoch 1054/1200\n",
            "1/1 [==============================] - 0s 9ms/step - loss: 2.9647e-04 - mae: 0.0148\n",
            "Epoch 1055/1200\n",
            "1/1 [==============================] - 0s 7ms/step - loss: 2.9446e-04 - mae: 0.0147\n",
            "Epoch 1056/1200\n",
            "1/1 [==============================] - 0s 8ms/step - loss: 2.9246e-04 - mae: 0.0147\n",
            "Epoch 1057/1200\n",
            "1/1 [==============================] - 0s 6ms/step - loss: 2.9050e-04 - mae: 0.0146\n",
            "Epoch 1058/1200\n",
            "1/1 [==============================] - 0s 10ms/step - loss: 2.8854e-04 - mae: 0.0146\n",
            "Epoch 1059/1200\n",
            "1/1 [==============================] - 0s 7ms/step - loss: 2.8659e-04 - mae: 0.0145\n",
            "Epoch 1060/1200\n",
            "1/1 [==============================] - 0s 7ms/step - loss: 2.8465e-04 - mae: 0.0145\n",
            "Epoch 1061/1200\n",
            "1/1 [==============================] - 0s 7ms/step - loss: 2.8274e-04 - mae: 0.0144\n",
            "Epoch 1062/1200\n",
            "1/1 [==============================] - 0s 7ms/step - loss: 2.8082e-04 - mae: 0.0144\n",
            "Epoch 1063/1200\n",
            "1/1 [==============================] - 0s 12ms/step - loss: 2.7893e-04 - mae: 0.0143\n",
            "Epoch 1064/1200\n",
            "1/1 [==============================] - 0s 7ms/step - loss: 2.7705e-04 - mae: 0.0143\n",
            "Epoch 1065/1200\n",
            "1/1 [==============================] - 0s 7ms/step - loss: 2.7518e-04 - mae: 0.0142\n",
            "Epoch 1066/1200\n",
            "1/1 [==============================] - 0s 9ms/step - loss: 2.7333e-04 - mae: 0.0142\n",
            "Epoch 1067/1200\n",
            "1/1 [==============================] - 0s 6ms/step - loss: 2.7148e-04 - mae: 0.0141\n",
            "Epoch 1068/1200\n",
            "1/1 [==============================] - 0s 6ms/step - loss: 2.6965e-04 - mae: 0.0141\n",
            "Epoch 1069/1200\n",
            "1/1 [==============================] - 0s 6ms/step - loss: 2.6781e-04 - mae: 0.0140\n",
            "Epoch 1070/1200\n",
            "1/1 [==============================] - 0s 7ms/step - loss: 2.6601e-04 - mae: 0.0140\n",
            "Epoch 1071/1200\n",
            "1/1 [==============================] - 0s 7ms/step - loss: 2.6422e-04 - mae: 0.0140\n",
            "Epoch 1072/1200\n",
            "1/1 [==============================] - 0s 7ms/step - loss: 2.6243e-04 - mae: 0.0139\n",
            "Epoch 1073/1200\n",
            "1/1 [==============================] - 0s 7ms/step - loss: 2.6066e-04 - mae: 0.0139\n",
            "Epoch 1074/1200\n",
            "1/1 [==============================] - 0s 7ms/step - loss: 2.5890e-04 - mae: 0.0138\n",
            "Epoch 1075/1200\n",
            "1/1 [==============================] - 0s 8ms/step - loss: 2.5716e-04 - mae: 0.0138\n",
            "Epoch 1076/1200\n",
            "1/1 [==============================] - 0s 8ms/step - loss: 2.5542e-04 - mae: 0.0137\n",
            "Epoch 1077/1200\n",
            "1/1 [==============================] - 0s 7ms/step - loss: 2.5369e-04 - mae: 0.0137\n",
            "Epoch 1078/1200\n",
            "1/1 [==============================] - 0s 7ms/step - loss: 2.5198e-04 - mae: 0.0136\n",
            "Epoch 1079/1200\n",
            "1/1 [==============================] - 0s 8ms/step - loss: 2.5028e-04 - mae: 0.0136\n",
            "Epoch 1080/1200\n",
            "1/1 [==============================] - 0s 8ms/step - loss: 2.4859e-04 - mae: 0.0135\n",
            "Epoch 1081/1200\n",
            "1/1 [==============================] - 0s 8ms/step - loss: 2.4691e-04 - mae: 0.0135\n",
            "Epoch 1082/1200\n",
            "1/1 [==============================] - 0s 8ms/step - loss: 2.4525e-04 - mae: 0.0134\n",
            "Epoch 1083/1200\n",
            "1/1 [==============================] - 0s 9ms/step - loss: 2.4359e-04 - mae: 0.0134\n",
            "Epoch 1084/1200\n",
            "1/1 [==============================] - 0s 12ms/step - loss: 2.4195e-04 - mae: 0.0134\n",
            "Epoch 1085/1200\n",
            "1/1 [==============================] - 0s 8ms/step - loss: 2.4031e-04 - mae: 0.0133\n",
            "Epoch 1086/1200\n",
            "1/1 [==============================] - 0s 8ms/step - loss: 2.3869e-04 - mae: 0.0133\n",
            "Epoch 1087/1200\n",
            "1/1 [==============================] - 0s 7ms/step - loss: 2.3708e-04 - mae: 0.0132\n",
            "Epoch 1088/1200\n",
            "1/1 [==============================] - 0s 7ms/step - loss: 2.3547e-04 - mae: 0.0132\n",
            "Epoch 1089/1200\n",
            "1/1 [==============================] - 0s 7ms/step - loss: 2.3389e-04 - mae: 0.0131\n",
            "Epoch 1090/1200\n",
            "1/1 [==============================] - 0s 13ms/step - loss: 2.3232e-04 - mae: 0.0131\n",
            "Epoch 1091/1200\n",
            "1/1 [==============================] - 0s 15ms/step - loss: 2.3073e-04 - mae: 0.0130\n",
            "Epoch 1092/1200\n",
            "1/1 [==============================] - 0s 8ms/step - loss: 2.2918e-04 - mae: 0.0130\n",
            "Epoch 1093/1200\n",
            "1/1 [==============================] - 0s 7ms/step - loss: 2.2764e-04 - mae: 0.0130\n",
            "Epoch 1094/1200\n",
            "1/1 [==============================] - 0s 8ms/step - loss: 2.2610e-04 - mae: 0.0129\n",
            "Epoch 1095/1200\n",
            "1/1 [==============================] - 0s 8ms/step - loss: 2.2458e-04 - mae: 0.0129\n",
            "Epoch 1096/1200\n",
            "1/1 [==============================] - 0s 10ms/step - loss: 2.2305e-04 - mae: 0.0128\n",
            "Epoch 1097/1200\n",
            "1/1 [==============================] - 0s 8ms/step - loss: 2.2155e-04 - mae: 0.0128\n",
            "Epoch 1098/1200\n",
            "1/1 [==============================] - 0s 10ms/step - loss: 2.2006e-04 - mae: 0.0127\n",
            "Epoch 1099/1200\n",
            "1/1 [==============================] - 0s 9ms/step - loss: 2.1857e-04 - mae: 0.0127\n",
            "Epoch 1100/1200\n",
            "1/1 [==============================] - 0s 8ms/step - loss: 2.1709e-04 - mae: 0.0126\n",
            "Epoch 1101/1200\n",
            "1/1 [==============================] - 0s 7ms/step - loss: 2.1563e-04 - mae: 0.0126\n",
            "Epoch 1102/1200\n",
            "1/1 [==============================] - 0s 14ms/step - loss: 2.1418e-04 - mae: 0.0126\n",
            "Epoch 1103/1200\n",
            "1/1 [==============================] - 0s 7ms/step - loss: 2.1273e-04 - mae: 0.0125\n",
            "Epoch 1104/1200\n",
            "1/1 [==============================] - 0s 6ms/step - loss: 2.1130e-04 - mae: 0.0125\n",
            "Epoch 1105/1200\n",
            "1/1 [==============================] - 0s 8ms/step - loss: 2.0986e-04 - mae: 0.0124\n",
            "Epoch 1106/1200\n",
            "1/1 [==============================] - 0s 8ms/step - loss: 2.0845e-04 - mae: 0.0124\n",
            "Epoch 1107/1200\n",
            "1/1 [==============================] - 0s 8ms/step - loss: 2.0705e-04 - mae: 0.0124\n",
            "Epoch 1108/1200\n",
            "1/1 [==============================] - 0s 11ms/step - loss: 2.0564e-04 - mae: 0.0123\n",
            "Epoch 1109/1200\n",
            "1/1 [==============================] - 0s 8ms/step - loss: 2.0425e-04 - mae: 0.0123\n",
            "Epoch 1110/1200\n",
            "1/1 [==============================] - 0s 6ms/step - loss: 2.0287e-04 - mae: 0.0122\n",
            "Epoch 1111/1200\n",
            "1/1 [==============================] - 0s 6ms/step - loss: 2.0151e-04 - mae: 0.0122\n",
            "Epoch 1112/1200\n",
            "1/1 [==============================] - 0s 7ms/step - loss: 2.0015e-04 - mae: 0.0121\n",
            "Epoch 1113/1200\n",
            "1/1 [==============================] - 0s 7ms/step - loss: 1.9879e-04 - mae: 0.0121\n",
            "Epoch 1114/1200\n",
            "1/1 [==============================] - 0s 192ms/step - loss: 1.9746e-04 - mae: 0.0121\n",
            "Epoch 1115/1200\n",
            "1/1 [==============================] - 0s 7ms/step - loss: 1.9613e-04 - mae: 0.0120\n",
            "Epoch 1116/1200\n",
            "1/1 [==============================] - 0s 9ms/step - loss: 1.9480e-04 - mae: 0.0120\n",
            "Epoch 1117/1200\n",
            "1/1 [==============================] - 0s 9ms/step - loss: 1.9348e-04 - mae: 0.0119\n",
            "Epoch 1118/1200\n",
            "1/1 [==============================] - 0s 9ms/step - loss: 1.9217e-04 - mae: 0.0119\n",
            "Epoch 1119/1200\n",
            "1/1 [==============================] - 0s 7ms/step - loss: 1.9088e-04 - mae: 0.0119\n",
            "Epoch 1120/1200\n",
            "1/1 [==============================] - 0s 7ms/step - loss: 1.8959e-04 - mae: 0.0118\n",
            "Epoch 1121/1200\n",
            "1/1 [==============================] - 0s 7ms/step - loss: 1.8831e-04 - mae: 0.0118\n",
            "Epoch 1122/1200\n",
            "1/1 [==============================] - 0s 7ms/step - loss: 1.8704e-04 - mae: 0.0117\n",
            "Epoch 1123/1200\n",
            "1/1 [==============================] - 0s 7ms/step - loss: 1.8578e-04 - mae: 0.0117\n",
            "Epoch 1124/1200\n",
            "1/1 [==============================] - 0s 6ms/step - loss: 1.8453e-04 - mae: 0.0117\n",
            "Epoch 1125/1200\n",
            "1/1 [==============================] - 0s 7ms/step - loss: 1.8328e-04 - mae: 0.0116\n",
            "Epoch 1126/1200\n",
            "1/1 [==============================] - 0s 10ms/step - loss: 1.8204e-04 - mae: 0.0116\n",
            "Epoch 1127/1200\n",
            "1/1 [==============================] - 0s 8ms/step - loss: 1.8082e-04 - mae: 0.0115\n",
            "Epoch 1128/1200\n",
            "1/1 [==============================] - 0s 15ms/step - loss: 1.7959e-04 - mae: 0.0115\n",
            "Epoch 1129/1200\n",
            "1/1 [==============================] - 0s 9ms/step - loss: 1.7838e-04 - mae: 0.0115\n",
            "Epoch 1130/1200\n",
            "1/1 [==============================] - 0s 7ms/step - loss: 1.7718e-04 - mae: 0.0114\n",
            "Epoch 1131/1200\n",
            "1/1 [==============================] - 0s 8ms/step - loss: 1.7598e-04 - mae: 0.0114\n",
            "Epoch 1132/1200\n",
            "1/1 [==============================] - 0s 7ms/step - loss: 1.7479e-04 - mae: 0.0113\n",
            "Epoch 1133/1200\n",
            "1/1 [==============================] - 0s 8ms/step - loss: 1.7360e-04 - mae: 0.0113\n",
            "Epoch 1134/1200\n",
            "1/1 [==============================] - 0s 8ms/step - loss: 1.7244e-04 - mae: 0.0113\n",
            "Epoch 1135/1200\n",
            "1/1 [==============================] - 0s 9ms/step - loss: 1.7127e-04 - mae: 0.0112\n",
            "Epoch 1136/1200\n",
            "1/1 [==============================] - 0s 9ms/step - loss: 1.7012e-04 - mae: 0.0112\n",
            "Epoch 1137/1200\n",
            "1/1 [==============================] - 0s 8ms/step - loss: 1.6897e-04 - mae: 0.0112\n",
            "Epoch 1138/1200\n",
            "1/1 [==============================] - 0s 8ms/step - loss: 1.6783e-04 - mae: 0.0111\n",
            "Epoch 1139/1200\n",
            "1/1 [==============================] - 0s 7ms/step - loss: 1.6670e-04 - mae: 0.0111\n",
            "Epoch 1140/1200\n",
            "1/1 [==============================] - 0s 7ms/step - loss: 1.6557e-04 - mae: 0.0110\n",
            "Epoch 1141/1200\n",
            "1/1 [==============================] - 0s 9ms/step - loss: 1.6446e-04 - mae: 0.0110\n",
            "Epoch 1142/1200\n",
            "1/1 [==============================] - 0s 7ms/step - loss: 1.6334e-04 - mae: 0.0110\n",
            "Epoch 1143/1200\n",
            "1/1 [==============================] - 0s 7ms/step - loss: 1.6224e-04 - mae: 0.0109\n",
            "Epoch 1144/1200\n",
            "1/1 [==============================] - 0s 8ms/step - loss: 1.6115e-04 - mae: 0.0109\n",
            "Epoch 1145/1200\n",
            "1/1 [==============================] - 0s 7ms/step - loss: 1.6005e-04 - mae: 0.0109\n",
            "Epoch 1146/1200\n",
            "1/1 [==============================] - 0s 7ms/step - loss: 1.5897e-04 - mae: 0.0108\n",
            "Epoch 1147/1200\n",
            "1/1 [==============================] - 0s 7ms/step - loss: 1.5790e-04 - mae: 0.0108\n",
            "Epoch 1148/1200\n",
            "1/1 [==============================] - 0s 7ms/step - loss: 1.5684e-04 - mae: 0.0107\n",
            "Epoch 1149/1200\n",
            "1/1 [==============================] - 0s 13ms/step - loss: 1.5578e-04 - mae: 0.0107\n",
            "Epoch 1150/1200\n",
            "1/1 [==============================] - 0s 6ms/step - loss: 1.5473e-04 - mae: 0.0107\n",
            "Epoch 1151/1200\n",
            "1/1 [==============================] - 0s 7ms/step - loss: 1.5368e-04 - mae: 0.0106\n",
            "Epoch 1152/1200\n",
            "1/1 [==============================] - 0s 8ms/step - loss: 1.5264e-04 - mae: 0.0106\n",
            "Epoch 1153/1200\n",
            "1/1 [==============================] - 0s 8ms/step - loss: 1.5161e-04 - mae: 0.0106\n",
            "Epoch 1154/1200\n",
            "1/1 [==============================] - 0s 8ms/step - loss: 1.5060e-04 - mae: 0.0105\n",
            "Epoch 1155/1200\n",
            "1/1 [==============================] - 0s 8ms/step - loss: 1.4957e-04 - mae: 0.0105\n",
            "Epoch 1156/1200\n",
            "1/1 [==============================] - 0s 7ms/step - loss: 1.4856e-04 - mae: 0.0105\n",
            "Epoch 1157/1200\n",
            "1/1 [==============================] - 0s 7ms/step - loss: 1.4757e-04 - mae: 0.0104\n",
            "Epoch 1158/1200\n",
            "1/1 [==============================] - 0s 7ms/step - loss: 1.4657e-04 - mae: 0.0104\n",
            "Epoch 1159/1200\n",
            "1/1 [==============================] - 0s 7ms/step - loss: 1.4557e-04 - mae: 0.0104\n",
            "Epoch 1160/1200\n",
            "1/1 [==============================] - 0s 7ms/step - loss: 1.4459e-04 - mae: 0.0103\n",
            "Epoch 1161/1200\n",
            "1/1 [==============================] - 0s 12ms/step - loss: 1.4361e-04 - mae: 0.0103\n",
            "Epoch 1162/1200\n",
            "1/1 [==============================] - 0s 7ms/step - loss: 1.4265e-04 - mae: 0.0103\n",
            "Epoch 1163/1200\n",
            "1/1 [==============================] - 0s 7ms/step - loss: 1.4168e-04 - mae: 0.0102\n",
            "Epoch 1164/1200\n",
            "1/1 [==============================] - 0s 8ms/step - loss: 1.4073e-04 - mae: 0.0102\n",
            "Epoch 1165/1200\n",
            "1/1 [==============================] - 0s 7ms/step - loss: 1.3977e-04 - mae: 0.0101\n",
            "Epoch 1166/1200\n",
            "1/1 [==============================] - 0s 8ms/step - loss: 1.3883e-04 - mae: 0.0101\n",
            "Epoch 1167/1200\n",
            "1/1 [==============================] - 0s 7ms/step - loss: 1.3790e-04 - mae: 0.0101\n",
            "Epoch 1168/1200\n",
            "1/1 [==============================] - 0s 7ms/step - loss: 1.3697e-04 - mae: 0.0100\n",
            "Epoch 1169/1200\n",
            "1/1 [==============================] - 0s 7ms/step - loss: 1.3604e-04 - mae: 0.0100\n",
            "Epoch 1170/1200\n",
            "1/1 [==============================] - 0s 8ms/step - loss: 1.3513e-04 - mae: 0.0100\n",
            "Epoch 1171/1200\n",
            "1/1 [==============================] - 0s 13ms/step - loss: 1.3421e-04 - mae: 0.0099\n",
            "Epoch 1172/1200\n",
            "1/1 [==============================] - 0s 7ms/step - loss: 1.3331e-04 - mae: 0.0099\n",
            "Epoch 1173/1200\n",
            "1/1 [==============================] - 0s 9ms/step - loss: 1.3240e-04 - mae: 0.0099\n",
            "Epoch 1174/1200\n",
            "1/1 [==============================] - 0s 9ms/step - loss: 1.3151e-04 - mae: 0.0098\n",
            "Epoch 1175/1200\n",
            "1/1 [==============================] - 0s 7ms/step - loss: 1.3062e-04 - mae: 0.0098\n",
            "Epoch 1176/1200\n",
            "1/1 [==============================] - 0s 8ms/step - loss: 1.2974e-04 - mae: 0.0098\n",
            "Epoch 1177/1200\n",
            "1/1 [==============================] - 0s 7ms/step - loss: 1.2887e-04 - mae: 0.0097\n",
            "Epoch 1178/1200\n",
            "1/1 [==============================] - 0s 7ms/step - loss: 1.2800e-04 - mae: 0.0097\n",
            "Epoch 1179/1200\n",
            "1/1 [==============================] - 0s 13ms/step - loss: 1.2713e-04 - mae: 0.0097\n",
            "Epoch 1180/1200\n",
            "1/1 [==============================] - 0s 11ms/step - loss: 1.2628e-04 - mae: 0.0096\n",
            "Epoch 1181/1200\n",
            "1/1 [==============================] - 0s 7ms/step - loss: 1.2542e-04 - mae: 0.0096\n",
            "Epoch 1182/1200\n",
            "1/1 [==============================] - 0s 8ms/step - loss: 1.2458e-04 - mae: 0.0096\n",
            "Epoch 1183/1200\n",
            "1/1 [==============================] - 0s 8ms/step - loss: 1.2373e-04 - mae: 0.0095\n",
            "Epoch 1184/1200\n",
            "1/1 [==============================] - 0s 8ms/step - loss: 1.2290e-04 - mae: 0.0095\n",
            "Epoch 1185/1200\n",
            "1/1 [==============================] - 0s 8ms/step - loss: 1.2207e-04 - mae: 0.0095\n",
            "Epoch 1186/1200\n",
            "1/1 [==============================] - 0s 9ms/step - loss: 1.2124e-04 - mae: 0.0095\n",
            "Epoch 1187/1200\n",
            "1/1 [==============================] - 0s 9ms/step - loss: 1.2043e-04 - mae: 0.0094\n",
            "Epoch 1188/1200\n",
            "1/1 [==============================] - 0s 9ms/step - loss: 1.1962e-04 - mae: 0.0094\n",
            "Epoch 1189/1200\n",
            "1/1 [==============================] - 0s 15ms/step - loss: 1.1881e-04 - mae: 0.0094\n",
            "Epoch 1190/1200\n",
            "1/1 [==============================] - 0s 7ms/step - loss: 1.1800e-04 - mae: 0.0093\n",
            "Epoch 1191/1200\n",
            "1/1 [==============================] - 0s 8ms/step - loss: 1.1720e-04 - mae: 0.0093\n",
            "Epoch 1192/1200\n",
            "1/1 [==============================] - 0s 7ms/step - loss: 1.1641e-04 - mae: 0.0093\n",
            "Epoch 1193/1200\n",
            "1/1 [==============================] - 0s 9ms/step - loss: 1.1563e-04 - mae: 0.0092\n",
            "Epoch 1194/1200\n",
            "1/1 [==============================] - 0s 9ms/step - loss: 1.1485e-04 - mae: 0.0092\n",
            "Epoch 1195/1200\n",
            "1/1 [==============================] - 0s 7ms/step - loss: 1.1407e-04 - mae: 0.0092\n",
            "Epoch 1196/1200\n",
            "1/1 [==============================] - 0s 8ms/step - loss: 1.1330e-04 - mae: 0.0091\n",
            "Epoch 1197/1200\n",
            "1/1 [==============================] - 0s 200ms/step - loss: 1.1253e-04 - mae: 0.0091\n",
            "Epoch 1198/1200\n",
            "1/1 [==============================] - 0s 8ms/step - loss: 1.1178e-04 - mae: 0.0091\n",
            "Epoch 1199/1200\n",
            "1/1 [==============================] - 0s 7ms/step - loss: 1.1102e-04 - mae: 0.0090\n",
            "Epoch 1200/1200\n",
            "1/1 [==============================] - 0s 7ms/step - loss: 1.1028e-04 - mae: 0.0090\n"
          ]
        }
      ]
    },
    {
      "cell_type": "code",
      "source": [
        "import matplotlib.pyplot as plt\n",
        "\n",
        "# 20 epoch까지 Loss 수렴에 대한 시각화\n",
        "plt.plot(history.history['loss'], label='loss')\n",
        "plt.plot(history.history['mae'], label='mae')\n",
        "plt.xlim(-1, 20)\n",
        "plt.title('Loss')\n",
        "plt.legend()\n",
        "plt.show()"
      ],
      "metadata": {
        "colab": {
          "base_uri": "https://localhost:8080/",
          "height": 281
        },
        "id": "Yl8PL0sn6zou",
        "outputId": "fb9bfc5c-c327-43b5-a23c-b470a397691e"
      },
      "execution_count": 32,
      "outputs": [
        {
          "output_type": "display_data",
          "data": {
            "text/plain": [
              "<Figure size 432x288 with 1 Axes>"
            ],
            "image/png": "[encoded data removed]"
          },
          "metadata": {
            "needs_background": "light"
          }
        }
      ]
    },
    {
      "cell_type": "markdown",
      "source": [
        "- 모델 훈련 초기 단계에는 학습이 매우 빠른 속도로 진행되다가 일정 epoch 이후에는 학습 속도가 느려지는 패턴을 보이고 있음"
      ],
      "metadata": {
        "id": "W_IQRrFM7ksd"
      }
    },
    {
      "cell_type": "markdown",
      "source": [
        "### 2-9 검증\n",
        "- 일반적으로 검증 데이터셋을 입력하여 검증하고, 별도의 검증 셋을 만들어 두지 않았으면 훈련 데이터셋의 x, y를 대입하여 반환되는 결과를 확인\n"
      ],
      "metadata": {
        "id": "hfVcyVoY7roL"
      }
    },
    {
      "cell_type": "code",
      "source": [
        "# 검증\n",
        "model.evaluate(x, y)"
      ],
      "metadata": {
        "colab": {
          "base_uri": "https://localhost:8080/"
        },
        "id": "efzWq2v37djm",
        "outputId": "dac983da-d00b-4d29-a915-09ee2aa96e5b"
      },
      "execution_count": 33,
      "outputs": [
        {
          "output_type": "stream",
          "name": "stdout",
          "text": [
            "1/1 [==============================] - 0s 102ms/step - loss: 1.0954e-04 - mae: 0.0090\n"
          ]
        },
        {
          "output_type": "execute_result",
          "data": {
            "text/plain": [
              "[0.00010953521268675104, 0.008983040228486061]"
            ]
          },
          "metadata": {},
          "execution_count": 33
        }
      ]
    },
    {
      "cell_type": "markdown",
      "source": [
        "### 2-10 예측"
      ],
      "metadata": {
        "id": "rk3MjqQk8gqz"
      }
    },
    {
      "cell_type": "code",
      "source": [
        "# 예측\n",
        "model.predict([10])"
      ],
      "metadata": {
        "colab": {
          "base_uri": "https://localhost:8080/"
        },
        "id": "1fLPDkLC740Q",
        "outputId": "04b60db7-bce1-480b-91af-56d2986dcd8f"
      },
      "execution_count": 34,
      "outputs": [
        {
          "output_type": "stream",
          "name": "stdout",
          "text": [
            "1/1 [==============================] - 0s 136ms/step\n"
          ]
        },
        {
          "output_type": "execute_result",
          "data": {
            "text/plain": [
              "array([[32.043415]], dtype=float32)"
            ]
          },
          "metadata": {},
          "execution_count": 34
        }
      ]
    },
    {
      "cell_type": "markdown",
      "source": [
        "## **03. 심층 신경망으로 이미지 분류**"
      ],
      "metadata": {
        "id": "GtRfaF9F8rl4"
      }
    },
    {
      "cell_type": "markdown",
      "source": [
        "### 3-1 케라스 내장 데이터셋 로드\n",
        "- 데이터셋은 tensorflow, keras, datasets 서브패키지에 위치하며 지원하는 목록은 다음과 같음\n",
        "    - boston_housing: 보스톤 주택 가격 데이터셋(회귀)\n",
        "    - cifar10: CIFAR10 이미지 분류 데이터셋(분류) \n",
        "    - cifar100: CIFAR100 이미지 분류 데이터셋(분류)\n",
        "    - mnist: mnist 손글씨 데이터셋(분류)\n",
        "    - fashion_mnist: 의류 데이터셋(분류)\n",
        "    - imdb:IMDb 영화 데이터셋(분류)\n",
        "    -  reuters: Reuters 뉴스 토픽(분류)"
      ],
      "metadata": {
        "id": "iXyroqc_8u8G"
      }
    },
    {
      "cell_type": "code",
      "source": [
        "import tensorflow as tf\n",
        "\n",
        "# 케라스의 내장 데이터셋에서 mnist 데이터셋 로드\n",
        "mnist = tf.keras.datasets.mnist"
      ],
      "metadata": {
        "id": "yNlmhD2T8pvD"
      },
      "execution_count": 35,
      "outputs": []
    },
    {
      "cell_type": "code",
      "source": [
        "# load_data()로 데이터셋 로드\n",
        "(x_train, y_train),(x_test, y_test) = mnist.load_data()"
      ],
      "metadata": {
        "colab": {
          "base_uri": "https://localhost:8080/"
        },
        "id": "6z9zRalQ9ekJ",
        "outputId": "16d1cde4-512a-4812-85e3-f803577c882c"
      },
      "execution_count": 36,
      "outputs": [
        {
          "output_type": "stream",
          "name": "stdout",
          "text": [
            "Downloading data from https://storage.googleapis.com/tensorflow/tf-keras-datasets/mnist.npz\n",
            "11490434/11490434 [==============================] - 0s 0us/step\n"
          ]
        }
      ]
    },
    {
      "cell_type": "code",
      "source": [
        "# 로드된 데이터셋 확인\n",
        "print('train set: ', x_train.shape, y_train.shape)\n",
        "print('test set: ', x_test.shape, y_test.shape)"
      ],
      "metadata": {
        "colab": {
          "base_uri": "https://localhost:8080/"
        },
        "id": "6JIlpqYl9qXL",
        "outputId": "8c6c5b4f-7a98-4c22-f513-1792d63339ac"
      },
      "execution_count": 39,
      "outputs": [
        {
          "output_type": "stream",
          "name": "stdout",
          "text": [
            "train set:  (60000, 28, 28) (60000,)\n",
            "test set:  (10000, 28, 28) (10000,)\n"
          ]
        }
      ]
    },
    {
      "cell_type": "markdown",
      "source": [
        "- shape: (데이터셋 크기, 이미지의 세로 픽셀 크기, 이미지의 가로 픽셀 크기)"
      ],
      "metadata": {
        "id": "-HkTWcdP9zxS"
      }
    },
    {
      "cell_type": "code",
      "source": [
        "# 데이터 시각화\n",
        "import matplotlib.pyplot as plt\n",
        "\n",
        "# canvas 생성\n",
        "fig, axes = plt.subplots(3, 5)\n",
        "fig.set_size_inches(8, 5)\n",
        "\n",
        "for i in range(15):\n",
        "    ax = axes[i//5, i%5]\n",
        "    # imshow로 이미지 시각화\n",
        "    ax.imshow(x_train[i], cmap='gray')\n",
        "    ax.axis('off')\n",
        "    ax.set_title(str(y_train[i]))\n",
        "\n",
        "plt.tight_layout()\n",
        "plt.show()"
      ],
      "metadata": {
        "colab": {
          "base_uri": "https://localhost:8080/",
          "height": 371
        },
        "id": "rFNzp7eH9xzS",
        "outputId": "8cbe0680-fd92-463b-9c52-e00902905b99"
      },
      "execution_count": 38,
      "outputs": [
        {
          "output_type": "display_data",
          "data": {
            "text/plain": [
              "<Figure size 576x360 with 15 Axes>"
            ],
            "image/png": "[encoded data removed]"
          },
          "metadata": {
            "needs_background": "light"
          }
        }
      ]
    },
    {
      "cell_type": "markdown",
      "source": [
        "- minist 데이터셋은 사람의 필기체로 쓰인 0~9까지의 숫자들로 이루어진 데이터셋"
      ],
      "metadata": {
        "id": "9MibjbXx-jJJ"
      }
    },
    {
      "cell_type": "markdown",
      "source": [
        "### 3-2 데이터 전처리\n",
        "- 이미지 데이터에 대하여 정규화를 통해 데이터의 범위 조절\n",
        "    - x_train은 넘파이 배열이며, 배열의 각 원소는 이미지를 구성하는 하나의 픽셀 값과 일대일 매칭됨"
      ],
      "metadata": {
        "id": "Sv8ONC40-ugN"
      }
    },
    {
      "cell_type": "code",
      "source": [
        "# x_train 배열의 데이터 확인\n",
        "x_train[0, 10:15, 10:15]"
      ],
      "metadata": {
        "colab": {
          "base_uri": "https://localhost:8080/"
        },
        "id": "-u9Vvfv099GA",
        "outputId": "32ecb624-d2cb-4743-e651-c15a13815874"
      },
      "execution_count": 40,
      "outputs": [
        {
          "output_type": "execute_result",
          "data": {
            "text/plain": [
              "array([[  1, 154, 253,  90,   0],\n",
              "       [  0, 139, 253, 190,   2],\n",
              "       [  0,  11, 190, 253,  70],\n",
              "       [  0,   0,  35, 241, 225],\n",
              "       [  0,   0,   0,  81, 240]], dtype=uint8)"
            ]
          },
          "metadata": {},
          "execution_count": 40
        }
      ]
    },
    {
      "cell_type": "code",
      "source": [
        "# 픽셀 값의 최소/최대 값 확인\n",
        "print(f'정규화 전] 최소값: {x_train.min()}, 최대값: {x_train.max()}')\n",
        "\n",
        "# 데이터 정규화\n",
        "x_train = x_train / x_train.max()\n",
        "\n",
        "# 정규화 후 최소/최대값 확인\n",
        "print(f'정규화 후] 최소값: {x_train.min()}, 최대값: {x_train.max()}')"
      ],
      "metadata": {
        "colab": {
          "base_uri": "https://localhost:8080/"
        },
        "id": "OudWOzML_BzP",
        "outputId": "ca83d91d-f541-4ef5-b9de-4ec4b266d264"
      },
      "execution_count": 41,
      "outputs": [
        {
          "output_type": "stream",
          "name": "stdout",
          "text": [
            "정규화 전] 최소값: 0, 최대값: 255\n",
            "정규화 후] 최소값: 0.0, 최대값: 1.0\n"
          ]
        }
      ]
    },
    {
      "cell_type": "code",
      "source": [
        "# test 셋에도 정규화 동일 적용\n",
        "x_test = x_test / x_test.max()"
      ],
      "metadata": {
        "id": "7Sf2IESr_SI6"
      },
      "execution_count": 42,
      "outputs": []
    },
    {
      "cell_type": "code",
      "source": [
        "# 변환 후 x_train 배열의 데이터 확인\n",
        "x_train[0, 10:15, 10:15]"
      ],
      "metadata": {
        "colab": {
          "base_uri": "https://localhost:8080/"
        },
        "id": "2oJfffKD_Xn9",
        "outputId": "9f97c0d7-1193-483e-b0be-09b6efc44c77"
      },
      "execution_count": 43,
      "outputs": [
        {
          "output_type": "execute_result",
          "data": {
            "text/plain": [
              "array([[0.00392157, 0.60392157, 0.99215686, 0.35294118, 0.        ],\n",
              "       [0.        , 0.54509804, 0.99215686, 0.74509804, 0.00784314],\n",
              "       [0.        , 0.04313725, 0.74509804, 0.99215686, 0.2745098 ],\n",
              "       [0.        , 0.        , 0.1372549 , 0.94509804, 0.88235294],\n",
              "       [0.        , 0.        , 0.        , 0.31764706, 0.94117647]])"
            ]
          },
          "metadata": {},
          "execution_count": 43
        }
      ]
    },
    {
      "cell_type": "markdown",
      "source": [
        "### 3-3 Flatten 레이어\n",
        "- 정규화가 끝난 x_train의 shape은 (60000, 28, 28)임. 정규화를 하더라도 개별 데이터 값의 범위는 축소되지만, 원본 배열의 형태는 그대로 유지됨\n",
        "- 샘플 이미지의 형태는 (28, 28)로 이루어져 있고 2차원 입력으로 볼 수 있음.\n",
        "- Dense 레이어에는 입력값으로 반드시 1차원 배열이 들어가야 함\n",
        "- 이미지 데이터를 1차원으로 전처리"
      ],
      "metadata": {
        "id": "7AoVvbSm_ap8"
      }
    },
    {
      "cell_type": "code",
      "source": [
        "print(f'변경전 shape: {x_train.shape}')\n",
        "print(f'1D으로 shape 변경 후: {x_train.reshape(60000, -1).shape}')"
      ],
      "metadata": {
        "colab": {
          "base_uri": "https://localhost:8080/"
        },
        "id": "c-fTnjiY_Zqc",
        "outputId": "95bce043-4e17-485d-ac5d-ca4805862f33"
      },
      "execution_count": 44,
      "outputs": [
        {
          "output_type": "stream",
          "name": "stdout",
          "text": [
            "변경전 shape: (60000, 28, 28)\n",
            "1D으로 shape 변경 후: (60000, 784)\n"
          ]
        }
      ]
    },
    {
      "cell_type": "markdown",
      "source": [
        "-  Flatten 레이어를 사용하면 다차원 데이터를 1차원으로 펼쳐주는 방법도 가능"
      ],
      "metadata": {
        "id": "fKNhVmJMABYm"
      }
    },
    {
      "cell_type": "code",
      "source": [
        "print(f'변경전 shape: {x_train.shape}')\n",
        "\n",
        "# Flatten 레이어 적용 후 shape 확인\n",
        "print(f'Flatten 적용 후: {tf.keras.layers.Flatten()(x_train).shape}')"
      ],
      "metadata": {
        "colab": {
          "base_uri": "https://localhost:8080/"
        },
        "id": "T3oviYCX_9-1",
        "outputId": "f2df9d4f-a0ec-44ea-f16f-415ece567bce"
      },
      "execution_count": 45,
      "outputs": [
        {
          "output_type": "stream",
          "name": "stdout",
          "text": [
            "변경전 shape: (60000, 28, 28)\n",
            "Flatten 적용 후: (60000, 784)\n"
          ]
        }
      ]
    },
    {
      "cell_type": "markdown",
      "source": [
        "### 3-4 활성화 함수\n",
        ": 입력을 비선형 출력으로 변환해주는 함수\n",
        "- 일반적으로 선형관계를 나타내는 함수에 비선형성을 추가하는 방법으로 표현되기도 함\n",
        "- 한편, 비선형성을 추가하지 않고 선형 함수로만 층을 구성한다면 모델을 깊게 구성하더라도 결국은 선형함수로 표현됨\n",
        "- 자주 사용되는 활성화 함수\n",
        "    - 시그모이드(Sigmoid):\n",
        "$$ sigmoid(x) = \\frac{1}{(1+e^{-x})} $$\n",
        "    - 하이퍼볼릭 탄젠트(Hyperbolic Tangent 혹은 tanh): $$ tanh(x) = \\frac{(e^x-e^{-x})}{(e^x+e^{-x})} $$\n",
        "    - ReLU(Recitfied Unit): $$ ReLU(x) = max(x,0) $$\n",
        "    - Leaky ReLU: $$ Leaky ReLU(x) = max(x,0.1x) $$"
      ],
      "metadata": {
        "id": "nB-Q2KcJAHEA"
      }
    },
    {
      "cell_type": "code",
      "source": [
        "# Dense 레이어에 relu 활성화 함수를 적용한 경우\n",
        "tf.keras.layers.Dense(128, activation='relu')"
      ],
      "metadata": {
        "colab": {
          "base_uri": "https://localhost:8080/"
        },
        "id": "B7weqyahAFpV",
        "outputId": "b5cd6e16-8db4-4374-a773-57ff8c85b28c"
      },
      "execution_count": 46,
      "outputs": [
        {
          "output_type": "execute_result",
          "data": {
            "text/plain": [
              "<keras.layers.core.dense.Dense at 0x7fa8e535d190>"
            ]
          },
          "metadata": {},
          "execution_count": 46
        }
      ]
    },
    {
      "cell_type": "markdown",
      "source": [
        "- 별도의 층처럼 적용할 수도 있음\n",
        "    - Dense 레이어 다음에 배치 정규화(Batch Normalization)를 적용한 후에 활성화 함수를 적용하고자 할 때 많이 사용함. 즉, 레이어 구성을 조금 더 커스터마이징하고 싶을 때 구분하여 처리"
      ],
      "metadata": {
        "id": "uMy439X7Br8a"
      }
    },
    {
      "cell_type": "code",
      "source": [
        "# Dense 레이어에 relu 활성화 함수를 적용한 경우\n",
        "model = tf.keras.Sequential([\n",
        "    tf.keras.layers.Dense(128), \n",
        "    tf.keras.layers.Activation('relu')\n",
        "])"
      ],
      "metadata": {
        "id": "0vRxUPGSBoqS"
      },
      "execution_count": 47,
      "outputs": []
    },
    {
      "cell_type": "markdown",
      "source": [
        "### 3-5 입력과 출력\n",
        "- 딥러닝 모델을 만들 때는 첫 번째 레이어에 입력 데이터의 형태를 나타내는 input_shape 매개변수를 지정하는 것이 일반적\n",
        "    - 데이터셋의 크기를 나타내는 숫자를 제외하고 이미지의 세로, 가로 형태를 나타내는 input_shape=(28, 28)를 input_shape로 지정\n",
        "- 분류 모델의 가장 마지막 레이어는 출력층임. 출력층의 노드 개수는 반드시 분류해야 할 클래스의 개수와 동일해야 함"
      ],
      "metadata": {
        "id": "feVSmxqHCDxr"
      }
    },
    {
      "cell_type": "code",
      "source": [
        "model = tf.keras.Sequential([\n",
        "    tf.keras.layers.Flatten(input_shape=(28, 28)), \n",
        "    tf.keras.layers.Dense(256, activation='relu'), \n",
        "    tf.keras.layers.Dense(64, activation='relu'), \n",
        "    tf.keras.layers.Dense(32, activation='relu'), \n",
        "    # 노드 = 10개(클래스 개수와 동일)\n",
        "    tf.keras.layers.Dense(10, activation='softmax'), \n",
        "])"
      ],
      "metadata": {
        "id": "dx6fxpPyCC5g"
      },
      "execution_count": 48,
      "outputs": []
    },
    {
      "cell_type": "markdown",
      "source": [
        "- 출력층의 노드 개수가 2개 이상인 경우는 softmax 활성화 함수를 적용\n",
        "    - 다중 분류 문제에서는 softmax 활성화 함수 사용\n",
        "    - 이진 분류 모델의 출력층 노드 개수를 1개로 설정한 경우에는 sigmoid 활성화 함수 적용(단, 이진 분류 모델이더라도 출력 레이어의 클래스를 원핫 인코딩으로 변환하여 노드 개수가 2개인 경우에는 softmax 함수 사용)"
      ],
      "metadata": {
        "id": "SLczoK0AC6YT"
      }
    },
    {
      "cell_type": "code",
      "source": [
        "# 출력층 노드 = 1인 경우, sigmoid\n",
        "tf.keras.layers.Dense(1, activation='sigmoid')\n",
        "\n",
        "# 출력층 노드 = 2개 이상인 경우, softmax\n",
        "tf.keras.layers.Dense(10, activation='softmax')"
      ],
      "metadata": {
        "colab": {
          "base_uri": "https://localhost:8080/"
        },
        "id": "YcpF7oWyC5GA",
        "outputId": "6f59c6da-9a9b-4527-cd33-110ded63ebd4"
      },
      "execution_count": 49,
      "outputs": [
        {
          "output_type": "execute_result",
          "data": {
            "text/plain": [
              "<keras.layers.core.dense.Dense at 0x7fa8e53d6cd0>"
            ]
          },
          "metadata": {},
          "execution_count": 49
        }
      ]
    },
    {
      "cell_type": "markdown",
      "source": [
        "### 3-6 손실함수"
      ],
      "metadata": {
        "id": "UJqQFwVPDPTd"
      }
    },
    {
      "cell_type": "markdown",
      "source": [
        "![image.png](data:image/png;base64,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)"
      ],
      "metadata": {
        "id": "Z7OQeo4nNfXW"
      }
    },
    {
      "cell_type": "code",
      "source": [
        "# 이진 분류 (출력 노드 개수 = 1, sigmoid 인 경우)\n",
        "model.compile(loss='binary_crossentropy')"
      ],
      "metadata": {
        "id": "KSeE8O0nDOow"
      },
      "execution_count": 50,
      "outputs": []
    },
    {
      "cell_type": "code",
      "source": [
        "# y가 원핫 벡터인 경우\n",
        "# [0., 0., 0., 0., 0., 1., 0., 0., 0., 0.]\n",
        "model.compile(loss='categorical_crossentropy')\n",
        "\n",
        "# y가 원핫 벡터가 아닌경우\n",
        "# [5]\n",
        "model.compile(loss='sparse_categorical_crossentropy')"
      ],
      "metadata": {
        "id": "dFkH6i4iDtxP"
      },
      "execution_count": 51,
      "outputs": []
    },
    {
      "cell_type": "markdown",
      "source": [
        "- minist 손글씨 데이터셋은 출력 데이터가 원핫 벡터가 아니고, 0~9까지 레이블 값을 갖기 때문에 손실함수로 'sparse_categorical_crossentropy' 지정하면 됨"
      ],
      "metadata": {
        "id": "ASnr_zdoD8PS"
      }
    },
    {
      "cell_type": "markdown",
      "source": [
        "### 3-7 옵티마이저\n",
        "- 옵티마이저(optimizer): 손실을 낮추기 위해서, 신경망의 가중치와 학습률과 같은 신경망의 속성을 변경하는 데 사용되는 최적화 방법\n",
        "- 일반적으로 많이 사용되는 알고리즘은 Adam이며 대체적으로 좋은 성능을 발휘하는 것으로 알려져 있음\n",
        "- 케라스에서 지원하는 옵티마이저 목록\n",
        "    - SGD\n",
        "    - Adam\n",
        "    - Adagrad\n",
        "    - Nadam\n",
        "    - RMSprop\n",
        "    - Adadelta\n",
        "    - Adamax\n",
        "    - Ftrl\n",
        "\n",
        "![image.png](data:image/png;base64,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)"
      ],
      "metadata": {
        "id": "zx-hqC-ZELGP"
      }
    },
    {
      "cell_type": "markdown",
      "source": [
        "- 클래스 인스턴스로 지정하거나 문자열로 지정할 수 있음\n",
        "    - 문자열로 지정할 때는 클래스 이름을 소문자로 표기\n",
        "    - 클래스 인스턴스로 지정할 때는 문자열로 지정할 때와 다르게, 학습률(learning_rate: lr로 표기)과 같은 하이퍼파라미터를 직접 설정 가능"
      ],
      "metadata": {
        "id": "dMplDPCREmT1"
      }
    },
    {
      "cell_type": "code",
      "source": [
        "# 클래스 인스턴스로 지정\n",
        "adam = tf.keras.optimizers.Adam(lr=0.001)\n",
        "model.compile(optimizer=adam)\n",
        "\n",
        "# 문자열로 지정\n",
        "model.compile(optimizer='adam')"
      ],
      "metadata": {
        "colab": {
          "base_uri": "https://localhost:8080/"
        },
        "id": "eCYQLhNeDz9V",
        "outputId": "a967f8c3-d669-472b-a8ac-f9d100d91f96"
      },
      "execution_count": 52,
      "outputs": [
        {
          "output_type": "stream",
          "name": "stderr",
          "text": [
            "/usr/local/lib/python3.7/dist-packages/keras/optimizers/optimizer_v2/adam.py:110: UserWarning: The `lr` argument is deprecated, use `learning_rate` instead.\n",
            "  super(Adam, self).__init__(name, **kwargs)\n"
          ]
        }
      ]
    },
    {
      "cell_type": "markdown",
      "source": [
        "### 3-8 평가지표\n",
        "- 분류 모델에 대한 평가지표(metrics)는 정확도를 나타내는 'accuracy'(또는 'acc')가 가장 많이 사용 되며 'auc', 'precision', 'recall' 등의 지표도 많이 사용됨\n",
        "-  모델 컴파일 단계에서 metrics 매개변수에 파이썬 리스트 형태로 하나 이상의 평가지표를 지정하여 여러 지표들을 동시에 참고할 수 있음\n",
        "- 평가지표도 옵티마이저와 마찬가지로 클래스 인스턴스로 지정하거나 문자열로 지정 가능"
      ],
      "metadata": {
        "id": "c60Yc93dE9i3"
      }
    },
    {
      "cell_type": "code",
      "source": [
        "# 클래스 인스턴스로 지정\n",
        "acc = tf.keras.metrics.SparseCategoricalAccuracy()\n",
        "\n",
        "model.compile(optimizer='adam', \n",
        "              loss='sparse_categorical_crossentropy', \n",
        "              metrics=[acc])"
      ],
      "metadata": {
        "id": "ajdOhdcnE8bN"
      },
      "execution_count": 53,
      "outputs": []
    },
    {
      "cell_type": "code",
      "source": [
        "# 문자열로 지정\n",
        "model.compile(optimizer='adam', \n",
        "              loss='sparse_categorical_crossentropy', \n",
        "              metrics=['accuracy'])"
      ],
      "metadata": {
        "id": "plzsphQiFSk5"
      },
      "execution_count": 54,
      "outputs": []
    },
    {
      "cell_type": "markdown",
      "source": [
        "### 3-9  훈련\n",
        "- mnist 손글씨 데이터셋은 10,000개로 구성된 별도의 검증 셋이 존재함\n",
        "- 모델을 훈련할 때 검증 셋을 추가 지정하면, 매 epoch마다 훈련 손실과 검증 손실, 그리고 각 셋에 대한 평가지표를 나란히 출력함\n",
        "    - 검증 셋을 지정하는 방법은 validation_data 매개변수에 투플 형식의 검증 셋을 지정해주면 됨"
      ],
      "metadata": {
        "id": "mSOhGQDBFVe3"
      }
    },
    {
      "cell_type": "code",
      "source": [
        "# 훈련\n",
        "model.fit(x_train, y_train, \n",
        "          # 검증 셋 지정\n",
        "          validation_data=(x_test, y_test), \n",
        "          epochs=10, \n",
        "          )"
      ],
      "metadata": {
        "colab": {
          "base_uri": "https://localhost:8080/"
        },
        "id": "CWlVWTDkFU1l",
        "outputId": "7622f605-ed82-4d7c-af4f-c4cd5c7a9b94"
      },
      "execution_count": 55,
      "outputs": [
        {
          "output_type": "stream",
          "name": "stdout",
          "text": [
            "Epoch 1/10\n",
            "1875/1875 [==============================] - 13s 6ms/step - loss: 0.2340 - accuracy: 0.9309 - val_loss: 0.1264 - val_accuracy: 0.9600\n",
            "Epoch 2/10\n",
            "1875/1875 [==============================] - 13s 7ms/step - loss: 0.0953 - accuracy: 0.9713 - val_loss: 0.0976 - val_accuracy: 0.9716\n",
            "Epoch 3/10\n",
            "1875/1875 [==============================] - 10s 5ms/step - loss: 0.0645 - accuracy: 0.9798 - val_loss: 0.0833 - val_accuracy: 0.9748\n",
            "Epoch 4/10\n",
            "1875/1875 [==============================] - 12s 6ms/step - loss: 0.0506 - accuracy: 0.9838 - val_loss: 0.0807 - val_accuracy: 0.9760\n",
            "Epoch 5/10\n",
            "1875/1875 [==============================] - 10s 5ms/step - loss: 0.0412 - accuracy: 0.9865 - val_loss: 0.0708 - val_accuracy: 0.9800\n",
            "Epoch 6/10\n",
            "1875/1875 [==============================] - 10s 5ms/step - loss: 0.0316 - accuracy: 0.9897 - val_loss: 0.0873 - val_accuracy: 0.9769\n",
            "Epoch 7/10\n",
            "1875/1875 [==============================] - 10s 5ms/step - loss: 0.0278 - accuracy: 0.9909 - val_loss: 0.0762 - val_accuracy: 0.9793\n",
            "Epoch 8/10\n",
            "1875/1875 [==============================] - 12s 7ms/step - loss: 0.0233 - accuracy: 0.9926 - val_loss: 0.0872 - val_accuracy: 0.9778\n",
            "Epoch 9/10\n",
            "1875/1875 [==============================] - 12s 6ms/step - loss: 0.0228 - accuracy: 0.9925 - val_loss: 0.0865 - val_accuracy: 0.9779\n",
            "Epoch 10/10\n",
            "1875/1875 [==============================] - 11s 6ms/step - loss: 0.0184 - accuracy: 0.9941 - val_loss: 0.0752 - val_accuracy: 0.9819\n"
          ]
        },
        {
          "output_type": "execute_result",
          "data": {
            "text/plain": [
              "<keras.callbacks.History at 0x7fa8e538a0d0>"
            ]
          },
          "metadata": {},
          "execution_count": 55
        }
      ]
    },
    {
      "cell_type": "markdown",
      "source": [
        "### 3-10 평가\n",
        "- 10회의 epoch가 끝나고 훈련이 종료된 뒤 evaluate() 메소드로 모델 성능을 검증하고 평가 결과 확인\n",
        "    - 컴파일 단계에서 지정한 손실과 정확도를 순서대로 반환"
      ],
      "metadata": {
        "id": "nE0moLDGFsai"
      }
    },
    {
      "cell_type": "code",
      "source": [
        "# 검증\n",
        "test_loss, test_acc = model.evaluate(x_test,  y_test)\n",
        "\n",
        "print('검증 셋 정확도:', test_acc)"
      ],
      "metadata": {
        "colab": {
          "base_uri": "https://localhost:8080/"
        },
        "id": "402XsPXrFrik",
        "outputId": "987983c6-f123-42f9-ff71-7ad2e842769e"
      },
      "execution_count": 56,
      "outputs": [
        {
          "output_type": "stream",
          "name": "stdout",
          "text": [
            "313/313 [==============================] - 1s 3ms/step - loss: 0.0752 - accuracy: 0.9819\n",
            "검증 셋 정확도: 0.9818999767303467\n"
          ]
        }
      ]
    },
    {
      "cell_type": "markdown",
      "source": [
        "### 3-11 예측\n",
        "- 훈련된 모델로 새로운 이미지에 대한 분류 값을 예측하는 작업 수행할 수 있음\n",
        "- predict() 메소드에 이미지 데이터를 넣어주면 모델의 예측 결과를 반환함\n",
        "    - 예측에 필요한 새로운 데이터셋이 준비되어 있지 않기 때문에, 검증 데이터셋의 입력 데이터인 x_test 사용"
      ],
      "metadata": {
        "id": "_-p7R3aLF3Hp"
      }
    },
    {
      "cell_type": "code",
      "source": [
        "# 예측\n",
        "predictions = model.predict(x_test)"
      ],
      "metadata": {
        "colab": {
          "base_uri": "https://localhost:8080/"
        },
        "id": "PK1IOeUWGHM9",
        "outputId": "222830ed-10b3-495f-bd91-8778e5facc56"
      },
      "execution_count": 57,
      "outputs": [
        {
          "output_type": "stream",
          "name": "stdout",
          "text": [
            "313/313 [==============================] - 1s 3ms/step\n"
          ]
        }
      ]
    },
    {
      "cell_type": "code",
      "source": [
        "# 예측 결과 출력\n",
        "predictions[0]"
      ],
      "metadata": {
        "colab": {
          "base_uri": "https://localhost:8080/"
        },
        "id": "1mj1flLnGb4Q",
        "outputId": "439d3225-8b46-41f0-8893-5892b94b0fe1"
      },
      "execution_count": 58,
      "outputs": [
        {
          "output_type": "execute_result",
          "data": {
            "text/plain": [
              "array([2.4002493e-14, 8.4609253e-10, 1.3957638e-09, 1.0387280e-10,\n",
              "       1.9514832e-09, 1.0916650e-14, 6.0559630e-13, 9.9999994e-01,\n",
              "       9.2224913e-15, 3.7053629e-09], dtype=float32)"
            ]
          },
          "metadata": {},
          "execution_count": 58
        }
      ]
    },
    {
      "cell_type": "markdown",
      "source": [
        "- 모델의 마지막 출력층의 노드 개수가 10개로 지정되었기 때문에 10개의 값이 출력된 것\n",
        "    - softmax 활성화 함수를 거친 10개의 출력 값은 순차적으로 0~9까지의 10개의 개별 클래스에 대한 분류 확률값\n",
        "    -  이 중 가장 높은 확률값을 가진 클래스가 최종 예측된 클래스\n",
        "- 넘파이 배열의 argmax를 활용하여 가장 높은 확률값을 가지는 클래스 결과 확인 가능"
      ],
      "metadata": {
        "id": "52JfJeX4GiSW"
      }
    },
    {
      "cell_type": "code",
      "source": [
        "import numpy as np\n",
        "\n",
        "# 0번 index에 대한 예측 클래스 출력\n",
        "print(np.argmax(predictions[0]))\n",
        "\n",
        "# 첫 10개 index에 대한 예측 클래스 출력\n",
        "print(np.argmax(predictions[:10], axis=1))"
      ],
      "metadata": {
        "colab": {
          "base_uri": "https://localhost:8080/"
        },
        "id": "u-sQ1b-KGhKM",
        "outputId": "440911f6-19ad-455d-c25c-3405a01ca869"
      },
      "execution_count": 59,
      "outputs": [
        {
          "output_type": "stream",
          "name": "stdout",
          "text": [
            "7\n",
            "[7 2 1 0 4 1 4 9 5 9]\n"
          ]
        }
      ]
    },
    {
      "cell_type": "markdown",
      "source": [
        "- matplotlib 시각화 라이브러리의 imshow() 메소드 활용하여 15개 예측한 결과 시각화"
      ],
      "metadata": {
        "id": "L7_bHuc2G8nH"
      }
    },
    {
      "cell_type": "code",
      "source": [
        "# 데이터 시각화\n",
        "import matplotlib.pyplot as plt\n",
        "\n",
        "def get_one_result(idx):\n",
        "    img, y_true, y_pred, confidence = x_test[idx], y_test[idx], np.argmax(predictions[idx]), 100*np.max(predictions[idx])\n",
        "    return img, y_true, y_pred, confidence\n",
        "    \n",
        "# canvas 생성\n",
        "fig, axes = plt.subplots(3, 5)\n",
        "fig.set_size_inches(12, 10)\n",
        "\n",
        "for i in range(15):\n",
        "    ax = axes[i//5, i%5]\n",
        "    img, y_true, y_pred, confidence = get_one_result(i)\n",
        "\n",
        "    # imshow로 이미지 시각화\n",
        "    ax.imshow(img, cmap='gray')\n",
        "    ax.set_xticks([])\n",
        "    ax.set_yticks([])\n",
        "    ax.set_title(f'True: {y_true}')\n",
        "    ax.set_xlabel(f'Prediction: {y_pred}\\nConfidence: ({confidence:.2f} %)')\n",
        "\n",
        "plt.tight_layout()\n",
        "plt.show()"
      ],
      "metadata": {
        "colab": {
          "base_uri": "https://localhost:8080/",
          "height": 696
        },
        "id": "EAmjIymsG6c4",
        "outputId": "899e140d-00f8-4bf3-ad41-e9d413703222"
      },
      "execution_count": 61,
      "outputs": [
        {
          "output_type": "display_data",
          "data": {
            "text/plain": [
              "<Figure size 864x720 with 15 Axes>"
            ],
            "image/png": "[encoded data removed]"
          },
          "metadata": {}
        }
      ]
    },
    {
      "cell_type": "markdown",
      "source": [
        "## **04. 모델 세부 설정**"
      ],
      "metadata": {
        "id": "btm7WgDvHZ1C"
      }
    },
    {
      "cell_type": "code",
      "source": [
        "import tensorflow as tf\n",
        "\n",
        "# 케라스의 내장 데이터셋에서 mnist 데이터셋 로드\n",
        "mnist = tf.keras.datasets.mnist\n",
        "\n",
        "# load_data()로 데이터셋 로드\n",
        "(x_train, y_train),(x_test, y_test) = mnist.load_data()\n",
        "\n",
        "# 로드된 데이터셋 확인\n",
        "print('train set: ', x_train.shape, y_train.shape)\n",
        "print('test  set: ', x_test.shape, y_test.shape)\n",
        "\n",
        "# 데이터 정규화\n",
        "x_train = x_train / x_train.max() # max: 255\n",
        "x_test = x_test / x_test.max() # max: 255"
      ],
      "metadata": {
        "colab": {
          "base_uri": "https://localhost:8080/"
        },
        "id": "PXT-iExeHUox",
        "outputId": "6eec4e62-0b5a-40f3-a0ec-3318ebc1262a"
      },
      "execution_count": 62,
      "outputs": [
        {
          "output_type": "stream",
          "name": "stdout",
          "text": [
            "train set:  (60000, 28, 28) (60000,)\n",
            "test  set:  (10000, 28, 28) (10000,)\n"
          ]
        }
      ]
    },
    {
      "cell_type": "markdown",
      "source": [
        "### 4-1 초기값 설정\n",
        "- 레이어의 초기화 방법을 다르게 설정할 수 있음\n",
        "    - Dense 레이어는 기본 초기화 방법으로 Glorot Uniform 초기화 방법이 설정되어 있음"
      ],
      "metadata": {
        "id": "VTmzgAKLHqJw"
      }
    },
    {
      "cell_type": "code",
      "source": [
        "dense = tf.keras.layers.Dense(256, activation='relu')\n",
        "dense.get_config()['kernel_initializer']"
      ],
      "metadata": {
        "colab": {
          "base_uri": "https://localhost:8080/"
        },
        "id": "6cEvqXkZHpRr",
        "outputId": "25698a93-ac0e-467e-9d5d-81b8b0bdd7ba"
      },
      "execution_count": 63,
      "outputs": [
        {
          "output_type": "execute_result",
          "data": {
            "text/plain": [
              "{'class_name': 'GlorotUniform', 'config': {'seed': None}}"
            ]
          },
          "metadata": {},
          "execution_count": 63
        }
      ]
    },
    {
      "cell_type": "markdown",
      "source": [
        "- 기본값으로 설정된 GlorotUniform 초기화 방법을 HeNormal로 변경하기 위해서는 kernel_initializer 매개변수에 설정하면 됨\n",
        "    - 옵티마이저, 손실함수와 마찬가지로 문자열로 지정하는 방법과 클래스 인스턴스로 지정하는 방법 존재"
      ],
      "metadata": {
        "id": "_3oucbYkH1j0"
      }
    },
    {
      "cell_type": "code",
      "source": [
        "# 문자열 초기화\n",
        "dense = tf.keras.layers.Dense(256, kernel_initializer='he_normal', activation='relu')\n",
        "dense.get_config()['kernel_initializer']\n",
        "\n",
        "# 클래스 인스턴스 초기화\n",
        "he_normal = tf.keras.initializers.HeNormal()\n",
        "dense = tf.keras.layers.Dense(256, kernel_initializer=he_normal, activation='relu')\n",
        "dense.get_config()['kernel_initializer']"
      ],
      "metadata": {
        "colab": {
          "base_uri": "https://localhost:8080/"
        },
        "id": "rvULOTUQH0gL",
        "outputId": "09f8ad93-0c68-4750-96b0-7f97ee99138a"
      },
      "execution_count": 65,
      "outputs": [
        {
          "output_type": "execute_result",
          "data": {
            "text/plain": [
              "{'class_name': 'HeNormal', 'config': {'seed': None}}"
            ]
          },
          "metadata": {},
          "execution_count": 65
        }
      ]
    },
    {
      "cell_type": "markdown",
      "source": [
        "- 케라스에서 지원하는 자주 사용되는 초기화 목록\n",
        "    - 'glorot_normal', 'glorot_uniform': 글로럿 초기화(Xavier 초기화)\n",
        "    - 'lecun_normal', 'lecun_uniform': Yann Lecun 초기화\n",
        "    - 'he_normal', 'he_uniform': He 초기화\n",
        "    - 'random_normal', 'random_uniform': 정규 분포, 연속균등 분포 초기화"
      ],
      "metadata": {
        "id": "RM01pASBITiR"
      }
    },
    {
      "cell_type": "markdown",
      "source": [
        "### 4-2 규제(Regularization)\n",
        "- 모델의 과대적합을 해소하기 위해 L1, L2 규제를 적용하기도 함\n",
        "- 텐서플로 케라스 레이어는 기본값으로 규제를 적용하지 않고 있음\n",
        "    - 다음 코드에서 kernel_regularizer 설정이 None으로 설정되어 있음\n",
        "- 레이어에 규제를 적용하기 위해서는 별도로 설정해 주어야 함"
      ],
      "metadata": {
        "id": "RykFNd63Ikgc"
      }
    },
    {
      "cell_type": "code",
      "source": [
        "# 기본 값\n",
        "dense = tf.keras.layers.Dense(256, activation='relu')\n",
        "dense.get_config()"
      ],
      "metadata": {
        "colab": {
          "base_uri": "https://localhost:8080/"
        },
        "id": "F-7j70-aINdn",
        "outputId": "8e17a020-6271-4d85-ee5d-153cad8fe746"
      },
      "execution_count": 66,
      "outputs": [
        {
          "output_type": "execute_result",
          "data": {
            "text/plain": [
              "{'name': 'dense_23',\n",
              " 'trainable': True,\n",
              " 'dtype': 'float32',\n",
              " 'units': 256,\n",
              " 'activation': 'relu',\n",
              " 'use_bias': True,\n",
              " 'kernel_initializer': {'class_name': 'GlorotUniform',\n",
              "  'config': {'seed': None}},\n",
              " 'bias_initializer': {'class_name': 'Zeros', 'config': {}},\n",
              " 'kernel_regularizer': None,\n",
              " 'bias_regularizer': None,\n",
              " 'activity_regularizer': None,\n",
              " 'kernel_constraint': None,\n",
              " 'bias_constraint': None}"
            ]
          },
          "metadata": {},
          "execution_count": 66
        }
      ]
    },
    {
      "cell_type": "markdown",
      "source": [
        "- 모델이 과대적합하는 것을 방지해 주기 위해 모델을 구성하는 레이어마다 규제를 적용할 수 있음\n",
        "- 케라스에서 지원하는 규제는 L1, L2 규제 있음\n",
        "    - 적용하기 위해서는 kernel_regularizer에 규제 지정"
      ],
      "metadata": {
        "id": "zVAlgdotI7ZX"
      }
    },
    {
      "cell_type": "code",
      "source": [
        "# l1 규제 적용\n",
        "dense = tf.keras.layers.Dense(256, kernel_regularizer='l1', activation='relu')\n",
        "print(dense.get_config()['kernel_regularizer'])\n",
        "\n",
        "# 클래스 인스턴스 적용, alpha=0.1 변경\n",
        "regularizer = tf.keras.regularizers.l1(l1=0.1)\n",
        "dense = tf.keras.layers.Dense(256, kernel_regularizer=regularizer, activation='relu')\n",
        "print(dense.get_config()['kernel_regularizer'])"
      ],
      "metadata": {
        "colab": {
          "base_uri": "https://localhost:8080/"
        },
        "id": "k6RP1lkRI6M3",
        "outputId": "4ee5ee86-0a5e-44b6-9104-5064ffa8f07a"
      },
      "execution_count": 67,
      "outputs": [
        {
          "output_type": "stream",
          "name": "stdout",
          "text": [
            "{'class_name': 'L1', 'config': {'l1': 0.009999999776482582}}\n",
            "{'class_name': 'L1', 'config': {'l1': 0.10000000149011612}}\n"
          ]
        }
      ]
    },
    {
      "cell_type": "markdown",
      "source": [
        "### 4-3 드롭아웃(Dropout)\n",
        "- 딥러닝 모델에서는 훈련 데이터셋에 너무 적응하여 검증 데이터셋이나 테스트 데이터셋에 대해 일반화된 성능을 갖지 못하는 문제가 자주 발생하는 편임\n",
        "- 드롭아웃은 모델의 과대적합 문제를 해결하기 위해 제안된 아이디어이며, 실무적으로 상당히 좋은 효과를 보이는 것으로 알려짐\n",
        "- 모델이 훈련할 때는 드롭아웃이 적용되어 노드 중 일부만 훈련하게 되지만, 예측 시점에는 모든 노드 활용됨"
      ],
      "metadata": {
        "id": "SymWHCLmJNkG"
      }
    },
    {
      "cell_type": "code",
      "source": [
        "# Dropout 25% 비율 적용 (25%의 노드가 삭제)\n",
        "tf.keras.layers.Dropout(0.25)"
      ],
      "metadata": {
        "colab": {
          "base_uri": "https://localhost:8080/"
        },
        "id": "_dciGZwyJMTS",
        "outputId": "7dd40921-b7b0-4571-abce-ee8f7aced34b"
      },
      "execution_count": 68,
      "outputs": [
        {
          "output_type": "execute_result",
          "data": {
            "text/plain": [
              "<keras.layers.regularization.dropout.Dropout at 0x7fa8e0b61210>"
            ]
          },
          "metadata": {},
          "execution_count": 68
        }
      ]
    },
    {
      "cell_type": "markdown",
      "source": [
        "### 4-4 배치 정규화(Batch Normalization)\n",
        "- 각 층에서 활성화 함수를 통과하기 전 미니 배치의 스케일을 정규화함\n",
        "- 다음 층으로 데이터가 전달되기 전에 스케일을 조정하기 때문에 보다 안정적인 훈련이 가능하고 성능을 크게 향상시킬 수 있음\n",
        "- 배치 정규화 층은 케라스에서 클래스 함수로 지원하기 때문에 별도로 코드를 구현할 필요가 없고, 클래스 인스턴스를 생성하여 추가해주면 됨\n",
        "- Dense 레이어에 ReLU 활성화 함수 추가한 모델과 배치 정규화 적용 후 ReLU 활성화 함수 추가한 모델 성능 비교 "
      ],
      "metadata": {
        "id": "CZZ2YjGsJ31s"
      }
    },
    {
      "cell_type": "code",
      "source": [
        "# Model A: Dense + ReLU\n",
        "model_a = tf.keras.Sequential([\n",
        "    tf.keras.layers.Flatten(input_shape=(28, 28)),\n",
        "    tf.keras.layers.Dense(64, activation='relu'),\n",
        "    tf.keras.layers.Dense(32, activation='relu'),\n",
        "    tf.keras.layers.Dense(10, activation='softmax'),\n",
        "])\n",
        "model_a.summary()"
      ],
      "metadata": {
        "colab": {
          "base_uri": "https://localhost:8080/"
        },
        "id": "WrwBr1jDJ3KD",
        "outputId": "4d2bd50d-e190-4884-b9e4-355cd19fc643"
      },
      "execution_count": 69,
      "outputs": [
        {
          "output_type": "stream",
          "name": "stdout",
          "text": [
            "Model: \"sequential_7\"\n",
            "_________________________________________________________________\n",
            " Layer (type)                Output Shape              Param #   \n",
            "=================================================================\n",
            " flatten_2 (Flatten)         (None, 784)               0         \n",
            "                                                                 \n",
            " dense_26 (Dense)            (None, 64)                50240     \n",
            "                                                                 \n",
            " dense_27 (Dense)            (None, 32)                2080      \n",
            "                                                                 \n",
            " dense_28 (Dense)            (None, 10)                330       \n",
            "                                                                 \n",
            "=================================================================\n",
            "Total params: 52,650\n",
            "Trainable params: 52,650\n",
            "Non-trainable params: 0\n",
            "_________________________________________________________________\n"
          ]
        }
      ]
    },
    {
      "cell_type": "code",
      "source": [
        "# Model B: Dense + BatchNorm + ReLU\n",
        "model_b = tf.keras.Sequential([\n",
        "    tf.keras.layers.Flatten(input_shape=(28, 28)),\n",
        "    tf.keras.layers.Dense(64),\n",
        "    # 배치 정규화 적용\n",
        "    tf.keras.layers.BatchNormalization(),\n",
        "    # 배치 정규화 후 활성화 함수 적용\n",
        "    tf.keras.layers.Activation('relu'),\n",
        "\n",
        "    tf.keras.layers.Dense(32),\n",
        "    # 배치 정규화 적용\n",
        "    tf.keras.layers.BatchNormalization(),\n",
        "    # 배치 정규화 후 활성화 함수 적용\n",
        "    tf.keras.layers.Activation('relu'),\n",
        "\n",
        "    tf.keras.layers.Dense(10, activation='softmax'),\n",
        "])\n",
        "model_b.summary()"
      ],
      "metadata": {
        "colab": {
          "base_uri": "https://localhost:8080/"
        },
        "id": "xLeYqcPRKgBh",
        "outputId": "e218e437-df1e-42db-e718-cb19363ef9ce"
      },
      "execution_count": 70,
      "outputs": [
        {
          "output_type": "stream",
          "name": "stdout",
          "text": [
            "Model: \"sequential_8\"\n",
            "_________________________________________________________________\n",
            " Layer (type)                Output Shape              Param #   \n",
            "=================================================================\n",
            " flatten_3 (Flatten)         (None, 784)               0         \n",
            "                                                                 \n",
            " dense_29 (Dense)            (None, 64)                50240     \n",
            "                                                                 \n",
            " batch_normalization (BatchN  (None, 64)               256       \n",
            " ormalization)                                                   \n",
            "                                                                 \n",
            " activation_1 (Activation)   (None, 64)                0         \n",
            "                                                                 \n",
            " dense_30 (Dense)            (None, 32)                2080      \n",
            "                                                                 \n",
            " batch_normalization_1 (Batc  (None, 32)               128       \n",
            " hNormalization)                                                 \n",
            "                                                                 \n",
            " activation_2 (Activation)   (None, 32)                0         \n",
            "                                                                 \n",
            " dense_31 (Dense)            (None, 10)                330       \n",
            "                                                                 \n",
            "=================================================================\n",
            "Total params: 53,034\n",
            "Trainable params: 52,842\n",
            "Non-trainable params: 192\n",
            "_________________________________________________________________\n"
          ]
        }
      ]
    },
    {
      "cell_type": "markdown",
      "source": [
        "![image.png](data:image/png;base64,iVBORw0KGgoAAAANSUhEUgAAAisAAAGRCAYAAACkF/OmAAAAAXNSR0IArs4c6QAAAARnQU1BAACxjwv8YQUAAAAJcEhZcwAAEnQAABJ0Ad5mH3gAAL1uSURBVHhe7P0HmF3Xed8L/3c5ZXrBoAx6BwEQJNg7KVKUaJKSLFmy7EROLMlKHvvan69vbCZOntzYceybPN8X3cSxTUlxLMu2Ioq2RTVS7L2AJNjQiN77AJhezjm7fe9/7bMGh8MBUQYzmPL+gHf2Pruuvffa6/3vVZ1EgKIoiqIoyjjFLU8VRVEURVHGJSpWFEVRFEUZ16hYURRFURRlXKNiRVEURVGUcY2KFUVRFEVRxjUqVhRFURRFGddo02VFUQYJwxCe55mp67pwHMdYFEXwfR9xHBvjMm7H+cokhMu5zK4jdj3XVWK35dSuG7qtXc+wcB2niqJMPfTNVxRlEAqDQ4cOYWBgwIgDigUKF85bIWEFA9dZMWHXcWp/W+NvipfhtrFw3h6LUBzxN5fbdTQut8bfiqJMDVSsKIoyCEXAV7/6Vfzwhz80vysFAUVLpWiw6ypFB8WG3cbCee5biRUgdp7HI5X7WSrFjz02rfK8iqJMblSsKIoyCAVAV1cXSqWSma8sduHvjo4O7N2719jJkycHhQPFxtGjR7F7927s27cPbW1tZjlFSnt7O/bv349du3bhyJEjg0KHxn327Nlj1vf395tz0Jizc/DgQXMsnqu7u3sw10VRlKmH1llRFGUQioubbroJ/+Jf/Av82q/9miQQDuIoZkqBnSI2/st/+c/YtWMHMn4GCxYuwAP/5vex4rIVePH55/H1r39dREYRrmiKefPn48EHv4EtW7bgT/7kT0RsdMkxgOb6BvxX2W7unPl48tkn8ed/9mfo7e2VMzv45D334Nd//deR9X38xYMP4tlnnjHLecB/8ku/hC9/9SvyMxUsFC4sWlIBoyhTAxUriqIM8mGxAkSyrFAo4Y//+I/xzrtv4/d///eNSPizP/1TrF69Cv/6X/9b/JvffwDVtXX4xS98Hq7no6uzEzffeAv++E/+CG+9/Q7+8D/838hU5dHb1Y01a65ER1cHfvv//G3cdOON+LlP3oPDx47iv/3//it+87d/G6suW4kvf/kr+Nq/+DXccMONKPb1o7auFpetWT0oTpjjQ7GiKMrUQIuBFEU5I0mcwHU89HR3Y93rr+Gf/vI/wR2334Fbb7kN93/q01i37g109nQin8vj5NHjOCY2a8ZM3H7b7fBzvgiYWhR6e7Dv4AGTq3LzLbeivqEeO7btQNuxNixevARHDh1BWAzRPH06Nm14D47rIJvP4qDsExQKWHn5alwmosj5cHUWRVGmCCpWFEUxMJPVZrQOzrNMBw76BvpQGChg1pzZ8ov/EsydNweF4gBKhRK+/NVfQ11jA/7XX/0v/M7/9Tv487/4c4SlEr74+S/gpttvw/cffhi/83u/i//0x3+EkyfbcELs2JGj+PEPfoT//b3/jYe//5Acp4AZ02di4YKF+P/81m/hwMFD+MP/9B/xO//nb+PZ559DGKeVcBVFmXqoWFEUxcAKr0EQmCKWwYq1oleSJEY+X4Xq6mocZS5IFCKW5YcOH0Ymn0cmk8FlK1bgv/2//w3//b//KW668SZ8+3/9Fd7fvg0LFy/CH//Rf8Jf/Pmf4zOf+gx++uOf4NWXXsWMlhYsX7kc3/zWN/DQww/h7x/+e/z4xz/G//Gbv4mqfA6/9Iu/jG9+45v4D//hPyCScH1L5nu7e9IwCVoEpChTCxUriqJ8iOPHj5vWO9t2bMOuPbtRLAxgzRWX48eP/gSbNm/Gxs0b8eRTT2HtFVeivq4er7zyCt7fthVJHGHxkkVwJGUp9PXhtVdfwcZNGzHQP4D5s+egprrK1Jmdt3Ah8rkqfOdv/gY7duzAjj27sO6117Ft61YcO3YcL738Eg4cOICm5mlobW0VIRUhTDRnRVGmKlrBVlEUA5sUFwoFfOELXzBNjBsaGswyz/Hw+c9+Fnd8/C78f//Lf8GJthNwfBfTpk3Dv/u3/w4rV6zCH/zB/43177yFrJ/BgBzj2uuvw79+4AH85bf+Es88/SSq8lUI5FiLFi3Ev/n9f4vZrbPx+BOP4xt/8RemjorjefA8H1/98lewfNlS/MEf/RF6u7tkWUYEUIyvfOWr+NTPfxp+xjdhZW6OoihTBxUrI2C4W6dNKZWJCoUJjTkaLA4iLBryJJrXNzZiWkuLaeXDZshJFKOxsRmNzQ0iJhx09XShR5azNVHWy6JhWhPqauvQ2dku2/ciCkpwRcg0Ntajrr4hrfUixzhx6kTaW66ch4KmsakJvmzXLvv19fdJoIB8dd4Io2wmi4TNkwR2/U/0fVMmCkP9hcbd80PFygiwnVtZeCtZlq7l6cpEZWicHs9o82VlIkEhTx/BeMt3jIJbBcu5o2JlBNiE3UY43krOawRUFEVRhsP6CYoW9RXnjoqVEUCxQrV86tQpo5L5m2gEVBRFUYbCj1uKFNa5ampqOt3qTjkrKlZGAMUJx1H5gz/4AyxfvtwsY+TTW6ooynjDpkv6MXVp4bhb5Ld+67eQzWbNvHJ2VKyMAIqVzs5OfOtb38Lv/M7vGKGiSllRlPGG/YiiVYoVztvlysXF5qLYe2zhYKA/+MEP8LWvfU3FynmgYmUEMDJSrHzjG9/AAw88YIqC9HYqijJeYfpE52nr2tni69FMt2zLrYsBi90vJedzLfae8j5XVq6lWHn44YfN+FsqVs4dFSsjhMVAFCu/93u/N5gIaB8QiqKMF5jEM12y87Sh9evsdDS4mMe+1O7qfK6F99zeb4oc7sv5np4efP/739eclfNExcoI6e7uxoMPPjgoVmy2n6IoynjB5kjQgXZ1dcjvkqT+Plx2NVzGOIJzSbpkwwtN4WzaOJzbsc78fBjttHYk7pH3mk3reQyGs7Gx0fgH5sb//d//vYqV80TFygixYoXFQIyQjIyKoijjCfuVz8qd7NSvsakRGc8Xb8y6LHTK5ZwX+v6P8v+y7VB9wHSPOTVM+2g2F4dYRz0ULqNxPbfnPKfc/0z7TETsddFPcGwtihMWA6lYOX/UsyqKokwRUlHhw3NySGLWsaMLYG4wiyl8mRNLPsJkveN4xgkPNStUOG9hzgJ/sxjEzltBYre1HfvZohI7tcs5fybjNtze2nDbXCqz94NTe83KhaNiRVEUZRJDJ/lBRxkhQQmxwyEVIsi3vzhTVv4UIeOfg4nXsA640iFzyiKO999/3wxOyf6nCNdZOIwDx53ilA69ra0Nvb29Zh3rcvA3j0MjlecZzii+eCxrViSMByNWoNGUkaFiRVEUZRJTWaxCJ+o48tsTkeKJiPFihE6MUiJOPxYJI9sGsj41WS5CppTECETeBJzSwtCIBGv22DzP008/bYrFf/KTn+A73/kOTp48abZhnRnavn378O1vfxt9fX1m+0ceeQTvvPOO2Z/TH//4x2Z7htOKLCtehjNuV5mzcrbtx9IYFt4bO6+MDBUriqIok5ihX/pR7IjlUCy4OLjvFKLAxdFDXRjoj9F1oh/tbQMo9iQ4eqAbwYCLtqO96OuO0HWyhFOyntVbKgVKJRQkN910E774xS9i//79eO+99/A//sf/wJ/8yZ/giSeeMOuLxaIRJITzdOZW0HDU78pjM7wfZan4Ol30Mtw2l9IYpsowKheOihVFUZQphOP6SEIXPR39eOihR9DfE+EfH3oUhw+cwIsvvIUXnngDJ4524UePPIGTbd342U+ew+6tB/Dehq14/ul16OnpN0UuhLkZlVB4PPvss/jzP/9zU6F0165dmDdvnhEvL774oikasjkONM5TqPA43FcdunImVKxccvhlolmEiqKMEYmIgkyIxmlV+Odf+SXUNPr4la98HgsXz8LHP34j7r7vZsyc14hf/OX7MX1mPT73xXuwbPVCXH/TGtxz/+2oq6se7EuKuSGVUGxcfvnl+NjHPoba2lrs3r0bjz32GP7yL//SCJOBgYHBYhFaLpcbzFWhAOJxmSNBtPhEqUTFyiUmQYg4CeSljBEGMeIoLXPlC8xpCrNMrZ1uFqgoinL+RHCSEJ7ojdZZjSIOYjRPy8PPOahtyKOxKY981sfMGfXI51w01edRVeWY+bpaERN+WqzB4g0rLIjNGZk+fTpuv/1285sC5N5778Xv/u7v4jd+4zcwY8YMI0za29tNE17+Zu7LiRMnTKXcBQsWDB6HqFhRLCpWLjF8FSlMSqUYfb0lBPKhYr86TsMXl79VqCiKMjIceCJW2BRZxIbrwRNh4LliTiJTGut+QKZcz+Ia2UfSIzoLpkRcbuvB2PoYTK84P3PmTLS2tpoioDvvvBOXXXYZjh49anr5fu2115DP5016x3os//W//ldMmzbN7MdKucxVYX2XSrhOUYh2CjdCzr9TOAoOvvLplwO/cgJRKB0dffjBw4/in33ln8oLTbEiW8jxhpYJK4qiXAi2uIVplu1NtTJn5ELhMelGmF7Z3GAe27oWK2YIp7ThcmQIp1xnj3Mxwnep4bXwnrPISzuFu3BUtl4S0prwKaw1nkVVvgZrr7rGfLWU3+vyC17OTbGlQOV1iqIo4wH7gcb0ivM0Kz5sc2Jil9ntiV1mRQyhc7fHscsURcXKJYYvZhzFqMplMXPWTOzYthuO/Dv98lKsiNlZfXcVRRkhFAlWKIwUmwtCrNCwy2yrIcL0rFKc2KkVN3Zq0kQxrmNuEKfWLiY8XmUFYXs+mwNlz815m3s0FIbT7mPDbX/TLNx3uP2Vc0fFyiWG767jSiSW6d7de0zvj0jYPp85Lnw8jOAS6T2N6IqiXBysOLgYTpTHsiLEFlvb4hu7vBIrSirPS8dut7XFQPxtBYANZ+U+Q39fCJX783wMmzUbRvub81aUECtGKrevPIZycdE7OubwhTxdDus4jPhU9zGuv+lq3H3X3SgF8nLGfFH4MpnNZEOZYTqgT0xRlIsAna/NCbCiwP62uQnnYtbhW+du7UxwXaVzJxQoPJY9N+GUy7k9w2Wn1uz5L9Ss2LDYcNvj29/cjlOGlcv52y6zvyv34W8ef+i+9lqVC0Nd35jDCHs60srrYKYcqZ0fI08+/RROtJ3gEvNP4nkZebEcvlxnTgQURVHOCUlGEjpXMSYyqQOm46XTpZM2i42jPZPFNDlQxGO4kqaJM2axD0d2ts56OLgN11Ow2GPRkTMMmzZtOqPjJ1Zk0Cz2GBdiQ+F57ZS96/JabHjsOsJ5W8RFQcXw8Lc97nD7KCNDxcolh49AVArfdXn1V1y2HDV1dbKYPbCUOIK7vBmyPp0R++DXgKIoyvnAfF1PkhE3BHwRJ77M+7EDL05HVXZZDB25cGNJc8qjMrPiv/nMkp++pEEeZYqfjiGU+FwCtHd14f/5L/8Zf/EXf4G//uu/xuHDhwdzE6wwoNh44YUXcPDgQePg7XJOu2T/v/3bvzUDG1IAcN/nnnsOf/qnf4r+/n7s2bPH9I5LAWBFAbHnGCoMuN6u47RynnA9e9RlF//2mFzH+X/8x3805/3mN79pxiyy56PZfbnNgQMHzPbsJ+anP/2pETgcD+kHP/iBGZhRuXgwJiqXEEki5AsjrTGfzXtYsnQR9u8/goS5KLbckwlGkr5giqIoIyEQxdHvOyiJSiklRURJv3wD9YlA6ZKVXYjldyLrwrggDiKAF8r6ggiIYABeoQ9JUVROWJLtE1kvIiaWqYgeR8RH24k2fPrTnzb9qbzyyiumx1r2r/Loo49iy5YtptkunTqd+d69e80IzD/72c/w/PPPG9HAAQ4pZvib+1LUcN/t27fj+PHj2LZtm9nu7bffNvuxh1wKhJdfftl05//666+b6VNPPYVXX33VjE3EMYnY1wuxYoRTiqIf/vCHJkzEChZOKYzWrl2LZcuWmR54GS6em+d88803zfY8No9BAUYxtXHjRrM/w83wcapcPFSsCIyclWbV85kYuv1IsF8X9iXq7u7FG2+8Lsvk0cjXjnlE/BTSJ6UoykXAlyQrF4rA6OrFpiefxvvijLf/7CfY9egPse/xH+LE5ncRdbbj8Kb3ELefwuG33sIWcdLbHnsUOx77GTY89zxKfSVkJI3KMGdGkks3kvSrFCEqFUxuBZ04+xWhkKAjp0N/+OGHTc+1VVVVqK+vN878+9//vumDhLAYhaLCChY2NmC6eNttt5kcFRbJEPZ0SwHD41L0MHfjW9/6lhE2zOFgbghzN3hsm4vD7RkGprU214bG8HGZTfNtWsxtmdPD4/E3r+kf/uEfzPrHH3/cDNLIeW5nm2fb+jUs3hqpX1A+zJR0gYxgfDGs2TJQa0PXD7XKbUcaKW3EtrXHZ81swS//0udNBVvmupx+RJyWxYuiKMoFwt5ovZh1Rjw0NDahvqkJdQ2NqG5qQF19k4iJGjhZH9maKpm6yNXVoLa5ETXN9agSq29sgMsKdnEkKZIDl0kgkyYnwdG246bohs6czpu90tKBUzywWIgCYOHChbj22mvNOoqFe+65B3fccYcRMOz99q677sKKFSuMyKBQWLlypdmOuSv8zWOvWbMG999/vxFEFBTNzc2mx9xFixZhzpw5+OQnP2m67r/iiivMOEUUQTwG01mm78x5YZETc0kooihAuJxYEcJcGoqdxYsXmxwghofH4fls3RqbfjNcnNLoFyhgbJquXBym5N2sjEScZ+Sk2UhHrELmb04ZATlvt7XY7S8U7s+XmucmMRK8+OJreO2V1+UX66rw+HyJWJnLpAhiiqIoF0bkJyjlxWk3VGHRbTdi7h23YdYdd4rdjWliDUtXI5tvwpzll8OvbcGMVWuw6JbbMP+2OzD/9tuw+HoRGrXVSDKSjmY8JCJoIkectO9hwdJl+MpXvoIvfelLePfdd7F+/XpTDMTiFIqRynSUDp3pHoUBlxMWHzHnhVMrHth1/80332yOw49Fppe2nok9Ho/F/UhNTc2gWKCYoTFXxqbbnC5dutQU81DYUNBwWACb3tN4/l/4hV/Ab/7mb+LYsWNG6MyaNcvs89WvfhU33HCD2c4ej/sybDwPBRl7pmUYlIvHlBQrNnIxsjGy8zcjvs3Gs9swglbCyGgjqGXo7wuh8hiu62D5iqXy9bGIg6MKDE9ZHGndFUVRRghzQjKiDTKSlrhORpxAFeJsDaJsLaJMjSQxWUmTWKE2I4lTBrGbN8sjT9Zn62THjAgTB6GkVZGkXUGUpk+x/Nuxexf+4sEHTREMBQHH/mHRD+uPsHiHuSl0+szNYC4F5zlcyV/91V+Z3Bemy5XpM43p8jXXXGNEB4uOKCxYRPT1r3/dLOMxuD3h9lYkcD/+puixx7LpPHNdVq9ejblz55opc3vsNvb83I45PBRLvAbm3rA4inVi6DfoD/7sz/4M//E//kdTZ4bhYKVcVry9/vrrzajTysVjSo4NZNU8IyZfoL/5m78xFbU+85nP4NZbbzXKmGWgjKD/7t/9O7MtIyGn9913nylD5b6E5aYcpOvcxwYaHkZ+hiuRBCIohTh44DjmzpspXwvsHI5fGHK+UF5CHn5KSkxFUUYC0ximYX3dPWhubJIlIgx8cbpcKeJEXLT5LIrtt1E6McmNqT5Xnvdlj9NOw4cXycqohKIcf8/BvXBiF1lx9BxRmeKEooTnZs4HHT7DwGUtLS1GELS1tRmBwUEQWTdk9uzZps4L00Ma19HxU8zwN4/BtJmtbSiGmGPDY3C0Zx67s7PTzDMdZw4J02TWi7Hn4zG4jGKD2zQ1NZnfXG7hMWwuD7ex62xlXIochpXHpQtl+BoaGkwYeQ4WZzHc1icwrBRWOjbQhTMlxQojtL1sKnR+BbCMk2WU//Jf/ksTSVkmyZri/+pf/Sszz3XMMmTE/fVf/3UTIQmV/vkNZDg8p8WKJ5G5Dz/9yZP41Kc+gRnT6uFmVKwoijIyTouVPhErzbIkQWLSlg/ClJGumf1QuiydMUkl1Uqa5iVuiDCdFUSsFGUDk54miPwArpM1TZ15LisCmDbaNLdynvC3XUazaaj9zXWVv5n2cpkVEHZq97XHssflddtj2v04JXYfTgnX2bS9cjtij2mp/M1z2PnK8BP+VrEycqas22PEYmRkeSRHIGW2IIt9aPlsDksWLpJp3mzLdXt27sILzz6HBfMXGMXMiEgVvWHDBlN+SriMkXYksPJbQ20VPveZ+1BXVWMSjZJ8+pSCBEHCjFZFUZRzh+mcdZwUELETI5B/sSfOP5Z0UJIs+cwaNP5jjysefzsiDFxfjFPZTozOl+v5N8ODcrgQehLPkf9ZI2t4Tuu0OWV6y+nQefub2OUW+5vTynmmsTReE43LyHDbEituzrQdsb+tUCGV29ltz/Tb5qIQGy7CZXZeGRmnY8YUwkYwRkxmUzI7kGZxEomIfElFHHB+2+atuP6mG/GFL34RW97fYsQJ92U24K5du0zuChOByhdnJLDeyu7du/D4U0/LSylhkGUjP6qiKFORSodpp9aBJ0zrRIykuSZDTNJAcHwyESEfMFlOKSPu2fxLhYrYGbwJnbq14dLHs62vxKbZFAeVZpedbf/Kc9GGUrnubMcaytCw2WPY86hoGRlTuhiIEWrfvn2mGIe5J1zOZnQzWmbg/S1b8N3vfRdf+pVfMeWSb77xBlpapsurmeBr//JfDr7szN5j/Zbf/d3fHYyUPO75wi8Ffo3QfDeLI0fS8tClyxbCZXeThnRww/JpFEVRzgnbOIBT1sdgkQTTKaaDNt26UJhmfRSVx+f5RuJyeA2VIuJs5x7K0Gsduv9Iwjpc2PjbdtnPujUUM1oMdGF4fyiU56cMNhIyArGmNyte8Tebo7HCbE1NNQ4ePISm5iY01NbiOlkei5Cpr6vDnXfdiTqJdDZSMiKyed4tt9xifhMKmfPBhoXwsPzaqZVw9fb2m4+bfE4itDldKlQqXwhFUZSPgmmLdbp0xhQq/DiicOFyfqTZopULMR7/o+x8t/8oG+mxzrb/2dZ/lA23L6dMr1lRl8KE88yZZ2++V1999Xn7iqnMlK9gOxxDczRPFxCl62KJcHZ/1lpnzgor2DJyEqrn88EmGGaetdlErJQGIjz97EtYsnghVq1aKgHisZmleDpbUVEU5WxYp2lh+qFO8tLA56A5KxeGer1zgDeJZkVMpVionB9Jjofd13WYLZuguiqPuz/OHhkXipgxqySip7kuiqIoijKVOO1ppxAsq2Xuh7UPiwzKEuaOpJZWJ3PlX7odt680C+cv5IvF7kfh44hY4SGpSbo6u/HoY0+abEOKFM/j+co7KYqinANMVyrTO81VUSYiU1KsDGWoeHHZPu8D8OWmseKsCAb5ywSgMleFUHQMXXaupIJF9pVpAlbMSlBdncNly5bKvAgqc9YpV2KnKIoyqVCxeGGoWBkOapLTGStDTFaWRcmFCpMzQ0niw3MlMjsxautr0NjcjFMn2k1fCOx/n0VEiqIoijKVULEyDknr2rKzpgQ7d+7F9u17EMk8ZcoUrA+tKIqiTHFUrIwzqEUymbSzpozv4tabr8U1110Jz03rx6hWURRFUaYaKlbGJezeOq1MWwoCPPH40zhyrE2UDMs69ZEpiqIoUwv1fOMMW/mKQoXVVLK5DObNm4NcJgfHDoeqKIqiKFMIFSvjFgoTDo/uYfXqy1AqFRDE7A0xXasoiqIoUwUVK+ON0x1Npog6OX60De+98x6Cci+3iqIoijKVULEy3qh4IqbfFifBwkXzcdPNN8sSH1F0upItu9E+3TqI3fHTtKhIURRFmVyoWBlvOMxaSQe/8n0HjhfDzyR4+513sHvH/kEtQqFixyJKSfdTFEVRlMmGipVxT2JGXp4xaxYaGxtNP7am8m15NE+aoiiKokxmVKyMc1jMQz2ybOliFIslsUCESpqjoh3EKYqiKFMBFSvjDuaUnH4spkd/USuFwgCee/F5tHd0pCsEzVVRFEVRpgIqVsYdRp2ks0hMZVrXjdHYWItf/uIX0DJtGsIwFKHiDqlgqyiKoiiTExUr4xzHSVv4OJ6L3Tt34IXnnze/kyTW0TsVRVGUKYGKlXEOi3pi03NthJmzZ2LhksVwXd+M+Hw6V0VzVxRFUZTJi4qVcQqFCFv8xLEjUsSFK6KlpaVRpln0dBcRJyJiHI7EHMjWtrM45rRoPRZFURRlcqFiZRzDHBXTlYoIE5N34sR47bU3ceTISREyLiL2aPuBOisqVBRFUZTJh4qVCQCLgpjT4vs+fuFzn8GChXPguCJS2AHLYIsgPkoVK4qiKMrkQ8XKOMcKFdtMue1kG3722JPo7y/A9dzB5fooFUVRlMmKerhxDFv7sCLt4NRxUVtThdmzW+F7HCcoRhiybkt5B0VRFEWZhKhYGacwx4QCZag1Nzdi6bJF6OnpgZv4SFgBVxsDKYqiKJMYFSsTCT4tB9i0aTO2bX0fsRllubxQ66soiqIokxQVKxMNx8FVV63F6ssvT1sCsZKtabKsKIqiKJMTFSsTDD6wjOdh3StvoO3YqXJ/cGkvt4qiKIoyGVGxMsFw2M2+66ChrhFVueryUkVRFEWZvKhYmWAkToyqqixWX7EavX19plmz9lyrKIqiTGZUrEw0yv2qHD16BG+vf8d0ya8oiqIokxkVKxOMJKE4ibFkySLccefH4PBfwm75E9PnijZjVhRFUSYbKlYmFDFcT4SJPLWs7+Ptt97Gtm07kcR2HCHNZVEURVEmHypWJhpJApclQfLkZs6cjqaGelkUi2BhlgpXaNaKoiiKMrlQsTLRcNKxgqhJFi6aj2IpQBBFcEXBuOZpakVbRVEUZXKhYmVCwRoqHCdIBIkT43jbCTz+s6fR01Mw+SkxSghDES9BINMQccz+VxRFURRlYqNiZUKRlv8wY4VjBy2ePwe/+qtfQkN9HeKIxUPp4+TAh3bwQ0VRFEWZ6Kg3m4BQqDhOAs/3sXnT+3jphVdNJdsoTsw6u42iKIqiTAZUrExAWGdFZInJaGloqEdjczNcEScuPLOOfa9oMZCiKIoyWVCxMsFg0Y7ve8hkHPgiVlavWopFC+ciZK5KcvpxajGQoiiKMllQbzYhYX8qYiJWenr78bd/+z2cOtZu1iSJFv8oiqIokwsVKxMZeXrVNVX4lX/2y2hobkIcU6ioWFEURVEmF1NSrJg6HyOwM/W7Nrh+DPFcF13d3XjyqWcQRDE+XK+W4ak0RVEURZlYTEmxwoqnrIRqxQUro1rj8jiIkYQxEMh6sbgUm2VxKUyn7DG2vK8VJ0Ono4ufmgiT0GOrIA/NLdPk3GwFxDot/pDWQGGFKYqiKMrEYsrmrNCZc2pHLeY8RQyn7L4+jsTYmoZtgpF2Z8/2NrISUZi2trHihnBbu/+YIXrEcR3MmTsH8+fPRW/vQIUQsy2BKFoyYl7ZFEVRFGViMSXFClvJWHFBx7579268/fbb6OjoMCKmFJSw5f3NeGfDu6Y3WAqVA4f24431r2O/TEXOlI90GitSeMyxgedLjX3Bvf76Gzh8+Ei6hoLKCJZyOM1mFFpT8nEriqIoE5wp6b3oxClKaCdPnsR3v/tdvPzyy/jZz36GUqmEgf4BvPbaOvzNd76D7p5udHV14aHvPYTdu3ajvT1tdXPpYZFOWbAkMe65524sXLDArOH1UadEkd1G0FIgRVEUZYIypT+16dT3799v6njcd999OHDgAHp6elBXW4f75fe05hZTHLR9x3b09vZi3oJ5mDN3rsmZ4b5HjhzB+vXr0dfXd4n6NEmbMLMoKI4T/PSnT2BgIITrpN3ts5fbQVHzoYq3iqIoijIxmJJihcLCVkClOKmpqUF1dbURICw+cTwX1bKMAwYmnoPDx46gra0N7739Hh75+38wuS88RqFQMEJlzOuqoKKoSZ4g66cwrHPnzYbnuHATV66DK8sKxRHBwuoqU1qaKoqiKBOVKem+KEhsnY7GxkZTzMPiHeZGmJY0zKlgpVr558g28+bOxYqVK3Dl1VeZkY6tMFm8eDHuuusuI3ZszgqPMdYwNHX1NVh12QqcbOsAGzKJHPuggHJkodavVRRFUSYgU/ZbmzkrFBiLFi1CQ0MDHnvsMSxbtgxbt27FsWNH8cxTT2PPvr146ZVXjCjJ+Bm8+tqrWHX5KrMfc1Ns7gynFAZWsIw+p8t0OOfJH+as7Ni1HeveWG9EFmVKcnozYSxzfhRFURTl4uGIk51yXswU9YjAsFO2AioWi6irqzNFPMwp6e7uNsU8uVwOLS0tZhu2DKqvrzfLrFAZGBjAgw8+iAceeMAsGzvBkj42XgMlCx/jQH8RhWIi4qsGkRfBSyJkfRse9s3yAfWiKIqijCFMr+lbHnroIXzta19DNpstr1HOxpTMWaFjt0KF8ywKmjFjhqm3wlwWRqBp06Zh9uzZRqiQ5uZms00+nx8UKpcWhoHhT6+HYcqKiHr11TdFWPXLWyHrmeUyiAoVRVEUZWIyJcWKzf2gk7ejE9PZW7NwnRUClXDZeKEyLCwKyvhyPUjgevJXmyoriqIok4ApK1aGChQrSOw6VrQllYLFrqvc91LDsDB8VrTceutN6O7thROxzRDr1rCjurHsrE5RFEVRLi5TUqyQwZY/ZRHCeVplTgvnaZlMZnCeZrelXWqsYLJi5dix43j44b9HFItaSVgvh+Wktm6LoiiKokw8pqxYmay0zp6NL33pn8iciC6Pj1cfsaIoijKxUU82ychmPRw8eBg7duwsF/3wEV/64ipFURRFuVBUrExwhtZFYWYKe7H1vRz8ioELx0H1GkVRFEW5IFSsTHBsnZvUHHhIsPbqNajOcviA8kZsHaRPWlEURZmgqAub4FRW/PWYrRLH6O/rx/cfegg9Xf3lrRRFURRl4qJiZbLhO6irqcaXv/qrqK7KlxeyDEjLgRRFUZSJiYqVSUbipEU+PX39ePm1N5CYPlbY023aW6+iKIqiTDRUrEwq2HmdqBM3ge84qM7ljVhxRcBQqGjHcIqiKMpERMXKpCJGGAam5c/cOTMxZ/58FAoDlDBm7XjocVdRFEVRzhcVK5MMVrKlKIncBE8/+RT27jooGoa5Kqe75FcURVGUiYSKlUkFH6dnint8B/j0p+7BosXzwQbNPiuyOBzZUIuCFEVRlImFipVJBYt5XDjyVKlNgjjBk8++gCCIEJn6KpqzoiiKokw8VKxMUmIRJtmcj/qaakQJi4DkUSdaZ0VRFEWZeKhYmYQkSWRyV1oaG3DtddeiODBQrmLLx62PXFEURZlYqOeahLDbfVamjZDg3Xc34NV1byKM2KzZK2+hKIqiKBMHFSuTkHQcIBEnIlquuGI1rr7iSviuB0eLgRRFUZQJiIqVSYzjJKitqcGefQfQ2dFterJVFEVRlImGipVJS2yKgtj+JwhKpp8Vh93ZKoqiKMoEQ8XKZCN2EUU+XNc1xUH5KgfX37jWVLiNExdxlIoYRVEURZkoqFiZZHhwTHEPu1VJmJPiAEeOHMZLL76G/r6C6W8lDENjOlaQoiiKMhFQsTKJSQcvBBbOW4BbbrsJuepceY1dp2JFURRFGf+oWJlkRGIcr5DNlz0P8H0Xjudiy/vbsHPnvnSjMjqwoaIoijIRULEyyeADpUjx5I/tb8WRf/wdxSz6YX8rskSFiqIoijJBULEyyaAEqZQhURSayrXXXXcV5syaDYcthMoVbFWwKIqiKBMBFSuTHN9PWwb19fbjB4/8CMdPnCivSeutKIqiKMp4R8XKZGPIE03Ya62IkuamWnzxlz+PGS0zwG73qVNMayFTy0Ur2iqKoijjFxUrkw0O/2NKd/gnwxkkToLETXDo4AGse30jSgEQiliJZVkqVMQ40YwWRVEUZRyiYmWSwy73XS+tUBsnIYpUKolrxg1KYlUniqIoyvhHxcokJxFhkk4drFhxGdauvRxxHMKV327l49e6toqiKMo4RcXKJCZt7MM6KWlz5iiI8NRTz2P//kOyUh59OjxzCrdVwaIoiqKMQ1SsTHJO97fiws/6uPnma9HaOhMc4jAxozCrQlEURVHGNypWphDMaamursY777yDvr5+Vl0RbBTQGraKoijK+ETFyhQjimL09vYZ5eKYEiJGARp/pEVGiqIoijKeULEyZUhzTpqb63HTjTciCtgNvzx+0zEc1ymKoijK+ETFypQhFSuuA7zz9tt464234YSyzIgVW/zDTloURVEUZXyhYmVKEcNzXFx15RW4+sorRZvw8dsKtlrZVlEURRmfqFiZYjhegpqaary78T0cbzvFJWVTFEVRlPHJlBQrcfzBOhr8zUH9Pmq5XWeXTSRsmNkaKEEEDhdU6CsiiSJZx/WOmKyR34qiKIoy3piyOSt03mEYIggC48zpqK1T53L+tvN2uV020Tgd5sT0A1dTncetd9wGOD44lmEUJbIN+2KZeNemKIqiTH6mpFhxyz23cryctNO09DenFCRcbuEy/rbL6NCtuLECh1hBY3+PJ+z1pcQI4wjHjh7Dyy+/giBieClU0rWKoiiKMt6YkmKFooJCg0KF88w9IVaoDBUrxIoQK0gqrZKhv8cDvB7f9+H5jkiVBL7nYtGi2fj4xz8G35XrNWKFuS5TMjooiqIo45wp6Z3iSESGWBIl6O/tw9NPPIVv/MWD2L5tu1nW0dGB73/v+/ir//W/0NneCSdxcOrUKfzl//xL7Nmzxzh2ixUvFAScr1w3njAiDJ75BzcWwZLB7h2H5HqOmeq11GfjNeyKoijK1GZKihUnZn8jLsIoxNEjR/DSyy9iwfx5eObpp9Df04sMfEyfPg1bt25DWCqZnJfXXnkFL7zwAo4fOmpyIKxjtzkxJdmOjOvcCRFdiCV8TiThjEWU9WKgP0QUsy7O+MsRUhRFURQyNcUKRxxGYkTLkYOH0NTUjNWXXyHOuwv9hX7U1lbjqrVXo6m+TrZK0H7qFLZt3YoF8+bCcdPcExYhrVu3Dl//+tdNTgyLWShaxmMx0CASvoTiirOeg3t+7josWdQKz/HNas1YURRFUcYjU1KsxE4Mt9z6JaLnpsCII7jiwEWNIJLljivCQ5w3/fdjjz2K7u5eHDtxArv37zd1W8g111yD3/iN30BjY6M5FsXK+CaRa+SUuSsOdu85jG/+5d+ivaNHVqUViRVFURRlvDE1c1bksilCPM9H6+xWdHZ14f3t21CVzyMKQ4QiRjo6OtE/UEBvdzduuOFG3HrrLSZHIpZ1LOphDkoul0NNTY1x8nYZc1jGL6xfQ6HlwJMwz549A5/93H2orqmG61DFaFGQoiiKMv6YomLFQewwVyXGvLnzsPaqq7D+zTeNKNm4aQOOHDmER01uSieeee45LF2yBHfe9XF8+t57caNsY/MfTAsbzxsUK7TxnDvhyPVKcEWY+OYeVNdkZWGEndv2lreghNOyIEVRFGV84SS2pugUIgnTPlFEryCWacIZcxtSwcEKp57jmVwIZjgksbh215FpLFs4iNz0lmUyGRE03XjwwQfxwAMPDIqW8QubaAdAVGWuN5brWP/6RvR0B7j9zuvg+QURMznZRouDFEVRLjasQkCf8dBDD+FrX/sasln5YFTOialZZwWJCBL2kZLWTWHTZIoWZookiQgU2SaMQ5P7YLbhEjOVyEZhM6GhMEunjhNh7VVXYM2a1YiCQH5PyeigKIqijHOmZjGQCBSjPzzx2iI+Eo/LXCNYzAr+ZwVbWW+mrggbN0EoMqeymIdNmm1l2wlBIo87yctTlzD7kdEsvX39+P7f/wAHDrfJ9Zvat4qiKIoyrpiSYsXULaFgSX+kRTf8SV/OO1IWM8RkQpThdmzKbGFR0sQqRZOLC8VEfLFIKIGHfHUe93/qHsya1QIOaDh44YqiKIoyTqBrnpKwcizrnBgBIoKDFWVtZVma/X02G991VM4EBYlvirZ4DfkqHxs3vo8o1FGXFUVRlPHHlBUrQ6HooFmxYn+fi00oTMZJGuY0dykdG6lULMms/J5IGUWKoijKlEDFilApOKxYmZSUM1T42OM4HWHald8zZrZg1WUrURgoyfJ0cMYJVRdHURRFmdSoWBEqxcmkFisW5p6wB18zz7orEZ555jls2rzNFInZIQMmVn0cRVEUZbKiYmVKQfEhQoSZJhzQ0GiRCJ7v4I6P3YaVK5cbgWJzmlSsKIqiKOMBFStTHPbkyzyWfFU13ntvC3p7+0zOCoWKihVFURRlPKBiZUrB4i155Ow/xo/gy9SLPSoWJFERp9pOoVhkhgujBQVLue6KyYlh77daj0VRFEUZe1SsTEVEs3CcICNLXA+eRIOm5gbcc+/HkMlmkbCIyBYZDaK5LIqiKMqlQcXKFIbd65vhBdwEngiYje9twRNPPIcwLMly5sJUVDQ2veUpiqIoytijHmjK4yFKEjNe0rKVy3DttVfB99i+OR0XSVEURVEuNZNSrNh+Quw0CALT8RmnpVLal8h4gmGkMWw2vLTRDWf66NmDbSbjwc+4aG6oxcGDh9HR2WPWsX4tg2Aki+oWRVEU5RIxKcUK+0mxrVna2tqwa9curF+/3gzLffjw4XHZ6yzDynBTVI0+aUVbx/HNOY3JLUniBKdOdYpQCkWksD4Lc1hkhaneItNoUkYXRVEUZZwzKb0PcySYY0D27duHd999F48//ji2b9+OjRs3jqucFeak2G77KRrGTkjZOinMMmErnwDZnIf7770b2UzG3D/mrKTb2KmdVxRFUZSxY1KKFZNDEYTGD+eyObz99ttGBKxdu3YMxcDwUCZRGjAXA1HaAZvJBYpCdB4/JpohMNsx7DZ3iJrB6IbBmYsJD5iKN2aeHDpyFI/84EcoFkpyH81SJM5FP6miKIqinDOTUqzQ/3os1xAxcNmyFbj15ltw910fx8J5C7Bi2TJcSt9LKWLkSCQCIQ5FJoQSzABO7ynsevLH6N+3Cz4cmHwhUTWUEdw+4QxLiC562BkFMsZc18GsWY248+O3w3fZhJlqJRSxIifOSADSzCpFURRFGVMmpVgxFyVOnTkDR48fw7pXXsE769/EcZk/drStXLxxaaD7r7zpbCKcsM5ItgoLlizBljffRDLQJ4IqRuzGsr2DrIgW7hNnElk2eoFnLk51Vc6MwHxY7lOKFv0oiqIol5ZJKVZ4WQnrpZgKoyewcNlSDIQhisUiTrWfZMFGebtLiCdh8FzEjo8oceF4VZi+ci3i/gH0HzogyqHE7CGOM5hmr8j1RMyFMYVIo0Na7MN6PgfQdvxE+sNEEWuKoiiKMvZMSg8U07uzlzPPQ1NjE/bt2o333n0Xb6x/E3PnzYXjXrrcAt5wc3aXuSRGT4lI8BH7PtzaOly25nLse+9tESlBWq9lDGHOCgN35113YNGixSZ3ynYGZ+vPKIqiKMpYMynFiluWBOzqbO7cefjCL/2Sqbdy/XXXY+VlKy9pwYYv/j5T9vkUVa6IFmqnhLkrfgaNSxajp68fXUeOIyNqZugDGs0HljZjdtHfV8D3/vf30dHRa85HjUKhMt76p1EURVGmBpNSrCTlohK6+m3btuHEiTY4novnn38e723YYNZdMihUJHisNGtdv1/uWiWQp+E2NWPJtTfAr66CE5Vk+xChF5suTvzIgyc2qiQxamqr8fOfuR91NVUmjI7jmSbWtjm4oiiKoowlk1Ks2MtiF/LsCZaC5dChQ7j+hhvQdvSoWXdJqbjrfhSbn8ztSTwHQS6LphUr4QYOCm1tSJwCSm4AthsyisW00BkdmLMif+C7HrKZHLZv3wfHFP2kTawVRVEU5VIwKT0Qi1foZPlv9tw5yHg+rr/2OsydMwdz5y8ob3UJoSZIJxVFUmk+S0m0QZjx0d3Vg+72TiSuI2sixLyeqFx+NGokEh4KkwTdfd04cvwIokDOaYp/yllCiqIoijLGTEqxwua+5i8zI8IQN95wA6qqqvHWW+tR31Bv1l0yeMfl9Bn4Yp4pnmL/JRzkmN2ZVIsmSLwYLcsWoaV1AaLuAbiRiC8nQeDKBqP6xFxErNTrRli6dA5uvukaMyKz47I3W9ssSVEURVHGlkkrVux4N8ePHcPOXTvx+rrX5Ldr5sdHRVEKprJyKU/MksSFH4toyHg4dfQADr76BrLFAVEwAVwW04xq5gpzVdIpa/0+/sTj2HvgkAg+ChYJU6Q5K4qiKMrYMynFCpuvmKa2oklqa+rx5htvoqG+AfMXLDDFQ547fiuKslWQF4gw8D3kWmrRd/gwSoePIcOiLdEq8Sh3vyu3x0BhdNVVV6O5ocm0VorLQwMoiqIoylgzKb2PyYAQp+6Jl120cCHu/8yn0TpvLhbMW4CbbrwZrMsy3kibDbM3W09EgWe63M9Nb0TD3Ok4+d5muD39iD32zcL8l9GiYiBFuUUzZszEgYOHUAoiESwsCnJMrpQ2YVYURVHGkkkpVuhKnVgcqzjXPfv24LlnnkOpVMQTjz+GHdu3pxuNMygSPN9PG/x47GJfhIv8nrZqGbqPn0ThSBuSOBrVnBWTcyPnIKxqy8Egd+7YJfcuknO7pp4ti4K0czhFURRlLJmcOSvyj7kn/NvT04tFSxbjs5/+ecxfsBAnTpyQ5eMX1xWxYMYEckU8ZJGbMxdVc+fj5P4jSEdkLnfKMtqIcmlsasAn7rk7rStDG9d3TlEURZmsTEqxwooX7Ik1kums1lk4fPAg/vt//+/Yv3cP5s2dN1gvY7xBceWxCZMToeQ68JKczNeg9fqrkZvWJBomZC/9o4rpa6UMRcrmTe/j9TfWl++ZihVFURRl7JlUYoXFEyymYGdwsTh9tgaaO2c2fuu3fxv/5Ev/FDfefDM6ujvGtc81QZM/7KiWxVguPGSap6Fl6WL0dkjYwwQF2aTAawzYFW6Eolw3lyWV3eJeABQk7K2WuoS9APM+Ll22GMuXLTPro0RbAymKoihjz6QTK6z8aSrQisM3fZf4HpqnNWP+wgXy28HxEyfS9eMWyhWHXa+YWWoPVrgtRCUc3bsXcW+/aZljRl9mcye5Zl7NoEYZwaVRrLCHXDNekR/A9WI0NTfJPTuFnv4BCc7kzIhTFEVRxjeT0vvYHJatW7fim9/8Jv7qr/7K2OOPPz7O+wpJhYorgiHDnxQPxhLka+uxfO1a+E6MbNQHh2MGmZUefNn+YjTGZmTgYNW+/PHZKknEXRiFOHDwAHq7e8tbKIqiKMrYMmm9D+teNDQ0YNWqVViyZAmWLVuGz372s/jYxz42vpveipZyaBJE83BM6x8PieMiLAXY/epLiE8ch8dBDn0uF6HCbeMIgR8gYgXdiwKFE5DN+7jrro+hqqrWdPmvKIqiKGPNpBYrM2fOxG233WYEyh133IE777wT06dPh+/75a3GMRQgRi8kSOQpeRkfmaoahMUBHNq0AX5RxIoIGcoubpahjpAZFn1dMIwN5taU74+oJnb9f+z4YfzgBz9GcSA0Tax5b7WvFUVRFGWsmLRihdCxskjItnChgx33vbAyrMYY/nSWOoSVbR0/i9bly3Hi0BEEnT3wowiRJ4KCW3Ajk/GRXuuFQQFic2bk3slv/m2dPQu333orstmMuZ+VpiiKoiijzaQWK4TiZNwLlAoSCWvou4hZCYWCpSw+TMsgx0fd3PlomDYTxzZuA4pFkRIhAicU4SDrkwwcZsNcMBQqIliM8PHMeEBxHIhIyWKgWMLhw8eMQKH4szksiqIoijLaTGqxQofqeZ7JUeGUxmXjuQijLBcGp2y67Itxym7u3JpazF66Aqf2HkJ4st2Ilchn3koCX3byLkZmhz1GEsP1HHgiSg7sPYiTxzskBA6iKEYYsnM6o2rMpoqiKIoyWkwqscIvfStKrDCxyzlvbbgcAduNPIUMzc7b4g7Omz5cystGC4aYmSqDD0ZmHE/CzWY6Eu4kEemyeC6qli9A/0CfrJYNEhehm/baG0ehERIXFkae1WTnyESUTyzSJBaxJMe+997bsXTpQoRFOV3Ce8tCon6EcVHOZ8cLUuGiKIqiXHwGfeJk4EyihPMWLhsqVujYucwKEuvouYyOP3XE6W87P1owpBQrg4KFf8rmiGhgMU+cz2PhLdehuqkF6C0hDiGigQIlEAExkrokPCsr13L/NDfKYXGQ/Ovt78P3/vc/YMeOQ7JMzhI5iIKMiCO5H24x7VlXxI2iKIqiXGyMP5zqVOaW2JZCXEaj0OE6a0OFzliSyKkjL0FVyJyjHI4ePITOg0dESrAirIRZ1vHfyOE1eiLcOJ+YJssNtdW4575PYvqMJmzZugtBQAmThedmZeohTNjjrdlBURRFUS4qKlYEipC0DkYKBQlzWGic5/ogCD6wzaWAYiUQLcVO43z5N2fZMkybPgPZUkHCKeJKwnlxoFixuVO8H2Kei0ULZ6IUFvDMM6+hp3sAcSj3KPQRRxm4Hu+VihVFURTl4jMlxYrNNaH19vbi0Ucfxf/8n/8TGzduNAKlu7sb3//+9/Gtb33LzO/btw/f/va38Z3vfMfMcxsKFytoKo9pf48WfGAJK71GHvx8Dh3HDuH45k0SgKDcO8qHi7nOHRZxnQ4/j+OxvozPqYOMiJc5s6bja1/9p+jo7MWzz65HErLar+wTi2iJXXP9pVLJTCnyFEVRFGWkTEmxYot06FAPHDiA119/HXPnzhXn+yz6+vrMNuxQbvfu3cbxsmjopptuMtu/9tprZkpHTnFC0cKpPeZoOmhWoXVjCbcZbNCTqY8oAxx6fwuS3m44ss5sJ2G7cMHywfDzOC7ryrgiZDwRJiJe6uqyyMh5c3JfBopF9PcVEYcukji9J7xfnCqKoijKxWBKipXKyrfHjh0z3fKvXr0aPT09RqzU1NTgyiuvRGNjo3G6s2fPxooVK8w8+xzhvhQpb7zxBv78z/8c7e3t5lhcPtpixWd9Vv7wgVjO1zh7OvyMi74d+2AGRR6V88uB2ZutU5KTy7ycYu7cGbjlY1fi9XVv4InHXpZ7k27Je6BCRVEURbmYTEmxQmwxBae2tZAVMVxuxQyX0TZs2GCKhG6++Wazji1lKGA+//nPo66uzuxDJ83lowlDxeKesHwaL5/DolXLcfz97YhFbBHKFaNZqBnEzMT+HgGOUz6pH5pcFs/zcfkVq3H1NVdg545DOH6sg1tV3L9yABRFURRlBExZsUJnShEyb948nDx5Eps2bUI+nzcVaVn0w9ySzs5OnDp1CocPH8Z3v/tdXHPNNcjlcsYZ05gjw+IjLuPxaBQ/o4drclMCRGmTYREGnlONxkWXoVfEw/E9W2ULCb8bs6s4oBQjEV1RlE1L3J1B+0jtQIExnNhiNEllEouEqO3YaIp6ZNbMFsxqnYY333oLe/ceRhSylRDllFVHPCkrJvO3oiiKopw/U1qs0Cg2br/9drS1tZlBD48cOYKuri5s2bIFzc3N2LFjB06cOGGKgvbv32/qsVi4v8Ueb7Rx5InxLMY8njMLN1+LxWuvRKmvX7RB2iFcSSymqiDnrBPskYfCZX75Gl355cJ12Eg6QOLEIvKy+Oyn78HyFYvw1NMvoO34SdMPi+i+srE11YV2VKcoiqJMdRxxIFPOg/CSKyvJ2mVWbDDHheu5zhYNEdZT4W/WW7GwaOgb3/gGHnjgAfObxxm1UZ35pBJx+rGDyEtzWRDEyLCyStCHuF/EioiKoLEOoYSB3e/nkkyavyFBonQxIRtOj5wXaRYNb50DD3EkR5aw9fUP4M3X38LK1StRW1uHfHXG5MQwZ4XNrjNeKngURVGmIvQr9BkPPfQQvva1r33AlygfzZTMWamsAErnabvmt8KEgoPLMhk629Nihb9tnRQus1YJtx81KFZEJzji+dmvrNEMcr5IwhBn8ig5GWxb/xa8sITQCRF6shzBYCEOO5iNPhjcERHHIWKKJzlX7ETI5bO45bab0V8I8L3v/QO6u1iHhiekmGFgFUVRFOX8mZJihYLCChROKTgqfzNnhPP2N80KFdpQgVLJR627KJSfGM+S4bwY+6+NJKyZuhosueJy+EGIauox9ior61nLxRsFrZDeD9475iaxyTJMy6SZLc34xMc/jlIxwtGDJyQYCVwna3KmaFMwM09RFEUZAVNSrNgckTPZcNtULjsTZ1s/YuRpRSIQIt+GRwQLZ6lERDQkFFdZD9tffwOZzgHk4sQUv1C3OBdVHzDaVN6X1Di0IU9UVZ3FvIWzsHfvPjz77PMISrI8ElHj+GcVe4qiKIoylCkpViYqFB2RiAQW+4TG3wdwosDUTWFP90aP5IHju/ejd/c++CVZItvZZs7c5eI8cB6JB2UNmNPGyrcMpZeR83gJrrpqFT792fuwY/tBvP/+PoRx2ssvc1ZoLL8d3dZTiqIoymRAxcoEg4IktSBVL8zMkIloA7PUzeew5uqrsP+Nd4CBIpK0FqxZx07lLh486AeNOSauGX45hOeFyOYzaKirMZ3tdXX2mgq51CZpcRArMEvwY/Z3Q+PFDOX01aamKIqiTEVUrEwg+LBO52NkRB9kEDueqWdLY/8moVePpiWLMJArov3QNuREHWRLrrj6BEXWYZHtRou0jg8rJbPOT0bEiwgML8JNt67BVdctxw8ffhlb3ttj+ohx2QQ6YeVlVwRLICKGPcEMDR0FCvtooWkOjKIoylRFxcoEg4UvNJNZwj/yBCvzHEwz4ppqLLr8cmzfvBFh7wASEQ0hx/cRcTA2pDktaUXaBI6bIJt1sWLVLDQ2NKD9eAkDA6FIk5KEl7krWRE5lGDcL90nheEVUWauWKOqoijKVEU9wCQjx3ojfgbNK1aISKhCobsbkYgG5lnkRKykxUVjw+kKuOlgiKuvWISaumo89PBj6OjoF5Ei4fHZxZyDOBSxYsJmc1LKATXaRa5pzISWoiiKMt5QDzDJYDPhkiuPtbYB19xxN/LVdYhYLVcWubIuYQuhcgXX0YbFQoTnYnNw382hvjGPX/nnn0YGWbz+8kYEJTZlZvaKbBczN4Y5LNynLFgYTC0FUhRFmdKoWJngUBCwDxhjbtoXTOJmEXlZ+E2NOHzoAE4cPwTPdMMvsiVO+zoZi1Y4NmyDPfqKaPGyCZqneRgI+rBt+x6ERR/FQmy67edwR0HAFkKehJE7yJ+L2+ZaURRFmYCoWJl0JGCDHPmL2PNR21yL+nwWHgfpucR+P2b2SZzWP5m3oAFf+bXPY8eOQ/jxT5+SNSKmZDX7YmEroXKmjIgVEVWDlXQURVGUqYiKlcmE0QERMpGokthB6Dtobp2OpLcHPcePy8rokuoVVrRNFZMElPVYvBAzWmuxbNFCdHeW0NneXRZUp8dsMgu4H69NURRFmZKoWJlsyBM1mRDyx4wZ5HjoOtGOAxvfRTjQJb6fjZhNFRGZlTmWBskPTiqqtY4ajhvLOXheUR8S1hmz87j8ymVY99oGvPvuVsQitJyYg0q6Jnwxw5sEMmVfLKMdOkVRFGU8omJlssFWNZ4oFZlkjHKpxuzFKzBw/DiK+/fASWLEIhiMOCkLFStYbF7GaEGxkeoNmTrsa0UES5xBJufhllvXYO3a1diyZTtOnugwlW1jU+FWghez11sGMoXLVLcoiqJMHVSsTFqYgyGOXv54tTVomj8Xh3ftRlLsh8eFjggGefp2FGbRL/C5OP05KrAJ82lLxYvnpuU7DY01qK7JYu+B/ejo7EahP0IYuIhCV0QNmzUzp8UxFW9p2ku/oijK1EHFymSExShJZEQBc1kcz8XcVavQPtCL9kOHRJSE8NgySP6Z+q4CG924FABUOKOEab5cNrZaYmshhpH1UxzXQa7Kwz333IUZLS146qnn0XGqV8LlIWFHdyJWoog5LOWDKYqiKFMGFSuTDWaNOLEpCaJfjxxx8iIKss3NaJ6/AKcOH4QThazCysIYUxwT21gwxkKAIoVNqClaTIVaJ0Iu6yObz2Le/IWyhYP2U50IS6mYSscQ0roriqIoUw0VK5OMcp9qxrl74v/ZO2zk+HByVVi4ajXmL1tBr280jSdChQol7cpE/rAsaAxh7orpF0bCYwUImzfnq3NYe+Vl6OzqwqOPPoVCoYAodMpFRmkRErdUFEVRpgYqViYZgRjrojihFSvERZh4yDVMg5PJYcf23abzNTZv9iJx/qx060QIZYfECIHRp7L+isX3OQ6QBFrC4klY5syZgfvv+yS6ewew/8ARxOXed80AiSKumBlTaYqiKMrkRMXKJGKwzmnZ/9Ons081LkhcByHFSa4a1XX18ODDl99uzJGYRajIxpfa39tKs44IFTcTobo6g5bpTTh+/BQOiFiJOOqhhJWZMDRub62cMaMoiqJMQlSsTCL4MNMHSrXiskYKXFccPztVY66E5yFTU4PWpmnoObAPUTjA6i3cKt2FRUHGRh/mkLC+CuuqnK50y9wVF/Lf1KVxPAmZhOvKy5fiuuuvwmuvvYVNG7eb8Y1SPRbAcZiXRGMvMamY+aDZ5apmFEVRJioqViYRdOCsssJxjOF7cDiisedW9FbvIfazCHt6se21l9Fz5KApP3ETbuOIeBi7vBUW/9g6K5VFQuwMjlfhImsq3roZIFPlIp9z0dLcisa6aSj2BwhDtgyKJfgUISJs0gscghVf1hRFUZSJiIqVyQqd91AHLv6avcP6M+oxe14r2jdtRRL1m9ZB7HPNKVdgvbTYgJetPPEzLi5bsQBNzfV45Ec/xq6d+8qChvVcMiJcuCHDX2Fslx2LfCuPR6QoiqJMTDQFn0LYnIson0PrssUYONWG3vZj4tdD4959doE/TkmcCI4foaYujztuux1zZs3Gzp0HUCqKyjJtr4dEZWYSUcCw1zvb852iKIoyIVGxMkUwRSquY/x3IoIlN30G6lpn4eDbGxAGfQjjBB67tx/DoqDzI20hlMkmmD9vFoqlAOteW4++7n5Th4XFQXEcIYpChGEoWiVEwmEFXHZ8x+IiFhtpUZCiKMpERMXKFMDWD2EpT+wkyLJoxKtC89Kl6G3vRm9vjxEyIlXGrUNPxZYr18F6OA5mzGjAF3/xMygFIZ596kUEhcBU2KWlHcexW35WrGXHc0Ux1nMJy+tVtCiKokwkVKxMKWJ54BEcjrPjVqF27mKsvvVWVGWqTL2VyBFHPl4roiaitNiBjKnAIuH0ImSrPeTyvkyrRIg46O+nOMkgjj0RJekgiCThvuWobnvNVRRFUSYOKlamEuK9PTcxDXljeAi8LPz5s9F7vB3Fvl6U2MS5Ev4sm529ZLD8KqRgYf2TEGyy7Hgh6htqcNtt12Hz5m145vGXUegNcaqtG54Im4AtmmMfHkd3NjV1YXKY2Ez6w1Rc7AVTeYzzOdaF7HMxuFTnVUaXoc9Vn60y8VGxMoVg7yRs6eu4kTz4BL6XQeRk0R/FiMIisnFJnLxsJ2qGmQ8JuygxRSkRAtmePy8Z1BomttoZuYKY1yJX5TpYvnwhrrvxWhw93oZHf/o42juL+NlPX8TRwx04eKgLJ0/0wU18sF85Y3Ix5hpFwLH320QWxFFJ5gOZytVy0ESxmE2kww8m9uk+Qx1Aep/Sfl2snWv9H25n97HHqTCeirMfOpzdphK7sbWh4UxzltLisBBRItcrzz2W6+eyNOcp3TK9znO9BmV0Of1Mh46PVTFrSJv0D4gV5H2X5yvbp/W5ZLkcgs+Uv2kfesaVj5vz9rTmHHbB0DilKKOPipUpRMyWQJ44eU8evBvCl0Qs7+XQunQJnKCEqKtDHL84KydGKJogFmPnbFQFriRUad7EJYInNxkknEmbK5v+ZJhwOiHqp9VgxuxGzFkwA/d86hPI5l3k8lVIXA9vvvke9u05iEOHjuGlF99EcSDAibYOBIUQQVESaxEjLDZiE+dEBE0SUwg5iIzjjhCKM2d9F2MsLrMJfVlgpM6DxU7DJOJM388pbed1nclOTz5IWmlYglVhjphXYVwm18Cwi6V96bBfGnnG8tsIPokXDLoJvlw3fVcUmR9i5xR4ZdT5YHzgs0sFZjlemt9pfDDPUuJyzDgszz+ROJGUW8VRrLA4Nd2OQiUVrvYYoQhYHjd99uXJB6JBebmijDEqVqYUTOh8SW5EejDt4pLEgS/O+tCm93Fg4yZx3H3ijEsoiTMreuLEfZO2yTapjRdY2TaTyQya5yRwMzGyOQet81pQVZ3B3ffcgpbp9fj43Tdi1aqlJpckFsfd1d2LHzzyI7Sd6MDmLduw/8BRdHWGaG8vSILtIJDrDPh1yqGrfUnUXUnUORyBNRF6sRcgQEnS8EASfSb0FDx0AlRUFXZOvp7bsmiKxvk05yg1DpMgx7dmnYqxVFRYxzO80YFZJ0bnRJPrCzjGUkacmIRZRE3MZutGsKVnpeNLKygr44EwdActzfmS50MxnaoP82wpRLmOzzIOs/Jcc+bZhiLIORDoxg070NMt7zfHBRuMo0TiBOOGfKjEIvzNx4ocy8Q3R4Q5i4cZKdI/inJJ0Ng3hWARDwUHe6w1H1qSVolWkQUuWufMx4l9B9B77Cg8flmFRREzQZrpS4dLxXJOjvcSwYtjuHk9EurECeBl5LcXoao+g6raDOYvmoOP3XULGutqcO+9P4e62lr09w6YUZ137NiH117fgI6Ofjz+1AsYkAS97VgH+goiRpwsHPlSpUGcu7lx4gQ4DcxXKk+aCoP0JnFK4/llagZokvkz2lDK+5aNlYmNI6FoKouO1PhseO7CGawoxnNzGzomWkZeeoq7DPr7RGyJE+vo7ENvz4BxdL0DJQSpNzSYZ69cAvgMbHzis2YOnjUud8yHRpq7yOeail3mCFKMdnb141R7F44dPYUnnnpJRMoA3t2wER1dPXhz/Qbs23MYYUnOEPtyjHIdLh62nDtjRLmJY7JQ5k/DcynK2KNiZQpBn8mPJE98IKfMXSmlPhe182ejpq4Wp7buglcUBy+JksvO1mS7UKJJzEF6xnFscSXB9d0MfIdDNHrijF1JY9PiK5MUy9eifCvKNISfc7Fg/izU1uVwzfVrsXz5IixbNQ9XXrsKA8V+nDhxAqWBGI888jMc2HcS+/e1Ye/eoyiVEnHqTOGZI5FFHOQAsTiRBJ96QGBCz6EAmOMRy/lZB4ZZ9fxNDcDRrulMmBPDaSJih7kY3IbZ76mlWfOp0YNYQZQ+M86yykxExySuhpWl4yS1KGLOWQbFgMsz6BuQr+MAaD/Riba2dnR2dOO9d97HQF+AV19aj2PH2rFu3Vtm3KU9uw7gxRdeMQenG0yLhyodlTI2SHyQf6F8MMRx2uzeiNayGE4nGYnfrIPF1m+OeZ5BKcTGDVvRfrIb6994C6+++gZc30F1bQ7V1T5+8YufwYwZ00TAHEe3iJn9ew9j1/Z9COXLJZFEgMdz45ykEy5jnAmHfMdIPLDCiTARKEd2RRlDvD8UyvPKBVAsFrF+/Xrccsst8lIzgR/HL7JNb5gQiVph7gq/3bnYy2VQJcuObNqClsXLkMlVG2dlvqpM0YdsxL5OuPs4xDhXSWTN1yY7v6NHFyHgSNj5RGSJ/JUEn/8ovFgXR9aZQR5lmst7qKnNo762CpevWY18JoP6mnrMm9OKvbsPoaerT5wG8OzTL2Dh4oXYtGkH8qwTI7sHxQBZuX9UEWwWbhJ0nk7+MD5wG9eVr16eyrRMSqcsykqLZShWIvmdLjPOyAgQ7stp6jpMZSN5EPyaZjFO/0DB5JAcOtCOfK5GhFUburoL5ov55Zffwazps/HyC6+jvq4Gu/fsEbHSgaqqKmzctBlL2YOx7N8yfTpmTG9Ga2urKVKI5OTMcYpEcGWyGRMe9sGjjCUUJPKJIHGEopY4jkhuKlWJT4F8TDBHrLOr19TDKhZCEZkvm2e4ZfM2NDU3Yr58fMwTmy7PdvGieSJaUB4w1MXSpYvlmbdgz56DaO84ZeLd5k3vY8GCeaZY0KVIlXO55fSMSRrfIxUqI4finz5j8+bNuPrqq03rROXcULEyQiaSWGFax+xdR77aBpMdOkB+PomDrK6uQtvRw+LSPdTPmG2cuisvFwc5ZIpF8cL9xjW8KBPc9FnQ0RoBYNJ8hp6JcSogPgAVgpipw2P2gzjyZlRX+ZjdOh2z506HJwl9dU0NGhvr8dq61zCrZRZ27NqLI4eOoLGhCXt2H0BTY6MZaNH1xDsY4cJjseJu+dzmXBI2ChF5IBQ3FCVMtJjT4sjzKJVkRtaFpQR9vSVz3/fsPoja6hrs3LEP3d296OrswcsvvYZlS5fiO9/+R3FAS/D+pt3o7evDzJnTcPjwESxeMg/ZbBbTpzWI85qD+fPmoLGpASsvEzGa8TBnzgxUVWdRK1/eNTV5NDU1YlbrLDzz7Avo7u3DvLmzTbwQWWsEFY2M5zg+XuG9S4vuzsUkpki8iExFb5clsiLAfRw9dBLZTA7vvPs+enr60dXbg40bNmL16pUitnNondmCZSsWo7G+GrX1VSJM86A2Zrw1j4zvvoh0807Iv5mzppt40Xb8BPYf2I/5c+dj88ataGhoFC2fvu+OvAg2h43hohGNAxcG76OKlQtDxcoImUhiRT7GUBLzXEmw6BjFXDpOSRA9ht13kKvLIZav9Or6ZrkW+dKX7bmNK47cfGBLwjU+kVS0nFtiE+XUOM9UloVBnikmYuJNAZOKmfK8+ZLkeuZiJDLP4xRNr79sIZV4CfJVWfkibYKf8XHZ6uVobK4zORXTWlrQ2zuAd9/dIg5+Hn7wyGOYOX0GTpxoN0VCbCJeGCghJ1+2kREqMIJD5kRcsNjplKzL4a23NqO+vhGvr3tPvnAhX81tWP/GJsyaPRNPPvmMOJN5OHrkqCkamjlrpmxbjxnioBYtnY+WGQ1YsHg2Fi5uRV19Fssum49MFdDcXGMcmS/iJL0W5ibJweXemJZezG2SR8rRuWWhEVP1dQ2Y3jwNR46dQD6XQSZrCtIE7ss4znnzZwojD/EDRk7fE+aUWYFn7YOCpNLkCEN+d3X2S9oSof1kJ9atewcL5y/AT378BFrntCLrZkRQ1GLBwjlYumQxGuqqMH1msyny8Xx5T8u9PKfvgUzkD4uQUtEsy/jySxzwM7JcwsqioWXLlqJUDHDgwGGJP4149ZXXMW36dBFHvmzDMPEYafgo5NM4MPy1K2eG90/FyoWhYmWETCSxwpBZo/CQpM04aOPEJNyxOORMdRXqnCyKJzuQNNWJQ2O+CuusSGLHVJQbj2sqr/K0MTfFXHPqkweflTVmfRvRQsct1yiXnU5Ngp/uL3fKOAH69Ywk4pxWV+dQW5MT55HHZfJVS1FAFzBz5gxs2rRZ4keIzu5+vPvOFkxrnonX39iA6TNa8PiTL8m5MqYJ9Ssvv4Ely5dh43tbsGDBXBQLBTQ01WLGrBZMExHS2tqMNVdcJueokS/hVhEvM0xOSEtLkwlvU1MNMhSaOU/CxfDFpvM/Ty6YZgSZhJvFYxyugF/LFCep0ynHAbMd741jioEcEVY//OFPMWPaTDQ2iSPkbeQ4S3I/WPHSaDlzM6cqLEC1ztqaIyKFxXqcT3NTiNxSue+nc1e4rZnK/TM9HjE3rSjbiqB+970d8mzr8Oqr7+LY4WMiiBsljpwUMbEQi5csQvO0ejS1NKCuoVqEiSPxL5vGVWPl5ysnpNERmribPtjB+fRZ8zfn0988FnuDnjOvVQ7k4NDRoxLv5uBNEcuepAc1EifiRK7ZE6GblMR4LTQ225ef5pLlmCJq0grlvPbhjDAyTU1UrFw4jty89M1SLoju7m48+OCDeOCBByoSholJKQnkkzDEwP7D6DjShtbrrpavNUkM5brYjDGf4bXpy2Wh8+EXNKGooZMyWeaRxAP5V5BEyfEy6O3qw/FTHZghX6rr33oHN954Lfr6+o3QYTHNQF8B06bVIQhC8yWbfhFLwi5pOl9Ouf0mkTsTbLo9clIHY/rmYGWm2EW3hLsgX9sHDx7CmjUrkM3J85ewMSQ+naMRrnQ8U9H58C7QUgdMkZI+J7bGKa+T3xS5nOHyKGSOXVpPSbYWEduLOIpRKgV45uln8POf/Qx+9KNHcc8n70ZVVp6pxK/GlnpTQumLmAhFGKTFhacd/8V59imMY2EYmiObIqjAxTtvbcLsObNx9Phhub4QV1+3RpZHEheysoNsaa5PhLFEBcZ9XlsaL87EVIwrp2F6QZ/x0EMP4Wtf+5p5/5VzYyp/Gikfglm+PurmzsZ8cU4ZeancqITQFKcwIVKhciaY0NsvVT8rU/Eh2XwGeflabW6pw8oVc0WQ5HDnndeioSGD2a31qK9nXREf06fXypctkKuS+8svV+ZgiHhIXLZeYsXb9Kt4LKAjpN5mcVFDfS2CMMChQ4cRlETIBBI+tnwaFKxspZKKtSmHiDqIM0cgD47Nfx22xKLDpkiJZCrPTxw3u0Fhx2xxyUV/b4jSQIR1697Frp1HsW3jHry+boMpSlxzxeWmkvcXvvgpTJ/VaERK80zmbIpAEX8WM7eCItYLRRikQmXU4Dn9EvyqCNfctAqtc5vR2NiAxoZmbN2wB88+86ZcBxCWMiJuRNSwM0URN0HIuGMFXCrSjDG3xdTmFxvloCuTFxUryiDGISaS6MpnUv9ALzY/8zSS7hMiX0qmCITpjfJhKFRsfQA6e2OsI8C+X5wArh+Kkwnk/pXEMVF4hLIsNvULEhEmiSzndqnzT5uoUjAwd4Yf0eyczeasjLpoobNl4YSEnZ3fzW5twX333o1du/fh+efXSXh4fiYbnFKopOGacvDyrcltcE1zXxEtbP6LDPr7E5RKDtqOdeGt9ZvR0SVf09//exw90YGaqhpkRNBedd0q3HH7DWhorMHaq0SsVGVRXZczccORex/FgREmbP5u4pg8e9ZlGu04wKgWyZ8kkfP7EhcyMZYtn4+lyxeioakJrbNn4+CB43I9P0AwIAKsIPHTtMRj6yXGDcYJxuUyzCVkPRnT51B5maKcJypWhsFm71sLgmBYm2wwTWEyE7o+8mwREBRwavcOuPyMisSxypcir9sWfUx16DTYHJRZ8RQrnPo+B0pktnhq/NI0dQJEAOb8dDtu4zEHxhO3Jut8PyvLM7IN98/JcbIyL8ucDLKyLj0um50ObxcTb7AuSyznTUwlzEzWQ1N9I6ZPn26azTKXhUVFgTgoNqFmnLBiaqrAnosjtyACVNIC0+SbuSgONry7Hf3dIZ556g2sf2OLiJYSjp9oR01tNX7u5z4u4q8RV161DEuWzkB9g4fmlgxy2RhZuddZufdZx0NW3j/PxCcRLm5WnjFNnrVHISTPW0TBaDx7wmPm3Bzy8i8n8TEr8TMrIiPD3qE9YNH8GbhyzRI0T6vFysuWGvHx7W//HU6e6kEo4iwJ0hymIGAc4TAVRZRkGrGX5ygQK5n4QmORk6KcKypWBL409gWi0RkPfiHz03aKIN/xyPDrjeXrkkDOXb0Se7dsRdLbI44zkLVT516cCxQrwxnvJCeDy2L5HWbE5Mv7Q+bJFym357blqdx/RxyfMdOE9LQNd96LQ5pbwqOlx+WUTjlkPVAsXDwTKy5bhEce+QnWvfpm+Us6K+unRhLCdKAyjWBuV2A6bWO39An2HjiCQinE8y+8gq6eHlxz1Vq5X4sxf8EsfPLjt4mz9zBvwWzkqx24GeZYFOX+FsQ4ZTEri45YlCj3fsgzt8uYg2PWMX6Ul19MBs8lx2fTaeaUsH+XtHJ6WgTlZiQ++DEap1XhqmsvN/WYrr/+OmSzOTz8vR/h0OGTKPSxA0QWD0n8FsHNIjP238MyIDaDV5QLQcWKMgjbJkC+gCSJgS+JVOPSJcjIF2PH9j3GaWmB87lAB8LXil+91lIhcGYbAjdnEZI4BTMdExgO1kWpDDdbCcnEDU3diXzew2233YDlK5aira0TYUH2YrvnKUkGvlsngjKLYn8Jf/fX38XJU6fwL37tn2HmzCa0zmnAtJZ6U9zDukjMBKHxQ8CVd4sDZgKsXEkzN1mszHC3lMtYjMI4Mdq33JyHykjmRWinA4QxbsgC/pe4kBZ9srgKuPLKFaitzmDttSvRVF+Nx594Hm+8ttlUNGdRmCuiNuOIsKUA0gr6ygUy2tF+QsKvi7RJX2pTBkmImIammUk+ouoaLL/yahzevgMost6KhQ6UX0jWlA/CVH6ofRS8h7bOStmctHKtmZr7PRZ8ONzs04V1F0xlX7G5c2cin/XwvYf+Afv2Hy0Hzb4jNl6YCDSJ4HXZa+J94fW6KPRGePzxl9DTV8Bv/fZvYtb0ZlTV+HDF0TteQcRJEWEyANeT+yf7p73RpkMiMKfNVM6lcbwL83bx2JzwmQ+NDzTGBxqXjRYSRnOucvzjZTNXh3VROB6WpAvMLbGtktjwx8s6cPwQqy5fgtr6LK675kYsXrgQzz67Dj/8x8dQLMTo7CrCiSlYKq7zgrDP4kKM+yoTlSkpVmyWLqds814qldDf32+Kg/jF4Eii0t/Ti/7e8gil8pvb9cnvxIzVIq+bCBpuzyIj7mPL7CdyfQ5++bArBRYHyVXJx1QGuaWrkF+xkhcGz9yfSL4MZX0YmKaUJdm2xEqhsVw/TfkwfMv4IX0m4+fphxZaB8b5S4U4FeYC0ES0m96PvQT1TfX4ta/8Cmpqa/DuW9sQsdsNeUc4Wnds+t0QM+8Y41T5UBMMvs8cciAKWKTBeE+BwHgu68R593YWUCjGqKqugie3qbGx2rQCi+WexQmbE2clfUmLUli/h+kFmx+z3xtOMWiy6YdSYfvch9pYxQl7PglYZVB4oXJ9tpic18Qp4WPmPeNgm63zqjFrXgPWXLEMN9ywFnv2HsBD3/shenokre2XLZnGUOXIXqGkI2bsLNZxKcr+Mv2guChHIP6U/Vj8FrGWMVOoclxLBXLZ+PuMRhF4Zkz4y9ejjD+mpFhhpLQvGtu8f/3rX8cf/dEf4YknnjDrTnaewp/+2Z/hX/2r/wvdne04daoN/+kP/yP+85/8Cd5Y99rgMQiPwXkrUuzyiYjcFTNlp2ZgE0Rxol5tDkuuvFruU48INvlC9HIITRPWvCQakhBzM15znAoZZRjSNP4jbLiFfDVp9velwZcv6CxNwpilsxVjcBsaquWLuQ8HjxwWoV+Q+C/iNvLFwTsI6FRE1PsShy5dyEcGw23SCW9A5iReRzmJ53nTSmpArvehh36APbv34I7br8f06Y2ynTg51lA3ram4N50xp6kxvaHxp5mcXpXaBxi60lplnBgteGyGnSbnqjz9kNMOXlP6q/xb9nLTFkwzZzZjwfxWcJyi+37ubvR2DeBv/uZhtHcX0XGyD6WibB+ndVp4qphN9r1INIk19vki6YrMm1ZzPvuZceGagUTZbDpjBnLk/KDJsjMbi9/SD8vhjDAnnXqFyTmNiytNuXQw5k857AvGnJF9+/aZXJNf/uVfxoYNG0T996C+pg5f/MUvonVmq4mgGzdsxrwFC3D7nR/DG+vXG2HCyM3cmPb2dvObkbwy0k9E2GqFPbO67JhMHBRzWtgMU1IB7N65C31dXaY4myLGiRNkih6qiiJo5KUuyC4cwVmZjPDBMreAI/wyavD9iTB3/kzcd9/HsWXrTrz82tsiYhn3M+K2uL3Mi4NJnffEg0MRuBKxExEoMZ2jXEZJvvrffH0TDh06gs987h4sv2yhiBS5TDFWjmXvwZkMW3jJXRBRx1Zc1iZTcXLldQ01tiZivRyPHQfJJfO662qyEldmoLGlCnfefbMsi/GDR36KgweOoq+vgEI/Wxry47EoUxEsEm2shWJsbRUkoTH2QMR830A+jhgHmZNn1lvjOtniTMY0/6PM5hpZ43AZ1tIR0JVLxZQUKxaWu546dQp1dXVoamoyy1g85MlL19zQLF+RnkRv4NDhQ2hubkJjYyO6e3sHxcnu3bvx7LPPGrFDkcLIffpLYyJCxyKpQxleC0t23GwOl199LeokAQ/27ZQvmz6E8pXDjqqYyLASHn2S6WpbmdQYQS5vRSIOxzhmcdDTmhvQ3NiMHvlyZja9rJQtaYxPac7jeBfxNoynTZyTcVjy9S/Xc+x4O/p7BkzX82xOPnNWM+oa8qZPFDrP9LVPr3cwU2WKknYhnzbZT/h1Y7xMgioRLcuWLUB9XRU++cm7MGv6DDz26HN4f+tudLT3oru7IOlJmgPiRCKOZYry1AlYz8cXAcPixlSouObYp41xMvFLgF8wlpTNzsPUHUqf0pmMI4+bYQXMM5X0zaSH5dwdEUZD44kydkxpscLIVlNTI+q+DwMDA0aA8EUzX47ifSXqg4P41Tc1oK+3HwWxmuoasx1Zs2YNvvjFL6KWY6lIakWb+BGYoywnpo1CRq6TY8hwxNdcTTUKXSex45WncHT9a/A6TkgiUEIxG7FKD7KlDLKmAp4ymamM4/yqZXHh8mWLsHLFIjz97AvYtnUvVxhLK+emdbto4x3rgGjsdRbiONlPCMO+aeNO7Nq9H9dcuwoLl8yRhDNNJ9LcSLkNUzolPQ3jB9NH5rCk6amkIaI5/AzjDJ1/EZlsCXPmsjJyBtdedxUWzp+DTe9uwfub9uDIkQ68+Ox6lPojrHt1A7rbu3H0UAcOHzyFoiw7fOgUwsjH8bZ+9PbFGOhL0Nsdmt6VC30iK0o+SgVPnh9FThaxWEKLOS9iR4SnyBBJ22UqcZN1jPjwEuYIGXElj11MVoG5NKynlZR9AWUp44KNI8rYMiVfMZsDQlu0aJH5/cgjj6ClpQU7duyQr6g2vPDiC9j+/nasW/cqrrjiCuzbsxvPv/ACLl99uRE0NsKmXxEpkycCl3NX5HI4kGEiCU7oeqhaMh/zbrgKHbv2YPePHkWwYxfcYi9KkhCV5KtGe+OfjDBOW0u/mk/HeXp09s7LzuNcXH315Zg3bxa279opDoX1VVh0dLo4ZLxj3+m0mNc1xRDvvrsNGzdvx7XXrsbqVWknaJJsCOV3hAs+VOH19P1SSJpTQXhXWITD3psdP5H0d5YZvfy6G67B6stXmo/DICghkGdw+PBh+YgsYPeuvdi9Yw+OH23Dj37wFPq6i3j0Jy/g4L4TeOfNrXjtxfdwsq0XP/3RCyJuinj+qbewf+cJHNh9AhvX7xIxE+GNFzeb/l/27DqE9rYuETlFHD92SgSMi4FeEdMDMYKSPPtABIsInyAU/8BiT/kd8/kyHZQEjhWDGT+s/1DGjik56nKlqOC4HHPnzsXMmTNx4403Ip/Po6GuQV6qBJddttIM4rV08RJMnz4TS5YswVVXX2W2IUy02ZLorbfeMqMu80tiqICZWNhEli8hO3USYSdzUTkrN/DyqGpoQUvrLIQ9Pdi7+T1TPl/XMh0BO5GQL5OzXbm+4BMJxgWTxSDG55Y+uzSh5nuUDgtgYoyboHlagyT2RTz22BNYsGARqqtqZB0rs3PbVATYXMnxAL+Sbd0Eho9T++6y7lq/fMn3drEJsou585uRzbPPEHFacj2OiHOOVp3CBZyn8W5YITMlvwWHwDjD+8KKq4xHLjyHdYCY65IOzsi4w+LEfHUO1bU5LF06T367WH7ZEtTVVmP6zBbMnddqcrAXLFqAhsZaSa+nYcaMJtQ2VGNaSyNq6/IiMEponTUDx44eQ3NLE3p7+3DyVLvEy0b5+HwZy5YuxvPPv4RctgocDX3dy29gwcKF+OEPH8Osma145eXX0S8iJigmeGv9RsydNQfr39yI6nwtOk92o7+3H3X1VbyowbT+fNMz7qOjLl8YU3LUZZsw2XlGOE5tBGQWtu0lksPhswdHvlSsblr24wZGtM7OTnzzm98cHHXZ2sTESBMxht83c+YuyR8m0BkuYPfq2ZJMe9C1Zw+c/hANC5agqxigfsZM07oxvXp2IyeuShaYeynHYHfh9t7weDbiGWcnpkn7eINPxhbfWIfDhJq/mQuRVkbkM2VroHSZg472PnFAGWzfugPX33ClcUZmFGl5ynRK5liMAKQ8GR1sDCOnT8RXnOvYbNb+5kCELNIxFSlFxLz+xtsoDgAfu/NGeHK9rggWM04PAhEsrDvhSVwvH5O3ZvDw9q3hTVJHVEnIokARKSL5GFMkXrBYKDS3zqTDRvkyDklKK/MsRkzTZDb5Zk6XpNsslmHdFO7D3DvZRVIXs79Z6PrpcjmoGcdKlrkURfJRmclm5ZmG5ph8zt3dvWhsqMXuvQcxf/4cbN+2S4RPs5wrgz179+Laq9bg1dfW4/I1q3H8WJucv4hrrl9p4jvTfp7zfMUGBbuOunxhTEmxcjFhxHvwwQcHxQpfhMmISX7TTiaMCKGTcqMQniQInSdP4eihQ1hx+WpT+S2Tk68PSeFL4qQCSWhEosh2nkwloWIqQl8lx4vKCbz1W+O/oGAqwidlvID5NTwcH8iKGibIPtqOnsTTTz2PX/qlz8LLuuIo6EdE+JstJAKYAe+EoSUoFxWGiWGnQymfT7SE6cpDZlyXvQRRTEsg2DGbbLpn7yEcOXYMl69ewatCY2O9ESJ8r1n/Ij0eI2w50iojxDyMCirv63D3mPf/ozjzc6GrMxXAzwEKIAoRCiyKqFKpaJb5mdPiJI0Tp3+fCypWLpyPSoEUZRATUfgZI1+f5gfnvYypz9IwvQXLr1iN0vF92PT0ozj4/iYEvQX4QQbVUQYZdtnNL2v5IjJTfo2L+XEEX17eDE2+dM6aDimXACb+5ul/BKmD4ONjAu57CWbOmIYv/vLnsGHT+3jrzfcklZYv5aIcx1RskqkIF9N1/KjDsDFkPJeYGb7AnldECsevkfAUCkUcOX5C1rBIKESDfHE3NTeY3Smw0286ey/S61UuBryflcZ7a204KtcPZx8Nc8/S+HAWS5s3mmSOOYjZrKRj2VFV1spZYOxQlPOAX6ASbfgSu8zElSmLejI+siJaZs2Zg6PvvIf9zzyF4pEDSKKCvPOu6BRxVrJrxKaexuQLh+KFjoNlC2xZwnRCmbhIWs42E+ym3c8BOUnga2vyqKquMU1TWQpA0WJaC5mYQ7PCYTSgc6HxfPyipvF86dc1OxRzRDyFpQSHjx7Hi88/j9mzZ+LWm6+XuMniiDRCUoCZHEFlQmOLb841N8Q+f7u9FkJcWlSsKOcNM0c4+qtp5OyzpZCD0PcR1IhYufImXHPHHfCDXmx/7ic4toWdhQ0gcMUpyPZh4qEkwiVkub9EP+bMUPsw84VftSxesvWJlIkDfblx5xI52D8Fp24mwurVy7Fy5VIzuN2hAyeMTmErGyb8aX8Wp7nYzoDRiHHJHpeTD8QtmT1xohtPP/UyWmfNxN2f+LgIq7yEm+IkrcNGB8d9VKxMHvgs7bP9KCPcjs9/uO2VsUXFinLOMJlnss8vjYzrwxdzRIQ4IjhYrpu4WcS5PPwF87Hwnk9g7pqrUOjqRlLqQU/nYfmQLiGJ2MuBHEcSgDD0EERi8vVLEcPyXGvKxILj3bDurC/xIP16TWSZOAb5nfM9XHft1ahtqMH27XtRKLIVDivlsqJj2tEWudgiNRUnNAoOyPnSeXZkWBgIcfhQm9mmUOxHNpdBy4wW2YtdujPsaeVJ9hdi+wxRJgcUGpXPdjjjej5zGn/b6dBtlLFD30DlnKErMe6EvkUSfjcQ5xSLWDHRiDXwg7SyrJMD6mehae2NmH/rHSgF/Ti5+R14fV1w+3qRLZVMfRVXZIrDr2t6DP1QmeCwuMU8/AoTXHnOomKWLJ0LV571k08/g/7+IoJA4kzCUXgpIlJxerETf1ZPoXhKzyEhctx0YMLQxYm2Tjzx9FOmyeun77/HdI9/uliKEbwcfkVRxgUqVpTzwogVm54LHP7FD9KWPp4oFZe9lspyFvEEmQxKfg5VdTOw7MobUeruxNZXX8DJ/buBYq8IFuapMKdFzHShrUxsbB0RayJkWSTkUbDEaGyqwz/7Z7+E/r4+bNm0M+0lVp6+zbW42DkrQwmDGN1dvXjuuVdQX1OLz37208hmPXg5ETQMp43UpvUQw68oynhBxYpyzgx+LzPWVHx4svjWjT1kIh++4yPhJy07eooC5MX/xF41ktpmZOubUF9di/effw77X3kJYecJOUxR9hFpw13KviqRr1zTbQf78RcHFsgXL419MygTC2a5x6bb/bSn27q6GnR1d2P71u0cqFuer2sqYMesyGJyNkrpVB61aSl/xkduIogY+0pJIw61DouU0v5fAjN2FetBJZEcP3DR1VlCqRjJ7xi5fAbTpzXAY6+GRqikYdW6CIoyPlGxopwzg9+bTM/tD2uMSZzKcnZJzSz9RDaMZVt2/mRq5dY0YsH1N+D6u+5E54kjePdnP8Op93eIf+LgYSJQ2FSQHcexl1DxPCb7Xv5RpKT/lImGQ/FqygYpChL4WdeMJXT/p+/Gps1b8N4729McFnm4HBCQ8iKKE9MBWFrHpKxgh8XGCIoNVszmGESBnC/N3WPLpCCQeCOHOHmyG99/6AcIwhh333M7qmp9iZsUOmmdGcY1WxdBUZTxh4oV5cKg/7FmGfLbVlAbNHEaQTYLf8l8XPHpn8eSZaux/90tiPv6xTEVEXkOAvkipudgNwcUO4jEeXDEVdMfRuXJlImA7YXUGjvZ4mjm+aoq1NXWoLq2yowjFIaOGXAuCjJGpEQJc9JYEfdMFa4ZF8rq2JBWjJVTyD4uEok3icSZ4kAJP3nsSZmP8Aufvx8zWqch46fCibkolWFTFGX8om+oMmowd8Wa/EFv1kFMxxDl4OWnofHaa7D6Uz+HWD59tzz7ArJdPcjI13HgFlBwS+KsSuKK5GucMoVZNMqEgzkjlfGAORem2FBs6fJFaJ01Hd/97vfx/uad8oxdedKssE0BwryRVKTwGBQ5H2razC6Q2W9LORnj8P7chDk5cZjg5LEelIoxqqvy8HIJZs6qh+kwlMWOEg8rw0VTFGX8omJFGRPMdzCdhHxBu5AvaCeLMFcFd1oT/NocVl19uTilEg6/8ToyB4+iujiA0Cug1y2K85GvcflCj+ULmw6LX9ofclzKuOSDGRZlwekmZqwdX/RBbW0Wd915G+a0zkF7xwAS9mRcTpZY94RQWAxXl8QUEJk/adNkxiy2+GFnLn29RTz0Dz/CyZMd+MTH70BLSwNECYtYLskBU1EzGB5FUcY9KlaUMYFFQNWFNOO+IE4q8FzxWQ58Ztnnc8DsFgxUeyic6sK2v38UHa+8Cb+7Q/xJEQURLDGbwJY9H7+0VaxMDCozLEyOiss+LpirwfpJFC0e5s2bjZ7+Pvzddx/GKXn+rJDLek+2iMcW0wx95uy4jfWcWC8lZiXa0DXD/L/y0hs42dGOf/4rX8CC+bOMJOFgpKYmC4t+ZAHDNYz+URRlnKJiRRlTTL+3bPkh6oV1UiJxSDQgh2y2EcvvvBOLP3YTjuzZhe0/fRbRzv0iamJ0+xGCtK2rcVxWsFSaMlHgs+Kz5CBxoREOs2dNw5f+6WdRKgbYt/cwQhEgSFKxwmfN3LShzzxmq58kENHhmRZFvT1FDPSFKAYR8rks6hqqkGGzZC8yZ3RDOR7NwFwbjTOKMlFQsaKMCexOP8jTcQAZ+RrOi2Bx3UiclYiXKIOqIINcnEGpug7+2lVY8Qv3o6q5CdtffQvx0Q5UyxczazSkTiutHMl6DNb4NU7fI27sA//KC9UvjVNYFYltgNysh5aWRrSdOomNGzahWIxNJWuzTYVIqXzmLCYy/bjI+pKIm0cffQabNm3DJ+66zQykCBTh+hQz8vjNsRiDmJ1CwaIRQlEmEipWlDHEQ+xJlPPFZYjRZZguWWSa0KHQj/guYj+HZNoMLLzzbqy9935kc7U49t4WlNpPIhGhYnJj2DyVzaHNzmlzZ36ss1+NkswUxNg3C7++udx8SCuXgI9KYqhUbNfnfK4R1ly+HPfddw9efflNbNi0IxUX8nytUbjwKTt89hJhojCDDRu2YceO3fjkz92BK65aZYSxI9HB5QCbLPZxHVOxl0VLrsuCSIbpo8KlKMp4Q99YZUxgRGNDjIwIDXEdMkejR5E1nM2I7xHjVzBFDJwM4kw1stNagOo8svX1sqmLnp3bER8/CC8oIsvRnCNXvpEjhPKFnbA5qjgw8XuyLhVCclQzUKIRQsolwDzNIfBhyMMuG6MA1SQFSCbrICtW11CD6mwe/X3MOWGRD4sNWWTEuiuyuYjT/v4I7R19om8lrsQRmpsbUVMjsYxCRuKDK8sdJ2sECkULi5tO11VhuDRSKMpEQcWKMi5glr8nPsYIjHJOCHNJWEzgZX3MXLwYfj6PY3t3YuszP0X3+5sQ9/bAjUuywQAit4DQZWsjF558bXuhZywRBVQSvxQN5zOVS47rsmhHnrM8ew6GaIruZNm1112FuQsX4OHv/xT7DhwTkcHIwewxRgwPYdHD+vWbsWnDFqxYtQxrVq1IIxH35zaKokwqVKwo4wfxMezsloKFfse0/hGxwpGducDNZLD8lluwYPVV2P/Oe3j/qZ+ip20/3CCBH/vi4+ioUnfFGi4iXUw3HGntFXF2yriCORx8xKyLkv5mXSRRqk4kwiVG1ndx8803oqGhDocOHkMUiE6R5/zW25vx8stv4dq1q3HV1auNkEnY3Mw8+bQyLXPTFEWZPOgrrYwrjEiBZ/4x6z4SC1mPhfUPWO+gZhqmrbkSS+++HV7ew9YXX0PxaBe8gDkqgUiSEKF8mfeL4ilk5GDiCDNhBEe+3sMwPENvqMqlxJNna3SpKaph/RX+jpDNJVixYjZKQQkvPP8Gjh3qw8njPfC9DHJVPuoaqjGtpQGZrGu68WdzaFPU4/OYcjxN3RRl0qCvszJ+YFGNyyqVbvpPPo/pvBIKFvFAA+KkTOXcnIPc/AVY9vFPY8kVN8LP5XFi61b0t3fCYbGQI5YU5CM7hBNEafFSnLYmsV/xyvggrQDLiq+nkyJZlOa4eCXE7oAZcPDeez6JA/uO4smnXsGaNZfhppuvkI1Cs126D4+TmN+ifbRGiqJMMlSsKOMC1k0JJDbSBmNlha5gnUmKjsj0Pipf0kkeQa4BtStXICNf2MVCL4KBAfQeO4yOHVuQ7+9CVVhABhzYjsdX1zV+4bPhQ6fEOG1saMz/GRGozdPqsebKxbj7zptMrkniiFBJa1BXMPQY+swVZbJg3YKiXFJsjQPTaqdCrLAqAhf5IjpyUQF+KC4sysJJfGTiAL6Il/4cMPPataif1YLeI0ew56VXsO+p59C1aTOKHV2I4hCRHIXHZosh/vsw5uzprMDwWFPGAvvg07pGtESeMYdmCPkrE6KuyUPr/AbRISE8l6M5U5BUku5/2lSsKMpkgW+0olxyrGsZdD8VH8emZwzmjMgnNYuImNcfm8qYIjvixDRdTTwfcS6PGVdciSvvuReoa8TWDe9i4+M/Qefmt+CW+sTliWhJYgRRCUESIoxjiI5BHCTpIHhshhRyPm2QVBDjlI1mlRHCW8ibWWHyCMDOjAdNtmGNInky5p+TsLdjD7HryfNiwSCbOvP5O7JOtuSDKsPivbQPFkVRJiMqVpRxASMiXZERK6c/ss08fzqOSBYRJayzYjZyxTlRwDguPHYsJl/ZcZJBmM0jN3s+Ft98G669937MXrkc/X19cPpK6N62F37/APwggBOzMm5g+mcJxORbXRwmmzrLocUPsqKvyB/44lFd9pZKMaP1XUaGfaZlY0utohcbMz3hy+PkLaZAYQ5aItNEnm8mFnEiApVFhKzRxPGkSp6DIuOCwOeiFacVZXLDZENRJhysUMleSQfN1GOhwMgh8jJIcnlkpreg9aobMPvGm5BkPAz0DiDuGkD3+zswsG0X/K5OcXwiZNyCfNazrw8WP6QOMBMmyAaRCBXWeWErorQ1kQqWC4RCRFIbWy/J1E0SRZiTe0yjgMwEoYgUDr/gwOUGMuXd5uhRSVhAmJTktwhN+etEvvyluEyFij4XRZncMMlQlAkHxUqlifsyxTWRy8ERHQSehxIyKMi6QjaPYkMNWq9eCbeuCr1dXdj6yjq8/+QzaN/wHvyTJ5ANiyYnhXLFllPQ/Yn7lC9+cYo8qaBO8cLgXQvKU2tmtIRYhIn8oEQMRbyUvBAlN0SQkZU+n0WAUH5nB3qQ238QXkeHKTOigMnG6VhB+kwUZfKjYkWZFDji2CJmrXjpAImiWUSqZJAVsZFJ2AW/CBrXQ1ifQcvNV2Hlz38CVS3NOPj2Zux85Em079wuX+89SKI+JHFRHKD4RDlu4PoosMl0RacdWjfiwvDlpjpy7xwRGOzAj8V4BdcVceLJfRah6bBobkCm/SI6e2VZH46cOIC+rhNo37oDW374KHY8+iSKJ47I8y2I4immQpXHLU8VRZmcqFhRJgVs5WM+1Y3ESMQxMn+FNVES+QKHsQzLIUTAxLkqZGfOxOJbb8GVP/8pzFx7ueybiFM8he3bt4hgKcln/gDcyB4nbUHEvkDUKZ4fcicNzDlhU2S2NvYoHsNY7i+flSOPLYJfLME/1QnsP4L2dW9j/9PPwznRju59h5B0F9GweCGWf+ZueNMasPHJZ9D//na4xaI5thUrNEVRJicqVpRJAccE8s0AQOlAiWzazBos5WqypvJmJNE9G/moCnxkSlnEbh5JywzUXrsWzUtXIvbzyOWrEfT3Yc9r69C9bRP8nnZUlbrEwaYChfUj2FGdcq4EIlhYAJQahQkL7EQRwi0VkAv6UTp8EIdffRXbfvI4Nv/4SZzcsQ81XrU8yWqsvOI61M+ag0CeU2nJYiy683bMW7QMG55/CR37DpozsM4Sc7tofD7WVFQqyuRBxYoyOZCvdTd2kQkoWviFnRpdY+Q7pmlzwm772ezZ9RCxZ1w3gxBZRE4VYieHuoZWzF28FNlcHn5QwpZnnsY7P3wYPds2I+rvhhMFpgl1KRAHLPNBEBkLA3G+bIwivpETa8ZVcoYZCCOAu5/JRtUd8+CR+VNh5cVl4yCEkdyD1EK5F3JvwvT+0JDERqBwPWS9I/cV/QNyP0s4sHM7BnqP4uTxvTh+4hDmrF6KKz57Dy7/hfvReNtN6JvegEJVFj3ZnFysj7pSFVy/DrNuuAar7r4dbnUVSoUBlAYGJCFjvyxp82VrRqzwJimKMuFx5IUe1fRustPd3Y0HH3wQDzzwgMmGruw2XBlDrOe2OqWMcazl33wyFavSlWUScb2hvAqieeDKH0ecILo70LZpC/bt2mHGIVp98y2omTcPpUw1Qjajjj3TxDnP7eUYoZyAGTo8Hyvq+nJMjxkKrJdhcmMYSLp4hqQyd4YBYaXei4/poyadHZ6AWzi8lPQ+iTFkbL6dOvrBGbNO9KDp3oS5VInvISPBZlUhcwkUJbJt5EcostKQzGeTPmRKAeIT7eg8eATtbScQiEC87ObbcPjYETTMnY3augYRF6xnJGdmUY7cLwrL0yGX+yvHTzsINCcSISIWFLDzrbcxrXkmpi1ZItcg18LOWmTj0HNMj8d+5X2W1SUGqwybylf8VJRRhzl+9BkPPfQQvva1ryGbzZbXKGdDxcoIUbEyCZA3IIkD9gcnYkU8mjhaNwrhMheAzWUH+tB+8gRqautl2okoSDD/smXi1elcxT96FCM5cYsc/dkcRBZLPJB17D+ELxjjBhvb2vMZVUQ4OcsryE3PtMVgbDvTBrIv/f8ZMeGliQxgsxw5kAmSqBKOyVSQE8Tyj8vo9j3RLqxzYuSZzJdEqQReWnHWXr8rwgMlChwH/W+/hR0bNqKrsxONs6Zh+tJFmLF6FdzGRoS5vByPxXYMwukLMPfKp4j6CGT7uBAiCQNJxIo4unUrmpuakJ8/H4HjwvXyDLgZJ8iElYGXiYoV5VKiYuXCUc+qKOInWTeXgzSztSzn+ZUe5HIIq6pQamhAw6LLkJ/eitpp09HcOg0d+/dg4+OPoHP7O8DASfmK7xEnXRBHK87TEWftRojEU9L185/JfTCuUYzqg+eRzRxRSE4kW3yEuaED7wzmWBtmP2sMwxlNwpl4sZk6kYiSKDHCIfYjESGsoOzIffHEsXOsHpEjIgQk6GLMUmEh2gCqihyHqQ9x50n0Hz0u01689+LLiPtLKNU1YPa11+D2r30Za//JL2H2LTcCzSJUsjnROpQ3qUixlZfPFQqpKJsRq5Lwi7CK+vHmUz/B4Xdel2AVTb8tVFOhI4JGHiyFmNWHiqJMPLw/FMrzygVQLBaxfv163HLLLSaxPZ8EVxknUD/QYVNA0CUzl4GCRZaXxHGzvks2ke9wcaiZ2jpkq7LI5jLo72jHvnc34OS2HaiW/XK+D7dKBI44z0CEiukgXnw6iy/YW6upWirHpLFhUsIcCVc2oBdlvJH/qVE92XkxZg8wo8E0pZF5k8VRtsqslcF95M/gfJJWLpZlMUWILGKT4VRwWJNwcJc0UBI2T/YRUWJ6jxURJ8ZroOBiN/euqDmHwxUM9CA8fgx9cv17XlqHfeveQ9zVi5bFi1A3azrcpjp4s1pQNW8uwpocnHwGsSuyx5H7F+WQZblZOZwUSPbd4fRccig5HAIr6mZl0zo5T62c7/317wIdPWiQ38j6Ijp5rfxHqSXXIMe2ty49m6KMHYzn9BmbN2/G1VdfrZX1zwMVKyNExcrEhw6bg+VRRLjisOUpGg3Auiu+OG8zlWX8gmcFXYh4yWTyaJqzEK2Llsk2Pg69vx0H9+/H9DlzxdHSIVOqpE6d9WHSHIRUMDDBYs4A612wjgfHOWJREuuD0MxyLpO1HMsoknDFMuW/iBVaXSs2RIiwBUxZ3HDKvczxysbf7NOExnwM1ithaY9dxmNQqUS8eHZ+ZyrUcjOKEm5TkuuRazCDKMk0CFA4dVLuR4zd617H4VffRNjVh9qFczD7hisw8+rL4dTWIFdda4p4MiJMMrK17/IOyvHlPMyncSjQJCCxw3uTwncnk8mck1CRmyT3ODajLxjp4VWhumk6pk+bgYPbt6L7yH40zJwFL5eXc/HaeXzm3nB75iqlmJ+KMkaoWLlwziFVUJTJjXVc4Ei+puim/FOMGRrsVK6YCUUMxMiG4lBZEQVZJG4O0bQWzLj5elz5qXux6tobxDlXYe87G9F/tA1hdxeCQo84yxL8qAg3lCnrc5jKMSIkYrGIOToJnCg8bezbhaJCQuK5bE0TyHZsWSPLxME7MfuBkd+yLUedzvCYsp69ukLEC2WMNcoRh+Vasi+P4TDLqJw7QvGRkXDQmfNqQxYBiRDiOEhZWimA29uL4pGDOLl1Mw6LCCj2D2DX3j2mE7eZq5djyRfux/wv3Is5t96IpgWLkM3XIRHBUcw4GKhywdbk7DmfOTWB6yGWdaGsC039ZBGB8psChXbWeioVUGR4oVyvXHNBjseO5ZI4h9r5C3D5PXehpr4RDlsldffCCXg/5RoptijG5H/AS6YpijIhULGiTHlM6Yp4T45Jw9yJMJMgEItYz8F4NDp0s6UpseGskQLiiOlwB9gsWkRL7ZLFcOprMX3uHFRXVeGwfD1tfPJxnNy2GUFPF9ygAE+cZpY5AiJYWBk1J69gTgQGBYc1TwSML46VlXw9cbS+CIwsi2TEN3NgRV+25zJOPXG+FCAeOOCiTM2x0qIb02M9BYiIDjbhoT5xeFwxiiLWR3FkH9+coyS/ZYNERI/MF0SgHHj1ZWz92c/w3k8ex66330PQV0S2uhrLrloLUQPIzp4jNhdxQzMKfhVCPy9mjgLmULmJZ1oFlSSVYcXWVKNJeMRiU6cn5E29IOSqETtsb5Ux5+JZTS/Gcp5M0yzMu+VORH4Om999B8HAgFyWnIvaxog5TtOJoigTA20NNEK0NdAkgI6LjowTPzAOjz2v2tYirKvhiphhlY6AAoW5EXSOYq44P+ZM0PWbuiFmvwR5EQTRyVM4tmkjjh86YFqozFm6DLUts9E4bw46TrajtrEOUamI7iPHjeBgGUWqiRw0z25FKN49DEqorq9H+8EjiKOiCAkG1jHNrHN19WicNQtdx9rQ0NyEge4e9HR0wJM4yHDzwmI/g4Y5s1Es9BunnslmZPvjcqxAZJJckIgT9jdT3dgAv74ORyWsc6dPx6433kTQ1YXpcvy6+fOQa2qCX9MoYcuZI7NIJYrtMUSIcOLJH+aWxPIelO/nh5GNHREOg5kovMvnD+/TgBhFZJXcp0SETyj3nMKTo28XjbgrIOzqkOfn4Njhg5i9eLFcQ508zKw8XxFq8izZbw5zsMz94kHLd85OFOVioq2BLhwVK8Jwt+Bc656oWJkk2C9teXyVfpaxgHU8jCOTddzMxpY4ZOXY9Jf5WxFlzD6CI4lT3NGOjj27cWzfAWRyOay46zbseO89zF+2FP0dXTjy1hvIBkWws7qCeNBYBMXKW27GQDFAd18f5s5ZgO2vvIK4qx3ZcECccYQgX43qeYuw9IYbsOWVV7HqiitxfJecY8d2kU2RycGhKHDrGjH/Y3eh89Qpcd4x6urqsPPVV4FCQURFGvcLIjIWrF6JJgnPVtl/xZVrEQQhcrlqOBkfbAFUvhPlaSWnr5+W8f303bH380yM8DXhuVLZJocyMzFCudenX2URfqJkmEsUdZ3Eu88+ibzr47Ibb0N2WiuiTF6EqW2BxOEqeRyZj8oqipOhl6ooI0TFyoUzJcXK0EsO6XQqoOCoFB2MYENhIsfKUSpWpi6MF+wpdSg2HnC9qUAXB4xkCPtEaIgDzNTVoLfQi1xVlalPkfR2i7iR45iKs6ze6yEj6/i9z6ITX8RL2NsDNwxMEY6plOplEYjDZeukQn8vqrM5hAP9crxQzi/x1UTxxLTsceubEJaY65DAF2FS7OuRVRybh5qBuTlyRtnfrakxuSXyAz77mzHrZFPmmJQZ7Bn2DLDeSSoAxh6+x5VhcxKRbaJkvKSA4MRR7Hn1DQQ9/Vh6042oXjRXrpM9F/ticn1ynxjqVKqkx7hU16FMXlSsXDhTUqwMTdQuFDqkPvnyVbEydbFipfK5W4dOocLEia13ojgSAcD+QGLT1T9b/TBvwLhIbi//RNYIpmBFXkxWdE2MmIjYxJlzcqxUPoiokWMGFEQiOtIlgsyzdYzHshETvUX4cMr6I7KtCStPZyqvcLlM5Dwxy7dYsVbCzPMxBCypGdQoF1ZSM+YMFY6hKEM20+aAlrmwgLi7B0fefQf7D+zB0mvWYsZla+FQ9BlhZtpK8fbLgUwjc1PpV1EuJipWLhybHE05hhMrZxIw5yJsuI01ZepAETBUoFK00mx8YJEQO1XzI1emGWRFqbCPkVzsy9RDJmbj3iy8OAtflvmRL/OyvexD4ZCR/fyAYobOk4lbBg73leX5iN39e3JMB9nER0bMCTNwIzmjHM/lMSlWWGlXpp7sZ84n5/DZd4ycJXZYPVcSUraooQCSeQ4bQFFjhE0FFARGgJVtPMV3+yzM8xDxFbKjO7ka32Q05eHUNaH1+huw+OrrkJTk2RRLiItBWlFZtrCCT26S3Ad9jxVlPDElxYrN3mWixsT35MmT2Lt3L3p7e81yLmtra8OePXvMMv4+cOAA9u/fj/7+/sEEmlMm2JWMp8RbuTTYHDZOTXNccZyEdSjYjJhf7ewjhEU/NFYKZUsfTukjWVQ02FeKLEhYrOMxl4AHT41RmBVDfdkmwxZGspAyhvuz0mjazwu3FcHhRWI8FnNU0grBZjv5mZGD5mS+KuH+zFmR9eKsuU/ki9NOu94dhNfFHCNr9l0ab/Aa80kg96IooiVE4LkIWTm4pgEzV12B6ZdfjaPHT2D/rp1ys9MWUpmwIPeD8x+8ZkVRLj1TNmfFfH0JnZ2d+Ou//mt897vfxQsvvDCYTfed73wHf/M3f4NnnnnGdODz7W9/29hrr71m9iPWIRFOrZNSlErE9YuzjBCyC3sxTkvy2y6jgBCtkPZJItomFAtEKBRoIhxKvmN+h2JFMY7Hw3nuyy79mXVQeezQF+cs62klsQGJkrSCOX6cihA5rlErFCjsd4XOWoyNgWkUVCKT0guYgLD4i5fHyyzJ/eyX+8KrceOM3Pc8Bqqq0Th9BmbMnom+tqPoObJP1hblURT5xYHE5V1QFGW8MCU9K3M/KCyYY7Jv3z4MDAzgc5/7nBElPT09Jgcll8vhy1/+Mt566y3s2rXLfCE3NTXh1KlT5aOk8Fg0Hmu4nBZFYS0QUxQTsxhGBK7Mx7LM1BBJPNNXCxuhmHos4lFFu8i2LB5ikY0v81zpy3IREuyHRUQF52VHmYoCieQ43FmOmxZm0JiDwu2Ze5Ieh0VMLD6KExb9iDN2PSNcYmOyj8v6HRLa2IEfusiIeXLMiQlzovIyrZLrzqBK7oMRYa7cP7lOuWPI1zWgpr4Opa5TeO/Fp3B803uIAxEr1I9TM2lUlHHLlHwjmfthRUZHR4dpzllbW2vWsfJtQcRL66xZmDFjBiL5PaOlBceOHsOunbtQX18/uC+LiZ577jkjduwymqJUwqKWTMQ6Kx7c8jQPDzkRKp4IDTdi3yRpUZDpzI3ToWaWi4Axv9PjcWqa25rjUNywVgvroog4MeeR48rxszJN7fSxmONAYwXUkM2lTasYEUWmsoqIGjkmzWT5TEDYE28oAowVkfNyL3K8V2VR6MmFV5U7yUu8HJoWL8biy1Zi6zvv4vBb78At9MIvFUyF5kA+QopiJX6M8MCmiIg1fGj6rivKWDElxYrNBSEUKayXwqIfQiGTyWZx6uRJtJ9qhy9fn5s3bsbtt92Kz9z/KWx/f9tgkU9VVRWmT58+WPRTeVxFGYTRg019xFHSTGdkMitRKF3GdXabiu0+YGa5bMQ6ML78MPMf3oaHNFVkWDzkcdvht7Pmy4kzYvzJIJg/lduahRMP3gJWH2aLJtPYh/dNbrwnxqbhjkxdebc5sGJQXYfZa6/HtXd8Eh37D2Pb808i6DomukQESRyBY0Ox1VQghwlZj8iIFH3PFWUsmaBJ0cgwfV8IFByL5auKIuPxxx/HzJkzsXv3btTX1aPteBv+7u/+DsuXLcPCxYuwdcs2rH/7LSxesHBQkLS2tuLyyy83zc8oWGg8pqJ8CEaLSrOc6fcZTf4YG2bdUIbbxlqZYRalDLtwYjF4CXam8nrK86zAHIq6SzI+aufNxcqP34VSLo+Orh64QWDGH8pwysrQsj0HoGS/vSUxlSuKMnZMyX5WbA4Ip7SjR4+a4iCKFY6IObNlBo4fPy4JVicWzJ+PqlwVdu/ZbXoOXTB/gSnn5v4UPazj8o1vfAO/93u/Z47Fui1WDCmKMk5hqhemlW9DkR8s8smzZIeVocMCIhEppzZuQ/3COcjPaTUVbtmQnMVtHHIhErHDgQem5NeecsHYBhzaz8r5MyXfNQoNmxNCcTFfBMnq1atNkc6cOXOQyWUxb948rFmzBvWNDchV5bFq5WqsWX0l6usbzTG4rxU9Vu9dyt47FUU5D2L+YQXkBJQh/GdG3GZz7Hwt3OpqVM9oRj6bR3TkKJKeLtklQtENzeCR+YBfemlaQgfEtGCsONO5BsMSyfpIFgyaBFQstuuG7D6WYVeUC2XKFgNRVHBK40vOKQWIWSZ6g2XdbCCRFtvLclfWm74r5J9MuT+3J1b4VC5TFGW8I+80Kz+z5VPC2jvytrsydTLy4ufhL18k77OH7U+/jIPPvQaHLQHjohmSII5DsbEVKYRpFc9JUVJplesYLvYdk8iUPSdHZhlFikxD+U2r2DfdRwWLMr5RzypY0WLNdXw4knCdtg8ydHtFUSYYkvKxVTbzRNP320Es77LJWXHlQ0ZWioxB3FiPVZ+4A2FfL3b+6Am4uw/LtiUUsoERAZUfOqMJz0Nja8XTouS0BYGEpyxaLEZ+yAU6bDEmV8Om8qxgLEf6wL48nhUtnFeU8YiKlWFJX+4PmqIokwX6b9Y9YTc1hN3rs3t+8y+O4IcJaoseSp6LwtxmLLv3VjQ21mDnU89gYNtO5ErsiZjlQNw5PUZKusD+O71BhVEQDFn0AStTuSiOEwQiVFIq11g7Dc8byTlMx3hcx16Mk7LIkeuTX4NbVprNaRmy+LSZyTALywxdU2mGD/xQlPNDxcpw8K58lCmKMjng+yyChV3KWNj023QvI07eZxNnDmZQ34zWT3wCTWvXYPeuA4h7e+FHBdNKiANO0sezPkgcByIKApTiAQQoIBSLk5JZllAwRGKhCIaS7EDtUbYkEC8uU5NLQtEgXr0kxxsQgdEv2qIo0ij2WQidDomQuIXUnILsXJKgBqb1ki/7eiVZ1rYf4d7NOPXeOhx69UXsfPF5FI7sR/+x/eg+cgjsXNApFeHGBTleIEeXcFHIyHWbHCMTHpEmIed5jQxRJFvJNJaAynWwqMnUh0mDPmhs4i1XKxYZ4zJuM7iBljgpF4C63uEoJ2BnNM1oUZQJDV9xtsPg68wf7H0lK39prJ+GrIMgL8LASZALZVmSA3JVmHXddbj843ciKoRo27pN/HU/ClERgalt64hjd0W4sPBYjhT5ZkDJRKZBJJIgpixwURI1VMo4KHoxiq6IE9mXIoBjGEWuiAGHwqMfmbhkxEdGvLvpuVjERdDTjtKJo3D2Hka4dRd6N21Hz9btcHp6sPvtt9Fz9BiObd6It37yCN566nHsfPtNtB/YBaevCxkRX/0dHRjobEfx1ClsePJxtL3+toiavXBlmR+V5GaEJuel5JRMZeKChGdAwlhy5NoiuQ9sBiXXwQEvaZY0SZT7JbeBY1x5ci9Sk9vLW8O1srnpEFnTT+UCmJJNly8mbIb24IMP4oEHHtAKtooySWBxRyBOm86WOQGuJJPMQTFFOPKeFztOoe/EETTNajW5Kt60RhEhGdnOE2Eh6YAssw6cM3TSdjgFiDAx+Q3ixZkbw07nmJsTDfSlORbFApIuEUFdPaia1gKvqgrHDhzE7IXzsfWNN9B++CDqSh5cz0NUlcG0+fMx58o1aO/tQnVzs5wuRiLzuVwN/FweyIgsk3SJuSYcHJN1csL+PhzbuAWde/aj1N0HP5tBvqUF869Yg9zsGUawJJmcGZIhlmtiDR7fceHJQZgxwpwoipD0GiMj/nijOJTEB7KpiGwkeg9hurERiVM1lWQxmzZdvjBUrIwQFSuKMvlgokinbN2uqYzKpNJ0t89iDg76GGNg2y7sfuMdLLv2SlQvW4xQxAEr5vIAzCVha0InKiEuFIDCAIL+foQyTUS51LbMQF9PtxwyQjaTx5YXX0DU3mGOW8y5SLI1WC7ioXnBfBErR9C6dAESERZuxoFDASLiIRGRkYigSMTphZL+RGKOLM9JKJKII0VJmiQWU6xQR1AwyPmcKDC5NQhKEq4iCic6cEQE0cw58xFWZ3Hi4EEsXbEKA509yOaq4DXWI6ny04Ezk7Sxd1r3hbIuHZGKOiXNYMrIsWWBUNYnad80rggg+ZeTfVWsqFg5X1SsjBAVK4oyuaHfNfU46NzL7jdxxPs6MTID/TjxznvY9/ZbWLp2DWqXLUFfLmM6jjy2azdmzpiJLhEBBzZvglvogzPAOiIJovqZWHnXJzFQ7BfhE6Bl+gx0HTuCnBw+44kDq6uFX1tjckUizxNpJLJD0hZqBYdhYTCY1kjqzdwcjnOULqRgkYVmnIE0B4Mm+kTEgswI3N9jPRv5h0wiYom5O7JCjkFxNVAQQdUzgBpZvePFV1E42Y5sUx0a5rWgaX4rctNb4eckbGUpZ3JfZMraNJEIpcjjnGMEC8ef4jwDwWIuzvryjyGdiqhYuXBUrIwQFSuKMrlhAhmJc2dOhcXkWMQcLDGAF/Sgd/tO7H9zPfpku9yCObjy9jux672tmLtkCUqdaT2R2qosqmqq4ecziLL1cGvrxYGLRhCfn/gUHGnlWYoZLxSHLis4ECO7+GfeBc/O4qJKjFyQFSZkVAxEjmlLYly7zGwh6oOiQYRWKGFn53YOi4W4XI7LTU1YZEpBkwkixD2dIlba0H70ELpPtaGntxsty1dj/srL0XWiHS1z58MRYZQ4vuzHkCco+SKt5BxmIEw5MJtLs/M9VuI1J3LZn43MTkFUrFw4KlZGiIoVRZn8iO82dVMqkcRT3ne6+KIogACF7g7ExRDZTBUyDc2InazIgNgMpMgiExYjGSGQYUd0sm9CaZIW0aQFKXTkZgl8ESvMKLGpM+eZYSJJTOrnZZ6reHZO2fsumysniezPYiBRNdze4hihlS5IxQ+XpSZ/OdA2SqItSq6IrUjOL8eJTKUUhrsIL4lMa6P+jm64XjVKYYx9O3fhiqvWYMO6N5CV88+fOxdVTc3wqnOmWApeDhFzoDgEiYSN4yzxXGaAzXIyOZz7YTo6Gozluc6EipULRz2roijKR0GfLX6W+QTW6IMjL+27xE3yiL1aeC1zkZ2zGG7TLCTioONMJEJFdhZHz9ZGGfmbczIiVNIck0iEAGVDVhRHLnaMZWWdH2cQ+hEiP5RjyDloXiCpdUHOy9yJEIFMuU0sBjmP70agNMpS6MhxWZk1kNR90EQgBRnXWEJB5Mr+ctxCPsSAGI/ly/7VrPArKoctlOjbHVExXlIr8w1y/hZUtyxCblorqqfNwqq118D1s2htaUQ26MeR9a9i44//Htt++FO0b3wfXmFA7ltJFJVch2m6LRdKMxIrrb/C+xeGcn6xSMwMB2A1BaeVxt2GQOef7s/pB8301Fs+rjGzrbXT56w0GzYaewKu3Cbm+lgCwtUMjzKmqFhRFEU5CxQnbNE8aMwgYM+1Pn/YYTpY40PEQNYzxTqebOR7NFZHFREiB6FosWMRMcfB9TPpwfmFz498TsTSzv9lHzPlPmIcCoAbyHE5DABzUDj0B5dyOXvdTfeR9SYkp618aJ5VFlCwiEySqSPH4bF4UX7CfeU3jyth8yVsGbkmiqyshJGtjxyOfyb7+bkMsrV1cDJ5tF5xDZbf9XNYdPf9WHTb3aidOx+FkoiB/hJ2v70B8clTiA4fRuHoAcTdJxEGPeL8C4jiIhIWQyVp2L1IzhtJuJgBk2oyxIEImkDUgcybejcyDWRZZPqAERFn+nuReRF6bFodyjXEvJ8yZTEdm1p7sp9LEcZt5NpiWcZWS8x5cll/R47jlQbgDnQj7DmJqNSJoNiN/r4OOVk/CqeOStj3YeD4YUR9BQmLXJucNxDhxT5lGFzzx8woo4UWA40QLQZSFGUqw9yH08UpsQgMESHiVji2WufRE6ivr8GRd9/D0T17UFtVhcbpraifNQPVs1vh1TcgKFcgZsVgTyxL4SVHol4x3skorfLxI4qXEBkvLS4zLbRE7LDIjZWeYycUUSciJAiQFAYQBSUU2PpK/jFThC2wOttOorGmAfFAH47s2glX1rO1FsdN6hNRs/CKy0UtZnHyRAcWLFyIna+/hoGT7fCamrDwlttRN7MFoYQzZiVmEXkMKwWRwajBM6PFQBeOipURomJFUZSpDJt10wkTVjxmloUjyWAijt9IjChA1NuDQlcn+g4fRe/hE+jo60WVOP3LbrkVnT2dqJveIo5e9hNx4QeRHC/tyTcRxZOtrkMxLJl+bqpdB10HDpg+aaKBAkoiMoox0Dx7HuqnTcepA/sxc+4cHH5/M9oPH5KwyDFMRWIXVY2NWCJi4+DevZg9ZzaCgX7s3LQReTlmTS4HP1eNqKoWLQsWAbk8SqUAtbVy7lPtcOMITr4KfkMjXBEYJTBsnsmZUrEyNqhYGSEqVhRFmcrQATPdM4JFBAULjuhW2NLJjEbEHnklbXSSWJx6AKdUQqG/H4W+IuqbpmH3xs2Yv2QJ+tuO4+SePcjK+lIQojcMkKnKY8kNN6G7s0OOHaFpRjPeefEp5BMOguDDy2UR+TnMXLoETbPn4OjJk5gxZw66jh9D0N+DqmwOeREirmyXFSHi1DQilON7GTa3TuvNsBKxSbYljEniIRBhE7LFkkgtXpepXCzX44bRYFFfyIrHss4xRXwqVsYCFSsjRMWKoigKi2xEoIg3ien05bdNCdmni/h2IS26icBxiOjXJb2MZYmIBzZ17hWB0d52WASGCIvqahEUGSCfRb6xyVQHYaPuXMZBNNCLjIgK2TvtnVe2iz0fAYtlIlkuBzcCQvawSAjM2dniiaT91cD0BXPaAXKr9DevgSMLEG7nSQjSNltsoi2IZmHrK6ocHjJtVSWoWBk11LMqiqIoI4Yfax4/2CgW6MfNlEMWyDIuF0Fi6pV4GSReVsRATgRGFnF1LZKqLKoXzMG8q6/D9MuvROOS5ahdsADVrXOQsCJvTS286jpE7IyuoQVJXRNQ2wjk6uV4VQj8jBxPhISIBd9P4LIVFpUIjcJEwsdWTr4EimbnmSWSuCKeHNa7iWQ7VlZ204rRpiKzXJNPSysXsyKOQ+O1WqHCi6cnVW86qujtVRRFUS4K7HYmE9FEDEShKUIJvQAlP0BRfH2JtW6NY3dTp09BYNREmlPiZEXMZHxTeTVy2U8Lcx5Y9CLLKHhCD5kwAyfJlJezeMlBNnBQFYh2QYhQREcgVnLSQSITI1pEiMhvdnSXYXEOytuIYBkQxTEgh2L4UuUhhKJjxPzy1LQFjxw5ZjpLOLGbf/CHMhqoWFEURVEuCqynUig7/pKfmPGIWOSSEb2QDUPkAgqGRCw0FWnZTUyciMCIKR5kf+4gZvp3iR2zngIjGybIm470IlkdIxQBUjQm+1JRiBhyXLFYxIwRMXRtLLLxEHAaidhJPAmTj5In8/I7E/gicnxUly0nFngicORYUdl43HRezlMu4pFLMS2VlLFFxYqiKIpyUaAwYeYJp+yvha1wTI4J65gw98RlMYr8Nn27iPuhmPFEYLCiqogI1vlzKw4iu4jJ9mY+3ddsI8f1jLFfGLMRD5TuI//YN8xps8eSkDgigJhDY8IhVi7qMb85ZfGOI+Eom2xUnpfwyWGYn0OTMyljjIoVRVEU5aIg/tzka6Qd2bFoh26dIoKqhKJBpkZY2N/yUwQCjfuwzkv6W5ZzUxEQohQGzW7LI6fnSOdFZsh5aLJd+e8HTP7QbJ4L582KcvCs8ViUV8P/Kx+rbMrYwuemKIqiKIoyblGxoiiKoijKuEbFykWE/QxotzWKoiiKcnFRsXKRUbGiKIqiKBcXFSsXGY6TMVmwOUWVppw/eh8vDnoflcmExufzQ8XKCKiMYHaeYsXOj5bJn1Gxoedh19AcUdXaWFzbaJr8OaMNt/35mPw5o8VRjDCouI/yu3L9cMcbTyZ/zmjDbX8xzcL50YiP8ufMVsFw+462yZ8LsuGONZYmf0bNhjvf+Zj8OaMNu30Fg8vj8rohNrj+HIwMjc/KR6NiZQTY0UZtbgojIfsMGBoxL6aZwTdG0SrPxSaCpk+DsnGZfbHsdVduP55tuGutNJsAXZBFwx/TmuluXCzh/ZLzsJfvyvXcf9jjjgc7y7WNVdgZ34Yy3HbnY8Ndj7WENsw+Y2XDhel8rPJYNp0KguADaValVW4/IpP4PVx4LpaNKL6dQ9iG3c+anDsqSdonHx5xSeLj0H3PEjbe5zPh+75Jb5Uzo2LlImEjIiOl7QtgNIwt/BM6vlEwHvvD5zuNvTZOLUO3H692tvs23D7nY8Md87QxseIwbOzEyjEDoFWuH+5448ZG+b59lJFKZ1r5jhF+GAy337kahrme03b63Pb8wx1jtOyjw/bRNtx7zGvgNI2LHzQydPuR2HBhulg23PnOx4Y7pjXe88ptSWUciJIIcsd4syAxArG805X7m38V+w81wvtt45NyfuioyyOAXyidnZ349//+3+Omm24yuQ/ETkeFM4vzi0NF0Bk1KqNHGKZZ7/l83kzJqF7rxeRs9y1N4y8M3qKPfIvS+xhGcv9kmjE9dbIXqjIjOfdoc7ZrG6Ow8/6VzOi8jvkK5W+KlRFxtjhxKaP2SN/zIe+xdbiE76x1nqTSmY6Ys74LI2Qk8e1cwvZRz1zu40BfH7LZPLxMmoOedkZX5ixh4/a0PjlGR0cHfvu3fxsZjiwtaM7K2VGxMgIoVpiAbtq0yURCy6hGutF+WkOCbsUIE7p33nnHvGg333yzebm4bMK8YGe7byO9jI84vokbcvy3178lcSbEjTfcIB9xQxK58cxH3bsxCDvvn41/LMpg/LNxb0Txb7TjxEg4W9jOxjBhf/vtt5HL5bBmzZrRfXdHGvaPYqRBPsdnPlx6zmKkRx55BPd88hOor62XQ8m/ynt4lrDxmDY9ra+vx6JFiwZ/21xC5cyoWBkhvH3McajEquVRgacarSfGd4X9UZdhgsbrs/bCCy+gt7cXn/nMZ8x6vlwTJmflbPeN132haQU/WD9cpWIQk30s9+/pZ56Wexrhvp+7R07F+1bOGeBkvN5GXtdHfeWPYtgZ/+yU9++ZZ54xYuXee+81y5nAjyj+BeXpmRjF1/isnC1sH8WQ99i+v7x/1dXVuEHEMuEHBz+4Lqqj5Ds2mnVFRxLfziVs8swZ33hfCO8Lf5t4Jvt/68G/wJd+5VdErDTJWi7nfSu/xwxXeVa5+IxSMjO14MteaZMFm4DZCnmzZ8/GggULzDImfvolcO7wfi2cvwDz580dNa05WeG9I3PmzDHxz4pkjX/nDu/h/PnzMWvWrPKSlMmUXo0GvG+8R2l8Ay5btQrZTF6Wi5DW6DemaM7KROMS5Kww54hftDQ6CGZhcrl1GhOCS5izEvOf3EsWGQZBEfV1tZqzcg7wnjGOcUoGBgZQKBRMnSkWZ3AdcwcumCmSs8L7R2MRLqe8dzT7DpOLJlr4jk2inBXOM97xfjGu9Xb3wHdcZKvktysfp6buWfneVbzSysVHxcpEg+/QaIqVipeNLyqjR39/P5599lm8//77qKurw5e+9CU0NDRMLLFytvvG6x6JWPkIh86iH1asffKpx/HSSy/hD/7gD1CVr5LwyL3jOTkx2cnjkLPdNz7+UYoCjHt0GoxjFMo/+9nPsGXLFixfvhyf/vSnjWixzvaCOJvjGoEOGjEjcfhD3mPeRzYE+O53v2uKcZlD9bnPfc4UCfH+WbsoMK6kfn50GEl8O0vYWAeF9433i2kf2blzJ/76r/8aS5Yswf333Y+HH35Y7mUH7r//U7j+mmslblbc7CH3Xbm4jFIyo4wafBmYiI6GneFFYx2cq6++Gl/+8peN0zh06JB5oScUZ7tvI0mr+RYNd8yyJXLutlNtWP/22+gvFBDwq81zZXk5cTSp6DjlbPdtFFMQOlAbz+hsWZH9vvvuMy3vLkq9sOGup9IuJcOF51xtmPe4u7sbJ06cwNq1a43gY26pvb8X9V3mezRcmC6WjSS+nS1sfBflXlAc29Y5M2fOxLXXXouuri5s3rIZ1TXV+OQ99+DZ555FbN572alif2X0ULGinBGbiPHlbW1tNV9lzGWZPn364EutnB06BlZOZp0B5kgRm2ulnBneIxZPcNre3o4dO3bgySefxFNPPWXuqd6/c4P3iTmivGfMIW1qajJij8svWo7KJMPW0+N9Y3pHWIzGOlNXXHGFEX/K2KLeRjkjTMz40jJB48vJbPhly5ahsbHRLLNZpcpH09PTgw0bNmDbtm3YvHkz9u/fX16Tog7jzNg4ls1m0dLSgp//+Z/Hu+++a4Szcm4wfh0/fhzNzc341V/9VRw7dszUw7DvtpLCe8EPMMY5mhXDnNIYB5nDwvfZij1l7FCxopwRWwueiRrLu5kNb19YLteE7tyguPud3/kdfP7znzdfZsxa5r2rNGV4GM/oFOho582bhxdffNHczxFVrJ1iMH7RuTJ36rXXXkNtba2pMMp7a4uDlOE5efKk6d+HuXrFYtEUobEOy+rVq8tbKGOF94dCeV5RPgC/LpiQsZ4KEzU6WWaLsvljZeU85aPhfaSD4D2jWFm4cOFgmbjy0VAoE4pkFqHxXrJTODajV8F8btj4Z1vxfexjHzP3j/P2/vFeKim8JzbXhMXeLP5hEe6qVatM5WTGwzvvvNMIPm36PXZoayDljFhHYRM1/maixsTPOlt1FmeH94vGe0fhxwROcwbODd63yinvHe8h4yQFjMa/s8N7xXtm4T3kskqxp/fxg9g6UbwvnBI7tfeK90/Fytihclo5I5UvKl9evpz8zSxlTdzOHXvfKPb03p0fFCm8b5XxkEKP99EKGOWj4b2jU6UxLtplFr2PZ8Z+oNn7xqlNF/U9Hls0Z0U5I4waNCZm9iW1y4l9gZWPZqgz4H2cqAmdzW3jNTEemE6xJDqYoY4YLRhn4MCV62PfMrxK9iETc3h+i2wrsclsnq47PU6NjVv269/GPTu168lEvo9jydD7WHmv7T3Vd/mD8D5ZeH9oNk4S3kO9b2OLihVFUc4ZipXHHnsM69atM3UgPnPvp7FixQojQCT1Nv3cmaH2ZeKKgmG35EanyLpnX3gOjQ2NuO6aa7nA9KPneKnjrBQjdARaTKYoSiUqVhRFOWcoKtiL58qVK01l4TiM8M6776JUKGHO3NmYN38+Nr79LopRgKuvusb09rlj+3ZMnz7DNN/u6u3C5atW45prr8Hxo8dx4MghU3H7yiuvLJ8h/WpVsaIoSiUqVhRFOWdYZ4RNNyk82KLktltvw7f/8i9x190fx8YNG3Hd9TeYHo5zGR+un0FH+yksWrIEK1eswMsvvYLjx4+gobFJ9m3FwYMHsWT58v9/e2cCVcWV5vE/PEA2Zd8h7riBdMAV0XSUuESjdpaJSwsad6LGJSdjXHricenuRCWuqDHRZNRJtxMzGoPRaPQcg+I2KolijCu4gOw7PN4y33cfRZ4MaTVj2jcn349TVL17b3333nqn6vu/u5VayjwyMrK+aV3EiiAIDZEON0EQHhoWErwC6vTp09XaMS1btEBY8+YkVuJhMBmRfSsLcbE9MWDQQFy9flV1Aw0eOAjtO3SEezN3dOsZS8IlHHn38hAa1hznzp3D7du3VYuNNh6G8xAEQbBGxIogCA8NiwpuXeFVUFlkVFRW4vadOzh18hQcdDoE+vurdyB9m5aGsOBg9abp9OMncPPmdZjoPEdHB5h4oKfZjE6dOiImJgYnTpxQU2s1kSJiRRCEhkg3kCAIDw2LChYXGRkZcHNzQ+sWrbDzs51qwayIiEiEt22r3oNUVVWJ+H7xKCjIx+mTpxEYFgIfDy94eXuT2KlFfn4BKsrLcSvnjhqg271793qRYj3FVhAEgRGxIgjCQ2M9dZkpLCjAga/2Y/iwP8DV1Q1mO3qc1D1SWHyYzCbYm3Vq7o/JzGtWOFC8kdLxjCF7GOmPxYn1bCARK4IgNETEiiAIDw2LFX5kaI8Ns8msuoV4kTYFN45oT5S6YxYtnF7t6U8FW6dpAKeTAbaCIFgjYkUQhIeGHxeaYPm1ELEiCEJDRKwIgvDIsGDRum5YXPxStO4kRnsUiVgRBKEhIlYEQfhFsGBhYfG4xpfwo8h6Y0S0CILAiFgRBOEXoT06/i8tK41h/Uh63LYFQfj/iYgVQRAEQRBsGpkfKAiCIAiCTSNiRRAEQRAEm0bEiiAIgiAINo2IFUEQBEEQbBoRK4IgCIIg2DQiVgRBEARBsGlErAiCIAiCYNOIWBEEQRAEwaYRsSIIgiAIgk0jK9gKwoNo5A4xNxbYAOuF4h/XTcY2/5EtO/rTyvagtI8L63wsdbb853JYl+dBNJb2/vo0bsuS28PX9R9dl5+Lk2X/BeHJImJFEB4E3yEGyyFTVFSETR+kwGAyIb5vPGK6dlHOzAwT7NndmezoiI7ZwdFmMppgZ0/HdKuZTGyM3K5Kb3Hm3L5ZXFoMFxcXODk5qTgVT+nVMdkzmgx0s/JLAy02rW9aZUOF1OXB5ynrFGJvD7PBSHlwnEqhbBgoTUVpGbZ/ugP5hQV45pln0Lt37/o8Gd4baw0oKSlBWWm5CuN3Fnp6eMHdzc1SRqoP143fnWw2G8k+JVDlo3CylV9UAF8/v3qbjPbIUXlR3XhvqZaOzjJRXmVwcHCESxMn2OscYDTz1TTB0c5yzLZqqmtQVVUBD08vS53s7CkF5895838OZWtk2/Kt0HUxooRsu7m6Wl6QqC4QpafvR0efjRTP14bLzdcQDpY3Smtvl35cL2wUBOHREbEiCA+C7xArsXLr1i1MnDgeI0ePRGzPXmjeogX0NTV1rlF5QNiTsOBjMzm7Jux0yZkeS0vDqbNnoGPRwanJ+f1h6DB4+fli9pzZGD16NPr06WNx3hTHTrK2thaZ32fiyo8/ws/fDzHR0Wjq7qGcqBG1ZEencmXYJbOTvXv3Lk6dPgmDXo+OHToivH176A21yDifgZs3byI0OBhRT/9OiZ+09GP4/L8+R1RUFCZMmKDs8sZlqK6uVmJlz+49SEs7qpQK1+uFYUMRFxtH9WoCo9GAL/elIutWNhyoBCwmWrVsiUEDByM/PxejExNw8ODBeqevUVBQgG8OfaPe3OzAQoPy69GtO4JCQrBm9fsICg7FiBEjUFRcBIPBQLWkepoNVAQHuLu7IT09DTt3fY61q9eQbao5P8ZIkZD2wb3cXJSTKGnduo2qx+UfLtO184WnlydmzpyJhMSx6BLTBRUV5SgvJxHG59aJObOd+gdHnQ4ePl5wdHRU5eby6yhMEIQng4gVQXgQfIdYiZVscswzZs7A+rVryQkGoLioGCuSlyM/L5+cqcXpMSZjLapJbMyaMQtR0U/j+wvfI+v6DeX4qqprsGFDCha9swiRUZGYNGUyCaCJqoWDnaJ2Wx46dAg7tm1Hrx49cS4jA6EhoZg96w04NXEl32ykFDr6zy06JBSokBUl5Xh74XwE+PvDx8cHhw8fxrx580jsXMG+ffvQq1csTp8+g+iYaIxNHKdaGFatXQU3NzeVP6OJil27duHIocMWEWAyw2gyKp+us9ep815++WV0694d58+eQ1FhsUp3lERNSWER1el3OJ9xFt8cOYLvvvtOiS9NBPGWS4Ji7969IKNKkOzeswdTpybh5MkTuJR5iYTKSPzLy6/gnUX/htt376gWHCfK8xYJsblvvQUDiSK+Lp9s/US1HtGTjLKnPdn++66dOHE8He+++x6qa6rx5ptvYujQoejf7zlMmDwBUyZNQfduPXDw0AFs/uhDGA1Giw3+4owWkcaCaE3Kevj5+SlBxYhYEYQnh7RrCsIjQj4ZOgd2kNwKATRt5o6EhARMmzYd016fgWlJ05D0+utIpF/wWTezUWWoUefcouOTJ0+SWDilHHl1TY3lFz0ZYWfOTpH31r8fbty4QU58CsZPmID58+cj7VgaSsrLya2y02e5orVWcLeLHe7dy0EgCZV5c+dhMjvlHj1w+OA3KCwqwttvz8P418ZjatJU7P9qP0pLSpUdFhEanLf2mVt5RowagZZhzeHu5oqmvDVrhrbt2iFhzBhEdY6iB4gdHJ0cYe+kg87RAY46R2Wja4+u6NsvXjl4rU7axvhTGcePH4/EhEQ0I5udOkWgW9duGD5sOFq1aEHpTHBxdcE8KvPq5NVYlbwKy1esgIdHMxJKZJOvPdlha6rlg+rO5zDGGgPKS0tJEOUgL+ce1bPEkjdHUjq+ZPw5LrYP1q1agw3rU7Bu3TqkrEtBysYNqlw1+lo4OzvXCzeugyAITw65AwXhUSFHqcaF0F5HWxNHJ3QI74ioyChERkQikpx4RMcIhDz1lFI2fl4+fBLOnj2D3Lxc9OwZi7hecVi4YCECAwJRWVWpnKJ1i4pGYmIiukR3RWFBMY6npcHbx1sJgoqKCpSVlaG0vBQVlXRcXqbshD3VHHNmz1Flq6quRH5eHnwC/DBuXCJatW6FgsIinDt/HiGhwXB2cYa9zvIIYGfc0CGziNj59524eOkHxD/3HIYNfxF94vog/UQ69qamwq1pU1RWV2PFymRs374dqalfqjI9HR2N9GPHcWD//npnb10vPjYYDKq76sOtH5EAO4bpSUm4cPF77PrPz3Dl2lXVbcbl8fH2UV1YrDF8ff2RX1BAQidQiaTK6ipkZ2ep8TxKuRCmOsFy4cIFzJs/Dwv/tBBXLl+hPHncCXfUUbyOvjd7HZycneBGQtNg0MPb25vSAK7OrjCYjGhKdWOxwvD3Yi3oBEH45yNiRRB+DcgxlhaXqDEfniQwePCpg5MjsrKysWfvHjXOY99X+/D++8lIP35cnaI5dN5rxxYBYYeUTevx3ooViI3thbs5OSRIZuGNOTMxe/ZsvPHGDMyaNRP/+tZbuH3nDokQFxQVFapuqtLiYvTv1w+ODk6orqzEmrWr8cHGjXj2mWfh4txEtUhYw/mxY1ZCjJz0iy+9SAIoFN9++y0OfH0Ax9PT0aF9Bwx5frBqoWBRwWWN7xePSRMmY2ziWERERqJly5YYNyZRDRhmNGfPexYw3L21cuVKmA0m/GXZXxAREYFnf/8s3po7F88PHkKizId7dpS42LbtE6Tu/ULVhdN7eXkqG9lZWVizejUKCgpVWfg6sYjh0UIdOnbE0sVLsWjRIrQJb6u6kRrCA4MvXMjEgj+9g1p9LZKTV+DUmdO4ezuHhGZofauQIAhPHrkTBeGxw60u9ridcwf+QYFwdXGlMHuMGjEKc8kZDxo4CM8PeB5DX3gBo0eOVANBo6Oj1fgIa8HC3ULcAsHtAVMmTcbSJUuxb9+XMJoNmDBxIqZOnoopkyfTPgmTJk3C2HHjlI0ffryMxUsXo7yqEvPnL0RAQBBqa/SqHK8nTcPsOXPw79u24e6du+AZMtawCOC8s0gIbN68WbVQ+Pr6wdPDEy4uzqplx5eExPHj6djyyRaUFBWjY/v2agDu+g3rsOmjD/Afn36KHBJUTzUPq3f2LFLYLtvn47i4ONWVxANcd2zfjndJiG3ctBF/+9unKOTWIE8vqjddR/qrqa1FRWUVG1Hl9/HyJaGhQ9vwcCxdtkyNzzGROLTAXWo6JdiCg4IRFBgIlybO0NH3wXHW2JHAqaZrlJeXq6JyKd+amhpU66sQFdFZhIog2BByNwrCw8B+znojuCvISM63rKJcdcPUb2VlqCgrx7Wr1xAaGqp+tRtMBgQGByPnXi42bv4An33+GbZt34bNWz7ECnLUR44cQVVV1X0tGzwTaPny5bh5Kwte3j5qarGDkxMqKioR06ULunbtii4xXek4Gl26dEV0TAxq9Hr8edlSxNDx3LlvIyQ0BGWV5Vi/MQUFRYUkPHwR16s3CQA98gp4QLBl0CiLCN44fxYVHh4eaNu2LfxJ/ER27oRWbVpj/1cHEBgYgM6RkegcFYH2JFKaeTfDzFmz0LlzZyQmJGDZn5fh3b/+FWP+mAAnZxeEk6DQ4Dpp9eNuloCAQHTo0EHNVmLBwy024e3CcfFiJq5nXUdefj7++9xZ3Lt3D3dz7iLz0kUEBPrji9Q9yM6+qVp1XEiAceOQEiP8vdjzOB4jrly9ivdWvofkVcm4Qba44UWTMyyCDEYDag166GsN6nvU6y3jivQ11Rgz5o8Y0H+AEi6aeONNEIQnh8wGEoRHJDs7W02BXb16tZoVk5ycrNYi0eBptNwiUEDOlh1zM28vjBw5UomNTZs20S/5PNUSotJSPLcu8IyVWeT0Y2NjVRjDt2ZKSoqaKj1w4EBcvnwZBw4cwPr169VMH+6mYGeqwce7d+9W8aNGjVJTizmMRcfRo0eVGOIynD17FufPn1fl5rEavHd3d1cDS1lMaKKlsLAQSUlJ2LBhgxJOvH/ttdcQFBSk8tPKyXB9Xn31VfTt27de8HDLEF8Xy3gQy3Rs7XHDe+7+Wrx4CXr36gVHuo7amirlJPb6D+ivru0Xe/eqcvMaNJwf14mFDs9eYoH38ccfq3Rsj+O57FeuXMGpU6fq8+LwXpRHWFiYquPUqVOVoNyfmopc+o5uZ2WhU0QkLl/6Af5BAfDx9IQdlcXLxxtz5sxRY1fYBl9vQRCeDCJWBOERYbHCTnzx4sVoUbfGCnnGulgLJgMvdMbOnH6V097do6lytFu2bFGCok2bNvXOnoUAi4clS5Yop6qFs+PlabSp5FTZ+bLTf+mll5T4YCHAzlO7fTktfz5z5oyaKmztWLkFhM/hqcIZGRlqJs4rr7yCwMBAFBcXKwHFx7zOigbb5cXveHoyt36wWOCysDBg0cHrj4wdO1bZZmbMmKG6jlj0WMN14VlMWjq2y+dzOAuoBfPmo198PFybuKgWEg7nQbJRkZ1VOC/Upp3HcVwv3n/99dfYsWMHtm7dquI5TIOPrR9r1teIxcqUKVNUnUqofjyjimLou+JF4rgFhcQfn09/9g46hISEqHO5zCJWBOHJIWJFEB4RbhlZsGCBcuDDhw9H77g46Mw/OTJ2eNzeUbe+GB3XrWBLcCvJtWvX6lsZtD1vkZGR8KRf9YzmcHnjY3a0vNecMjtODmOsnbOWnsWMdXrtmIWR5nRZqHDLDYuvIUOGYPDgwfflyeNlMjMzVVotXDuXy82OnLuLGF5sjlsrNDQbDAs6bg1hOJxhO9y9c+lCphIGnNISQ3WhCxfkH4g2JLC4o5rtcH5cXz6f68aLyl29ehU9e/ZU8RzHQkqrt5a/VmbtWqWlpaFdu3aqZUpNd2ZRogYJW0QKKSXa8SJ1dL11P00pZ1ta3QVB+OcjYkUQHhF2fNp4Bp7twg7tPrFC4kS7qdgJqiXv6U9zqprz1BwwhzNaWGNojpfR9tp5Gpp9Ldw6HR83Fq7X6+vLxK0ljdm2PpfRPmtpGevPXAfrOC09b+z46+vISX5KVg9fK1Z7LBa068Zbw7pZHzPa54ZYx2vHDcuoxfH+vjISmt2fsy8Iwq+PiBVBEARBEGwaESuCIPwmuX/S9v9GOn0EwXYQsSIIwm8Sfd3+57AsZycIgi0gYkUQhN8kVu+mbBSHur0gCE8eESuCIAiCINg0jU89EARBEARBsBFErAiCIAiCYNOIWBEEQRAEwaYRsSIIgiAIgk0jYkUQBEEQBJtGxIogCIIgCDYM8D/9PJSdaYf1LwAAAABJRU5ErkJggg==)\n",
        "- 그래프를 보면, 배치 정규화만 추가하였는데 손실은 이전 대비 더 안정적이고 빠르게 수렴하는 것을 확인할 수 있음"
      ],
      "metadata": {
        "id": "uedXqnCOKz_M"
      }
    },
    {
      "cell_type": "markdown",
      "source": [
        "### 4-5 활성화(activation) 함수"
      ],
      "metadata": {
        "id": "5RI_hPZkK75U"
      }
    },
    {
      "cell_type": "code",
      "source": [
        "# LeakyReLU 기본 설정\n",
        "tf.keras.layers.LeakyReLU()\n",
        "\n",
        "# LeakyReLU, alpha=0.2로 변경\n",
        "tf.keras.layers.LeakyReLU(alpha=0.2)"
      ],
      "metadata": {
        "colab": {
          "base_uri": "https://localhost:8080/"
        },
        "id": "93gI6aICKm94",
        "outputId": "9a6a9dfc-bdb5-490d-b30d-4b10102f5f2b"
      },
      "execution_count": 71,
      "outputs": [
        {
          "output_type": "execute_result",
          "data": {
            "text/plain": [
              "<keras.layers.activation.leaky_relu.LeakyReLU at 0x7fa8e2dc2250>"
            ]
          },
          "metadata": {},
          "execution_count": 71
        }
      ]
    },
    {
      "cell_type": "code",
      "source": [
        "# Model C: Dense + BatchNorm + LeakyReLU(0.2)\n",
        "model_c = tf.keras.Sequential([\n",
        "    tf.keras.layers.Flatten(input_shape=(28, 28)),\n",
        "    tf.keras.layers.Dense(64),\n",
        "    # 배치 정규화 적용\n",
        "    tf.keras.layers.BatchNormalization(),\n",
        "    # LeakyReLU, alpha=0.2 적용\n",
        "    tf.keras.layers.LeakyReLU(alpha=0.2),\n",
        "\n",
        "    tf.keras.layers.Dense(32),\n",
        "    # 배치 정규화 적용\n",
        "    tf.keras.layers.BatchNormalization(),\n",
        "    # LeakyReLU, alpha=0.2 적용\n",
        "    tf.keras.layers.LeakyReLU(alpha=0.2),\n",
        "\n",
        "    tf.keras.layers.Dense(10, activation='softmax'),\n",
        "])\n",
        "\n",
        "# 모델 요약\n",
        "model_c.summary()"
      ],
      "metadata": {
        "colab": {
          "base_uri": "https://localhost:8080/"
        },
        "id": "uKhy_PRKLLa5",
        "outputId": "f6ab6693-5ee6-4ab8-ccda-a23b365ed2d5"
      },
      "execution_count": 72,
      "outputs": [
        {
          "output_type": "stream",
          "name": "stdout",
          "text": [
            "Model: \"sequential_9\"\n",
            "_________________________________________________________________\n",
            " Layer (type)                Output Shape              Param #   \n",
            "=================================================================\n",
            " flatten_4 (Flatten)         (None, 784)               0         \n",
            "                                                                 \n",
            " dense_32 (Dense)            (None, 64)                50240     \n",
            "                                                                 \n",
            " batch_normalization_2 (Batc  (None, 64)               256       \n",
            " hNormalization)                                                 \n",
            "                                                                 \n",
            " leaky_re_lu_2 (LeakyReLU)   (None, 64)                0         \n",
            "                                                                 \n",
            " dense_33 (Dense)            (None, 32)                2080      \n",
            "                                                                 \n",
            " batch_normalization_3 (Batc  (None, 32)               128       \n",
            " hNormalization)                                                 \n",
            "                                                                 \n",
            " leaky_re_lu_3 (LeakyReLU)   (None, 32)                0         \n",
            "                                                                 \n",
            " dense_34 (Dense)            (None, 10)                330       \n",
            "                                                                 \n",
            "=================================================================\n",
            "Total params: 53,034\n",
            "Trainable params: 52,842\n",
            "Non-trainable params: 192\n",
            "_________________________________________________________________\n"
          ]
        }
      ]
    },
    {
      "cell_type": "markdown",
      "source": [
        "- 앞에서 생성한 2개의 모델과 LeakyReLU 활성화 함수로 변경한 모델까지 더해 총 3개의 모델을 동일한 조건으로 10번의 epoch동안 훈련한 후 수렴 속도 확인\n",
        "    - model_a: Dense 레이어 + ReLU 활성화 함수\n",
        "    - model_b: Dense 레이어 + 배치 정규화\n",
        "    - model_c: Dense 레이어 + 배치 정규화 + LeakyReLU(0.2) 활성화 함수"
      ],
      "metadata": {
        "id": "Xh8b0Ms4LTh_"
      }
    },
    {
      "cell_type": "code",
      "source": [
        "model_a.compile(optimizer='adam', loss='sparse_categorical_crossentropy', metrics=['accuracy'])\n",
        "model_b.compile(optimizer='adam', loss='sparse_categorical_crossentropy', metrics=['accuracy'])\n",
        "model_c.compile(optimizer='adam', loss='sparse_categorical_crossentropy', metrics=['accuracy'])\n",
        "\n",
        "# Model A: Dense + ReLU\n",
        "history_a = model_a.fit(x_train, y_train, \n",
        "                        validation_data=(x_test, y_test), \n",
        "                        epochs=10)\n",
        "\n",
        "# Model B: Dense + BatchNorm + ReLU\n",
        "history_b = model_b.fit(x_train, y_train, \n",
        "                        validation_data=(x_test, y_test), \n",
        "                        epochs=10)\n",
        "\n",
        "# Model C: Dense + BatchNorm + LeakyReLU(0.2)\n",
        "history_c = model_c.fit(x_train, y_train, \n",
        "                        validation_data=(x_test, y_test), \n",
        "                        epochs=10)"
      ],
      "metadata": {
        "colab": {
          "base_uri": "https://localhost:8080/"
        },
        "id": "lfTpUIK0LRax",
        "outputId": "4f6fd613-3e53-4b31-c88b-9fba9877f9bd"
      },
      "execution_count": 73,
      "outputs": [
        {
          "output_type": "stream",
          "name": "stdout",
          "text": [
            "Epoch 1/10\n",
            "1875/1875 [==============================] - 8s 4ms/step - loss: 0.2957 - accuracy: 0.9160 - val_loss: 0.1789 - val_accuracy: 0.9444\n",
            "Epoch 2/10\n",
            "1875/1875 [==============================] - 9s 5ms/step - loss: 0.1378 - accuracy: 0.9593 - val_loss: 0.1222 - val_accuracy: 0.9622\n",
            "Epoch 3/10\n",
            "1875/1875 [==============================] - 6s 3ms/step - loss: 0.1021 - accuracy: 0.9693 - val_loss: 0.1058 - val_accuracy: 0.9668\n",
            "Epoch 4/10\n",
            "1875/1875 [==============================] - 6s 3ms/step - loss: 0.0813 - accuracy: 0.9752 - val_loss: 0.0971 - val_accuracy: 0.9692\n",
            "Epoch 5/10\n",
            "1875/1875 [==============================] - 9s 5ms/step - loss: 0.0667 - accuracy: 0.9796 - val_loss: 0.0908 - val_accuracy: 0.9732\n",
            "Epoch 6/10\n",
            "1875/1875 [==============================] - 7s 4ms/step - loss: 0.0556 - accuracy: 0.9827 - val_loss: 0.0903 - val_accuracy: 0.9740\n",
            "Epoch 7/10\n",
            "1875/1875 [==============================] - 7s 4ms/step - loss: 0.0460 - accuracy: 0.9855 - val_loss: 0.1067 - val_accuracy: 0.9692\n",
            "Epoch 8/10\n",
            "1875/1875 [==============================] - 7s 4ms/step - loss: 0.0409 - accuracy: 0.9872 - val_loss: 0.1024 - val_accuracy: 0.9692\n",
            "Epoch 9/10\n",
            "1875/1875 [==============================] - 8s 4ms/step - loss: 0.0350 - accuracy: 0.9886 - val_loss: 0.0954 - val_accuracy: 0.9735\n",
            "Epoch 10/10\n",
            "1875/1875 [==============================] - 7s 4ms/step - loss: 0.0305 - accuracy: 0.9902 - val_loss: 0.0891 - val_accuracy: 0.9746\n",
            "Epoch 1/10\n",
            "1875/1875 [==============================] - 11s 5ms/step - loss: 0.3245 - accuracy: 0.9118 - val_loss: 0.1397 - val_accuracy: 0.9551\n",
            "Epoch 2/10\n",
            "1875/1875 [==============================] - 7s 4ms/step - loss: 0.1416 - accuracy: 0.9567 - val_loss: 0.0986 - val_accuracy: 0.9703\n",
            "Epoch 3/10\n",
            "1875/1875 [==============================] - 7s 4ms/step - loss: 0.1112 - accuracy: 0.9657 - val_loss: 0.0963 - val_accuracy: 0.9700\n",
            "Epoch 4/10\n",
            "1875/1875 [==============================] - 9s 5ms/step - loss: 0.0972 - accuracy: 0.9693 - val_loss: 0.0884 - val_accuracy: 0.9733\n",
            "Epoch 5/10\n",
            "1875/1875 [==============================] - 7s 4ms/step - loss: 0.0822 - accuracy: 0.9736 - val_loss: 0.0842 - val_accuracy: 0.9730\n",
            "Epoch 6/10\n",
            "1875/1875 [==============================] - 7s 4ms/step - loss: 0.0744 - accuracy: 0.9759 - val_loss: 0.0820 - val_accuracy: 0.9756\n",
            "Epoch 7/10\n",
            "1875/1875 [==============================] - 7s 4ms/step - loss: 0.0712 - accuracy: 0.9776 - val_loss: 0.0894 - val_accuracy: 0.9737\n",
            "Epoch 8/10\n",
            "1875/1875 [==============================] - 7s 4ms/step - loss: 0.0635 - accuracy: 0.9794 - val_loss: 0.0859 - val_accuracy: 0.9755\n",
            "Epoch 9/10\n",
            "1875/1875 [==============================] - 7s 4ms/step - loss: 0.0602 - accuracy: 0.9803 - val_loss: 0.0809 - val_accuracy: 0.9754\n",
            "Epoch 10/10\n",
            "1875/1875 [==============================] - 8s 4ms/step - loss: 0.0549 - accuracy: 0.9813 - val_loss: 0.0749 - val_accuracy: 0.9772\n",
            "Epoch 1/10\n",
            "1875/1875 [==============================] - 9s 4ms/step - loss: 0.3189 - accuracy: 0.9105 - val_loss: 0.1432 - val_accuracy: 0.9588\n",
            "Epoch 2/10\n",
            "1875/1875 [==============================] - 7s 4ms/step - loss: 0.1546 - accuracy: 0.9521 - val_loss: 0.1132 - val_accuracy: 0.9645\n",
            "Epoch 3/10\n",
            "1875/1875 [==============================] - 7s 4ms/step - loss: 0.1209 - accuracy: 0.9619 - val_loss: 0.0957 - val_accuracy: 0.9708\n",
            "Epoch 4/10\n",
            "1875/1875 [==============================] - 7s 4ms/step - loss: 0.1023 - accuracy: 0.9678 - val_loss: 0.0939 - val_accuracy: 0.9712\n",
            "Epoch 5/10\n",
            "1875/1875 [==============================] - 10s 5ms/step - loss: 0.0899 - accuracy: 0.9716 - val_loss: 0.0969 - val_accuracy: 0.9718\n",
            "Epoch 6/10\n",
            "1875/1875 [==============================] - 9s 5ms/step - loss: 0.0830 - accuracy: 0.9732 - val_loss: 0.0849 - val_accuracy: 0.9739\n",
            "Epoch 7/10\n",
            "1875/1875 [==============================] - 10s 5ms/step - loss: 0.0753 - accuracy: 0.9766 - val_loss: 0.0834 - val_accuracy: 0.9741\n",
            "Epoch 8/10\n",
            "1875/1875 [==============================] - 9s 5ms/step - loss: 0.0689 - accuracy: 0.9775 - val_loss: 0.0856 - val_accuracy: 0.9749\n",
            "Epoch 9/10\n",
            "1875/1875 [==============================] - 9s 5ms/step - loss: 0.0655 - accuracy: 0.9787 - val_loss: 0.0858 - val_accuracy: 0.9734\n",
            "Epoch 10/10\n",
            "1875/1875 [==============================] - 8s 4ms/step - loss: 0.0587 - accuracy: 0.9806 - val_loss: 0.0864 - val_accuracy: 0.9735\n"
          ]
        }
      ]
    },
    {
      "cell_type": "code",
      "source": [
        "import matplotlib.pyplot as plt\n",
        "import numpy as np\n",
        "\n",
        "plt.figure(figsize=(12,9))\n",
        "plt.plot(np.arange(1, 11), history_a.history['val_loss'], color='navy', linestyle=':')\n",
        "plt.plot(np.arange(1, 11), history_b.history['val_loss'], color='tomato', linestyle='-.')\n",
        "plt.plot(np.arange(1, 11), history_c.history['val_loss'], color='green', linestyle='-')\n",
        "\n",
        "plt.title('Losses', fontsize=20)\n",
        "plt.xlabel('Epochs')\n",
        "plt.ylabel('Losses')\n",
        "plt.legend(['ReLU', 'BatchNorm + ReLU','batchnorm + LeakyReLU'], fontsize=12)\n",
        "plt.show()"
      ],
      "metadata": {
        "colab": {
          "base_uri": "https://localhost:8080/",
          "height": 572
        },
        "id": "ZcyhS0haLsBj",
        "outputId": "92019795-a1eb-46af-bfb4-557ee49c0fc4"
      },
      "execution_count": 74,
      "outputs": [
        {
          "output_type": "display_data",
          "data": {
            "text/plain": [
              "<Figure size 864x648 with 1 Axes>"
            ],
            "image/png": "[encoded data removed]"
          },
          "metadata": {
            "needs_background": "light"
          }
        }
      ]
    },
    {
      "cell_type": "markdown",
      "source": [
        "- minist 데이터셋은 모델별 차이가 크지는 않음\n",
        "- 좀 더 복잡한 데이터셋을 다룬다면 배치 정규화와 다른 활성화 함수 적용해 보면서 모델의 훈련 추이 관찰해 볼 필요 있음"
      ],
      "metadata": {
        "id": "oBcklAJzL0hH"
      }
    }
  ]
}