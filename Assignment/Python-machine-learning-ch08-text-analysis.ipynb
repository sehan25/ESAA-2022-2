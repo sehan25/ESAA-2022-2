{
  "nbformat": 4,
  "nbformat_minor": 0,
  "metadata": {
    "colab": {
      "provenance": [],
      "include_colab_link": true
    },
    "kernelspec": {
      "name": "python3",
      "display_name": "Python 3"
    },
    "language_info": {
      "name": "python"
    }
  },
  "cells": [
    {
      "cell_type": "markdown",
      "metadata": {
        "id": "view-in-github",
        "colab_type": "text"
      },
      "source": [
        "<a href=\"https://colab.research.google.com/github/sehan25/ESAA-2022-2/blob/main/Assignment/Python-machine-learning-ch08-text-analysis.ipynb\" target=\"_parent\"><img src=\"https://colab.research.google.com/assets/colab-badge.svg\" alt=\"Open In Colab\"/></a>"
      ]
    },
    {
      "cell_type": "markdown",
      "source": [
        "# CHAPTER 08. 텍스트 분석"
      ],
      "metadata": {
        "id": "rB-c8J2MGD7S"
      }
    },
    {
      "cell_type": "markdown",
      "source": [
        "### NLP이냐 텍스트 분석이냐?\n",
        "- 머신러닝이 보편화되면서 NLP(National Language Processing)와 텍스트 분석(Text Analytics, 이하 TA)을 구분하는 것이 큰 의미는 없음\n",
        "- 구분하자면 NLP는 머신이 인간의 언어를 이해 하고 해석하는 데 더 중점을 두고 기술이 발전해 왔으며, 텍스트 마이닝(Text Mining)이라고도 불리는 텍스트 분석은 비정형 텍스트에서 의미 있는 정보를 추출하는 것에 좀 더 중점을 두고 기술이 발전함\n",
        "- 텍스트 분석은 머신러닝, 언어 이해, 통계 등을 활용해 모델을 수립하고 정보를 추출해 비즈니스 인텔 리전스(Business Intelligence)나 예측 분석 등의 분석 작업을 주로 수행함. 머신러닝 기술에 힘입어 텍스트 분석은 크게 발전하고 있으며 주로 다음과 같은 기술 영역에 집중해옴\n",
        "  - 텍스트 분류(Text Classification): 문서가 특정 분류 또는 카테고리에 속하는 것을 예측하는 기법 ex) 특정 신문 기사 내용이 연애/정치/사회/문화 중 어떤 카테고리에 속하는지 자동으로 분류, 스팸 메일 검출 같은 프로그램\n",
        "  - 감정 분석(Sentiment Analysis): 텍스트에서 나타나는 감정/판단/믿음/의견/기분 등의 주관적인 요소를 분석하는 기법. 소셜 미디어 감정 분석, 영화나 제품에 대한 긍정 또는 리뷰, 여론조사 의견 분석 등의 다양한 영역에서 활용됨\n",
        "  - 텍스트 요약(Summarization): 텍스트 내에서 중요한 주제나 중심 사상을 추출하는 기법 ex) 토픽 모델링\n",
        "  - 텍스트 군집화(Clustering)와 유사도 측정: 비슷한 유형의 문서에 대해 군집화를 수행하는 기법. 텍스트 분류를 비지도학습으로 수행하는 방법의 일환으로 사용될 수 있음. 유사도 측정 역시 문서들 간의 유사도를 측정해 비슷한 문서끼리 모을 수 있는 방법"
      ],
      "metadata": {
        "id": "1QXKSe4tGJyf"
      }
    },
    {
      "cell_type": "markdown",
      "source": [
        "## **01. 텍스트 분석 이해**\n",
        "- 텍스트 분석: 비정형 데이터인 텍스트를 분석하는 것\n",
        "- 텍스트를 word(또는 word의 일부분) 기반의 다수의 피처로 추출하고 이 퍼치에 단어 빈도수와 같은 숫자 값을 부여하면 텍스트는 단어의 조합인 벡터값으로 표현될 수 있는데, 이렇게 텍스트를 변환하는 것을 피처 벡터화(Feature Vectorization) 또는 피처 추출(Feature Extraction)이라고 함\n",
        "- 대표적으로 텍스트를 피처 벡터화해서 변환하는 방법에는 BOX(Bag of Words)와 Word2Vec 방법이 있음"
      ],
      "metadata": {
        "id": "B9Yz4kqZuniE"
      }
    },
    {
      "cell_type": "markdown",
      "source": [
        "### 텍스트 분석 수행 프로세스\n",
        "- 머신러닝 기반의 텍스트 분석 프로세스는 다음과 같은 프로세스 순으로 수행함\n",
        "  1. 텍스트 사전 준비작업(텍스트 전처리): 텍스트를 피처로 만들기 전에 미리 클렌징, 대/소문자 변경, 특수문자 삭제 등의 클렌징 작업, 단어(Word) 등의 토큰화 작업, 의미 없는 단어(Stop word) 제거 작업, 어근 추출(Stemming/Lemmatization) 등의 텍스트 정규화 작업을 수행하는 것\n",
        "  2. 피처 벡터화/추출: 사전 준비 작업으로 가공된 텍스트에서 피처를 추출하고 여기에 벡터 값을 할당함. 대표적인 방법은 BOW와 Word2Vec이 있으며, BOW는 대표적으로 Count 기반과 TFADF 기반 벡터화가 있음\n",
        "  3. ML 모델 수립 및 학습/예측/평가 피처 벡터화된 데이터 세트에 ML 모델을 적용해 학습/예측 및 평가를 수행함"
      ],
      "metadata": {
        "id": "_rPWxagA4dK2"
      }
    },
    {
      "cell_type": "markdown",
      "source": [
        "### 파이썬 기반의 NLP, 텍스트 분석 패키지\n",
        "- 파이썬 기반의 NLP, 텍스트 분석 패키지 파이썬 기반에서 NLP와 텍스트 분석을 위해 쉽고 편하게 텍스트 사전 정제 작업, 피처 벡터화/추출, ML 모델을 지원하는 매우 훌륭한 라이브러리가 많음\n",
        "  - NLTK(Natural Language Toolkit for Python): 파이썬의 가장 대표적인 NLP 패키지. 방대한 데이터 세트와 서브 모듈을 가지고 있으며 NLP의 거의 모든 영역을 커버하고 있음. 수행 속도 측면에서 아쉬운 부분이 있어서 실제 대량의 데이터 기반에서는 제대로 활용되지 못하고 있음\n",
        "  -  Gensim: 토픽 모델링 분야에서 가장 두각을 나타내는 패키지. 오래전부터 토픽 모델링을 쉽게 구현할 수 있는 기능을 제공해 왔으며, Word2Vec 구현 등의 다양한 신기능도 제공함. Spacy와 함께 가장 많이 사용되는 NLP 패키지임\n",
        "  - Spacy: 뛰어난 수행 성능으로 최근 가장 주목을 받는 NLP 패키지. 많은 NLP 애플리케이션에서 Spacy를 사용하는 사례가 늘고 있음 "
      ],
      "metadata": {
        "id": "sHJkWdsX4fiE"
      }
    },
    {
      "cell_type": "markdown",
      "source": [
        "## **02. 텍스트 사전 준비 작업(텍스트 전처리) - 텍스트 정규화**\n",
        "- 텍스트 자체를 바로 피처로 만들 수는 없음. 이를 위해 사전에 텍스트를 가공하는 준비 작업이 필요함.\n",
        "- 텍스트 정규화: 텍스트를 머신러닝 알고리즘이나 NLP 애플리케이션에 입력 데이터로 사용하기 위해 클렌징, 정제, 토큰화, 어근화 등의 다양한 텍스트 데이터의 사전 작업을 수행하는 것\n",
        "- 텍스트 분석은 이러한 텍스트 정규화 작업이 매우 중요함\n",
        "- 텍스트 정규화 작업\n",
        "  - 클렌징(Cleansing)\n",
        "  - 토큰화(Tokenization)\n",
        "  - 필터링/스톱 워드 제거/철자 수정\n",
        "  - Stemming\n",
        "  - Lemmatization"
      ],
      "metadata": {
        "id": "YL7rw-7O0JVN"
      }
    },
    {
      "cell_type": "markdown",
      "source": [
        "### 클렌징\n",
        "- 텍스트에서 분석에 오히려 방해가 되는 불필요한 문자, 기호 등을 사전에 제거하는 작업. 예를 들어 HTML, XML 태그나 특정 기호 등을 사전에 제거함"
      ],
      "metadata": {
        "id": "4yP0GYaH4kof"
      }
    },
    {
      "cell_type": "markdown",
      "source": [
        "### 텍스트 토큰화\n",
        "- 토큰화의 유형은 문서에서 문장을 분리하는 문장 토큰화와 문장에서 단어를 토큰으로 분리하는 단어 토큰화로 나눌 수 있음. NLTK는 이를 위해 다양한 API를 제공함"
      ],
      "metadata": {
        "id": "34w1R9qx4m5V"
      }
    },
    {
      "cell_type": "markdown",
      "source": [
        "#### 문장 토큰화\n",
        "- 문장 토큰화(sentence tokenization)는 문장의 마침표(.), 개행문자(\\n) 등 문장의 마지막을 뜻하는 기호에 따라 분리하는 것이 일반적임. 또한 정규 표현식에 따른 문장 토큰화도 가능함\n",
        "- NTLK에서 일반적으로 많이 쓰이는 sent_tokenize를 이용해 토큰화를 수행\n",
        "\n",
        "*3개의 문장으로 이루어진 텍스트 문서를 문장으로 각각 분리하는 예제*"
      ],
      "metadata": {
        "id": "LWgncFE44oYE"
      }
    },
    {
      "cell_type": "code",
      "execution_count": null,
      "metadata": {
        "id": "YlUKpd-o4zLX",
        "colab": {
          "base_uri": "https://localhost:8080/"
        },
        "outputId": "b17c704b-08f4-4b93-d21d-52ec2a7e5e30"
      },
      "outputs": [
        {
          "output_type": "stream",
          "name": "stdout",
          "text": [
            "<class 'list'> 3\n",
            "['The Matrix is everywhere its all around us, here even in this room.', 'You can see it out your window or on your television.', 'You feel it when you go to work, or go to church or pay your taxes.']\n"
          ]
        },
        {
          "output_type": "stream",
          "name": "stderr",
          "text": [
            "[nltk_data] Downloading package punkt to /root/nltk_data...\n",
            "[nltk_data]   Package punkt is already up-to-date!\n"
          ]
        }
      ],
      "source": [
        "from nltk import sent_tokenize\n",
        "import nltk\n",
        "nltk.download('punkt')\n",
        "\n",
        "text_sample = 'The Matrix is everywhere its all around us, here even in this room. \\\n",
        "               You can see it out your window or on your television. \\\n",
        "               You feel it when you go to work, or go to church or pay your taxes.'\n",
        "sentences = sent_tokenize(text=text_sample)\n",
        "print(type(sentences),len(sentences))\n",
        "print(sentences)"
      ]
    },
    {
      "cell_type": "markdown",
      "source": [
        "#### 단어 토큰화\n",
        "- 단어 토큰화(Word Tokenization): 문장을 단어로 토큰화하는 것\n",
        "- 기본적으로 공백, 콤마(,), 마침표(.), 개행문자 등으로 단어를 분리하지만, 정규 표현식을 이용해 다양한 유형으로 토큰화를 수행할 수 있음\n",
        "- Bag of Word 와 같이 단어의 순서가 중요하지 않은 경우 문장 토큰화를 사용하지 않고 단어 토큰화만 사용해도 충분함\n",
        "  - 일반적으로 문장 토큰화는 각 문장이 가지는 시맨틱적인 의미가 중요한 요소로 사용될 때 사용함\n",
        "- NTLK에서 기본으로 제공하는 `word_tokenize()`를 이용해 단어로 토큰화"
      ],
      "metadata": {
        "id": "KohHGDPz2DMr"
      }
    },
    {
      "cell_type": "code",
      "source": [
        "from nltk import word_tokenize\n",
        "\n",
        "sentence = \"The Matrix is everywhere its all around us, here even in this room.\"\n",
        "words = word_tokenize(sentence)\n",
        "print(type(words), len(words))\n",
        "print(words)"
      ],
      "metadata": {
        "colab": {
          "base_uri": "https://localhost:8080/"
        },
        "id": "0E7EQ-Fb1-3K",
        "outputId": "c0abe60e-9aea-4a36-dfe7-062a8bf85611"
      },
      "execution_count": null,
      "outputs": [
        {
          "output_type": "stream",
          "name": "stdout",
          "text": [
            "<class 'list'> 15\n",
            "['The', 'Matrix', 'is', 'everywhere', 'its', 'all', 'around', 'us', ',', 'here', 'even', 'in', 'this', 'room', '.']\n"
          ]
        }
      ]
    },
    {
      "cell_type": "markdown",
      "source": [
        "- sent_tokenize와 word_tokenize를 조합해 문서에 대해서 모든 단어를 토큰화\n",
        "  - 이전 예제에서 선언된 3개의 문장으로 된 text_sample을 문장별로 단어 토큰화 적용\n",
        "  - 문서를 먼저 문장으로 나누고, 개별 문장을 다시 단어로 토큰화하는 `tokenize_text()` 함수 생성"
      ],
      "metadata": {
        "id": "107cKHTD3shn"
      }
    },
    {
      "cell_type": "code",
      "source": [
        "from nltk import word_tokenize, sent_tokenize\n",
        "\n",
        "# 여러 개의 문장으로 된 입력 데이터를 문장별로 단어 토큰화하게 만드는 함수 생성\n",
        "def tokenize_text(text):\n",
        "    \n",
        "    # 문장별로 분리 토큰\n",
        "    sentences = sent_tokenize(text)\n",
        "    # 분리된 문장별 단어 토큰화\n",
        "    word_tokens = [word_tokenize(sentence) for sentence in sentences]\n",
        "    return word_tokens\n",
        "\n",
        "# 여러 문장에 대해 문장별 단어 토큰화 수행 \n",
        "word_tokens = tokenize_text(text_sample)\n",
        "print(type(word_tokens),len(word_tokens))\n",
        "print(word_tokens)"
      ],
      "metadata": {
        "colab": {
          "base_uri": "https://localhost:8080/"
        },
        "id": "PoY3F_ki3pfo",
        "outputId": "ff91d886-a40c-494e-ceaf-437863c4c116"
      },
      "execution_count": null,
      "outputs": [
        {
          "output_type": "stream",
          "name": "stdout",
          "text": [
            "<class 'list'> 3\n",
            "[['The', 'Matrix', 'is', 'everywhere', 'its', 'all', 'around', 'us', ',', 'here', 'even', 'in', 'this', 'room', '.'], ['You', 'can', 'see', 'it', 'out', 'your', 'window', 'or', 'on', 'your', 'television', '.'], ['You', 'feel', 'it', 'when', 'you', 'go', 'to', 'work', ',', 'or', 'go', 'to', 'church', 'or', 'pay', 'your', 'taxes', '.']]\n"
          ]
        }
      ]
    },
    {
      "cell_type": "markdown",
      "source": [
        "- 문장을 단어별로 하나씩 토큰화 할 경우 문맥적인 의미는 무시될 수밖에 없음. 이러한 문제를 조금이라도 해결해 보고자 도입된 것이 n-gram임\n",
        "  - n-gram: 연속된 n개의 단어를 하나의 토큰화 단위로 분리해 내는 것\n",
        "    - n개 단어 크기 윈도우를 만들어 문장의 처음부터 오른쪽으로 움직이면서 토큰화를 수행함"
      ],
      "metadata": {
        "id": "C7y4VHfsPtmj"
      }
    },
    {
      "cell_type": "markdown",
      "source": [
        "### 스톱 워드 제거\n",
        "- 스톱 워드(Stop word): 분석에 큰 의미가 없는 단어를 지칭함. 가령 영어에서 is, the, a, will 등 문장을 구성하는 필수 문법 요소지만 문맥적으로 큰 의미가 없는 단어가 이에 해당함\n",
        "  - 이 단어의 경우 문법적인 특성으로 인해 특히 빈번하게 텍스트에 나타나므로 이것들을 사전에 제거하지 않으면 그 빈번함으로 인해 오히려 중요한 단어로 인지될 수 있음.\n",
        "- 이 의미 없는 단어를 제거하는 것이 중요한 전처리 작업임\n",
        "- 언어별로 이러한 스톱 워드가 목록화돼 있음.\n",
        "  - NLTK의 경우 가장 다양한 언어의 스톱워드를 제공함\n",
        "\n",
        "*NTLK의 스톱 워드에 어떤 것이 있는지 확인*"
      ],
      "metadata": {
        "id": "Bq6FDouYQR_j"
      }
    },
    {
      "cell_type": "code",
      "source": [
        "import nltk\n",
        "nltk.download('stopwords')"
      ],
      "metadata": {
        "colab": {
          "base_uri": "https://localhost:8080/"
        },
        "id": "B4S3Ygph4Omp",
        "outputId": "52107fbe-2a8a-4b3c-de01-b510578250ef"
      },
      "execution_count": null,
      "outputs": [
        {
          "output_type": "stream",
          "name": "stderr",
          "text": [
            "[nltk_data] Downloading package stopwords to /root/nltk_data...\n",
            "[nltk_data]   Package stopwords is already up-to-date!\n"
          ]
        },
        {
          "output_type": "execute_result",
          "data": {
            "text/plain": [
              "True"
            ]
          },
          "metadata": {},
          "execution_count": 5
        }
      ]
    },
    {
      "cell_type": "markdown",
      "source": [
        "- NTLK의 English의 경우 몇 개의 stopwords가 있는지 알아보고 그중 20개만 확인"
      ],
      "metadata": {
        "id": "3NAWk3Jpi2G6"
      }
    },
    {
      "cell_type": "code",
      "source": [
        "print('영어 stop words 갯수:',len(nltk.corpus.stopwords.words('english')))\n",
        "print(nltk.corpus.stopwords.words('english')[:20])"
      ],
      "metadata": {
        "colab": {
          "base_uri": "https://localhost:8080/"
        },
        "id": "9s-E36z5izdk",
        "outputId": "7112548e-3557-4e3a-ead2-6344d9a9973e"
      },
      "execution_count": null,
      "outputs": [
        {
          "output_type": "stream",
          "name": "stdout",
          "text": [
            "영어 stop words 갯수: 179\n",
            "['i', 'me', 'my', 'myself', 'we', 'our', 'ours', 'ourselves', 'you', \"you're\", \"you've\", \"you'll\", \"you'd\", 'your', 'yours', 'yourself', 'yourselves', 'he', 'him', 'his']\n"
          ]
        }
      ]
    },
    {
      "cell_type": "markdown",
      "source": [
        "- 위 예제에서 3개의 문장별로 단어를 토큰화해 생성된 word_tokens 리스트에 대해서 stopwords를 필터링으로 제거해 분석을 위한 의미 있는 단어만 추출"
      ],
      "metadata": {
        "id": "KkyllV2Ci_zu"
      }
    },
    {
      "cell_type": "code",
      "source": [
        "import nltk\n",
        "\n",
        "stopwords = nltk.corpus.stopwords.words('english')\n",
        "all_tokens = []\n",
        "# 위 예제의 3개의 문장별로 얻은 word_tokens list에 대해 스톱 워드를 제거하는 반복문\n",
        "for sentence in word_tokens:\n",
        "    filtered_words=[]\n",
        "    # 개별 문장별로 토큰화된 문장 list에 대해 스톱 워드를 제거하는 반복문\n",
        "    for word in sentence:\n",
        "        #소문자로 모두 변환합니다. \n",
        "        word = word.lower()\n",
        "        # 토큰화된 개별 단어가 스톱 워드의 단어에 포함되지 않으면 word_tokens에 추가\n",
        "        if word not in stopwords:\n",
        "            filtered_words.append(word)\n",
        "    all_tokens.append(filtered_words)\n",
        "    \n",
        "print(all_tokens)"
      ],
      "metadata": {
        "colab": {
          "base_uri": "https://localhost:8080/"
        },
        "id": "cAWRI8Uri9LT",
        "outputId": "4eaaa436-2108-4fd7-fa60-fbed622b0caf"
      },
      "execution_count": null,
      "outputs": [
        {
          "output_type": "stream",
          "name": "stdout",
          "text": [
            "[['matrix', 'everywhere', 'around', 'us', ',', 'even', 'room', '.'], ['see', 'window', 'television', '.'], ['feel', 'go', 'work', ',', 'go', 'church', 'pay', 'taxes', '.']]\n"
          ]
        }
      ]
    },
    {
      "cell_type": "markdown",
      "source": [
        "&rarr; is, this와 같은 스톱 워드가 필터링을 통해 제거됨"
      ],
      "metadata": {
        "id": "y1oIeDPljdWC"
      }
    },
    {
      "cell_type": "markdown",
      "source": [
        "### Stemming과 Lemmatization\n",
        "- 많은 언어에서 문법적인 요소에 따라 단어가 다양하게 변함\n",
        "-  Stemming과 Lemmatization은 문법적 또는 의미적으로 변화하는 단어의 원형을 찾는 것임\n",
        "- 두 기능 모두 원형 단어를 찾는다는 목적은 유사하지만, Lemmatization이 Stemming보다 정교하며 의미론적인 기반에서 단어의 원형을 찾음\n",
        "  - Stemming은 원형 단어로 변환 시 일반적인 방법을 적용하거나 더 단순화된 방법을 적용해 원래 단어에서 일부 철자가 훼손된 어근 단어를 추출하는 경향이 있음\n",
        "  - Lemmatization은 품사와 같은 문법적인 요소와 더 의미적인 부분을 감안해 정확한 철자로 된 어근 단어를 찾아줌.\n",
        "  -  Lemmatization이 Stemming보다 변환에 더 오랜 시간을 필요로 함\n",
        "- NLTK는 다양한 Stemmer를 제공함\n",
        "  - Porter, Lancaster, Snowball Stemmer\n",
        "  - Lemmatization을 위해서는 WordNetLemmatizer를 제공\n",
        "\n",
        "*Stemming과 Lemmatization 비교*\n",
        "- NLTK의 LancasterStemmer를 이용해 Stemmer부터 살펴보기\n",
        "  - 진행형, 3인칭 단수, 과거형에 따른 동사, 그리고 비교, 최상에 따른 형용사의 변화에 따라 Stemming은 더 단순하게 원형 단어를 찾아줌"
      ],
      "metadata": {
        "id": "X84lTzYijh7x"
      }
    },
    {
      "cell_type": "code",
      "source": [
        "from nltk.stem import LancasterStemmer\n",
        "stemmer = LancasterStemmer()\n",
        "\n",
        "print(stemmer.stem('working'), stemmer.stem('works'), stemmer.stem('worked'))\n",
        "print(stemmer.stem('amusing'), stemmer.stem('amuses'), stemmer.stem('amused'))\n",
        "print(stemmer.stem('happier'), stemmer.stem('happiest'))\n",
        "print(stemmer.stem('fancier'), stemmer.stem('fanciest'))"
      ],
      "metadata": {
        "colab": {
          "base_uri": "https://localhost:8080/"
        },
        "id": "vX98kCdfjbw7",
        "outputId": "60d6afc0-160f-4977-b7b2-ff307218c588"
      },
      "execution_count": null,
      "outputs": [
        {
          "output_type": "stream",
          "name": "stdout",
          "text": [
            "work work work\n",
            "amus amus amus\n",
            "happy happiest\n",
            "fant fanciest\n"
          ]
        }
      ]
    },
    {
      "cell_type": "markdown",
      "source": [
        "- WordNetLemmatizer를 이용해 Lemmatization을 수행\n",
        "  - 일반적으로 Lemmatization은 보다 정확한 원형 단어 추출을 위해 단어의 '품사'를 입력해줘야 함\n",
        "  - `lemmatize()`의 파라미터로 동사의 경우 'v', 형용사의 경우 'a'를 입력함"
      ],
      "metadata": {
        "id": "mQT5Gd0Ak0Ap"
      }
    },
    {
      "cell_type": "code",
      "source": [
        "from nltk.stem import WordNetLemmatizer\n",
        "import nltk\n",
        "nltk.download('wordnet')\n",
        "nltk.download('omw-1.4')\n",
        "\n",
        "lemma = WordNetLemmatizer()\n",
        "print(lemma.lemmatize('amusing','v'), lemma.lemmatize('amuses','v'), lemma.lemmatize('amused','v'))\n",
        "print(lemma.lemmatize('happier','a'), lemma.lemmatize('happiest','a'))\n",
        "print(lemma.lemmatize('fancier','a'), lemma.lemmatize('fanciest','a'))"
      ],
      "metadata": {
        "colab": {
          "base_uri": "https://localhost:8080/"
        },
        "id": "1shmrfCwkt7M",
        "outputId": "6861518e-0f01-4170-f218-789ef634339c"
      },
      "execution_count": null,
      "outputs": [
        {
          "output_type": "stream",
          "name": "stderr",
          "text": [
            "[nltk_data] Downloading package wordnet to /root/nltk_data...\n",
            "[nltk_data]   Package wordnet is already up-to-date!\n",
            "[nltk_data] Downloading package omw-1.4 to /root/nltk_data...\n"
          ]
        },
        {
          "output_type": "stream",
          "name": "stdout",
          "text": [
            "amuse amuse amuse\n",
            "happy happy\n",
            "fancy fancy\n"
          ]
        }
      ]
    },
    {
      "cell_type": "markdown",
      "source": [
        "&rarr; Stemmer보다 정확하게 원형 단어를 추출함"
      ],
      "metadata": {
        "id": "r--KYk_tm7-0"
      }
    },
    {
      "cell_type": "markdown",
      "source": [
        "## **03. Bag of Words - BOW**\n",
        "- Bag of Words 모델: 문서가 가지는 모든 단어(Words)를 문맥이나 순서를 무시하고 일괄적으로 단 어에 대해 빈도 값을 부여해 피처 값을 추출하는 모델\n",
        "  - 문서 내 모든 단어를 한꺼번에 봉투(Bag) 안에 넣은 뒤에 흔들어서 섞는다는 의미\n",
        "- 다음과 같은 2개의 문장이 있다고 가정하고 이 문장을 Bag of words의 단어 수(Word Count) 기반으로 피처를 추출해 보기  \n",
        "\n",
        "  문장 1: 'My wife likes to watch baseball games and my daughter likes to watch baseball games too'  \n",
        "  문장2: 'My wife likes to play baseball'\n",
        "\n",
        "  1. 문장 1과 문장 2에 있는 모든 단어에서 중복을 제거하고 각 단어(feature 또는 term)를 칼럼 형태로 나열함. 그러고 나서 각 단어에 고유의 인덱스를 부여함\n",
        "  2. 개별 문장에서 해당 단어가 나타나는 횟수(Occurrence)를 각 단어(단어 인덱스)에 기재함\n",
        "\n",
        "- BOW 모델의 장점\n",
        "  - 쉽고 빠른 구축에 있음. 단순히 단어의 발생 횟수에 기반하고 있지만, 예상보다 문서의 특징을 잘 나타낼 수 있는 모델이어서 전통적으로 여러 분야에서 활용도가 높음\n",
        "- BOW 모델의 단점\n",
        "  - 문맥 의미(Semantic Context) 반영 부족: BOW는 단어의 순서를 고려하지 않기 때문에 문장 내에서 단어의 문맥적인 의미가 무시됨. 물론 이를 보완하기 위해 n_gram 기법을 활용할 수 있지만, 제한적인 부분에 그치므로 언어의 많은 부분을 차지하는 문맥적인 해석을 처리하지 못하는 단점이 있음\n",
        "  - 희소 행렬 문제(희소성, 희소 행렬): BOW로 피처 벡터화를 수행하면 희소 행렬 형태의 데이터 세트가 만들어지기 쉬움. 대규모의 칼럼으로 구성된 행렬에서 대부분의 값이 0으로 채워지는 행렬인 희소 행렬(Sparse Matrix)은 일반적으로 ML 알고리즘의 수행 시간과 예측 성능을 떨어뜨리기 때문에 희소 행렬을 위한 특별한 기법이 마련돼 있음"
      ],
      "metadata": {
        "id": "QyEuBYHQm_2T"
      }
    },
    {
      "cell_type": "markdown",
      "source": [
        "### BOW 피처 벡터화\n",
        "- 피처 벡터화: 텍스트를 특정 의미를 가지는 숫자형 값인 벡터 값으로 변환하는 것\n",
        "  - 각 문서(Document)의 텍스트를 단어로 추출해 피처로 할당하고, 각 단어의 발생 빈도와 같은 값을 이 피처에 값으로 부여해 각 문서를 이 단어 피처의 발생 빈도 값으로 구성된 벡터로 만드는 기법\n",
        "  - 기존 텍스트 데이터를 또 다른 형태의 피처의 조합으로 변경하기 때문에 넓은 범위의 피처 추출에 포함됨\n",
        "- BOW 모델에서 피처 벡터화를 수행한다는 것은 모든 문서에서 모든 단어를 칼럼 형태로 나열하고 각 문서에서 해당 단어의 횟수나 정규화된 빈도를 값으로 부여하는 데이터 세트 모델로 변경하는 것임\n",
        "- 일반적으로 BOW의 피처 벡터화는 두 가지 방식이 있음\n",
        "  - 카운트 기반의 벡터화: 단어 피처에 값을 부여할 때 각 문서에서 해당 단어가 나타나는 횟수, 즉 Count를 부여하는 경우\n",
        "    - 카운트 벡터화에서는 카운트 값이 높을수록 중요한 단어로 인식됨\n",
        "  - TF-IDF(Term Frequency - Inverse Document Frequency) 기반의 벡터화: 개별 문서에서 자주 나타나는 단어에 높은 가중치를 주되, 모든 문서에서 전반적으로 자주 나타나는 단어에 대해서는 페널 티를 주는 방식으로 값을 부여하는 경우\n",
        "    - 카운트 벡터화의 문제를 보완하기 위해 사용됨\n",
        "    - 모든 문서에서 반복적으로 자주 발생하는 단어에 대해서는 페널티를 부여하는 방식으로 단어에 대한 가중치의 균형을 맞추는 것임\n",
        "  - 문서마다 텍스트가 길고 문서의 개수가 많은 경우 카운트 방식보다는 TF-IDF 방식을 사용하는 것이 더 좋은 예측 성능을 보장할 수 있음"
      ],
      "metadata": {
        "id": "9P89LR_3pPJO"
      }
    },
    {
      "cell_type": "markdown",
      "source": [
        "### 사이킷런의 Count 및 TF-IDF 벡터화 구현: CountVectorizer, TfidfVectorizer\n",
        "- 사이킷런의 CountVectorizer 클래스: 카운트 기반의 벡터화를 구현한 클래스\n",
        "  - 단지 피처 벡터화만 수행하지는 않으며 소문자 일괄 변환, 토큰화, 스톱 워드 필터링 등의 텍스트 전처리도 함께 수행함\n",
        "  - 텍스트 전처리 및 피처 벡터화를 위한 입력 파라미터를 설정해 동작함\n",
        "  - `fit()`과 `transform()`을 통해 피처 벡터화된 객체를 반환힘\n",
        "- CountVectorizer의 입력 파라미터  \n",
        "\n",
        "|파리미터 명|파라미터 설명|\n",
        "|---|----|\n",
        "|max_df|전체 문서에 걸쳐서 너무 높은 빈도수를 가지는 단어 피처를 제외하기 위한 파라미터|\n",
        "| |너무 높은 빈도수를 가지는 단어는 스톱 워드와 비슷한 문법적인 특성으로 반복적인 단어일 가능성이 높 기에 이를 제거하기 위해 사용됨|\n",
        "|min_df|전체 문서에 걸쳐서 너무 낮은 빈도수를 가지는 단어 피처를 제외하기 위한 파라미터|\n",
        "| |수백~ 수천 개의 전체 문서에서 특정 단어가 설정된 값보다 적은 빈도수를 가진다면 크게 중요하지 않거나 가비지(garbage)성 단어일 확률이 높음|\n",
        "|max_features|추출하는 피처의 개수를 제한하며 정수로 값을 지정함|\n",
        "|stop_words|'english'로 지정하면 영어의 스톱 워드로 지정된 단어는 추출에서 제외함|\n",
        "|n_gram_range|Bag of Words 모델의 단어 순서를 어느 정도 보강하기 위한 n_gram 범위를 설정함. 튜플 형태(범위 최솟값, 범위 최댓값)을 지정함|\n",
        "|analyzer|피처 추출을 수행한 단위를 지정함. 디폴트는 'word'임|\n",
        "| |Word가 아니라 character의 특정 범위를 피처로 만드는 특정한 경우 등을 적용할 때 사용됨|\n",
        "|token_pattern|토큰화를 수행하는 정규 표현식 패턴을 지정함|\n",
        "|tokenizer|토큰화를 별도의 커스텀 함수로 이용시 적용함|\n",
        "\n",
        "- 사이킷런의 CountVectorizer 클래스를 이용해 카운트 기반의 피처 여러 개의 문서로 구성된 텍스트의 피처 벡터화 방법\n",
        "  1. 사전 데이터 가공: 모든 문자를 소문자로 변환하는 등의 사전 작업 수행(Default로 lowercase=True임)\n",
        "  2. 토큰화: Default는 단어 기준(analyzer=True)이며 n_gram_range를 반영하여 토큰화 수행\n",
        "  3. 텍스트 정규화: Stop Words 필터링만 수행\n",
        "  4. 피처 벡터화: max_df, min_df, max_features 등의 파라미터를 반영하여 Token된 단어들을 feature extraction 후 vectorization 적용\n",
        "- 사이킷런에서 TF-IDF 벡터화는 TfidfVectorizer 클래스를 이용함"
      ],
      "metadata": {
        "id": "4zrPqtJtrGcl"
      }
    },
    {
      "cell_type": "markdown",
      "source": [
        "### BOW 벡터화를 위한 희소 행렬\n",
        "- 사이킷런의 CountVectorizer/TfidfVectorizer를 이용해 텍스트를 피처 단위로 벡터화해 변환하고 CSR 형태의 희소 행렬을 반환함\n",
        "- 모든 문서에 있는 단어를 추출해 이를 피처로 벡터화하여 대규모의 행렬이 생성되더라도 레코드의 각 문서가 가지는 단어의 수는 제한적이기 때문에 이 행렬의 값은 대부분 0이 차지할 수밖에 없음\n",
        "- 희소 행렬: 대규모 행렬의 대부분의 값을 0이 차지하는 행렬\n",
        "  - 너무 많은 불필요한 0값이 메모리 공간에 할당되어 메모리 공간이 많이 필요하며, 행렬의 크기가 커서 연산 시에도 데이터 액세스를 위한 시간이 많이 소모됨\n",
        "- BOW 형태를 가진 언어 모델의 피처 벡터화는 대부분 희소 행렬임\n",
        "- 희소 행렬을 물리적으로 적은 메모리 공간을 차지할 수 있도록 변환해야 하는데, 대표적인 방법으로 COO 형식과 CSR 형식이 있음\n",
        "  - 일반적으로 큰 희소 행렬을 저장하고 계산을 수행하는 능력이 CSR 형식이 더 뛰어나기 때문에 CSR을 많이 사용함"
      ],
      "metadata": {
        "id": "I5NBuBIpwRcK"
      }
    },
    {
      "cell_type": "markdown",
      "source": [
        "### 희소 행렬- COO 형식\n",
        "- COO(Coordinate: 좌표) 형식: 0이 아닌 데이터만 별도의 데이터 배열(Array)에 저장하고, 그 데이터가 가리키는 행과 열의 위치를 별도의 배열로 저장하는 방식\n",
        "- 희소 행렬 변환을 위해서 주로 사이파이(Scipy)를 이용함. 사이파이의 sparse 패키지는 희소 행렬 변환을 위한 다양한 모듈을 제공함\n",
        "\n",
        "*사이파이의 sparse를 이용해 희소 행렬 변환을 COO 형식으로 수행*"
      ],
      "metadata": {
        "id": "vmZ0ZZp1yH0o"
      }
    },
    {
      "cell_type": "code",
      "source": [
        "import numpy as np\n",
        "\n",
        "dense = np.array( [ [3, 0, 1], [0, 2, 0] ] )"
      ],
      "metadata": {
        "id": "xIIycRXPywf2"
      },
      "execution_count": null,
      "outputs": []
    },
    {
      "cell_type": "markdown",
      "source": [
        "- 위 밀집 행렬을 사이파이의 coo_matrix 클래스를 이용해 COO 형식의 희소 행렬로 변환"
      ],
      "metadata": {
        "id": "mGjwdeTDzCSj"
      }
    },
    {
      "cell_type": "code",
      "source": [
        "from scipy import sparse\n",
        "\n",
        "# 0이 아닌 데이터 추출\n",
        "data = np.array([3, 1, 2])\n",
        "\n",
        "# 행 위치와 열 위치를 각각 배열로 생성 \n",
        "row_pos = np.array([0 ,0, 1])\n",
        "col_pos = np.array([0, 2, 1])\n",
        "\n",
        "# sparse 패키지의 coo_matrix를 이용하여 COO 형식으로 희소 행렬 생성\n",
        "sparse_coo = sparse.coo_matrix((data, (row_pos, col_pos)))"
      ],
      "metadata": {
        "id": "8Jo9ukI2y8SO"
      },
      "execution_count": null,
      "outputs": []
    },
    {
      "cell_type": "markdown",
      "source": [
        "- COO 형식의 희소 행렬 객체 변수를 다시 밀집 형태의 행렬로 출력"
      ],
      "metadata": {
        "id": "oDg2VKNwzZND"
      }
    },
    {
      "cell_type": "code",
      "source": [
        "sparse_coo.toarray()"
      ],
      "metadata": {
        "colab": {
          "base_uri": "https://localhost:8080/"
        },
        "id": "dtclZtRdzWgj",
        "outputId": "7d77cb79-9622-46d2-e7f0-7a7433311d24"
      },
      "execution_count": null,
      "outputs": [
        {
          "output_type": "execute_result",
          "data": {
            "text/plain": [
              "array([[3, 0, 1],\n",
              "       [0, 2, 0]])"
            ]
          },
          "metadata": {},
          "execution_count": 15
        }
      ]
    },
    {
      "cell_type": "markdown",
      "source": [
        "### 희소 행렬 - CSR 형식\n",
        "- CSR(Compressed Sparse Row) 형식: 행 위치 배열 내에 있는 고유한 값의 시작 위치만 다시 별도의 위치 배열로 가지는 변환 방식\n",
        "  - COO 형식이 행과 열의 위치를 나타내기 위해서 반복적인 위치 데이터를 사용해야 하는 문제점을 해결한 방식임\n",
        "  - COO 방식보다 메모리가 적게 들고 빠른 연산이 가능함\n",
        "- CSR 방식의 변환은 사이파이의 csr_matrix 클래스를 이용해 쉽게 할 수 있음\n",
        "  - 0이 아닌 데이터 배 열과 열 위치 배열, 그리고 행 위치 배열의 고유한 값의 시작 위치 배열을 csr matrix의 생성 파라미터로 입력하면 됨"
      ],
      "metadata": {
        "id": "VLn-LnnozkMs"
      }
    },
    {
      "cell_type": "code",
      "source": [
        "from scipy import sparse\n",
        "\n",
        "dense2 = np.array([[0, 0, 1, 0, 0, 5],\n",
        "                   [1, 4, 0, 3, 2, 5],\n",
        "                   [0, 6, 0, 3, 0, 0],\n",
        "                   [2, 0, 0, 0, 0, 0],\n",
        "                   [0, 0, 0, 7, 0, 8],\n",
        "                   [1, 0, 0, 0, 0, 0]])\n",
        "\n",
        "# 0이 아닌 데이터 추출\n",
        "data2 = np.array([1, 5, 1, 4, 3, 2, 5, 6, 3, 2, 7, 8, 1])\n",
        "\n",
        "# 행 위치와 열 위치를 각각 array로 생성 \n",
        "row_pos = np.array([0, 0, 1, 1, 1, 1, 1, 2, 2, 3, 4, 4, 5])\n",
        "col_pos = np.array([2, 5, 0, 1, 3, 4, 5, 1, 3, 0, 3, 5, 0])\n",
        "\n",
        "# COO 형식으로 변환 \n",
        "sparse_coo = sparse.coo_matrix((data2, (row_pos, col_pos)))\n",
        "\n",
        "# 행 위치 배열의 고유한 값의 시작 위치 인덱스를 배열로 생성\n",
        "row_pos_ind = np.array([0, 2, 7, 9, 10, 12, 13])\n",
        "\n",
        "# CSR 형식으로 변환 \n",
        "sparse_csr = sparse.csr_matrix((data2, col_pos, row_pos_ind))\n",
        "\n",
        "print('COO 변환된 데이터가 제대로 되었는지 다시 Dense로 출력 확인')\n",
        "print(sparse_coo.toarray())\n",
        "print('CSR 변환된 데이터가 제대로 되었는지 다시 Dense로 출력 확인')\n",
        "print(sparse_csr.toarray())"
      ],
      "metadata": {
        "colab": {
          "base_uri": "https://localhost:8080/"
        },
        "id": "G7bL7U5Alf4g",
        "outputId": "f2784a90-38c0-4d97-f33b-8776fd060c34"
      },
      "execution_count": null,
      "outputs": [
        {
          "output_type": "stream",
          "name": "stdout",
          "text": [
            "COO 변환된 데이터가 제대로 되었는지 다시 Dense로 출력 확인\n",
            "[[0 0 1 0 0 5]\n",
            " [1 4 0 3 2 5]\n",
            " [0 6 0 3 0 0]\n",
            " [2 0 0 0 0 0]\n",
            " [0 0 0 7 0 8]\n",
            " [1 0 0 0 0 0]]\n",
            "CSR 변환된 데이터가 제대로 되었는지 다시 Dense로 출력 확인\n",
            "[[0 0 1 0 0 5]\n",
            " [1 4 0 3 2 5]\n",
            " [0 6 0 3 0 0]\n",
            " [2 0 0 0 0 0]\n",
            " [0 0 0 7 0 8]\n",
            " [1 0 0 0 0 0]]\n"
          ]
        }
      ]
    },
    {
      "cell_type": "markdown",
      "source": [
        "- 실제 사용 시에는 밀집 행렬을 생성 파라미터로 입력하면 COO나 CSR 희소 행렬로 생성"
      ],
      "metadata": {
        "id": "4aG8LJWU4uFJ"
      }
    },
    {
      "cell_type": "code",
      "source": [
        "dense3 = np.array([[0, 0, 1, 0, 0, 5],\n",
        "                   [1, 4, 0, 3, 2, 5],\n",
        "                   [0, 6, 0, 3, 0, 0],\n",
        "                   [2, 0, 0, 0, 0, 0],\n",
        "                   [0, 0, 0, 7, 0, 8],\n",
        "                   [1, 0, 0, 0, 0, 0]])\n",
        "\n",
        "coo = sparse.coo_matrix(dense3)\n",
        "csr = sparse.csr_matrix(dense3)"
      ],
      "metadata": {
        "id": "UX1MUX_R4nR9"
      },
      "execution_count": null,
      "outputs": []
    },
    {
      "cell_type": "markdown",
      "source": [
        "- 사이킷런의 CountVectorizer나 TfidfVectorizer 클래스로 변환된 피처 벡터화 행렬은 모두 사이파이의 CSR 형태의 희소 행렬임"
      ],
      "metadata": {
        "id": "u2AdhmGE48s2"
      }
    }
  ]
}