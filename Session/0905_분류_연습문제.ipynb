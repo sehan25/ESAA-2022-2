{
  "nbformat": 4,
  "nbformat_minor": 0,
  "metadata": {
    "colab": {
      "provenance": [],
      "collapsed_sections": [],
      "include_colab_link": true
    },
    "kernelspec": {
      "name": "python3",
      "display_name": "Python 3"
    },
    "language_info": {
      "name": "python"
    }
  },
  "cells": [
    {
      "cell_type": "markdown",
      "metadata": {
        "id": "view-in-github",
        "colab_type": "text"
      },
      "source": [
        "<a href=\"https://colab.research.google.com/github/sehan25/ESAA-2022-2/blob/main/Session/0905_%EB%B6%84%EB%A5%98_%EC%97%B0%EC%8A%B5%EB%AC%B8%EC%A0%9C.ipynb\" target=\"_parent\"><img src=\"https://colab.research.google.com/assets/colab-badge.svg\" alt=\"Open In Colab\"/></a>"
      ]
    },
    {
      "cell_type": "markdown",
      "source": [
        "## **| 분류 연습 문제**\n",
        "___\n",
        "출처 : 핸즈온 머신러닝 Ch03 분류 연습문제 1, 2번"
      ],
      "metadata": {
        "id": "zCu72vDHGMHo"
      }
    },
    {
      "cell_type": "code",
      "source": [
        "# import data\n",
        "from sklearn.datasets import fetch_openml\n",
        "mnist = fetch_openml('mnist_784', version = 1, as_frame = False)"
      ],
      "metadata": {
        "id": "tBMD6RMQJcnZ"
      },
      "execution_count": 1,
      "outputs": []
    },
    {
      "cell_type": "code",
      "source": [
        "X, y = mnist[\"data\"], mnist[\"target\"]"
      ],
      "metadata": {
        "id": "0acMMz8YKS7v"
      },
      "execution_count": 2,
      "outputs": []
    },
    {
      "cell_type": "markdown",
      "source": [
        "### **1. MNIST 데이터셋으로 분류기를 만들어 테스트 세트에서 97% 정확도를 달성해보세요.**\n",
        "___\n",
        "\n",
        "1. `KNeghtborsClassifier`를 사용하는 것을 추천합니다. \n",
        "2. `weights`와 `n_neighbors` 하이퍼 파라미터로 그리드 탐색을 시도하여, 좋은 하이퍼 파라미터 값을 찾아보세요."
      ],
      "metadata": {
        "id": "j3g-_Dq9GiuT"
      }
    },
    {
      "cell_type": "code",
      "execution_count": 4,
      "metadata": {
        "id": "188lZyYEGJZ7"
      },
      "outputs": [],
      "source": [
        "# import package\n",
        "from sklearn.neighbors import KNeighborsClassifier\n",
        "from sklearn.model_selection import GridSearchCV"
      ]
    },
    {
      "cell_type": "code",
      "source": [
        "# Try GridSearch to optimize hyperparameter\n",
        "X_train, X_test, y_train, y_test = X[:60000], X[60000:], y[:60000], y[60000:]\n",
        "\n",
        "params = [{'weights': ['uniform', 'distance'], 'n_neighbors': [3, 4, 5, 6]}]\n",
        "\n",
        "knn_clf = KNeighborsClassifier()\n",
        "grid_search = GridSearchCV(knn_clf, params, cv=3, verbose=3)\n",
        "grid_search.fit(X_train, y_train)"
      ],
      "metadata": {
        "id": "lXF4M2MdIpKa",
        "colab": {
          "base_uri": "https://localhost:8080/"
        },
        "outputId": "979510a4-72fc-4bbe-b71c-154bf6dedd0a"
      },
      "execution_count": 8,
      "outputs": [
        {
          "output_type": "stream",
          "name": "stdout",
          "text": [
            "Fitting 3 folds for each of 8 candidates, totalling 24 fits\n",
            "[CV 1/3] END ....n_neighbors=3, weights=uniform;, score=0.969 total time=  59.0s\n",
            "[CV 2/3] END ....n_neighbors=3, weights=uniform;, score=0.968 total time=  49.6s\n",
            "[CV 3/3] END ....n_neighbors=3, weights=uniform;, score=0.968 total time=  48.7s\n",
            "[CV 1/3] END ...n_neighbors=3, weights=distance;, score=0.970 total time=  48.4s\n",
            "[CV 2/3] END ...n_neighbors=3, weights=distance;, score=0.969 total time=  48.2s\n",
            "[CV 3/3] END ...n_neighbors=3, weights=distance;, score=0.969 total time=  48.0s\n",
            "[CV 1/3] END ....n_neighbors=4, weights=uniform;, score=0.966 total time=  53.7s\n",
            "[CV 2/3] END ....n_neighbors=4, weights=uniform;, score=0.966 total time= 1.1min\n",
            "[CV 3/3] END ....n_neighbors=4, weights=uniform;, score=0.967 total time= 1.1min\n",
            "[CV 1/3] END ...n_neighbors=4, weights=distance;, score=0.971 total time= 1.2min\n",
            "[CV 2/3] END ...n_neighbors=4, weights=distance;, score=0.970 total time= 1.1min\n",
            "[CV 3/3] END ...n_neighbors=4, weights=distance;, score=0.970 total time= 1.1min\n",
            "[CV 1/3] END ....n_neighbors=5, weights=uniform;, score=0.968 total time= 1.1min\n",
            "[CV 2/3] END ....n_neighbors=5, weights=uniform;, score=0.967 total time= 1.0min\n",
            "[CV 3/3] END ....n_neighbors=5, weights=uniform;, score=0.968 total time= 1.1min\n",
            "[CV 1/3] END ...n_neighbors=5, weights=distance;, score=0.969 total time= 1.2min\n",
            "[CV 2/3] END ...n_neighbors=5, weights=distance;, score=0.968 total time= 1.0min\n",
            "[CV 3/3] END ...n_neighbors=5, weights=distance;, score=0.969 total time= 1.1min\n",
            "[CV 1/3] END ....n_neighbors=6, weights=uniform;, score=0.965 total time= 1.1min\n",
            "[CV 2/3] END ....n_neighbors=6, weights=uniform;, score=0.965 total time= 1.0min\n",
            "[CV 3/3] END ....n_neighbors=6, weights=uniform;, score=0.966 total time= 1.1min\n",
            "[CV 1/3] END ...n_neighbors=6, weights=distance;, score=0.970 total time=  55.2s\n",
            "[CV 2/3] END ...n_neighbors=6, weights=distance;, score=0.969 total time=  54.7s\n",
            "[CV 3/3] END ...n_neighbors=6, weights=distance;, score=0.970 total time=  53.9s\n"
          ]
        },
        {
          "output_type": "execute_result",
          "data": {
            "text/plain": [
              "GridSearchCV(cv=3, estimator=KNeighborsClassifier(),\n",
              "             param_grid=[{'n_neighbors': [3, 4, 5, 6],\n",
              "                          'weights': ['uniform', 'distance']}],\n",
              "             verbose=3)"
            ]
          },
          "metadata": {},
          "execution_count": 8
        }
      ]
    },
    {
      "cell_type": "code",
      "source": [
        "# best hyperparameter\n",
        "grid_search.best_params_"
      ],
      "metadata": {
        "id": "J0NiljKhJJlj",
        "colab": {
          "base_uri": "https://localhost:8080/"
        },
        "outputId": "922e1869-6186-44d5-932a-a00a7f64db35"
      },
      "execution_count": 9,
      "outputs": [
        {
          "output_type": "execute_result",
          "data": {
            "text/plain": [
              "{'n_neighbors': 4, 'weights': 'distance'}"
            ]
          },
          "metadata": {},
          "execution_count": 9
        }
      ]
    },
    {
      "cell_type": "code",
      "source": [
        "# best score\n",
        "grid_search.best_score_"
      ],
      "metadata": {
        "id": "DPLNro_xJTrx",
        "colab": {
          "base_uri": "https://localhost:8080/"
        },
        "outputId": "3abb72d4-ff7f-4baf-9bb8-6d60579c01f0"
      },
      "execution_count": 10,
      "outputs": [
        {
          "output_type": "execute_result",
          "data": {
            "text/plain": [
              "0.9703500000000002"
            ]
          },
          "metadata": {},
          "execution_count": 10
        }
      ]
    },
    {
      "cell_type": "code",
      "source": [
        "# model test\n",
        "from sklearn.metrics import accuracy_score\n",
        "\n",
        "knn_clf2 = KNeighborsClassifier(n_neighbors=4, weights='distance')\n",
        "knn_clf2.fit(X_train, y_train)\n",
        "y_pred = knn_clf2.predict(X_test)\n",
        "accuracy_score(y_test, y_pred)"
      ],
      "metadata": {
        "id": "CVY_c-DMJX70",
        "colab": {
          "base_uri": "https://localhost:8080/"
        },
        "outputId": "28e4d876-0c1d-4486-b7f3-3034b87bb1e6"
      },
      "execution_count": 11,
      "outputs": [
        {
          "output_type": "execute_result",
          "data": {
            "text/plain": [
              "0.9714"
            ]
          },
          "metadata": {},
          "execution_count": 11
        }
      ]
    },
    {
      "cell_type": "markdown",
      "source": [
        "### **2. 다음 단계를 따라 인위적으로 훈련 세트를 늘리는 데이터 증식 또는 훈련 세트 확장 기법을 연습해봅시다.**\n",
        "___"
      ],
      "metadata": {
        "id": "-pDjW5XcHPOt"
      }
    },
    {
      "cell_type": "markdown",
      "source": [
        "#### **STEP 1. MNIST 이미지를 (왼, 오른, 위, 아래) 어느 방향으로든 한 픽셀 이동시킬 수 있는 함수를 만들어 보세요.**"
      ],
      "metadata": {
        "id": "_xhEB_KtH47q"
      }
    },
    {
      "cell_type": "code",
      "source": [
        "from scipy.ndimage.interpolation import shift"
      ],
      "metadata": {
        "id": "DKw9INbrJgpv"
      },
      "execution_count": 12,
      "outputs": []
    },
    {
      "cell_type": "code",
      "source": [
        "def shift_image(image, dx, dy):\n",
        "    image = image.reshape((28, 28))\n",
        "    shifted_image = shift(image, [dy, dx], cval=0, mode=\"constant\")\n",
        "    return shifted_image.reshape([-1])"
      ],
      "metadata": {
        "id": "3CLxYCROIAk6"
      },
      "execution_count": 13,
      "outputs": []
    },
    {
      "cell_type": "markdown",
      "source": [
        "####  **STEP 2. 앞에서 만든 함수를 이용하여, 훈련 세트에 있는 각 이미지에 대해 네 개의 이동된 복사본(방향마다 한 개씩)을 만들어 훈련 세트에 추가하세요**"
      ],
      "metadata": {
        "id": "AHgSqi-zIBCd"
      }
    },
    {
      "cell_type": "code",
      "source": [
        "X_train_augmented = [image for image in X_train]\n",
        "y_train_augmented = [label for label in y_train]"
      ],
      "metadata": {
        "id": "SsBT_d0MIH-V"
      },
      "execution_count": 14,
      "outputs": []
    },
    {
      "cell_type": "code",
      "source": [
        "import numpy as np\n",
        "\n",
        "for dx, dy in ((1,0), (-1,0), (0,1), (0,-1)):\n",
        "  for image, label in zip(X_train, y_train):\n",
        "    X_train_augmented.append(shift_image(image, dx, dy))\n",
        "    y_train_augmented.append(label)\n",
        "\n",
        "X_train_augmented = np.array(X_train_augmented)\n",
        "y_train_augmented = np.array(y_train_augmented)"
      ],
      "metadata": {
        "id": "tS1empJzKCOG"
      },
      "execution_count": 16,
      "outputs": []
    },
    {
      "cell_type": "markdown",
      "source": [
        "####  **STEP 3. 위에서 확장한 데이터셋을 이용하여, 1번 문제에서 찾은 최적 모델을 훈련시키고, 테스트 세트에서 정확도를 측정해보세요**"
      ],
      "metadata": {
        "id": "zWozt0n2IJZL"
      }
    },
    {
      "cell_type": "code",
      "source": [
        "shuffle_idx = np.random.permutation(len(X_train_augmented))\n",
        "X_train_augmented = X_train_augmented[shuffle_idx]\n",
        "y_train_augmented = y_train_augmented[shuffle_idx]"
      ],
      "metadata": {
        "id": "Yo4H-hTRIW7-"
      },
      "execution_count": 17,
      "outputs": []
    },
    {
      "cell_type": "code",
      "source": [
        "knn_clf = KNeighborsClassifier(n_neighbors=4, weights='distance')\n",
        "knn_clf.fit(X_train_augmented, y_train_augmented)"
      ],
      "metadata": {
        "id": "fVdwwmSYKDmF",
        "colab": {
          "base_uri": "https://localhost:8080/"
        },
        "outputId": "1c5a34c6-78e4-4fc4-afc9-5348ad3d967d"
      },
      "execution_count": 22,
      "outputs": [
        {
          "output_type": "execute_result",
          "data": {
            "text/plain": [
              "KNeighborsClassifier(n_neighbors=4, weights='distance')"
            ]
          },
          "metadata": {},
          "execution_count": 22
        }
      ]
    },
    {
      "cell_type": "code",
      "source": [
        "y_pred = knn_clf.predict(X_test)\n",
        "accuracy_score(y_test, y_pred)"
      ],
      "metadata": {
        "id": "ijlm1VbOKFSN",
        "colab": {
          "base_uri": "https://localhost:8080/"
        },
        "outputId": "61f35b66-6a59-4e03-b362-3dc49ed80565"
      },
      "execution_count": 20,
      "outputs": [
        {
          "output_type": "execute_result",
          "data": {
            "text/plain": [
              "0.9736"
            ]
          },
          "metadata": {},
          "execution_count": 20
        }
      ]
    }
  ]
}